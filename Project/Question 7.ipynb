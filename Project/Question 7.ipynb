{
 "cells": [
  {
   "cell_type": "markdown",
   "id": "e18bfcce",
   "metadata": {},
   "source": [
    "What impact of COVID-19 can be seen on the number of flights in 2021, in comparisson to both 2019 and 2020."
   ]
  },
  {
   "cell_type": "code",
   "execution_count": 32,
   "id": "571a29ec",
   "metadata": {},
   "outputs": [
    {
     "name": "stdout",
     "output_type": "stream",
     "text": [
      "\n"
     ]
    }
   ],
   "source": [
    "import pandas as pd\n",
    "import matplotlib.pyplot as plt\n",
    "import numpy as np\n",
    "import plotly.express as px\n",
    "\n",
    "print()"
   ]
  },
  {
   "cell_type": "markdown",
   "id": "261c7645",
   "metadata": {},
   "source": [
    "Flights data:"
   ]
  },
  {
   "cell_type": "code",
   "execution_count": 33,
   "id": "853e5b14",
   "metadata": {},
   "outputs": [],
   "source": [
    "#Rome\n",
    "datarome2019 = pd.read_csv('ROME2019.csv')\n",
    "datarome2020 = pd.read_csv('ROME2020.csv')\n",
    "datarome2021 = pd.read_csv('ROME2021.csv')"
   ]
  },
  {
   "cell_type": "code",
   "execution_count": 34,
   "id": "36ab3e91",
   "metadata": {},
   "outputs": [],
   "source": [
    "#Milan\n",
    "datamilan2019 = pd.read_csv('MILAN2019.csv')\n",
    "datamilan2020 = pd.read_csv('MILAN2020.csv')\n",
    "datamilan2021 = pd.read_csv('MILAN2021.csv')"
   ]
  },
  {
   "cell_type": "code",
   "execution_count": 35,
   "id": "3cf7543c",
   "metadata": {},
   "outputs": [],
   "source": [
    "#Venice\n",
    "datavenice2019 = pd.read_csv('VENICE2019.csv')\n",
    "datavenice2020 = pd.read_csv('VENICE2020.csv')\n",
    "datavenice2021 = pd.read_csv('VENICE2021.csv')"
   ]
  },
  {
   "cell_type": "code",
   "execution_count": 36,
   "id": "bc0e0e6a",
   "metadata": {},
   "outputs": [],
   "source": [
    "#Bologna\n",
    "databologna2019 = pd.read_csv('BOLOGNA2019.csv')\n",
    "databologna2020 = pd.read_csv('BOLOGNA2020.csv')\n",
    "databologna2021 = pd.read_csv('BOLOGNA2021.csv')"
   ]
  },
  {
   "cell_type": "code",
   "execution_count": 37,
   "id": "986ab3ee",
   "metadata": {},
   "outputs": [],
   "source": [
    "#Bergamo\n",
    "databergamo2019 = pd.read_csv('BERGAMO2019.csv')\n",
    "databergamo2020 = pd.read_csv('BERGAMO2020.csv')\n",
    "databergamo2021 = pd.read_csv('BERGAMO2021.csv')"
   ]
  },
  {
   "cell_type": "code",
   "execution_count": 38,
   "id": "39009203",
   "metadata": {},
   "outputs": [
    {
     "data": {
      "text/html": [
       "<div>\n",
       "<style scoped>\n",
       "    .dataframe tbody tr th:only-of-type {\n",
       "        vertical-align: middle;\n",
       "    }\n",
       "\n",
       "    .dataframe tbody tr th {\n",
       "        vertical-align: top;\n",
       "    }\n",
       "\n",
       "    .dataframe thead th {\n",
       "        text-align: right;\n",
       "    }\n",
       "</style>\n",
       "<table border=\"1\" class=\"dataframe\">\n",
       "  <thead>\n",
       "    <tr style=\"text-align: right;\">\n",
       "      <th></th>\n",
       "      <th>Date</th>\n",
       "      <th>Rome</th>\n",
       "      <th>Milan</th>\n",
       "      <th>Venice</th>\n",
       "      <th>Bologna</th>\n",
       "      <th>Bergamo</th>\n",
       "    </tr>\n",
       "  </thead>\n",
       "  <tbody>\n",
       "    <tr>\n",
       "      <th>0</th>\n",
       "      <td>7/2019</td>\n",
       "      <td>14491</td>\n",
       "      <td>8175</td>\n",
       "      <td>3284</td>\n",
       "      <td>2580</td>\n",
       "      <td>4387</td>\n",
       "    </tr>\n",
       "    <tr>\n",
       "      <th>1</th>\n",
       "      <td>7/2020</td>\n",
       "      <td>3753</td>\n",
       "      <td>4382</td>\n",
       "      <td>1526</td>\n",
       "      <td>1196</td>\n",
       "      <td>1761</td>\n",
       "    </tr>\n",
       "    <tr>\n",
       "      <th>2</th>\n",
       "      <td>7/2021</td>\n",
       "      <td>6151</td>\n",
       "      <td>6495</td>\n",
       "      <td>2434</td>\n",
       "      <td>1907</td>\n",
       "      <td>3492</td>\n",
       "    </tr>\n",
       "  </tbody>\n",
       "</table>\n",
       "</div>"
      ],
      "text/plain": [
       "     Date   Rome  Milan  Venice  Bologna  Bergamo\n",
       "0  7/2019  14491   8175    3284     2580     4387\n",
       "1  7/2020   3753   4382    1526     1196     1761\n",
       "2  7/2021   6151   6495    2434     1907     3492"
      ]
     },
     "execution_count": 38,
     "metadata": {},
     "output_type": "execute_result"
    }
   ],
   "source": [
    "# Data to plot\n",
    "\n",
    "romelen = [len(datarome2019), len(datarome2020), len(datarome2021)]\n",
    "milanlen = [len(datamilan2019), len(datamilan2020), len(datamilan2021)]\n",
    "venicelen = [len(datavenice2019), len(datavenice2020), len(datavenice2021)]\n",
    "bolognalen = [len(databologna2019), len(databologna2020), len(databologna2021)]\n",
    "bergamolen = [len(databergamo2019), len(databergamo2020), len(databergamo2021)]\n",
    "\n",
    "date = ['7/2019', '7/2020', '7/2021']\n",
    "\n",
    "#Save the data in an array\n",
    "\n",
    "dataflights = [[date[0], romelen[0], milanlen[0], venicelen[0], bolognalen[0], bergamolen[0]], [date[1], romelen[1], milanlen[1], venicelen[1], bolognalen[1], bergamolen[1]], [date[2], romelen[2], milanlen[2], venicelen[2], bolognalen[2], bergamolen[2]]]\n",
    "\n",
    "# Create a data frame\n",
    "\n",
    "df0 = pd.DataFrame(dataflights, columns=['Date', 'Rome', 'Milan', 'Venice', 'Bologna', 'Bergamo'])\n",
    "df0.head()\n"
   ]
  },
  {
   "cell_type": "code",
   "execution_count": 39,
   "id": "bff159b7",
   "metadata": {},
   "outputs": [
    {
     "name": "stdout",
     "output_type": "stream",
     "text": [
      "\n"
     ]
    },
    {
     "data": {
      "image/png": "[encoded data removed]",
      "text/plain": [
       "<Figure size 1000x500 with 1 Axes>"
      ]
     },
     "metadata": {},
     "output_type": "display_data"
    }
   ],
   "source": [
    "df0.plot(x='Date', y=['Rome', 'Milan', 'Venice', 'Bologna', 'Bergamo'], kind=\"bar\", figsize=(10, 5))\n",
    "print()"
   ]
  },
  {
   "cell_type": "code",
   "execution_count": 40,
   "id": "e18300a3",
   "metadata": {},
   "outputs": [
    {
     "data": {
      "application/vnd.plotly.v1+json": {
       "config": {
        "plotlyServerURL": "https://plot.ly"
       },
       "data": [
        {
         "alignmentgroup": "True",
         "hovertemplate": "variable=Rome<br>Date=%{x}<br>value=%{y}<extra></extra>",
         "legendgroup": "Rome",
         "marker": {
          "color": "#636efa",
          "pattern": {
           "shape": ""
          }
         },
         "name": "Rome",
         "offsetgroup": "Rome",
         "orientation": "v",
         "showlegend": true,
         "textposition": "auto",
         "type": "bar",
         "x": [
          "7/2019",
          "7/2020",
          "7/2021"
         ],
         "xaxis": "x",
         "y": [
          14491,
          3753,
          6151
         ],
         "yaxis": "y"
        },
        {
         "alignmentgroup": "True",
         "hovertemplate": "variable=Milan<br>Date=%{x}<br>value=%{y}<extra></extra>",
         "legendgroup": "Milan",
         "marker": {
          "color": "#EF553B",
          "pattern": {
           "shape": ""
          }
         },
         "name": "Milan",
         "offsetgroup": "Milan",
         "orientation": "v",
         "showlegend": true,
         "textposition": "auto",
         "type": "bar",
         "x": [
          "7/2019",
          "7/2020",
          "7/2021"
         ],
         "xaxis": "x",
         "y": [
          8175,
          4382,
          6495
         ],
         "yaxis": "y"
        },
        {
         "alignmentgroup": "True",
         "hovertemplate": "variable=Venice<br>Date=%{x}<br>value=%{y}<extra></extra>",
         "legendgroup": "Venice",
         "marker": {
          "color": "#00cc96",
          "pattern": {
           "shape": ""
          }
         },
         "name": "Venice",
         "offsetgroup": "Venice",
         "orientation": "v",
         "showlegend": true,
         "textposition": "auto",
         "type": "bar",
         "x": [
          "7/2019",
          "7/2020",
          "7/2021"
         ],
         "xaxis": "x",
         "y": [
          3284,
          1526,
          2434
         ],
         "yaxis": "y"
        },
        {
         "alignmentgroup": "True",
         "hovertemplate": "variable=Bologna<br>Date=%{x}<br>value=%{y}<extra></extra>",
         "legendgroup": "Bologna",
         "marker": {
          "color": "#ab63fa",
          "pattern": {
           "shape": ""
          }
         },
         "name": "Bologna",
         "offsetgroup": "Bologna",
         "orientation": "v",
         "showlegend": true,
         "textposition": "auto",
         "type": "bar",
         "x": [
          "7/2019",
          "7/2020",
          "7/2021"
         ],
         "xaxis": "x",
         "y": [
          2580,
          1196,
          1907
         ],
         "yaxis": "y"
        },
        {
         "alignmentgroup": "True",
         "hovertemplate": "variable=Bergamo<br>Date=%{x}<br>value=%{y}<extra></extra>",
         "legendgroup": "Bergamo",
         "marker": {
          "color": "#FFA15A",
          "pattern": {
           "shape": ""
          }
         },
         "name": "Bergamo",
         "offsetgroup": "Bergamo",
         "orientation": "v",
         "showlegend": true,
         "textposition": "auto",
         "type": "bar",
         "x": [
          "7/2019",
          "7/2020",
          "7/2021"
         ],
         "xaxis": "x",
         "y": [
          4387,
          1761,
          3492
         ],
         "yaxis": "y"
        }
       ],
       "layout": {
        "barmode": "group",
        "legend": {
         "title": {
          "text": "variable"
         },
         "tracegroupgap": 0
        },
        "template": {
         "data": {
          "bar": [
           {
            "error_x": {
             "color": "#2a3f5f"
            },
            "error_y": {
             "color": "#2a3f5f"
            },
            "marker": {
             "line": {
              "color": "#E5ECF6",
              "width": 0.5
             },
             "pattern": {
              "fillmode": "overlay",
              "size": 10,
              "solidity": 0.2
             }
            },
            "type": "bar"
           }
          ],
          "barpolar": [
           {
            "marker": {
             "line": {
              "color": "#E5ECF6",
              "width": 0.5
             },
             "pattern": {
              "fillmode": "overlay",
              "size": 10,
              "solidity": 0.2
             }
            },
            "type": "barpolar"
           }
          ],
          "carpet": [
           {
            "aaxis": {
             "endlinecolor": "#2a3f5f",
             "gridcolor": "white",
             "linecolor": "white",
             "minorgridcolor": "white",
             "startlinecolor": "#2a3f5f"
            },
            "baxis": {
             "endlinecolor": "#2a3f5f",
             "gridcolor": "white",
             "linecolor": "white",
             "minorgridcolor": "white",
             "startlinecolor": "#2a3f5f"
            },
            "type": "carpet"
           }
          ],
          "choropleth": [
           {
            "colorbar": {
             "outlinewidth": 0,
             "ticks": ""
            },
            "type": "choropleth"
           }
          ],
          "contour": [
           {
            "colorbar": {
             "outlinewidth": 0,
             "ticks": ""
            },
            "colorscale": [
             [
              0,
              "#0d0887"
             ],
             [
              0.1111111111111111,
              "#46039f"
             ],
             [
              0.2222222222222222,
              "#7201a8"
             ],
             [
              0.3333333333333333,
              "#9c179e"
             ],
             [
              0.4444444444444444,
              "#bd3786"
             ],
             [
              0.5555555555555556,
              "#d8576b"
             ],
             [
              0.6666666666666666,
              "#ed7953"
             ],
             [
              0.7777777777777778,
              "#fb9f3a"
             ],
             [
              0.8888888888888888,
              "#fdca26"
             ],
             [
              1,
              "#f0f921"
             ]
            ],
            "type": "contour"
           }
          ],
          "contourcarpet": [
           {
            "colorbar": {
             "outlinewidth": 0,
             "ticks": ""
            },
            "type": "contourcarpet"
           }
          ],
          "heatmap": [
           {
            "colorbar": {
             "outlinewidth": 0,
             "ticks": ""
            },
            "colorscale": [
             [
              0,
              "#0d0887"
             ],
             [
              0.1111111111111111,
              "#46039f"
             ],
             [
              0.2222222222222222,
              "#7201a8"
             ],
             [
              0.3333333333333333,
              "#9c179e"
             ],
             [
              0.4444444444444444,
              "#bd3786"
             ],
             [
              0.5555555555555556,
              "#d8576b"
             ],
             [
              0.6666666666666666,
              "#ed7953"
             ],
             [
              0.7777777777777778,
              "#fb9f3a"
             ],
             [
              0.8888888888888888,
              "#fdca26"
             ],
             [
              1,
              "#f0f921"
             ]
            ],
            "type": "heatmap"
           }
          ],
          "heatmapgl": [
           {
            "colorbar": {
             "outlinewidth": 0,
             "ticks": ""
            },
            "colorscale": [
             [
              0,
              "#0d0887"
             ],
             [
              0.1111111111111111,
              "#46039f"
             ],
             [
              0.2222222222222222,
              "#7201a8"
             ],
             [
              0.3333333333333333,
              "#9c179e"
             ],
             [
              0.4444444444444444,
              "#bd3786"
             ],
             [
              0.5555555555555556,
              "#d8576b"
             ],
             [
              0.6666666666666666,
              "#ed7953"
             ],
             [
              0.7777777777777778,
              "#fb9f3a"
             ],
             [
              0.8888888888888888,
              "#fdca26"
             ],
             [
              1,
              "#f0f921"
             ]
            ],
            "type": "heatmapgl"
           }
          ],
          "histogram": [
           {
            "marker": {
             "pattern": {
              "fillmode": "overlay",
              "size": 10,
              "solidity": 0.2
             }
            },
            "type": "histogram"
           }
          ],
          "histogram2d": [
           {
            "colorbar": {
             "outlinewidth": 0,
             "ticks": ""
            },
            "colorscale": [
             [
              0,
              "#0d0887"
             ],
             [
              0.1111111111111111,
              "#46039f"
             ],
             [
              0.2222222222222222,
              "#7201a8"
             ],
             [
              0.3333333333333333,
              "#9c179e"
             ],
             [
              0.4444444444444444,
              "#bd3786"
             ],
             [
              0.5555555555555556,
              "#d8576b"
             ],
             [
              0.6666666666666666,
              "#ed7953"
             ],
             [
              0.7777777777777778,
              "#fb9f3a"
             ],
             [
              0.8888888888888888,
              "#fdca26"
             ],
             [
              1,
              "#f0f921"
             ]
            ],
            "type": "histogram2d"
           }
          ],
          "histogram2dcontour": [
           {
            "colorbar": {
             "outlinewidth": 0,
             "ticks": ""
            },
            "colorscale": [
             [
              0,
              "#0d0887"
             ],
             [
              0.1111111111111111,
              "#46039f"
             ],
             [
              0.2222222222222222,
              "#7201a8"
             ],
             [
              0.3333333333333333,
              "#9c179e"
             ],
             [
              0.4444444444444444,
              "#bd3786"
             ],
             [
              0.5555555555555556,
              "#d8576b"
             ],
             [
              0.6666666666666666,
              "#ed7953"
             ],
             [
              0.7777777777777778,
              "#fb9f3a"
             ],
             [
              0.8888888888888888,
              "#fdca26"
             ],
             [
              1,
              "#f0f921"
             ]
            ],
            "type": "histogram2dcontour"
           }
          ],
          "mesh3d": [
           {
            "colorbar": {
             "outlinewidth": 0,
             "ticks": ""
            },
            "type": "mesh3d"
           }
          ],
          "parcoords": [
           {
            "line": {
             "colorbar": {
              "outlinewidth": 0,
              "ticks": ""
             }
            },
            "type": "parcoords"
           }
          ],
          "pie": [
           {
            "automargin": true,
            "type": "pie"
           }
          ],
          "scatter": [
           {
            "fillpattern": {
             "fillmode": "overlay",
             "size": 10,
             "solidity": 0.2
            },
            "type": "scatter"
           }
          ],
          "scatter3d": [
           {
            "line": {
             "colorbar": {
              "outlinewidth": 0,
              "ticks": ""
             }
            },
            "marker": {
             "colorbar": {
              "outlinewidth": 0,
              "ticks": ""
             }
            },
            "type": "scatter3d"
           }
          ],
          "scattercarpet": [
           {
            "marker": {
             "colorbar": {
              "outlinewidth": 0,
              "ticks": ""
             }
            },
            "type": "scattercarpet"
           }
          ],
          "scattergeo": [
           {
            "marker": {
             "colorbar": {
              "outlinewidth": 0,
              "ticks": ""
             }
            },
            "type": "scattergeo"
           }
          ],
          "scattergl": [
           {
            "marker": {
             "colorbar": {
              "outlinewidth": 0,
              "ticks": ""
             }
            },
            "type": "scattergl"
           }
          ],
          "scattermapbox": [
           {
            "marker": {
             "colorbar": {
              "outlinewidth": 0,
              "ticks": ""
             }
            },
            "type": "scattermapbox"
           }
          ],
          "scatterpolar": [
           {
            "marker": {
             "colorbar": {
              "outlinewidth": 0,
              "ticks": ""
             }
            },
            "type": "scatterpolar"
           }
          ],
          "scatterpolargl": [
           {
            "marker": {
             "colorbar": {
              "outlinewidth": 0,
              "ticks": ""
             }
            },
            "type": "scatterpolargl"
           }
          ],
          "scatterternary": [
           {
            "marker": {
             "colorbar": {
              "outlinewidth": 0,
              "ticks": ""
             }
            },
            "type": "scatterternary"
           }
          ],
          "surface": [
           {
            "colorbar": {
             "outlinewidth": 0,
             "ticks": ""
            },
            "colorscale": [
             [
              0,
              "#0d0887"
             ],
             [
              0.1111111111111111,
              "#46039f"
             ],
             [
              0.2222222222222222,
              "#7201a8"
             ],
             [
              0.3333333333333333,
              "#9c179e"
             ],
             [
              0.4444444444444444,
              "#bd3786"
             ],
             [
              0.5555555555555556,
              "#d8576b"
             ],
             [
              0.6666666666666666,
              "#ed7953"
             ],
             [
              0.7777777777777778,
              "#fb9f3a"
             ],
             [
              0.8888888888888888,
              "#fdca26"
             ],
             [
              1,
              "#f0f921"
             ]
            ],
            "type": "surface"
           }
          ],
          "table": [
           {
            "cells": {
             "fill": {
              "color": "#EBF0F8"
             },
             "line": {
              "color": "white"
             }
            },
            "header": {
             "fill": {
              "color": "#C8D4E3"
             },
             "line": {
              "color": "white"
             }
            },
            "type": "table"
           }
          ]
         },
         "layout": {
          "annotationdefaults": {
           "arrowcolor": "#2a3f5f",
           "arrowhead": 0,
           "arrowwidth": 1
          },
          "autotypenumbers": "strict",
          "coloraxis": {
           "colorbar": {
            "outlinewidth": 0,
            "ticks": ""
           }
          },
          "colorscale": {
           "diverging": [
            [
             0,
             "#8e0152"
            ],
            [
             0.1,
             "#c51b7d"
            ],
            [
             0.2,
             "#de77ae"
            ],
            [
             0.3,
             "#f1b6da"
            ],
            [
             0.4,
             "#fde0ef"
            ],
            [
             0.5,
             "#f7f7f7"
            ],
            [
             0.6,
             "#e6f5d0"
            ],
            [
             0.7,
             "#b8e186"
            ],
            [
             0.8,
             "#7fbc41"
            ],
            [
             0.9,
             "#4d9221"
            ],
            [
             1,
             "#276419"
            ]
           ],
           "sequential": [
            [
             0,
             "#0d0887"
            ],
            [
             0.1111111111111111,
             "#46039f"
            ],
            [
             0.2222222222222222,
             "#7201a8"
            ],
            [
             0.3333333333333333,
             "#9c179e"
            ],
            [
             0.4444444444444444,
             "#bd3786"
            ],
            [
             0.5555555555555556,
             "#d8576b"
            ],
            [
             0.6666666666666666,
             "#ed7953"
            ],
            [
             0.7777777777777778,
             "#fb9f3a"
            ],
            [
             0.8888888888888888,
             "#fdca26"
            ],
            [
             1,
             "#f0f921"
            ]
           ],
           "sequentialminus": [
            [
             0,
             "#0d0887"
            ],
            [
             0.1111111111111111,
             "#46039f"
            ],
            [
             0.2222222222222222,
             "#7201a8"
            ],
            [
             0.3333333333333333,
             "#9c179e"
            ],
            [
             0.4444444444444444,
             "#bd3786"
            ],
            [
             0.5555555555555556,
             "#d8576b"
            ],
            [
             0.6666666666666666,
             "#ed7953"
            ],
            [
             0.7777777777777778,
             "#fb9f3a"
            ],
            [
             0.8888888888888888,
             "#fdca26"
            ],
            [
             1,
             "#f0f921"
            ]
           ]
          },
          "colorway": [
           "#636efa",
           "#EF553B",
           "#00cc96",
           "#ab63fa",
           "#FFA15A",
           "#19d3f3",
           "#FF6692",
           "#B6E880",
           "#FF97FF",
           "#FECB52"
          ],
          "font": {
           "color": "#2a3f5f"
          },
          "geo": {
           "bgcolor": "white",
           "lakecolor": "white",
           "landcolor": "#E5ECF6",
           "showlakes": true,
           "showland": true,
           "subunitcolor": "white"
          },
          "hoverlabel": {
           "align": "left"
          },
          "hovermode": "closest",
          "mapbox": {
           "style": "light"
          },
          "paper_bgcolor": "white",
          "plot_bgcolor": "#E5ECF6",
          "polar": {
           "angularaxis": {
            "gridcolor": "white",
            "linecolor": "white",
            "ticks": ""
           },
           "bgcolor": "#E5ECF6",
           "radialaxis": {
            "gridcolor": "white",
            "linecolor": "white",
            "ticks": ""
           }
          },
          "scene": {
           "xaxis": {
            "backgroundcolor": "#E5ECF6",
            "gridcolor": "white",
            "gridwidth": 2,
            "linecolor": "white",
            "showbackground": true,
            "ticks": "",
            "zerolinecolor": "white"
           },
           "yaxis": {
            "backgroundcolor": "#E5ECF6",
            "gridcolor": "white",
            "gridwidth": 2,
            "linecolor": "white",
            "showbackground": true,
            "ticks": "",
            "zerolinecolor": "white"
           },
           "zaxis": {
            "backgroundcolor": "#E5ECF6",
            "gridcolor": "white",
            "gridwidth": 2,
            "linecolor": "white",
            "showbackground": true,
            "ticks": "",
            "zerolinecolor": "white"
           }
          },
          "shapedefaults": {
           "line": {
            "color": "#2a3f5f"
           }
          },
          "ternary": {
           "aaxis": {
            "gridcolor": "white",
            "linecolor": "white",
            "ticks": ""
           },
           "baxis": {
            "gridcolor": "white",
            "linecolor": "white",
            "ticks": ""
           },
           "bgcolor": "#E5ECF6",
           "caxis": {
            "gridcolor": "white",
            "linecolor": "white",
            "ticks": ""
           }
          },
          "title": {
           "x": 0.05
          },
          "xaxis": {
           "automargin": true,
           "gridcolor": "white",
           "linecolor": "white",
           "ticks": "",
           "title": {
            "standoff": 15
           },
           "zerolinecolor": "white",
           "zerolinewidth": 2
          },
          "yaxis": {
           "automargin": true,
           "gridcolor": "white",
           "linecolor": "white",
           "ticks": "",
           "title": {
            "standoff": 15
           },
           "zerolinecolor": "white",
           "zerolinewidth": 2
          }
         }
        },
        "title": {
         "text": "Number of flights per airpot and year"
        },
        "xaxis": {
         "anchor": "y",
         "domain": [
          0,
          1
         ],
         "title": {
          "text": "Date"
         }
        },
        "yaxis": {
         "anchor": "x",
         "domain": [
          0,
          1
         ],
         "title": {
          "text": "Number of flights"
         }
        }
       }
      }
     },
     "metadata": {},
     "output_type": "display_data"
    }
   ],
   "source": [
    "fig = px.bar(df0, x='Date', y=['Date', 'Rome', 'Milan', 'Venice', 'Bologna', 'Bergamo'],barmode='group',\n",
    "             title='Number of flights per airpot and year')\n",
    "fig.update_yaxes(title_text='Number of flights')\n",
    "\n",
    "fig.show()"
   ]
  },
  {
   "cell_type": "code",
   "execution_count": 41,
   "id": "5693c916",
   "metadata": {},
   "outputs": [
    {
     "name": "stdout",
     "output_type": "stream",
     "text": [
      "The total number of flights for the 5 airports in 2019 is: 32917\n",
      "The total number of flights for the 5 airports in 2020 is: 12618\n",
      "The total number of flights for the 5 airports in 2021 is: 20479\n"
     ]
    }
   ],
   "source": [
    "# Total flights per year in the five main airports\n",
    "\n",
    "#2019\n",
    "total_2019 = len(datarome2019) + len(datamilan2019) + len(datavenice2019) + len(databologna2019) + len(databergamo2019)\n",
    "print(f'The total number of flights for the 5 airports in 2019 is: {total_2019}')\n",
    "\n",
    "#2020\n",
    "total_2020 = len(datarome2020) + len(datamilan2020) + len(datavenice2020) + len(databologna2020) + len(databergamo2020)\n",
    "print(f'The total number of flights for the 5 airports in 2020 is: {total_2020}')\n",
    "\n",
    "#2021\n",
    "total_2021 = len(datarome2021) + len(datamilan2021) + len(datavenice2021) + len(databologna2021) + len(databergamo2021)\n",
    "print(f'The total number of flights for the 5 airports in 2021 is: {total_2021}')\n"
   ]
  },
  {
   "cell_type": "code",
   "execution_count": 42,
   "id": "7a06326b",
   "metadata": {},
   "outputs": [
    {
     "data": {
      "text/html": [
       "<div>\n",
       "<style scoped>\n",
       "    .dataframe tbody tr th:only-of-type {\n",
       "        vertical-align: middle;\n",
       "    }\n",
       "\n",
       "    .dataframe tbody tr th {\n",
       "        vertical-align: top;\n",
       "    }\n",
       "\n",
       "    .dataframe thead th {\n",
       "        text-align: right;\n",
       "    }\n",
       "</style>\n",
       "<table border=\"1\" class=\"dataframe\">\n",
       "  <thead>\n",
       "    <tr style=\"text-align: right;\">\n",
       "      <th></th>\n",
       "      <th>Date</th>\n",
       "      <th>Number of flights</th>\n",
       "    </tr>\n",
       "  </thead>\n",
       "  <tbody>\n",
       "    <tr>\n",
       "      <th>0</th>\n",
       "      <td>7/2019</td>\n",
       "      <td>32917</td>\n",
       "    </tr>\n",
       "    <tr>\n",
       "      <th>1</th>\n",
       "      <td>7/2020</td>\n",
       "      <td>12618</td>\n",
       "    </tr>\n",
       "    <tr>\n",
       "      <th>2</th>\n",
       "      <td>7/2021</td>\n",
       "      <td>20479</td>\n",
       "    </tr>\n",
       "  </tbody>\n",
       "</table>\n",
       "</div>"
      ],
      "text/plain": [
       "     Date  Number of flights\n",
       "0  7/2019              32917\n",
       "1  7/2020              12618\n",
       "2  7/2021              20479"
      ]
     },
     "execution_count": 42,
     "metadata": {},
     "output_type": "execute_result"
    }
   ],
   "source": [
    "#Save the data in an array\n",
    "\n",
    "totalperyear = [total_2019, total_2020, total_2021]\n",
    "dataflights = [[date[0], totalperyear[0]], [date[1], totalperyear[1]], [date[2], totalperyear[2]]]\n",
    "\n",
    "df = pd.DataFrame(dataflights, columns=['Date', 'Number of flights'])\n",
    "df.head()"
   ]
  },
  {
   "cell_type": "code",
   "execution_count": 43,
   "id": "1e411b28",
   "metadata": {},
   "outputs": [
    {
     "data": {
      "application/vnd.plotly.v1+json": {
       "config": {
        "plotlyServerURL": "https://plot.ly"
       },
       "data": [
        {
         "alignmentgroup": "True",
         "hovertemplate": "Date=%{x}<br>Number of flights=%{y}<extra></extra>",
         "legendgroup": "",
         "marker": {
          "color": "#636efa",
          "pattern": {
           "shape": ""
          }
         },
         "name": "",
         "offsetgroup": "",
         "orientation": "v",
         "showlegend": false,
         "text": [
          32917,
          12618,
          20479
         ],
         "textposition": "auto",
         "type": "bar",
         "x": [
          "7/2019",
          "7/2020",
          "7/2021"
         ],
         "xaxis": "x",
         "y": [
          32917,
          12618,
          20479
         ],
         "yaxis": "y"
        }
       ],
       "layout": {
        "barmode": "relative",
        "legend": {
         "tracegroupgap": 0
        },
        "template": {
         "data": {
          "bar": [
           {
            "error_x": {
             "color": "#2a3f5f"
            },
            "error_y": {
             "color": "#2a3f5f"
            },
            "marker": {
             "line": {
              "color": "#E5ECF6",
              "width": 0.5
             },
             "pattern": {
              "fillmode": "overlay",
              "size": 10,
              "solidity": 0.2
             }
            },
            "type": "bar"
           }
          ],
          "barpolar": [
           {
            "marker": {
             "line": {
              "color": "#E5ECF6",
              "width": 0.5
             },
             "pattern": {
              "fillmode": "overlay",
              "size": 10,
              "solidity": 0.2
             }
            },
            "type": "barpolar"
           }
          ],
          "carpet": [
           {
            "aaxis": {
             "endlinecolor": "#2a3f5f",
             "gridcolor": "white",
             "linecolor": "white",
             "minorgridcolor": "white",
             "startlinecolor": "#2a3f5f"
            },
            "baxis": {
             "endlinecolor": "#2a3f5f",
             "gridcolor": "white",
             "linecolor": "white",
             "minorgridcolor": "white",
             "startlinecolor": "#2a3f5f"
            },
            "type": "carpet"
           }
          ],
          "choropleth": [
           {
            "colorbar": {
             "outlinewidth": 0,
             "ticks": ""
            },
            "type": "choropleth"
           }
          ],
          "contour": [
           {
            "colorbar": {
             "outlinewidth": 0,
             "ticks": ""
            },
            "colorscale": [
             [
              0,
              "#0d0887"
             ],
             [
              0.1111111111111111,
              "#46039f"
             ],
             [
              0.2222222222222222,
              "#7201a8"
             ],
             [
              0.3333333333333333,
              "#9c179e"
             ],
             [
              0.4444444444444444,
              "#bd3786"
             ],
             [
              0.5555555555555556,
              "#d8576b"
             ],
             [
              0.6666666666666666,
              "#ed7953"
             ],
             [
              0.7777777777777778,
              "#fb9f3a"
             ],
             [
              0.8888888888888888,
              "#fdca26"
             ],
             [
              1,
              "#f0f921"
             ]
            ],
            "type": "contour"
           }
          ],
          "contourcarpet": [
           {
            "colorbar": {
             "outlinewidth": 0,
             "ticks": ""
            },
            "type": "contourcarpet"
           }
          ],
          "heatmap": [
           {
            "colorbar": {
             "outlinewidth": 0,
             "ticks": ""
            },
            "colorscale": [
             [
              0,
              "#0d0887"
             ],
             [
              0.1111111111111111,
              "#46039f"
             ],
             [
              0.2222222222222222,
              "#7201a8"
             ],
             [
              0.3333333333333333,
              "#9c179e"
             ],
             [
              0.4444444444444444,
              "#bd3786"
             ],
             [
              0.5555555555555556,
              "#d8576b"
             ],
             [
              0.6666666666666666,
              "#ed7953"
             ],
             [
              0.7777777777777778,
              "#fb9f3a"
             ],
             [
              0.8888888888888888,
              "#fdca26"
             ],
             [
              1,
              "#f0f921"
             ]
            ],
            "type": "heatmap"
           }
          ],
          "heatmapgl": [
           {
            "colorbar": {
             "outlinewidth": 0,
             "ticks": ""
            },
            "colorscale": [
             [
              0,
              "#0d0887"
             ],
             [
              0.1111111111111111,
              "#46039f"
             ],
             [
              0.2222222222222222,
              "#7201a8"
             ],
             [
              0.3333333333333333,
              "#9c179e"
             ],
             [
              0.4444444444444444,
              "#bd3786"
             ],
             [
              0.5555555555555556,
              "#d8576b"
             ],
             [
              0.6666666666666666,
              "#ed7953"
             ],
             [
              0.7777777777777778,
              "#fb9f3a"
             ],
             [
              0.8888888888888888,
              "#fdca26"
             ],
             [
              1,
              "#f0f921"
             ]
            ],
            "type": "heatmapgl"
           }
          ],
          "histogram": [
           {
            "marker": {
             "pattern": {
              "fillmode": "overlay",
              "size": 10,
              "solidity": 0.2
             }
            },
            "type": "histogram"
           }
          ],
          "histogram2d": [
           {
            "colorbar": {
             "outlinewidth": 0,
             "ticks": ""
            },
            "colorscale": [
             [
              0,
              "#0d0887"
             ],
             [
              0.1111111111111111,
              "#46039f"
             ],
             [
              0.2222222222222222,
              "#7201a8"
             ],
             [
              0.3333333333333333,
              "#9c179e"
             ],
             [
              0.4444444444444444,
              "#bd3786"
             ],
             [
              0.5555555555555556,
              "#d8576b"
             ],
             [
              0.6666666666666666,
              "#ed7953"
             ],
             [
              0.7777777777777778,
              "#fb9f3a"
             ],
             [
              0.8888888888888888,
              "#fdca26"
             ],
             [
              1,
              "#f0f921"
             ]
            ],
            "type": "histogram2d"
           }
          ],
          "histogram2dcontour": [
           {
            "colorbar": {
             "outlinewidth": 0,
             "ticks": ""
            },
            "colorscale": [
             [
              0,
              "#0d0887"
             ],
             [
              0.1111111111111111,
              "#46039f"
             ],
             [
              0.2222222222222222,
              "#7201a8"
             ],
             [
              0.3333333333333333,
              "#9c179e"
             ],
             [
              0.4444444444444444,
              "#bd3786"
             ],
             [
              0.5555555555555556,
              "#d8576b"
             ],
             [
              0.6666666666666666,
              "#ed7953"
             ],
             [
              0.7777777777777778,
              "#fb9f3a"
             ],
             [
              0.8888888888888888,
              "#fdca26"
             ],
             [
              1,
              "#f0f921"
             ]
            ],
            "type": "histogram2dcontour"
           }
          ],
          "mesh3d": [
           {
            "colorbar": {
             "outlinewidth": 0,
             "ticks": ""
            },
            "type": "mesh3d"
           }
          ],
          "parcoords": [
           {
            "line": {
             "colorbar": {
              "outlinewidth": 0,
              "ticks": ""
             }
            },
            "type": "parcoords"
           }
          ],
          "pie": [
           {
            "automargin": true,
            "type": "pie"
           }
          ],
          "scatter": [
           {
            "fillpattern": {
             "fillmode": "overlay",
             "size": 10,
             "solidity": 0.2
            },
            "type": "scatter"
           }
          ],
          "scatter3d": [
           {
            "line": {
             "colorbar": {
              "outlinewidth": 0,
              "ticks": ""
             }
            },
            "marker": {
             "colorbar": {
              "outlinewidth": 0,
              "ticks": ""
             }
            },
            "type": "scatter3d"
           }
          ],
          "scattercarpet": [
           {
            "marker": {
             "colorbar": {
              "outlinewidth": 0,
              "ticks": ""
             }
            },
            "type": "scattercarpet"
           }
          ],
          "scattergeo": [
           {
            "marker": {
             "colorbar": {
              "outlinewidth": 0,
              "ticks": ""
             }
            },
            "type": "scattergeo"
           }
          ],
          "scattergl": [
           {
            "marker": {
             "colorbar": {
              "outlinewidth": 0,
              "ticks": ""
             }
            },
            "type": "scattergl"
           }
          ],
          "scattermapbox": [
           {
            "marker": {
             "colorbar": {
              "outlinewidth": 0,
              "ticks": ""
             }
            },
            "type": "scattermapbox"
           }
          ],
          "scatterpolar": [
           {
            "marker": {
             "colorbar": {
              "outlinewidth": 0,
              "ticks": ""
             }
            },
            "type": "scatterpolar"
           }
          ],
          "scatterpolargl": [
           {
            "marker": {
             "colorbar": {
              "outlinewidth": 0,
              "ticks": ""
             }
            },
            "type": "scatterpolargl"
           }
          ],
          "scatterternary": [
           {
            "marker": {
             "colorbar": {
              "outlinewidth": 0,
              "ticks": ""
             }
            },
            "type": "scatterternary"
           }
          ],
          "surface": [
           {
            "colorbar": {
             "outlinewidth": 0,
             "ticks": ""
            },
            "colorscale": [
             [
              0,
              "#0d0887"
             ],
             [
              0.1111111111111111,
              "#46039f"
             ],
             [
              0.2222222222222222,
              "#7201a8"
             ],
             [
              0.3333333333333333,
              "#9c179e"
             ],
             [
              0.4444444444444444,
              "#bd3786"
             ],
             [
              0.5555555555555556,
              "#d8576b"
             ],
             [
              0.6666666666666666,
              "#ed7953"
             ],
             [
              0.7777777777777778,
              "#fb9f3a"
             ],
             [
              0.8888888888888888,
              "#fdca26"
             ],
             [
              1,
              "#f0f921"
             ]
            ],
            "type": "surface"
           }
          ],
          "table": [
           {
            "cells": {
             "fill": {
              "color": "#EBF0F8"
             },
             "line": {
              "color": "white"
             }
            },
            "header": {
             "fill": {
              "color": "#C8D4E3"
             },
             "line": {
              "color": "white"
             }
            },
            "type": "table"
           }
          ]
         },
         "layout": {
          "annotationdefaults": {
           "arrowcolor": "#2a3f5f",
           "arrowhead": 0,
           "arrowwidth": 1
          },
          "autotypenumbers": "strict",
          "coloraxis": {
           "colorbar": {
            "outlinewidth": 0,
            "ticks": ""
           }
          },
          "colorscale": {
           "diverging": [
            [
             0,
             "#8e0152"
            ],
            [
             0.1,
             "#c51b7d"
            ],
            [
             0.2,
             "#de77ae"
            ],
            [
             0.3,
             "#f1b6da"
            ],
            [
             0.4,
             "#fde0ef"
            ],
            [
             0.5,
             "#f7f7f7"
            ],
            [
             0.6,
             "#e6f5d0"
            ],
            [
             0.7,
             "#b8e186"
            ],
            [
             0.8,
             "#7fbc41"
            ],
            [
             0.9,
             "#4d9221"
            ],
            [
             1,
             "#276419"
            ]
           ],
           "sequential": [
            [
             0,
             "#0d0887"
            ],
            [
             0.1111111111111111,
             "#46039f"
            ],
            [
             0.2222222222222222,
             "#7201a8"
            ],
            [
             0.3333333333333333,
             "#9c179e"
            ],
            [
             0.4444444444444444,
             "#bd3786"
            ],
            [
             0.5555555555555556,
             "#d8576b"
            ],
            [
             0.6666666666666666,
             "#ed7953"
            ],
            [
             0.7777777777777778,
             "#fb9f3a"
            ],
            [
             0.8888888888888888,
             "#fdca26"
            ],
            [
             1,
             "#f0f921"
            ]
           ],
           "sequentialminus": [
            [
             0,
             "#0d0887"
            ],
            [
             0.1111111111111111,
             "#46039f"
            ],
            [
             0.2222222222222222,
             "#7201a8"
            ],
            [
             0.3333333333333333,
             "#9c179e"
            ],
            [
             0.4444444444444444,
             "#bd3786"
            ],
            [
             0.5555555555555556,
             "#d8576b"
            ],
            [
             0.6666666666666666,
             "#ed7953"
            ],
            [
             0.7777777777777778,
             "#fb9f3a"
            ],
            [
             0.8888888888888888,
             "#fdca26"
            ],
            [
             1,
             "#f0f921"
            ]
           ]
          },
          "colorway": [
           "#636efa",
           "#EF553B",
           "#00cc96",
           "#ab63fa",
           "#FFA15A",
           "#19d3f3",
           "#FF6692",
           "#B6E880",
           "#FF97FF",
           "#FECB52"
          ],
          "font": {
           "color": "#2a3f5f"
          },
          "geo": {
           "bgcolor": "white",
           "lakecolor": "white",
           "landcolor": "#E5ECF6",
           "showlakes": true,
           "showland": true,
           "subunitcolor": "white"
          },
          "hoverlabel": {
           "align": "left"
          },
          "hovermode": "closest",
          "mapbox": {
           "style": "light"
          },
          "paper_bgcolor": "white",
          "plot_bgcolor": "#E5ECF6",
          "polar": {
           "angularaxis": {
            "gridcolor": "white",
            "linecolor": "white",
            "ticks": ""
           },
           "bgcolor": "#E5ECF6",
           "radialaxis": {
            "gridcolor": "white",
            "linecolor": "white",
            "ticks": ""
           }
          },
          "scene": {
           "xaxis": {
            "backgroundcolor": "#E5ECF6",
            "gridcolor": "white",
            "gridwidth": 2,
            "linecolor": "white",
            "showbackground": true,
            "ticks": "",
            "zerolinecolor": "white"
           },
           "yaxis": {
            "backgroundcolor": "#E5ECF6",
            "gridcolor": "white",
            "gridwidth": 2,
            "linecolor": "white",
            "showbackground": true,
            "ticks": "",
            "zerolinecolor": "white"
           },
           "zaxis": {
            "backgroundcolor": "#E5ECF6",
            "gridcolor": "white",
            "gridwidth": 2,
            "linecolor": "white",
            "showbackground": true,
            "ticks": "",
            "zerolinecolor": "white"
           }
          },
          "shapedefaults": {
           "line": {
            "color": "#2a3f5f"
           }
          },
          "ternary": {
           "aaxis": {
            "gridcolor": "white",
            "linecolor": "white",
            "ticks": ""
           },
           "baxis": {
            "gridcolor": "white",
            "linecolor": "white",
            "ticks": ""
           },
           "bgcolor": "#E5ECF6",
           "caxis": {
            "gridcolor": "white",
            "linecolor": "white",
            "ticks": ""
           }
          },
          "title": {
           "x": 0.05
          },
          "xaxis": {
           "automargin": true,
           "gridcolor": "white",
           "linecolor": "white",
           "ticks": "",
           "title": {
            "standoff": 15
           },
           "zerolinecolor": "white",
           "zerolinewidth": 2
          },
          "yaxis": {
           "automargin": true,
           "gridcolor": "white",
           "linecolor": "white",
           "ticks": "",
           "title": {
            "standoff": 15
           },
           "zerolinecolor": "white",
           "zerolinewidth": 2
          }
         }
        },
        "title": {
         "text": "Total flights in the five main airports of Italy"
        },
        "xaxis": {
         "anchor": "y",
         "domain": [
          0,
          1
         ],
         "title": {
          "text": "Date"
         }
        },
        "yaxis": {
         "anchor": "x",
         "domain": [
          0,
          1
         ],
         "title": {
          "text": "Number of flights"
         }
        }
       }
      }
     },
     "metadata": {},
     "output_type": "display_data"
    }
   ],
   "source": [
    "# Total flights in the 5 main airports of Italy (month 7 2019 to 2021)\n",
    "\n",
    "fig = px.bar(df, x='Date', y='Number of flights', \n",
    "             title='Total flights in the five main airports of Italy')\n",
    "\n",
    "fig.update_traces(text=df['Number of flights'])\n",
    "fig.show()"
   ]
  },
  {
   "cell_type": "markdown",
   "id": "f97dbbe0",
   "metadata": {},
   "source": [
    "We can obserb a pattern that is repeated on each airport data. During 2020, the number of flights decreased, and in 2021 there was a partial recovery."
   ]
  },
  {
   "cell_type": "markdown",
   "id": "b77fa0a4",
   "metadata": {},
   "source": [
    "COVID data:"
   ]
  },
  {
   "cell_type": "markdown",
   "id": "38fff4f2",
   "metadata": {},
   "source": [
    "We can notice already that there was a decrease in flight numbers from 2019 to 2020, and a partial recovery from 2020 to 2021"
   ]
  },
  {
   "cell_type": "code",
   "execution_count": 44,
   "id": "fa054978",
   "metadata": {},
   "outputs": [
    {
     "data": {
      "text/html": [
       "<div>\n",
       "<style scoped>\n",
       "    .dataframe tbody tr th:only-of-type {\n",
       "        vertical-align: middle;\n",
       "    }\n",
       "\n",
       "    .dataframe tbody tr th {\n",
       "        vertical-align: top;\n",
       "    }\n",
       "\n",
       "    .dataframe thead th {\n",
       "        text-align: right;\n",
       "    }\n",
       "</style>\n",
       "<table border=\"1\" class=\"dataframe\">\n",
       "  <thead>\n",
       "    <tr style=\"text-align: right;\">\n",
       "      <th></th>\n",
       "      <th>Unnamed: 0</th>\n",
       "      <th>total_cases</th>\n",
       "      <th>total_vaccinations</th>\n",
       "      <th>date</th>\n",
       "      <th>new_vaccinations_smoothed_per_million</th>\n",
       "      <th>new_cases_per_million</th>\n",
       "      <th>new_cases</th>\n",
       "      <th>total_deaths</th>\n",
       "      <th>new_deaths_per_million</th>\n",
       "      <th>new_deaths</th>\n",
       "    </tr>\n",
       "  </thead>\n",
       "  <tbody>\n",
       "    <tr>\n",
       "      <th>0</th>\n",
       "      <td>98722</td>\n",
       "      <td>2.0</td>\n",
       "      <td>NaN</td>\n",
       "      <td>2020-01-31</td>\n",
       "      <td>NaN</td>\n",
       "      <td>0.034</td>\n",
       "      <td>2.0</td>\n",
       "      <td>NaN</td>\n",
       "      <td>NaN</td>\n",
       "      <td>NaN</td>\n",
       "    </tr>\n",
       "    <tr>\n",
       "      <th>1</th>\n",
       "      <td>98723</td>\n",
       "      <td>2.0</td>\n",
       "      <td>NaN</td>\n",
       "      <td>2020-02-01</td>\n",
       "      <td>NaN</td>\n",
       "      <td>0.000</td>\n",
       "      <td>0.0</td>\n",
       "      <td>NaN</td>\n",
       "      <td>NaN</td>\n",
       "      <td>NaN</td>\n",
       "    </tr>\n",
       "    <tr>\n",
       "      <th>2</th>\n",
       "      <td>98724</td>\n",
       "      <td>2.0</td>\n",
       "      <td>NaN</td>\n",
       "      <td>2020-02-02</td>\n",
       "      <td>NaN</td>\n",
       "      <td>0.000</td>\n",
       "      <td>0.0</td>\n",
       "      <td>NaN</td>\n",
       "      <td>NaN</td>\n",
       "      <td>NaN</td>\n",
       "    </tr>\n",
       "    <tr>\n",
       "      <th>3</th>\n",
       "      <td>98725</td>\n",
       "      <td>2.0</td>\n",
       "      <td>NaN</td>\n",
       "      <td>2020-02-03</td>\n",
       "      <td>NaN</td>\n",
       "      <td>0.000</td>\n",
       "      <td>0.0</td>\n",
       "      <td>NaN</td>\n",
       "      <td>NaN</td>\n",
       "      <td>NaN</td>\n",
       "    </tr>\n",
       "    <tr>\n",
       "      <th>4</th>\n",
       "      <td>98726</td>\n",
       "      <td>2.0</td>\n",
       "      <td>NaN</td>\n",
       "      <td>2020-02-04</td>\n",
       "      <td>NaN</td>\n",
       "      <td>0.000</td>\n",
       "      <td>0.0</td>\n",
       "      <td>NaN</td>\n",
       "      <td>NaN</td>\n",
       "      <td>NaN</td>\n",
       "    </tr>\n",
       "  </tbody>\n",
       "</table>\n",
       "</div>"
      ],
      "text/plain": [
       "   Unnamed: 0  total_cases  total_vaccinations        date  \\\n",
       "0       98722          2.0                 NaN  2020-01-31   \n",
       "1       98723          2.0                 NaN  2020-02-01   \n",
       "2       98724          2.0                 NaN  2020-02-02   \n",
       "3       98725          2.0                 NaN  2020-02-03   \n",
       "4       98726          2.0                 NaN  2020-02-04   \n",
       "\n",
       "   new_vaccinations_smoothed_per_million  new_cases_per_million  new_cases  \\\n",
       "0                                    NaN                  0.034        2.0   \n",
       "1                                    NaN                  0.000        0.0   \n",
       "2                                    NaN                  0.000        0.0   \n",
       "3                                    NaN                  0.000        0.0   \n",
       "4                                    NaN                  0.000        0.0   \n",
       "\n",
       "   total_deaths  new_deaths_per_million  new_deaths  \n",
       "0           NaN                     NaN         NaN  \n",
       "1           NaN                     NaN         NaN  \n",
       "2           NaN                     NaN         NaN  \n",
       "3           NaN                     NaN         NaN  \n",
       "4           NaN                     NaN         NaN  "
      ]
     },
     "execution_count": 44,
     "metadata": {},
     "output_type": "execute_result"
    }
   ],
   "source": [
    "dataCOVID = pd.read_csv('italy_vaccination.csv')\n",
    "dataCOVID.head()"
   ]
  },
  {
   "cell_type": "code",
   "execution_count": 45,
   "id": "9e1b1eef",
   "metadata": {},
   "outputs": [
    {
     "data": {
      "text/html": [
       "<div>\n",
       "<style scoped>\n",
       "    .dataframe tbody tr th:only-of-type {\n",
       "        vertical-align: middle;\n",
       "    }\n",
       "\n",
       "    .dataframe tbody tr th {\n",
       "        vertical-align: top;\n",
       "    }\n",
       "\n",
       "    .dataframe thead th {\n",
       "        text-align: right;\n",
       "    }\n",
       "</style>\n",
       "<table border=\"1\" class=\"dataframe\">\n",
       "  <thead>\n",
       "    <tr style=\"text-align: right;\">\n",
       "      <th></th>\n",
       "      <th>Unnamed: 0</th>\n",
       "      <th>total_cases</th>\n",
       "      <th>total_vaccinations</th>\n",
       "      <th>date</th>\n",
       "      <th>new_vaccinations_smoothed_per_million</th>\n",
       "      <th>new_cases_per_million</th>\n",
       "      <th>new_cases</th>\n",
       "      <th>total_deaths</th>\n",
       "      <th>new_deaths_per_million</th>\n",
       "      <th>new_deaths</th>\n",
       "    </tr>\n",
       "  </thead>\n",
       "  <tbody>\n",
       "    <tr>\n",
       "      <th>152</th>\n",
       "      <td>98874</td>\n",
       "      <td>240760.0</td>\n",
       "      <td>NaN</td>\n",
       "      <td>2020-07-01</td>\n",
       "      <td>NaN</td>\n",
       "      <td>3.072</td>\n",
       "      <td>182.0</td>\n",
       "      <td>34788.0</td>\n",
       "      <td>0.354</td>\n",
       "      <td>21.0</td>\n",
       "    </tr>\n",
       "    <tr>\n",
       "      <th>153</th>\n",
       "      <td>98875</td>\n",
       "      <td>240961.0</td>\n",
       "      <td>NaN</td>\n",
       "      <td>2020-07-02</td>\n",
       "      <td>NaN</td>\n",
       "      <td>3.393</td>\n",
       "      <td>201.0</td>\n",
       "      <td>34818.0</td>\n",
       "      <td>0.506</td>\n",
       "      <td>30.0</td>\n",
       "    </tr>\n",
       "    <tr>\n",
       "      <th>154</th>\n",
       "      <td>98876</td>\n",
       "      <td>241184.0</td>\n",
       "      <td>NaN</td>\n",
       "      <td>2020-07-03</td>\n",
       "      <td>NaN</td>\n",
       "      <td>3.764</td>\n",
       "      <td>223.0</td>\n",
       "      <td>34833.0</td>\n",
       "      <td>0.253</td>\n",
       "      <td>15.0</td>\n",
       "    </tr>\n",
       "    <tr>\n",
       "      <th>155</th>\n",
       "      <td>98877</td>\n",
       "      <td>241419.0</td>\n",
       "      <td>NaN</td>\n",
       "      <td>2020-07-04</td>\n",
       "      <td>NaN</td>\n",
       "      <td>3.967</td>\n",
       "      <td>235.0</td>\n",
       "      <td>34854.0</td>\n",
       "      <td>0.354</td>\n",
       "      <td>21.0</td>\n",
       "    </tr>\n",
       "    <tr>\n",
       "      <th>156</th>\n",
       "      <td>98878</td>\n",
       "      <td>241611.0</td>\n",
       "      <td>NaN</td>\n",
       "      <td>2020-07-05</td>\n",
       "      <td>NaN</td>\n",
       "      <td>3.241</td>\n",
       "      <td>192.0</td>\n",
       "      <td>34861.0</td>\n",
       "      <td>0.118</td>\n",
       "      <td>7.0</td>\n",
       "    </tr>\n",
       "  </tbody>\n",
       "</table>\n",
       "</div>"
      ],
      "text/plain": [
       "     Unnamed: 0  total_cases  total_vaccinations        date  \\\n",
       "152       98874     240760.0                 NaN  2020-07-01   \n",
       "153       98875     240961.0                 NaN  2020-07-02   \n",
       "154       98876     241184.0                 NaN  2020-07-03   \n",
       "155       98877     241419.0                 NaN  2020-07-04   \n",
       "156       98878     241611.0                 NaN  2020-07-05   \n",
       "\n",
       "     new_vaccinations_smoothed_per_million  new_cases_per_million  new_cases  \\\n",
       "152                                    NaN                  3.072      182.0   \n",
       "153                                    NaN                  3.393      201.0   \n",
       "154                                    NaN                  3.764      223.0   \n",
       "155                                    NaN                  3.967      235.0   \n",
       "156                                    NaN                  3.241      192.0   \n",
       "\n",
       "     total_deaths  new_deaths_per_million  new_deaths  \n",
       "152       34788.0                   0.354        21.0  \n",
       "153       34818.0                   0.506        30.0  \n",
       "154       34833.0                   0.253        15.0  \n",
       "155       34854.0                   0.354        21.0  \n",
       "156       34861.0                   0.118         7.0  "
      ]
     },
     "execution_count": 45,
     "metadata": {},
     "output_type": "execute_result"
    }
   ],
   "source": [
    "dataCOVID_072020 = dataCOVID.loc[152:182]\n",
    "dataCOVID_072020.head()"
   ]
  },
  {
   "cell_type": "code",
   "execution_count": 46,
   "id": "b179e6f2",
   "metadata": {},
   "outputs": [
    {
     "name": "stdout",
     "output_type": "stream",
     "text": [
      "The total number of new cases during July 2020 was 6959.0\n"
     ]
    }
   ],
   "source": [
    "covidcases_072020 = dataCOVID_072020['new_cases'].sum()\n",
    "print(f'The total number of new cases during July 2020 was {covidcases_072020}')"
   ]
  },
  {
   "cell_type": "code",
   "execution_count": 47,
   "id": "a7394472",
   "metadata": {},
   "outputs": [
    {
     "data": {
      "text/html": [
       "<div>\n",
       "<style scoped>\n",
       "    .dataframe tbody tr th:only-of-type {\n",
       "        vertical-align: middle;\n",
       "    }\n",
       "\n",
       "    .dataframe tbody tr th {\n",
       "        vertical-align: top;\n",
       "    }\n",
       "\n",
       "    .dataframe thead th {\n",
       "        text-align: right;\n",
       "    }\n",
       "</style>\n",
       "<table border=\"1\" class=\"dataframe\">\n",
       "  <thead>\n",
       "    <tr style=\"text-align: right;\">\n",
       "      <th></th>\n",
       "      <th>Unnamed: 0</th>\n",
       "      <th>total_cases</th>\n",
       "      <th>total_vaccinations</th>\n",
       "      <th>date</th>\n",
       "      <th>new_vaccinations_smoothed_per_million</th>\n",
       "      <th>new_cases_per_million</th>\n",
       "      <th>new_cases</th>\n",
       "      <th>total_deaths</th>\n",
       "      <th>new_deaths_per_million</th>\n",
       "      <th>new_deaths</th>\n",
       "    </tr>\n",
       "  </thead>\n",
       "  <tbody>\n",
       "    <tr>\n",
       "      <th>517</th>\n",
       "      <td>99239</td>\n",
       "      <td>4260788.0</td>\n",
       "      <td>52733773.0</td>\n",
       "      <td>2021-07-01</td>\n",
       "      <td>9345.0</td>\n",
       "      <td>14.838</td>\n",
       "      <td>879.0</td>\n",
       "      <td>127587.0</td>\n",
       "      <td>0.354</td>\n",
       "      <td>21.0</td>\n",
       "    </tr>\n",
       "    <tr>\n",
       "      <th>518</th>\n",
       "      <td>99240</td>\n",
       "      <td>4261582.0</td>\n",
       "      <td>53290240.0</td>\n",
       "      <td>2021-07-02</td>\n",
       "      <td>9195.0</td>\n",
       "      <td>13.403</td>\n",
       "      <td>794.0</td>\n",
       "      <td>127615.0</td>\n",
       "      <td>0.473</td>\n",
       "      <td>28.0</td>\n",
       "    </tr>\n",
       "    <tr>\n",
       "      <th>519</th>\n",
       "      <td>99241</td>\n",
       "      <td>4262511.0</td>\n",
       "      <td>53817991.0</td>\n",
       "      <td>2021-07-03</td>\n",
       "      <td>9128.0</td>\n",
       "      <td>15.682</td>\n",
       "      <td>929.0</td>\n",
       "      <td>127637.0</td>\n",
       "      <td>0.371</td>\n",
       "      <td>22.0</td>\n",
       "    </tr>\n",
       "    <tr>\n",
       "      <th>520</th>\n",
       "      <td>99242</td>\n",
       "      <td>4263317.0</td>\n",
       "      <td>54232915.0</td>\n",
       "      <td>2021-07-04</td>\n",
       "      <td>9087.0</td>\n",
       "      <td>13.606</td>\n",
       "      <td>806.0</td>\n",
       "      <td>127649.0</td>\n",
       "      <td>0.203</td>\n",
       "      <td>12.0</td>\n",
       "    </tr>\n",
       "    <tr>\n",
       "      <th>521</th>\n",
       "      <td>99243</td>\n",
       "      <td>4263797.0</td>\n",
       "      <td>54774452.0</td>\n",
       "      <td>2021-07-05</td>\n",
       "      <td>9042.0</td>\n",
       "      <td>8.103</td>\n",
       "      <td>480.0</td>\n",
       "      <td>127680.0</td>\n",
       "      <td>0.523</td>\n",
       "      <td>31.0</td>\n",
       "    </tr>\n",
       "  </tbody>\n",
       "</table>\n",
       "</div>"
      ],
      "text/plain": [
       "     Unnamed: 0  total_cases  total_vaccinations        date  \\\n",
       "517       99239    4260788.0          52733773.0  2021-07-01   \n",
       "518       99240    4261582.0          53290240.0  2021-07-02   \n",
       "519       99241    4262511.0          53817991.0  2021-07-03   \n",
       "520       99242    4263317.0          54232915.0  2021-07-04   \n",
       "521       99243    4263797.0          54774452.0  2021-07-05   \n",
       "\n",
       "     new_vaccinations_smoothed_per_million  new_cases_per_million  new_cases  \\\n",
       "517                                 9345.0                 14.838      879.0   \n",
       "518                                 9195.0                 13.403      794.0   \n",
       "519                                 9128.0                 15.682      929.0   \n",
       "520                                 9087.0                 13.606      806.0   \n",
       "521                                 9042.0                  8.103      480.0   \n",
       "\n",
       "     total_deaths  new_deaths_per_million  new_deaths  \n",
       "517      127587.0                   0.354        21.0  \n",
       "518      127615.0                   0.473        28.0  \n",
       "519      127637.0                   0.371        22.0  \n",
       "520      127649.0                   0.203        12.0  \n",
       "521      127680.0                   0.523        31.0  "
      ]
     },
     "execution_count": 47,
     "metadata": {},
     "output_type": "execute_result"
    }
   ],
   "source": [
    "dataCOVID_072021 = dataCOVID.loc[517:547]\n",
    "dataCOVID_072021.head()"
   ]
  },
  {
   "cell_type": "code",
   "execution_count": 48,
   "id": "db868fc4",
   "metadata": {},
   "outputs": [
    {
     "name": "stdout",
     "output_type": "stream",
     "text": [
      "The total number of new cases during July 2021 was 90119.0\n"
     ]
    }
   ],
   "source": [
    "covidcases_072021 = dataCOVID_072021['new_cases'].sum()\n",
    "print(f'The total number of new cases during July 2021 was {covidcases_072021}')"
   ]
  },
  {
   "cell_type": "code",
   "execution_count": 49,
   "id": "51fedc46",
   "metadata": {},
   "outputs": [
    {
     "name": "stdout",
     "output_type": "stream",
     "text": [
      "There were 6959.0 new cases during July 2020, and 90119.0 during 2021\n",
      "During July 2021, there were 0.0 more cases than in the same period of 2020\n"
     ]
    }
   ],
   "source": [
    "print(f'There were {covidcases_072020} new cases during July 2020, and {covidcases_072021} during 2021')\n",
    "print(f'During July 2021, there were {covidcases_072021-covidcases_072021} more cases than in the same period of 2020')"
   ]
  },
  {
   "cell_type": "code",
   "execution_count": 50,
   "id": "1eaeb4f0",
   "metadata": {},
   "outputs": [
    {
     "data": {
      "text/html": [
       "<div>\n",
       "<style scoped>\n",
       "    .dataframe tbody tr th:only-of-type {\n",
       "        vertical-align: middle;\n",
       "    }\n",
       "\n",
       "    .dataframe tbody tr th {\n",
       "        vertical-align: top;\n",
       "    }\n",
       "\n",
       "    .dataframe thead th {\n",
       "        text-align: right;\n",
       "    }\n",
       "</style>\n",
       "<table border=\"1\" class=\"dataframe\">\n",
       "  <thead>\n",
       "    <tr style=\"text-align: right;\">\n",
       "      <th></th>\n",
       "      <th>Date</th>\n",
       "      <th>Number of flights</th>\n",
       "      <th>Covid cases</th>\n",
       "    </tr>\n",
       "  </thead>\n",
       "  <tbody>\n",
       "    <tr>\n",
       "      <th>0</th>\n",
       "      <td>7/2019</td>\n",
       "      <td>32917</td>\n",
       "      <td>0.0</td>\n",
       "    </tr>\n",
       "    <tr>\n",
       "      <th>1</th>\n",
       "      <td>7/2020</td>\n",
       "      <td>12618</td>\n",
       "      <td>6959.0</td>\n",
       "    </tr>\n",
       "    <tr>\n",
       "      <th>2</th>\n",
       "      <td>7/2021</td>\n",
       "      <td>20479</td>\n",
       "      <td>90119.0</td>\n",
       "    </tr>\n",
       "  </tbody>\n",
       "</table>\n",
       "</div>"
      ],
      "text/plain": [
       "     Date  Number of flights  Covid cases\n",
       "0  7/2019              32917          0.0\n",
       "1  7/2020              12618       6959.0\n",
       "2  7/2021              20479      90119.0"
      ]
     },
     "execution_count": 50,
     "metadata": {},
     "output_type": "execute_result"
    }
   ],
   "source": [
    "#Save the data in an array\n",
    "date = ['7/2019', '7/2020', '7/2021']\n",
    "totalperyear = [total_2019, total_2020, total_2021]\n",
    "caseseachyear = [0, covidcases_072020, covidcases_072021] \n",
    "dataflights = [[date[0], totalperyear[0], caseseachyear[0]], [date[1], totalperyear[1], caseseachyear[1]], [date[2], totalperyear[2], caseseachyear[2]]]\n",
    "\n",
    "df1 = pd.DataFrame(dataflights, columns=['Date', 'Number of flights', 'Covid cases'])\n",
    "df1.head()"
   ]
  },
  {
   "cell_type": "code",
   "execution_count": 211,
   "id": "7d7dccb5",
   "metadata": {},
   "outputs": [
    {
     "data": {
      "application/vnd.plotly.v1+json": {
       "config": {
        "plotlyServerURL": "https://plot.ly"
       },
       "data": [
        {
         "alignmentgroup": "True",
         "hovertemplate": "variable=Number of flights<br>Date=%{x}<br>value=%{y}<extra></extra>",
         "legendgroup": "Number of flights",
         "marker": {
          "color": "#636efa",
          "pattern": {
           "shape": ""
          }
         },
         "name": "Number of flights",
         "offsetgroup": "Number of flights",
         "orientation": "v",
         "showlegend": true,
         "textposition": "auto",
         "type": "bar",
         "x": [
          "7/2019",
          "7/2020",
          "7/2021"
         ],
         "xaxis": "x",
         "y": [
          32917,
          12618,
          20479
         ],
         "yaxis": "y"
        },
        {
         "alignmentgroup": "True",
         "hovertemplate": "variable=Covid cases<br>Date=%{x}<br>value=%{y}<extra></extra>",
         "legendgroup": "Covid cases",
         "marker": {
          "color": "#EF553B",
          "pattern": {
           "shape": ""
          }
         },
         "name": "Covid cases",
         "offsetgroup": "Covid cases",
         "orientation": "v",
         "showlegend": true,
         "textposition": "auto",
         "type": "bar",
         "x": [
          "7/2019",
          "7/2020",
          "7/2021"
         ],
         "xaxis": "x",
         "y": [
          0,
          6959,
          90119
         ],
         "yaxis": "y"
        }
       ],
       "layout": {
        "barmode": "group",
        "legend": {
         "title": {
          "text": "variable"
         },
         "tracegroupgap": 0
        },
        "template": {
         "data": {
          "bar": [
           {
            "error_x": {
             "color": "#2a3f5f"
            },
            "error_y": {
             "color": "#2a3f5f"
            },
            "marker": {
             "line": {
              "color": "#E5ECF6",
              "width": 0.5
             },
             "pattern": {
              "fillmode": "overlay",
              "size": 10,
              "solidity": 0.2
             }
            },
            "type": "bar"
           }
          ],
          "barpolar": [
           {
            "marker": {
             "line": {
              "color": "#E5ECF6",
              "width": 0.5
             },
             "pattern": {
              "fillmode": "overlay",
              "size": 10,
              "solidity": 0.2
             }
            },
            "type": "barpolar"
           }
          ],
          "carpet": [
           {
            "aaxis": {
             "endlinecolor": "#2a3f5f",
             "gridcolor": "white",
             "linecolor": "white",
             "minorgridcolor": "white",
             "startlinecolor": "#2a3f5f"
            },
            "baxis": {
             "endlinecolor": "#2a3f5f",
             "gridcolor": "white",
             "linecolor": "white",
             "minorgridcolor": "white",
             "startlinecolor": "#2a3f5f"
            },
            "type": "carpet"
           }
          ],
          "choropleth": [
           {
            "colorbar": {
             "outlinewidth": 0,
             "ticks": ""
            },
            "type": "choropleth"
           }
          ],
          "contour": [
           {
            "colorbar": {
             "outlinewidth": 0,
             "ticks": ""
            },
            "colorscale": [
             [
              0,
              "#0d0887"
             ],
             [
              0.1111111111111111,
              "#46039f"
             ],
             [
              0.2222222222222222,
              "#7201a8"
             ],
             [
              0.3333333333333333,
              "#9c179e"
             ],
             [
              0.4444444444444444,
              "#bd3786"
             ],
             [
              0.5555555555555556,
              "#d8576b"
             ],
             [
              0.6666666666666666,
              "#ed7953"
             ],
             [
              0.7777777777777778,
              "#fb9f3a"
             ],
             [
              0.8888888888888888,
              "#fdca26"
             ],
             [
              1,
              "#f0f921"
             ]
            ],
            "type": "contour"
           }
          ],
          "contourcarpet": [
           {
            "colorbar": {
             "outlinewidth": 0,
             "ticks": ""
            },
            "type": "contourcarpet"
           }
          ],
          "heatmap": [
           {
            "colorbar": {
             "outlinewidth": 0,
             "ticks": ""
            },
            "colorscale": [
             [
              0,
              "#0d0887"
             ],
             [
              0.1111111111111111,
              "#46039f"
             ],
             [
              0.2222222222222222,
              "#7201a8"
             ],
             [
              0.3333333333333333,
              "#9c179e"
             ],
             [
              0.4444444444444444,
              "#bd3786"
             ],
             [
              0.5555555555555556,
              "#d8576b"
             ],
             [
              0.6666666666666666,
              "#ed7953"
             ],
             [
              0.7777777777777778,
              "#fb9f3a"
             ],
             [
              0.8888888888888888,
              "#fdca26"
             ],
             [
              1,
              "#f0f921"
             ]
            ],
            "type": "heatmap"
           }
          ],
          "heatmapgl": [
           {
            "colorbar": {
             "outlinewidth": 0,
             "ticks": ""
            },
            "colorscale": [
             [
              0,
              "#0d0887"
             ],
             [
              0.1111111111111111,
              "#46039f"
             ],
             [
              0.2222222222222222,
              "#7201a8"
             ],
             [
              0.3333333333333333,
              "#9c179e"
             ],
             [
              0.4444444444444444,
              "#bd3786"
             ],
             [
              0.5555555555555556,
              "#d8576b"
             ],
             [
              0.6666666666666666,
              "#ed7953"
             ],
             [
              0.7777777777777778,
              "#fb9f3a"
             ],
             [
              0.8888888888888888,
              "#fdca26"
             ],
             [
              1,
              "#f0f921"
             ]
            ],
            "type": "heatmapgl"
           }
          ],
          "histogram": [
           {
            "marker": {
             "pattern": {
              "fillmode": "overlay",
              "size": 10,
              "solidity": 0.2
             }
            },
            "type": "histogram"
           }
          ],
          "histogram2d": [
           {
            "colorbar": {
             "outlinewidth": 0,
             "ticks": ""
            },
            "colorscale": [
             [
              0,
              "#0d0887"
             ],
             [
              0.1111111111111111,
              "#46039f"
             ],
             [
              0.2222222222222222,
              "#7201a8"
             ],
             [
              0.3333333333333333,
              "#9c179e"
             ],
             [
              0.4444444444444444,
              "#bd3786"
             ],
             [
              0.5555555555555556,
              "#d8576b"
             ],
             [
              0.6666666666666666,
              "#ed7953"
             ],
             [
              0.7777777777777778,
              "#fb9f3a"
             ],
             [
              0.8888888888888888,
              "#fdca26"
             ],
             [
              1,
              "#f0f921"
             ]
            ],
            "type": "histogram2d"
           }
          ],
          "histogram2dcontour": [
           {
            "colorbar": {
             "outlinewidth": 0,
             "ticks": ""
            },
            "colorscale": [
             [
              0,
              "#0d0887"
             ],
             [
              0.1111111111111111,
              "#46039f"
             ],
             [
              0.2222222222222222,
              "#7201a8"
             ],
             [
              0.3333333333333333,
              "#9c179e"
             ],
             [
              0.4444444444444444,
              "#bd3786"
             ],
             [
              0.5555555555555556,
              "#d8576b"
             ],
             [
              0.6666666666666666,
              "#ed7953"
             ],
             [
              0.7777777777777778,
              "#fb9f3a"
             ],
             [
              0.8888888888888888,
              "#fdca26"
             ],
             [
              1,
              "#f0f921"
             ]
            ],
            "type": "histogram2dcontour"
           }
          ],
          "mesh3d": [
           {
            "colorbar": {
             "outlinewidth": 0,
             "ticks": ""
            },
            "type": "mesh3d"
           }
          ],
          "parcoords": [
           {
            "line": {
             "colorbar": {
              "outlinewidth": 0,
              "ticks": ""
             }
            },
            "type": "parcoords"
           }
          ],
          "pie": [
           {
            "automargin": true,
            "type": "pie"
           }
          ],
          "scatter": [
           {
            "fillpattern": {
             "fillmode": "overlay",
             "size": 10,
             "solidity": 0.2
            },
            "type": "scatter"
           }
          ],
          "scatter3d": [
           {
            "line": {
             "colorbar": {
              "outlinewidth": 0,
              "ticks": ""
             }
            },
            "marker": {
             "colorbar": {
              "outlinewidth": 0,
              "ticks": ""
             }
            },
            "type": "scatter3d"
           }
          ],
          "scattercarpet": [
           {
            "marker": {
             "colorbar": {
              "outlinewidth": 0,
              "ticks": ""
             }
            },
            "type": "scattercarpet"
           }
          ],
          "scattergeo": [
           {
            "marker": {
             "colorbar": {
              "outlinewidth": 0,
              "ticks": ""
             }
            },
            "type": "scattergeo"
           }
          ],
          "scattergl": [
           {
            "marker": {
             "colorbar": {
              "outlinewidth": 0,
              "ticks": ""
             }
            },
            "type": "scattergl"
           }
          ],
          "scattermapbox": [
           {
            "marker": {
             "colorbar": {
              "outlinewidth": 0,
              "ticks": ""
             }
            },
            "type": "scattermapbox"
           }
          ],
          "scatterpolar": [
           {
            "marker": {
             "colorbar": {
              "outlinewidth": 0,
              "ticks": ""
             }
            },
            "type": "scatterpolar"
           }
          ],
          "scatterpolargl": [
           {
            "marker": {
             "colorbar": {
              "outlinewidth": 0,
              "ticks": ""
             }
            },
            "type": "scatterpolargl"
           }
          ],
          "scatterternary": [
           {
            "marker": {
             "colorbar": {
              "outlinewidth": 0,
              "ticks": ""
             }
            },
            "type": "scatterternary"
           }
          ],
          "surface": [
           {
            "colorbar": {
             "outlinewidth": 0,
             "ticks": ""
            },
            "colorscale": [
             [
              0,
              "#0d0887"
             ],
             [
              0.1111111111111111,
              "#46039f"
             ],
             [
              0.2222222222222222,
              "#7201a8"
             ],
             [
              0.3333333333333333,
              "#9c179e"
             ],
             [
              0.4444444444444444,
              "#bd3786"
             ],
             [
              0.5555555555555556,
              "#d8576b"
             ],
             [
              0.6666666666666666,
              "#ed7953"
             ],
             [
              0.7777777777777778,
              "#fb9f3a"
             ],
             [
              0.8888888888888888,
              "#fdca26"
             ],
             [
              1,
              "#f0f921"
             ]
            ],
            "type": "surface"
           }
          ],
          "table": [
           {
            "cells": {
             "fill": {
              "color": "#EBF0F8"
             },
             "line": {
              "color": "white"
             }
            },
            "header": {
             "fill": {
              "color": "#C8D4E3"
             },
             "line": {
              "color": "white"
             }
            },
            "type": "table"
           }
          ]
         },
         "layout": {
          "annotationdefaults": {
           "arrowcolor": "#2a3f5f",
           "arrowhead": 0,
           "arrowwidth": 1
          },
          "autotypenumbers": "strict",
          "coloraxis": {
           "colorbar": {
            "outlinewidth": 0,
            "ticks": ""
           }
          },
          "colorscale": {
           "diverging": [
            [
             0,
             "#8e0152"
            ],
            [
             0.1,
             "#c51b7d"
            ],
            [
             0.2,
             "#de77ae"
            ],
            [
             0.3,
             "#f1b6da"
            ],
            [
             0.4,
             "#fde0ef"
            ],
            [
             0.5,
             "#f7f7f7"
            ],
            [
             0.6,
             "#e6f5d0"
            ],
            [
             0.7,
             "#b8e186"
            ],
            [
             0.8,
             "#7fbc41"
            ],
            [
             0.9,
             "#4d9221"
            ],
            [
             1,
             "#276419"
            ]
           ],
           "sequential": [
            [
             0,
             "#0d0887"
            ],
            [
             0.1111111111111111,
             "#46039f"
            ],
            [
             0.2222222222222222,
             "#7201a8"
            ],
            [
             0.3333333333333333,
             "#9c179e"
            ],
            [
             0.4444444444444444,
             "#bd3786"
            ],
            [
             0.5555555555555556,
             "#d8576b"
            ],
            [
             0.6666666666666666,
             "#ed7953"
            ],
            [
             0.7777777777777778,
             "#fb9f3a"
            ],
            [
             0.8888888888888888,
             "#fdca26"
            ],
            [
             1,
             "#f0f921"
            ]
           ],
           "sequentialminus": [
            [
             0,
             "#0d0887"
            ],
            [
             0.1111111111111111,
             "#46039f"
            ],
            [
             0.2222222222222222,
             "#7201a8"
            ],
            [
             0.3333333333333333,
             "#9c179e"
            ],
            [
             0.4444444444444444,
             "#bd3786"
            ],
            [
             0.5555555555555556,
             "#d8576b"
            ],
            [
             0.6666666666666666,
             "#ed7953"
            ],
            [
             0.7777777777777778,
             "#fb9f3a"
            ],
            [
             0.8888888888888888,
             "#fdca26"
            ],
            [
             1,
             "#f0f921"
            ]
           ]
          },
          "colorway": [
           "#636efa",
           "#EF553B",
           "#00cc96",
           "#ab63fa",
           "#FFA15A",
           "#19d3f3",
           "#FF6692",
           "#B6E880",
           "#FF97FF",
           "#FECB52"
          ],
          "font": {
           "color": "#2a3f5f"
          },
          "geo": {
           "bgcolor": "white",
           "lakecolor": "white",
           "landcolor": "#E5ECF6",
           "showlakes": true,
           "showland": true,
           "subunitcolor": "white"
          },
          "hoverlabel": {
           "align": "left"
          },
          "hovermode": "closest",
          "mapbox": {
           "style": "light"
          },
          "paper_bgcolor": "white",
          "plot_bgcolor": "#E5ECF6",
          "polar": {
           "angularaxis": {
            "gridcolor": "white",
            "linecolor": "white",
            "ticks": ""
           },
           "bgcolor": "#E5ECF6",
           "radialaxis": {
            "gridcolor": "white",
            "linecolor": "white",
            "ticks": ""
           }
          },
          "scene": {
           "xaxis": {
            "backgroundcolor": "#E5ECF6",
            "gridcolor": "white",
            "gridwidth": 2,
            "linecolor": "white",
            "showbackground": true,
            "ticks": "",
            "zerolinecolor": "white"
           },
           "yaxis": {
            "backgroundcolor": "#E5ECF6",
            "gridcolor": "white",
            "gridwidth": 2,
            "linecolor": "white",
            "showbackground": true,
            "ticks": "",
            "zerolinecolor": "white"
           },
           "zaxis": {
            "backgroundcolor": "#E5ECF6",
            "gridcolor": "white",
            "gridwidth": 2,
            "linecolor": "white",
            "showbackground": true,
            "ticks": "",
            "zerolinecolor": "white"
           }
          },
          "shapedefaults": {
           "line": {
            "color": "#2a3f5f"
           }
          },
          "ternary": {
           "aaxis": {
            "gridcolor": "white",
            "linecolor": "white",
            "ticks": ""
           },
           "baxis": {
            "gridcolor": "white",
            "linecolor": "white",
            "ticks": ""
           },
           "bgcolor": "#E5ECF6",
           "caxis": {
            "gridcolor": "white",
            "linecolor": "white",
            "ticks": ""
           }
          },
          "title": {
           "x": 0.05
          },
          "xaxis": {
           "automargin": true,
           "gridcolor": "white",
           "linecolor": "white",
           "ticks": "",
           "title": {
            "standoff": 15
           },
           "zerolinecolor": "white",
           "zerolinewidth": 2
          },
          "yaxis": {
           "automargin": true,
           "gridcolor": "white",
           "linecolor": "white",
           "ticks": "",
           "title": {
            "standoff": 15
           },
           "zerolinecolor": "white",
           "zerolinewidth": 2
          }
         }
        },
        "title": {
         "text": "Number of flights and covid cases"
        },
        "xaxis": {
         "anchor": "y",
         "domain": [
          0,
          1
         ],
         "tickangle": -45,
         "title": {
          "text": "Date"
         }
        },
        "yaxis": {
         "anchor": "x",
         "domain": [
          0,
          1
         ],
         "title": {
          "text": "Quantities"
         }
        }
       }
      }
     },
     "metadata": {},
     "output_type": "display_data"
    }
   ],
   "source": [
    "fig = px.bar(df1, x='Date', y=['Number of flights', 'Covid cases'],barmode='group',\n",
    "             title='Number of flights and covid cases')\n",
    "\n",
    "\n",
    "fig.update_yaxes(title_text='Quantities')\n",
    "fig.update_xaxes(title_text='Date')\n",
    "fig.update_layout(barmode='group', xaxis_tickangle=-45)\n",
    "fig.show()"
   ]
  },
  {
   "cell_type": "markdown",
   "id": "d8a38ea7",
   "metadata": {},
   "source": [
    "# But why if there were more cases in 2021 than in 2020, the flight industry recovered partially?"
   ]
  },
  {
   "cell_type": "code",
   "execution_count": 212,
   "id": "debf0231",
   "metadata": {},
   "outputs": [
    {
     "data": {
      "text/html": [
       "<div>\n",
       "<style scoped>\n",
       "    .dataframe tbody tr th:only-of-type {\n",
       "        vertical-align: middle;\n",
       "    }\n",
       "\n",
       "    .dataframe tbody tr th {\n",
       "        vertical-align: top;\n",
       "    }\n",
       "\n",
       "    .dataframe thead th {\n",
       "        text-align: right;\n",
       "    }\n",
       "</style>\n",
       "<table border=\"1\" class=\"dataframe\">\n",
       "  <thead>\n",
       "    <tr style=\"text-align: right;\">\n",
       "      <th></th>\n",
       "      <th>Unnamed: 0</th>\n",
       "      <th>total_cases</th>\n",
       "      <th>total_vaccinations</th>\n",
       "      <th>date</th>\n",
       "      <th>new_vaccinations_smoothed_per_million</th>\n",
       "      <th>new_cases_per_million</th>\n",
       "      <th>new_cases</th>\n",
       "      <th>total_deaths</th>\n",
       "      <th>new_deaths_per_million</th>\n",
       "      <th>new_deaths</th>\n",
       "    </tr>\n",
       "  </thead>\n",
       "  <tbody>\n",
       "    <tr>\n",
       "      <th>0</th>\n",
       "      <td>98722</td>\n",
       "      <td>2.0</td>\n",
       "      <td>NaN</td>\n",
       "      <td>2020-01-31</td>\n",
       "      <td>NaN</td>\n",
       "      <td>0.034</td>\n",
       "      <td>2.0</td>\n",
       "      <td>NaN</td>\n",
       "      <td>NaN</td>\n",
       "      <td>NaN</td>\n",
       "    </tr>\n",
       "    <tr>\n",
       "      <th>1</th>\n",
       "      <td>98723</td>\n",
       "      <td>2.0</td>\n",
       "      <td>NaN</td>\n",
       "      <td>2020-02-01</td>\n",
       "      <td>NaN</td>\n",
       "      <td>0.000</td>\n",
       "      <td>0.0</td>\n",
       "      <td>NaN</td>\n",
       "      <td>NaN</td>\n",
       "      <td>NaN</td>\n",
       "    </tr>\n",
       "    <tr>\n",
       "      <th>2</th>\n",
       "      <td>98724</td>\n",
       "      <td>2.0</td>\n",
       "      <td>NaN</td>\n",
       "      <td>2020-02-02</td>\n",
       "      <td>NaN</td>\n",
       "      <td>0.000</td>\n",
       "      <td>0.0</td>\n",
       "      <td>NaN</td>\n",
       "      <td>NaN</td>\n",
       "      <td>NaN</td>\n",
       "    </tr>\n",
       "    <tr>\n",
       "      <th>3</th>\n",
       "      <td>98725</td>\n",
       "      <td>2.0</td>\n",
       "      <td>NaN</td>\n",
       "      <td>2020-02-03</td>\n",
       "      <td>NaN</td>\n",
       "      <td>0.000</td>\n",
       "      <td>0.0</td>\n",
       "      <td>NaN</td>\n",
       "      <td>NaN</td>\n",
       "      <td>NaN</td>\n",
       "    </tr>\n",
       "    <tr>\n",
       "      <th>4</th>\n",
       "      <td>98726</td>\n",
       "      <td>2.0</td>\n",
       "      <td>NaN</td>\n",
       "      <td>2020-02-04</td>\n",
       "      <td>NaN</td>\n",
       "      <td>0.000</td>\n",
       "      <td>0.0</td>\n",
       "      <td>NaN</td>\n",
       "      <td>NaN</td>\n",
       "      <td>NaN</td>\n",
       "    </tr>\n",
       "  </tbody>\n",
       "</table>\n",
       "</div>"
      ],
      "text/plain": [
       "   Unnamed: 0  total_cases  total_vaccinations        date  \\\n",
       "0       98722          2.0                 NaN  2020-01-31   \n",
       "1       98723          2.0                 NaN  2020-02-01   \n",
       "2       98724          2.0                 NaN  2020-02-02   \n",
       "3       98725          2.0                 NaN  2020-02-03   \n",
       "4       98726          2.0                 NaN  2020-02-04   \n",
       "\n",
       "   new_vaccinations_smoothed_per_million  new_cases_per_million  new_cases  \\\n",
       "0                                    NaN                  0.034        2.0   \n",
       "1                                    NaN                  0.000        0.0   \n",
       "2                                    NaN                  0.000        0.0   \n",
       "3                                    NaN                  0.000        0.0   \n",
       "4                                    NaN                  0.000        0.0   \n",
       "\n",
       "   total_deaths  new_deaths_per_million  new_deaths  \n",
       "0           NaN                     NaN         NaN  \n",
       "1           NaN                     NaN         NaN  \n",
       "2           NaN                     NaN         NaN  \n",
       "3           NaN                     NaN         NaN  \n",
       "4           NaN                     NaN         NaN  "
      ]
     },
     "execution_count": 212,
     "metadata": {},
     "output_type": "execute_result"
    }
   ],
   "source": [
    "datavaccines = pd.read_csv('italy_vaccination.csv')\n",
    "datavaccines.head()"
   ]
  },
  {
   "cell_type": "code",
   "execution_count": 213,
   "id": "ebf122ad",
   "metadata": {},
   "outputs": [
    {
     "name": "stdout",
     "output_type": "stream",
     "text": [
      "0.0\n",
      "No vaccination during July 2020\n"
     ]
    }
   ],
   "source": [
    "vaccination2020 = datavaccines.loc[152:182]\n",
    "vaccination2020.head()\n",
    "\n",
    "vaccinations2020 = vaccination2020['new_vaccinations_smoothed_per_million'].sum()\n",
    "print(vaccinations2020)\n",
    "print(f'No vaccination during July 2020')"
   ]
  },
  {
   "cell_type": "code",
   "execution_count": 214,
   "id": "d736bd7f",
   "metadata": {},
   "outputs": [],
   "source": [
    "vaccination2021 = datavaccines.loc[517:547]\n",
    "# vaccination2021.head()"
   ]
  },
  {
   "cell_type": "code",
   "execution_count": 215,
   "id": "fd860ea7",
   "metadata": {},
   "outputs": [],
   "source": [
    "Population_italy_2021 = 60370000"
   ]
  },
  {
   "cell_type": "code",
   "execution_count": 216,
   "id": "b6e98bae",
   "metadata": {},
   "outputs": [
    {
     "name": "stdout",
     "output_type": "stream",
     "text": [
      "While during July 2020 there was no people vaccinated, in July 2021 this number changed to 68888006.0 people\n"
     ]
    }
   ],
   "source": [
    "totalvaccinatedpeople072021 = datavaccines['total_vaccinations'].loc[547]\n",
    "\n",
    "# print(totalvaccinatedpeople072021)\n",
    "\n",
    "print(f'While during July 2020 there was no people vaccinated, in July 2021 this number changed to \\\n",
    "{totalvaccinatedpeople072021} people')\n"
   ]
  },
  {
   "cell_type": "markdown",
   "id": "1f8fdb13",
   "metadata": {},
   "source": [
    "And what about mortality:"
   ]
  },
  {
   "cell_type": "code",
   "execution_count": 217,
   "id": "d2eea8eb",
   "metadata": {},
   "outputs": [],
   "source": [
    "mortality2020 = datavaccines.loc[152:182]\n",
    "# mortality2020.head()"
   ]
  },
  {
   "cell_type": "code",
   "execution_count": 218,
   "id": "5f456422",
   "metadata": {},
   "outputs": [
    {
     "name": "stdout",
     "output_type": "stream",
     "text": [
      "374.0\n"
     ]
    }
   ],
   "source": [
    "deaths072020 = mortality2020['new_deaths'].sum()\n",
    "print(deaths072020)"
   ]
  },
  {
   "cell_type": "code",
   "execution_count": 219,
   "id": "08592cd1",
   "metadata": {},
   "outputs": [],
   "source": [
    "mortality2021 = datavaccines.loc[517:547]\n",
    "# mortality2021.head()"
   ]
  },
  {
   "cell_type": "code",
   "execution_count": 220,
   "id": "dbd8b7eb",
   "metadata": {},
   "outputs": [
    {
     "name": "stdout",
     "output_type": "stream",
     "text": [
      "497.0\n"
     ]
    }
   ],
   "source": [
    "deaths072021 = mortality2021['new_deaths'].sum()\n",
    "print(deaths072021)"
   ]
  },
  {
   "cell_type": "code",
   "execution_count": 221,
   "id": "deae0964",
   "metadata": {},
   "outputs": [
    {
     "name": "stdout",
     "output_type": "stream",
     "text": [
      "The relation is 0.054\n",
      "The relation is 0.006\n"
     ]
    }
   ],
   "source": [
    "# Relation between new cases and deaths\n",
    "\n",
    "relation2020 = deaths072020 / covidcases_072020\n",
    "\n",
    "print(f'The relation is {relation2020:.3f}')\n",
    "\n",
    "relation2021 = deaths072021 / covidcases_072021\n",
    "\n",
    "print(f'The relation is {relation2021:.3f}')\n"
   ]
  },
  {
   "cell_type": "markdown",
   "id": "71b65361",
   "metadata": {},
   "source": [
    "Three main points can be observed:\n",
    "1- During July 2020 there were no vaccinations\n",
    "\n",
    "2- The number of infections during July 2021 was higher than durnig July 2020\n",
    "\n",
    "3 - Still, there was a partiall recovery in number of flights, even tough the number of people infected was higher\n",
    "\n",
    "4 - The rate between infected peope and deceases is way higher during 2020 than during 2021.\n"
   ]
  },
  {
   "cell_type": "markdown",
   "id": "7c852158",
   "metadata": {},
   "source": [
    "The partial recovery in flight numbers during 2021 happened as a consequence of vaccination and the decrease in mortality of COVID"
   ]
  },
  {
   "cell_type": "code",
   "execution_count": 222,
   "id": "297da66d",
   "metadata": {},
   "outputs": [
    {
     "name": "stdout",
     "output_type": "stream",
     "text": [
      "-The total number of flights for the 5 airports in 2019 is: 32917\n",
      "-The total number of flights for the 5 airports in 2020 is: 12618\n",
      "-The total number of flights for the 5 airports in 2021 is: 20479\n",
      "\n",
      "-The total number of new cases during July 2020 was 6959.0\n",
      "-The total number of new cases during July 2021 was 90119.0\n",
      "\n",
      "-During July 2020 no people got vaccinated\n",
      "-During July 2021 68888006.0 people got vaccinated\n",
      "\n",
      "-There were 374.0 deceases during July 2020\n",
      "-There were 497.0 deceases during July 2021\n",
      "\n",
      "-The relation between deaths and covid cases during July 2020 is 0.054\n",
      "-The relation between deaths and covid cases during July 2021 is 0.006\n"
     ]
    }
   ],
   "source": [
    "# To sum up\n",
    "\n",
    "# Flights\n",
    "\n",
    "print(f'-The total number of flights for the 5 airports in 2019 is: {total_2019}')\n",
    "print(f'-The total number of flights for the 5 airports in 2020 is: {total_2020}')\n",
    "print(f'-The total number of flights for the 5 airports in 2021 is: {total_2021}')\n",
    "print()\n",
    "\n",
    "\n",
    "# Cases\n",
    "\n",
    "print(f'-The total number of new cases during July 2020 was {covidcases_072020}')\n",
    "print(f'-The total number of new cases during July 2021 was {covidcases_072021}')\n",
    "print()\n",
    "\n",
    "# Vaccination\n",
    "\n",
    "print(f'-During July 2020 no people got vaccinated')\n",
    "print(f'-During July 2021 {totalvaccinatedpeople072021} people got vaccinated')\n",
    "print()\n",
    "\n",
    "# Deceases\n",
    "\n",
    "print(f'-There were {deaths072020} deceases during July 2020')\n",
    "print(f'-There were {deaths072021} deceases during July 2021')\n",
    "print()\n",
    "\n",
    "# Rate infections - deceases\n",
    "\n",
    "print(f'-The relation between deaths and covid cases during July 2020 is {relation2020:.3f}')\n",
    "print(f'-The relation between deaths and covid cases during July 2021 is {relation2021:.3f}')\n"
   ]
  },
  {
   "cell_type": "code",
   "execution_count": 223,
   "id": "2f72c113",
   "metadata": {},
   "outputs": [
    {
     "name": "stdout",
     "output_type": "stream",
     "text": [
      "[0, 20.10001436988073, 2.740920338663323]\n"
     ]
    }
   ],
   "source": [
    "deceaseswrate2020= deaths072020 * relation2020\n",
    "deceaseswrate2021= deaths072021 * relation2021;\n",
    "Deceases = [0, deceaseswrate2020, deceaseswrate2021]\n",
    "\n",
    "print(Deceases)\n"
   ]
  },
  {
   "cell_type": "code",
   "execution_count": 224,
   "id": "2a8f230e",
   "metadata": {},
   "outputs": [
    {
     "data": {
      "image/png": "[encoded data removed]",
      "text/plain": [
       "<Figure size 640x480 with 2 Axes>"
      ]
     },
     "metadata": {},
     "output_type": "display_data"
    }
   ],
   "source": [
    "plt.subplot(121)\n",
    "plt.plot(date, totalperyear, 'o')\n",
    "plt.title('Flights')\n",
    "plt.xlabel('Years')\n",
    "plt.ylabel('Number of flights')\n",
    "plt.yticks(np.arange(0,40000,5000))\n",
    "\n",
    "plt.subplot(122)\n",
    "plt.plot(date, Deceases, 'o')\n",
    "plt.title('Deceases in relation with total new cases')\n",
    "plt.xlabel('Years')\n",
    "plt.ylabel('Ratio')\n",
    "\n",
    "plt.subplots_adjust(right=3)"
   ]
  },
  {
   "cell_type": "markdown",
   "id": "e3dea60c",
   "metadata": {},
   "source": [
    "It is clear that the higher the deceases ratio, the lower the number of flights, which explains the partial recovery during 2021"
   ]
  },
  {
   "cell_type": "code",
   "execution_count": null,
   "id": "5b516a01",
   "metadata": {},
   "outputs": [],
   "source": []
  }
 ],
 "metadata": {
  "kernelspec": {
   "display_name": "Python 3.9.12 ('base')",
   "language": "python",
   "name": "python3"
  },
  "language_info": {
   "codemirror_mode": {
    "name": "ipython",
    "version": 3
   },
   "file_extension": ".py",
   "mimetype": "text/x-python",
   "name": "python",
   "nbconvert_exporter": "python",
   "pygments_lexer": "ipython3",
   "version": "3.9.12"
  },
  "vscode": {
   "interpreter": {
    "hash": "e3395b57ac99227b0774927d6b0c248c9264455db35d528ae0da652dff9aea52"
   }
  }
 },
 "nbformat": 4,
 "nbformat_minor": 5
}
