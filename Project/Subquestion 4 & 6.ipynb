{
 "cells": [
  {
   "cell_type": "code",
   "execution_count": 1,
   "metadata": {},
   "outputs": [
    {
     "ename": "NameError",
     "evalue": "name 'pd' is not defined",
     "output_type": "error",
     "traceback": [
      "\u001b[1;31m---------------------------------------------------------------------------\u001b[0m",
      "\u001b[1;31mNameError\u001b[0m                                 Traceback (most recent call last)",
      "\u001b[1;32m<ipython-input-1-8334c648d2e2>\u001b[0m in \u001b[0;36m<module>\u001b[1;34m\u001b[0m\n\u001b[0;32m      3\u001b[0m \u001b[1;31m# Creating a new .csv file for each airport destination\u001b[0m\u001b[1;33m\u001b[0m\u001b[1;33m\u001b[0m\u001b[0m\n\u001b[0;32m      4\u001b[0m \u001b[1;33m\u001b[0m\u001b[0m\n\u001b[1;32m----> 5\u001b[1;33m \u001b[0mROME2019\u001b[0m \u001b[1;33m=\u001b[0m \u001b[0mpd\u001b[0m\u001b[1;33m.\u001b[0m\u001b[0mread_csv\u001b[0m\u001b[1;33m(\u001b[0m\u001b[1;34m'ROME2019.csv'\u001b[0m\u001b[1;33m)\u001b[0m\u001b[1;33m\u001b[0m\u001b[0m\n\u001b[0m\u001b[0;32m      6\u001b[0m \u001b[1;31m#Year 2019\u001b[0m\u001b[1;33m\u001b[0m\u001b[1;33m\u001b[0m\u001b[0m\n\u001b[0;32m      7\u001b[0m \u001b[0mROME2019\u001b[0m \u001b[1;33m=\u001b[0m \u001b[0mpd\u001b[0m\u001b[1;33m.\u001b[0m\u001b[0mread_csv\u001b[0m\u001b[1;33m(\u001b[0m\u001b[1;34m'ROME2019.csv'\u001b[0m\u001b[1;33m)\u001b[0m\u001b[1;33m\u001b[0m\u001b[0m\n",
      "\u001b[1;31mNameError\u001b[0m: name 'pd' is not defined"
     ]
    }
   ],
   "source": [
    "'4. What impact of COVID-19 can be seen on the number of flights in 2020, in comparisson to 2019.'\n",
    "\n",
    "# Creating a new .csv file for each airport destination\n",
    "\n",
    "ROME2019 = pd.read_csv('ROME2019.csv')\n",
    "#Year 2019\n",
    "ROME2019 = pd.read_csv('ROME2019.csv')\n",
    "MILAN2019 = pd.read_csv('MILAN2019.csv')\n",
    "VENICE2019 = pd.read_csv('VENICE2019.csv')\n",
    "BOLOGNA2019 = pd.read_csv('BOLOGNA2019.csv')\n",
    "BERGAMO2019 = pd.read_csv('BERGAMO2019.csv')\n",
    "\n",
    "#Year 2020\n",
    "ROME2020= pd.read_csv('ROME2020.csv')\n",
    "MILAN2020= pd.read_csv('MILAN2020.csv')\n",
    "VENICE2020= pd.read_csv('VENICE2020.csv')\n",
    "BOLOGNA2020= pd.read_csv('BOLOGNA2020.csv')\n",
    "BERGAMO2020= pd.read_csv('BERGAMO2020.csv')\n",
    "\n",
    "#Year 2021\n",
    "ROME2021= pd.read_csv('ROME2021.csv')\n",
    "MILAN2021= pd.read_csv('MILAN2021.csv')\n",
    "VENICE2021= pd.read_csv('VENICE2021.csv')\n",
    "BOLOGNA2021= pd.read_csv('BOLOGNA2021.csv')\n",
    "BERGAMO2021= pd.read_csv('BERGAMO2021.csv')\n",
    "\n",
    "FLIGHTS2019 = len(ROME2019) + len(MILAN2019) + len(VENICE2019) + len(BOLOGNA2019) + len(BERGAMO2019)\n",
    "FLIGHTS2020 = len(ROME2020) + len(MILAN2020) + len(VENICE2020) + len(BOLOGNA2020) + len(BERGAMO2020)\n",
    "FLIGHTS2021 = len(ROME2021) + len(MILAN2021) + len(VENICE2021) + len(BOLOGNA2021) + len(BERGAMO2021)\n",
    "\n",
    "print('In July 2019, a total of ', FLIGHTS2019, 'flights arrived on the five airports in total, with 0 COVID cases')\n",
    "print('In July 2020, a total of ', FLIGHTS2020, 'flights arrived on the five airports in total, with', int(df_italy_july_2020.iloc[30, 1]-df_italy_july_2020.iloc[0, 1]), 'COVID cases')\n",
    "print('In July 2021, a total of ', FLIGHTS2021, 'flights arrived on the five airports in total, with', int(df_italy_july_2021.iloc[30, 1]-df_italy_july_2021.iloc[0, 1]), 'COVID cases')\n",
    "\n",
    "cases2020 = df_italy_july_2020.iloc[30, 1]-df_italy_july_2020.iloc[0, 1]\n",
    "cases2021 = df_italy_july_2021.iloc[30, 1]-df_italy_july_2021.iloc[0, 1]\n",
    "\n",
    "years = [2019.2, 2020.2, 2021.2]\n",
    "z = [2018.8, 2019.8, 2020.8]\n",
    "flights = [FLIGHTS2019, FLIGHTS2020, FLIGHTS2021]\n",
    "cases = [0,  df_italy_july_2020.iloc[30, 1]-df_italy_july_2020.iloc[0, 1], df_italy_july_2021.iloc[30, 1]-df_italy_july_2021.iloc[0, 1]]\n",
    "\n",
    "plt.figure(figsize=(20,10))\n",
    "plt.bar(z, flights, width = 0.4, align = 'center', label = 'Flights')\n",
    "plt.bar(years, cases, width = 0.4, align = 'center', label = 'Cases')\n",
    "plt.xlabel('year')\n",
    "plt.xticks([2019, 2020, 2021])\n",
    "plt.ylabel('Total number of flights/cases in July')\n",
    "plt.title('Total number of flights vs total number of cases')\n",
    "plt.legend()\n",
    "plt.show()"
   ]
  },
  {
   "cell_type": "code",
   "execution_count": 2,
   "metadata": {},
   "outputs": [
    {
     "ename": "NameError",
     "evalue": "name 'FLIGHTS2019' is not defined",
     "output_type": "error",
     "traceback": [
      "\u001b[1;31m---------------------------------------------------------------------------\u001b[0m",
      "\u001b[1;31mNameError\u001b[0m                                 Traceback (most recent call last)",
      "\u001b[1;32m<ipython-input-2-8a106c97969c>\u001b[0m in \u001b[0;36m<module>\u001b[1;34m\u001b[0m\n\u001b[0;32m      5\u001b[0m \u001b[0mz\u001b[0m \u001b[1;33m=\u001b[0m \u001b[1;33m[\u001b[0m\u001b[1;36m2018.7\u001b[0m\u001b[1;33m,\u001b[0m \u001b[1;36m2019.7\u001b[0m\u001b[1;33m,\u001b[0m \u001b[1;36m2020.7\u001b[0m\u001b[1;33m]\u001b[0m\u001b[1;33m\u001b[0m\u001b[0m\n\u001b[0;32m      6\u001b[0m \u001b[0my\u001b[0m \u001b[1;33m=\u001b[0m \u001b[1;33m[\u001b[0m\u001b[1;36m2019\u001b[0m\u001b[1;33m,\u001b[0m \u001b[1;36m2020\u001b[0m\u001b[1;33m,\u001b[0m \u001b[1;36m2021\u001b[0m\u001b[1;33m]\u001b[0m\u001b[1;33m\u001b[0m\u001b[0m\n\u001b[1;32m----> 7\u001b[1;33m \u001b[0mflights\u001b[0m \u001b[1;33m=\u001b[0m \u001b[1;33m[\u001b[0m\u001b[0mFLIGHTS2019\u001b[0m\u001b[1;33m,\u001b[0m \u001b[0mFLIGHTS2020\u001b[0m\u001b[1;33m,\u001b[0m \u001b[0mFLIGHTS2021\u001b[0m\u001b[1;33m]\u001b[0m\u001b[1;33m\u001b[0m\u001b[0m\n\u001b[0m\u001b[0;32m      8\u001b[0m \u001b[0mcases\u001b[0m \u001b[1;33m=\u001b[0m \u001b[1;33m[\u001b[0m\u001b[1;36m0\u001b[0m\u001b[1;33m,\u001b[0m  \u001b[0mcases2020\u001b[0m\u001b[1;33m,\u001b[0m \u001b[0mcases2021\u001b[0m\u001b[1;33m]\u001b[0m\u001b[1;33m\u001b[0m\u001b[0m\n\u001b[0;32m      9\u001b[0m \u001b[0mvaccines\u001b[0m \u001b[1;33m=\u001b[0m \u001b[1;33m[\u001b[0m\u001b[1;36m0\u001b[0m\u001b[1;33m,\u001b[0m \u001b[1;36m52733773\u001b[0m\u001b[1;33m/\u001b[0m\u001b[1;36m100\u001b[0m\u001b[1;33m,\u001b[0m \u001b[1;36m68888006\u001b[0m\u001b[1;33m/\u001b[0m\u001b[1;36m100\u001b[0m\u001b[1;33m]\u001b[0m\u001b[1;33m\u001b[0m\u001b[0m\n",
      "\u001b[1;31mNameError\u001b[0m: name 'FLIGHTS2019' is not defined"
     ]
    }
   ],
   "source": [
    "#subquestion 6: How do the number of arriving flights, COVID-cases and vaccination rate correlate?\n",
    "\n",
    "\n",
    "years = [2019.3, 2020.3, 2021.3]\n",
    "years1 = [2018.7, 2019.7, 2020.7]\n",
    "years2 = [2019, 2020, 2021]\n",
    "flights = [FLIGHTS2019, FLIGHTS2020, FLIGHTS2021]\n",
    "cases = [0,  cases2020, cases2021]\n",
    "vaccines = [0, 52733773/100, 68888006/100]\n",
    "\n",
    "plt.figure(figsize=(20,10))\n",
    "plt.bar(years1, flights, width = 0.2, align = 'center', label = 'Flights')\n",
    "plt.bar(years2, cases, width = 0.2, align = 'center', label = 'Cases')\n",
    "plt.bar(years, vaccines, width = 0.2, align = 'center', label = 'Vaccines')\n",
    "plt.xlabel('year')\n",
    "plt.xticks([2019, 2020, 2021])\n",
    "plt.ylabel('Total number of flights/cases/vaccines in July')\n",
    "plt.title('Flights and cases vs vaccination set *10^-2')\n",
    "plt.legend()\n",
    "plt.show()"
   ]
  },
  {
   "cell_type": "code",
   "execution_count": null,
   "metadata": {},
   "outputs": [],
   "source": []
  }
 ],
 "metadata": {
  "kernelspec": {
   "display_name": "Python 3",
   "language": "python",
   "name": "python3"
  },
  "language_info": {
   "codemirror_mode": {
    "name": "ipython",
    "version": 3
   },
   "file_extension": ".py",
   "mimetype": "text/x-python",
   "name": "python",
   "nbconvert_exporter": "python",
   "pygments_lexer": "ipython3",
   "version": "3.6.5"
  }
 },
 "nbformat": 4,
 "nbformat_minor": 2
}
