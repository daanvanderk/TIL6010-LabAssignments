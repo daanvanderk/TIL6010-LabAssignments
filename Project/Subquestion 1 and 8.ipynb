{
 "cells": [
  {
   "cell_type": "code",
   "execution_count": 1,
   "metadata": {},
   "outputs": [
    {
     "data": {
      "application/vnd.plotly.v1+json": {
       "config": {
        "plotlyServerURL": "https://plot.ly"
       },
       "data": [
        {
         "alignmentgroup": "True",
         "hovertemplate": "x=%{x}<br>y=%{y}<extra></extra>",
         "legendgroup": "",
         "marker": {
          "color": "#636efa",
          "pattern": {
           "shape": ""
          }
         },
         "name": "",
         "offsetgroup": "",
         "orientation": "v",
         "showlegend": false,
         "text": [
          14007,
          9364,
          4316,
          4015,
          2877,
          926,
          843,
          689,
          642,
          642,
          616,
          546,
          546,
          518,
          505,
          467,
          458,
          448,
          372,
          348,
          341,
          330,
          312,
          310,
          301,
          301,
          285,
          277,
          251,
          249,
          246,
          234,
          229,
          217,
          209,
          203,
          196,
          191,
          185,
          177,
          174,
          173,
          172,
          171,
          162,
          155,
          154,
          147,
          139,
          139,
          138,
          137,
          135,
          134,
          126,
          125,
          125,
          124,
          120,
          118,
          117,
          117,
          107,
          105,
          105,
          103,
          99,
          96,
          96,
          90,
          85,
          85,
          84,
          83,
          79,
          78,
          76,
          72,
          72,
          72,
          71,
          70,
          70,
          70,
          69,
          68,
          67,
          66,
          66,
          63,
          62,
          62,
          61,
          60,
          59,
          57,
          55,
          53,
          52,
          50,
          50,
          49,
          49,
          48,
          46,
          45,
          44,
          44,
          43,
          41,
          40,
          39,
          38,
          36,
          35,
          33,
          33,
          30,
          28,
          27,
          27,
          27,
          26,
          26,
          26,
          23,
          23,
          22,
          22,
          21,
          20,
          20,
          20,
          19,
          18,
          18,
          18,
          17,
          17,
          16,
          16,
          15,
          15,
          14,
          13,
          13,
          12,
          12,
          12,
          12,
          12,
          11,
          11,
          11,
          10,
          10,
          10,
          10,
          10,
          10,
          9,
          9,
          9,
          9,
          9,
          9,
          9,
          9,
          8,
          8,
          8,
          8,
          7,
          7,
          7,
          7,
          7,
          6,
          6,
          6,
          6,
          6,
          6,
          6,
          6,
          6,
          5,
          5,
          5,
          5,
          5,
          5,
          5,
          5,
          5,
          5,
          5,
          4,
          4,
          4,
          4,
          4,
          4,
          4,
          4,
          4,
          3,
          3,
          3,
          3,
          3,
          3,
          3,
          3,
          3,
          3,
          3,
          3,
          3,
          3,
          3,
          3,
          2,
          2,
          2,
          2,
          2,
          2,
          2,
          2,
          2,
          2,
          2,
          2,
          2,
          2,
          2,
          2,
          2,
          2,
          2,
          2,
          2,
          2,
          2,
          2,
          2,
          2,
          2,
          2,
          2,
          2,
          2,
          2,
          2,
          2,
          2,
          2,
          1,
          1,
          1,
          1,
          1,
          1,
          1,
          1,
          1,
          1,
          1,
          1,
          1,
          1,
          1,
          1,
          1,
          1,
          1,
          1,
          1,
          1,
          1,
          1,
          1,
          1,
          1,
          1,
          1,
          1,
          1,
          1,
          1,
          1,
          1,
          1,
          1,
          1,
          1,
          1,
          1,
          1,
          1,
          1,
          1,
          1,
          1,
          1,
          1,
          1,
          1,
          1,
          1,
          1,
          1,
          1,
          1,
          1,
          1,
          1,
          1,
          1,
          1,
          1,
          1,
          1,
          1,
          1,
          1,
          1,
          1,
          1,
          1,
          1,
          1,
          1,
          1,
          1,
          1,
          1,
          1,
          1
         ],
         "textposition": "auto",
         "type": "bar",
         "x": [
          "LIRF",
          "LIMC",
          "LIME",
          "LIPZ",
          "LIPE",
          "LFPG",
          "LEMD",
          "EDDF",
          "LEBL",
          "EHAM",
          "EDDM",
          "LIEE",
          "EGKK",
          "EGLL",
          "LIBD",
          "LOWW",
          "UUEE",
          "LIML",
          "EBBR",
          "EKCH",
          "LICJ",
          "KJFK",
          "LPPT",
          "LSZH",
          "EGSS",
          "LFPO",
          "LGAV",
          "EDDK",
          "LIEO",
          "LIEA",
          "EIDW",
          "OTHH",
          "OMDB",
          "LLBG",
          "LICA",
          "LHBP",
          "LTFJ",
          "EDDT",
          "EDDL",
          "EFHK",
          "LSGG",
          "LEMG",
          "CYYZ",
          "LIMJ",
          "ELLX",
          "LIED",
          "ENGM",
          "EGCC",
          "EPWA",
          "EDDH",
          "EGGW",
          "LIPX",
          "LIMF",
          "LGRP",
          "EDDB",
          "UKBB",
          "ESSA",
          "EDDS",
          "KORD",
          "ULLI",
          "LIPQ",
          "LKPR",
          "SBGR",
          "EGGD",
          "LROP",
          "VHHH",
          "LEAL",
          "EDDP",
          "LEZL",
          "EBCI",
          "LPAR",
          "KATL",
          "LYBE",
          "LFBO",
          "LGIR",
          "RKSI",
          "EGPH",
          "UUWW",
          "UKKK",
          "EVRA",
          "LFLL",
          "LKKL",
          "LIBR",
          "KLDJ",
          "CYUL",
          "KLAX",
          "KPHL",
          "LFML",
          "LRBS",
          "LSZM",
          "LGKN",
          "SAEZ",
          "OLBA",
          "LGKO",
          "EHEH",
          "LFBD",
          "LL59",
          "VIDP",
          "KIAD",
          "LFOB",
          "LGMK",
          "KBOS",
          "LGSR",
          "EGNX",
          "LFNR",
          "KEWR",
          "VTBS",
          "EPMO",
          "LIRA",
          "LILG",
          "EBMB",
          "EGLC",
          "EBLG",
          "EDAM",
          "UUDD",
          "EGMC",
          "KDFW",
          "OMAA",
          "FAOR",
          "ESKN",
          "LZIB",
          "EGBB",
          "GOBD",
          "EDDN",
          "LFPB",
          "GA95",
          "OERK",
          "LFRS",
          "EPGD",
          "EGGP",
          "BIKF",
          "LDZA",
          "EPKT",
          "VABB",
          "LEZG",
          "UUBW",
          "LDSR",
          "EGPF",
          "EGAA",
          "LPFR",
          "EDFH",
          "KSFO",
          "DAAG",
          "RCTP",
          "LFMN",
          "KOAK",
          "LTBA",
          "EGNP",
          "LIBC",
          "EETN",
          "LMML",
          "EDDW",
          "EHRD",
          "LBWN",
          "EGKB",
          "ZGSZ",
          "ESGG",
          "EGNT",
          "RPLS",
          "LIPL",
          "EPPO",
          "GMMN",
          "EFLP",
          "RPLL",
          "LKTB",
          "SBGL",
          "EIKN",
          "EPWR",
          "LOWS",
          "ENUL",
          "K06C",
          "EICK",
          "LIPV",
          "LILR",
          "EDDC",
          "EGLF",
          "LTAC",
          "OBBI",
          "OEDF",
          "MMMX",
          "LFMV",
          "EGPJ",
          "WMKK",
          "LKBU",
          "KCLT",
          "ENBR",
          "89GE",
          "LCPH",
          "LGSM",
          "LILC",
          "EDSB",
          "VOMM",
          "LIPN",
          "EINN",
          "LKVO",
          "GMTT",
          "ENKJ",
          "LIRZ",
          "ENZV",
          "LIPH",
          "LBSF",
          "LEIB",
          "LJLJ",
          "LOWK",
          "CSP6",
          "LDPL",
          "LDSP",
          "EHBK",
          "LFKF",
          "LIMZ",
          "FACT",
          "EDCU",
          "LSZA",
          "LIPM",
          "LIRU",
          "LIRP",
          "LIPO",
          "YMML",
          "LILB",
          "LE85",
          "GBYD",
          "OTBD",
          "ESKX",
          "EPKK",
          "LIRE",
          "EGBJ",
          "EGTC",
          "OMSJ",
          "EDNY",
          "KOPF",
          "LGSA",
          "LKSN",
          "EDJA",
          "LFLY",
          "LRCV",
          "EKBI",
          "OETH",
          "EDTM",
          "51GA",
          "LLSD",
          "KTEB",
          "KIAH",
          "LIAR",
          "LSZR",
          "EDVK",
          "LBWV",
          "LFKJ",
          "GMMT",
          "YBBN",
          "GVAC",
          "LIMB",
          "ETNL",
          "YSSY",
          "CMN3",
          "LOWL",
          "LILQ",
          "LEMH",
          "VNKT",
          "EGNR",
          "LFFE",
          "VAJJ",
          "LEPA",
          "LFHC",
          "EDRY",
          "LIAA",
          "EPMR",
          "OMAD",
          "LEGE",
          "EFSA",
          "RJFF",
          "EDFE",
          "RI07",
          "LFMA",
          "LFST",
          "LEVC",
          "KSJC",
          "GA94",
          "LILN",
          "LIMG",
          "EIWT",
          "LTFE",
          "LIRV",
          "EDLV",
          "LFBF",
          "LIPI",
          "VMMC",
          "EDDR",
          "EDDE",
          "DTTA",
          "LPBJ",
          "EBKT",
          "EGNM",
          "EDAZ",
          "RJTT",
          "ETOU",
          "EDLW",
          "KMDW",
          "LIMP",
          "EDLP",
          "LIPB",
          "EDLE",
          "NJ25",
          "LIPS",
          "LFRM",
          "LDDU",
          "LFQA",
          "EDQY",
          "LFLP",
          "GQNO",
          "LSMD",
          "ETHN",
          "LEJR",
          "EGHL",
          "LIDU",
          "LFPZ",
          "UMGG",
          "EBMO",
          "EDXW",
          "LFFQ",
          "LFPV",
          "LFAV",
          "LFPN",
          "LETO",
          "URWA",
          "EBAW",
          "LILE",
          "LFFW",
          "LPCS",
          "ZUCK",
          "LSTR",
          "LFOV",
          "KBEH",
          "LIQW",
          "YKBN",
          "LESL",
          "LFLB",
          "LFRC",
          "LILV",
          "EPKS",
          "LILI"
         ],
         "xaxis": "x",
         "y": [
          14007,
          9364,
          4316,
          4015,
          2877,
          926,
          843,
          689,
          642,
          642,
          616,
          546,
          546,
          518,
          505,
          467,
          458,
          448,
          372,
          348,
          341,
          330,
          312,
          310,
          301,
          301,
          285,
          277,
          251,
          249,
          246,
          234,
          229,
          217,
          209,
          203,
          196,
          191,
          185,
          177,
          174,
          173,
          172,
          171,
          162,
          155,
          154,
          147,
          139,
          139,
          138,
          137,
          135,
          134,
          126,
          125,
          125,
          124,
          120,
          118,
          117,
          117,
          107,
          105,
          105,
          103,
          99,
          96,
          96,
          90,
          85,
          85,
          84,
          83,
          79,
          78,
          76,
          72,
          72,
          72,
          71,
          70,
          70,
          70,
          69,
          68,
          67,
          66,
          66,
          63,
          62,
          62,
          61,
          60,
          59,
          57,
          55,
          53,
          52,
          50,
          50,
          49,
          49,
          48,
          46,
          45,
          44,
          44,
          43,
          41,
          40,
          39,
          38,
          36,
          35,
          33,
          33,
          30,
          28,
          27,
          27,
          27,
          26,
          26,
          26,
          23,
          23,
          22,
          22,
          21,
          20,
          20,
          20,
          19,
          18,
          18,
          18,
          17,
          17,
          16,
          16,
          15,
          15,
          14,
          13,
          13,
          12,
          12,
          12,
          12,
          12,
          11,
          11,
          11,
          10,
          10,
          10,
          10,
          10,
          10,
          9,
          9,
          9,
          9,
          9,
          9,
          9,
          9,
          8,
          8,
          8,
          8,
          7,
          7,
          7,
          7,
          7,
          6,
          6,
          6,
          6,
          6,
          6,
          6,
          6,
          6,
          5,
          5,
          5,
          5,
          5,
          5,
          5,
          5,
          5,
          5,
          5,
          4,
          4,
          4,
          4,
          4,
          4,
          4,
          4,
          4,
          3,
          3,
          3,
          3,
          3,
          3,
          3,
          3,
          3,
          3,
          3,
          3,
          3,
          3,
          3,
          3,
          2,
          2,
          2,
          2,
          2,
          2,
          2,
          2,
          2,
          2,
          2,
          2,
          2,
          2,
          2,
          2,
          2,
          2,
          2,
          2,
          2,
          2,
          2,
          2,
          2,
          2,
          2,
          2,
          2,
          2,
          2,
          2,
          2,
          2,
          2,
          2,
          1,
          1,
          1,
          1,
          1,
          1,
          1,
          1,
          1,
          1,
          1,
          1,
          1,
          1,
          1,
          1,
          1,
          1,
          1,
          1,
          1,
          1,
          1,
          1,
          1,
          1,
          1,
          1,
          1,
          1,
          1,
          1,
          1,
          1,
          1,
          1,
          1,
          1,
          1,
          1,
          1,
          1,
          1,
          1,
          1,
          1,
          1,
          1,
          1,
          1,
          1,
          1,
          1,
          1,
          1,
          1,
          1,
          1,
          1,
          1,
          1,
          1,
          1,
          1,
          1,
          1,
          1,
          1,
          1,
          1,
          1,
          1,
          1,
          1,
          1,
          1,
          1,
          1,
          1,
          1,
          1,
          1
         ],
         "yaxis": "y"
        }
       ],
       "layout": {
        "barmode": "relative",
        "legend": {
         "tracegroupgap": 0
        },
        "template": {
         "data": {
          "bar": [
           {
            "error_x": {
             "color": "#2a3f5f"
            },
            "error_y": {
             "color": "#2a3f5f"
            },
            "marker": {
             "line": {
              "color": "#E5ECF6",
              "width": 0.5
             },
             "pattern": {
              "fillmode": "overlay",
              "size": 10,
              "solidity": 0.2
             }
            },
            "type": "bar"
           }
          ],
          "barpolar": [
           {
            "marker": {
             "line": {
              "color": "#E5ECF6",
              "width": 0.5
             },
             "pattern": {
              "fillmode": "overlay",
              "size": 10,
              "solidity": 0.2
             }
            },
            "type": "barpolar"
           }
          ],
          "carpet": [
           {
            "aaxis": {
             "endlinecolor": "#2a3f5f",
             "gridcolor": "white",
             "linecolor": "white",
             "minorgridcolor": "white",
             "startlinecolor": "#2a3f5f"
            },
            "baxis": {
             "endlinecolor": "#2a3f5f",
             "gridcolor": "white",
             "linecolor": "white",
             "minorgridcolor": "white",
             "startlinecolor": "#2a3f5f"
            },
            "type": "carpet"
           }
          ],
          "choropleth": [
           {
            "colorbar": {
             "outlinewidth": 0,
             "ticks": ""
            },
            "type": "choropleth"
           }
          ],
          "contour": [
           {
            "colorbar": {
             "outlinewidth": 0,
             "ticks": ""
            },
            "colorscale": [
             [
              0,
              "#0d0887"
             ],
             [
              0.1111111111111111,
              "#46039f"
             ],
             [
              0.2222222222222222,
              "#7201a8"
             ],
             [
              0.3333333333333333,
              "#9c179e"
             ],
             [
              0.4444444444444444,
              "#bd3786"
             ],
             [
              0.5555555555555556,
              "#d8576b"
             ],
             [
              0.6666666666666666,
              "#ed7953"
             ],
             [
              0.7777777777777778,
              "#fb9f3a"
             ],
             [
              0.8888888888888888,
              "#fdca26"
             ],
             [
              1,
              "#f0f921"
             ]
            ],
            "type": "contour"
           }
          ],
          "contourcarpet": [
           {
            "colorbar": {
             "outlinewidth": 0,
             "ticks": ""
            },
            "type": "contourcarpet"
           }
          ],
          "heatmap": [
           {
            "colorbar": {
             "outlinewidth": 0,
             "ticks": ""
            },
            "colorscale": [
             [
              0,
              "#0d0887"
             ],
             [
              0.1111111111111111,
              "#46039f"
             ],
             [
              0.2222222222222222,
              "#7201a8"
             ],
             [
              0.3333333333333333,
              "#9c179e"
             ],
             [
              0.4444444444444444,
              "#bd3786"
             ],
             [
              0.5555555555555556,
              "#d8576b"
             ],
             [
              0.6666666666666666,
              "#ed7953"
             ],
             [
              0.7777777777777778,
              "#fb9f3a"
             ],
             [
              0.8888888888888888,
              "#fdca26"
             ],
             [
              1,
              "#f0f921"
             ]
            ],
            "type": "heatmap"
           }
          ],
          "heatmapgl": [
           {
            "colorbar": {
             "outlinewidth": 0,
             "ticks": ""
            },
            "colorscale": [
             [
              0,
              "#0d0887"
             ],
             [
              0.1111111111111111,
              "#46039f"
             ],
             [
              0.2222222222222222,
              "#7201a8"
             ],
             [
              0.3333333333333333,
              "#9c179e"
             ],
             [
              0.4444444444444444,
              "#bd3786"
             ],
             [
              0.5555555555555556,
              "#d8576b"
             ],
             [
              0.6666666666666666,
              "#ed7953"
             ],
             [
              0.7777777777777778,
              "#fb9f3a"
             ],
             [
              0.8888888888888888,
              "#fdca26"
             ],
             [
              1,
              "#f0f921"
             ]
            ],
            "type": "heatmapgl"
           }
          ],
          "histogram": [
           {
            "marker": {
             "pattern": {
              "fillmode": "overlay",
              "size": 10,
              "solidity": 0.2
             }
            },
            "type": "histogram"
           }
          ],
          "histogram2d": [
           {
            "colorbar": {
             "outlinewidth": 0,
             "ticks": ""
            },
            "colorscale": [
             [
              0,
              "#0d0887"
             ],
             [
              0.1111111111111111,
              "#46039f"
             ],
             [
              0.2222222222222222,
              "#7201a8"
             ],
             [
              0.3333333333333333,
              "#9c179e"
             ],
             [
              0.4444444444444444,
              "#bd3786"
             ],
             [
              0.5555555555555556,
              "#d8576b"
             ],
             [
              0.6666666666666666,
              "#ed7953"
             ],
             [
              0.7777777777777778,
              "#fb9f3a"
             ],
             [
              0.8888888888888888,
              "#fdca26"
             ],
             [
              1,
              "#f0f921"
             ]
            ],
            "type": "histogram2d"
           }
          ],
          "histogram2dcontour": [
           {
            "colorbar": {
             "outlinewidth": 0,
             "ticks": ""
            },
            "colorscale": [
             [
              0,
              "#0d0887"
             ],
             [
              0.1111111111111111,
              "#46039f"
             ],
             [
              0.2222222222222222,
              "#7201a8"
             ],
             [
              0.3333333333333333,
              "#9c179e"
             ],
             [
              0.4444444444444444,
              "#bd3786"
             ],
             [
              0.5555555555555556,
              "#d8576b"
             ],
             [
              0.6666666666666666,
              "#ed7953"
             ],
             [
              0.7777777777777778,
              "#fb9f3a"
             ],
             [
              0.8888888888888888,
              "#fdca26"
             ],
             [
              1,
              "#f0f921"
             ]
            ],
            "type": "histogram2dcontour"
           }
          ],
          "mesh3d": [
           {
            "colorbar": {
             "outlinewidth": 0,
             "ticks": ""
            },
            "type": "mesh3d"
           }
          ],
          "parcoords": [
           {
            "line": {
             "colorbar": {
              "outlinewidth": 0,
              "ticks": ""
             }
            },
            "type": "parcoords"
           }
          ],
          "pie": [
           {
            "automargin": true,
            "type": "pie"
           }
          ],
          "scatter": [
           {
            "fillpattern": {
             "fillmode": "overlay",
             "size": 10,
             "solidity": 0.2
            },
            "type": "scatter"
           }
          ],
          "scatter3d": [
           {
            "line": {
             "colorbar": {
              "outlinewidth": 0,
              "ticks": ""
             }
            },
            "marker": {
             "colorbar": {
              "outlinewidth": 0,
              "ticks": ""
             }
            },
            "type": "scatter3d"
           }
          ],
          "scattercarpet": [
           {
            "marker": {
             "colorbar": {
              "outlinewidth": 0,
              "ticks": ""
             }
            },
            "type": "scattercarpet"
           }
          ],
          "scattergeo": [
           {
            "marker": {
             "colorbar": {
              "outlinewidth": 0,
              "ticks": ""
             }
            },
            "type": "scattergeo"
           }
          ],
          "scattergl": [
           {
            "marker": {
             "colorbar": {
              "outlinewidth": 0,
              "ticks": ""
             }
            },
            "type": "scattergl"
           }
          ],
          "scattermapbox": [
           {
            "marker": {
             "colorbar": {
              "outlinewidth": 0,
              "ticks": ""
             }
            },
            "type": "scattermapbox"
           }
          ],
          "scatterpolar": [
           {
            "marker": {
             "colorbar": {
              "outlinewidth": 0,
              "ticks": ""
             }
            },
            "type": "scatterpolar"
           }
          ],
          "scatterpolargl": [
           {
            "marker": {
             "colorbar": {
              "outlinewidth": 0,
              "ticks": ""
             }
            },
            "type": "scatterpolargl"
           }
          ],
          "scatterternary": [
           {
            "marker": {
             "colorbar": {
              "outlinewidth": 0,
              "ticks": ""
             }
            },
            "type": "scatterternary"
           }
          ],
          "surface": [
           {
            "colorbar": {
             "outlinewidth": 0,
             "ticks": ""
            },
            "colorscale": [
             [
              0,
              "#0d0887"
             ],
             [
              0.1111111111111111,
              "#46039f"
             ],
             [
              0.2222222222222222,
              "#7201a8"
             ],
             [
              0.3333333333333333,
              "#9c179e"
             ],
             [
              0.4444444444444444,
              "#bd3786"
             ],
             [
              0.5555555555555556,
              "#d8576b"
             ],
             [
              0.6666666666666666,
              "#ed7953"
             ],
             [
              0.7777777777777778,
              "#fb9f3a"
             ],
             [
              0.8888888888888888,
              "#fdca26"
             ],
             [
              1,
              "#f0f921"
             ]
            ],
            "type": "surface"
           }
          ],
          "table": [
           {
            "cells": {
             "fill": {
              "color": "#EBF0F8"
             },
             "line": {
              "color": "white"
             }
            },
            "header": {
             "fill": {
              "color": "#C8D4E3"
             },
             "line": {
              "color": "white"
             }
            },
            "type": "table"
           }
          ]
         },
         "layout": {
          "annotationdefaults": {
           "arrowcolor": "#2a3f5f",
           "arrowhead": 0,
           "arrowwidth": 1
          },
          "autotypenumbers": "strict",
          "coloraxis": {
           "colorbar": {
            "outlinewidth": 0,
            "ticks": ""
           }
          },
          "colorscale": {
           "diverging": [
            [
             0,
             "#8e0152"
            ],
            [
             0.1,
             "#c51b7d"
            ],
            [
             0.2,
             "#de77ae"
            ],
            [
             0.3,
             "#f1b6da"
            ],
            [
             0.4,
             "#fde0ef"
            ],
            [
             0.5,
             "#f7f7f7"
            ],
            [
             0.6,
             "#e6f5d0"
            ],
            [
             0.7,
             "#b8e186"
            ],
            [
             0.8,
             "#7fbc41"
            ],
            [
             0.9,
             "#4d9221"
            ],
            [
             1,
             "#276419"
            ]
           ],
           "sequential": [
            [
             0,
             "#0d0887"
            ],
            [
             0.1111111111111111,
             "#46039f"
            ],
            [
             0.2222222222222222,
             "#7201a8"
            ],
            [
             0.3333333333333333,
             "#9c179e"
            ],
            [
             0.4444444444444444,
             "#bd3786"
            ],
            [
             0.5555555555555556,
             "#d8576b"
            ],
            [
             0.6666666666666666,
             "#ed7953"
            ],
            [
             0.7777777777777778,
             "#fb9f3a"
            ],
            [
             0.8888888888888888,
             "#fdca26"
            ],
            [
             1,
             "#f0f921"
            ]
           ],
           "sequentialminus": [
            [
             0,
             "#0d0887"
            ],
            [
             0.1111111111111111,
             "#46039f"
            ],
            [
             0.2222222222222222,
             "#7201a8"
            ],
            [
             0.3333333333333333,
             "#9c179e"
            ],
            [
             0.4444444444444444,
             "#bd3786"
            ],
            [
             0.5555555555555556,
             "#d8576b"
            ],
            [
             0.6666666666666666,
             "#ed7953"
            ],
            [
             0.7777777777777778,
             "#fb9f3a"
            ],
            [
             0.8888888888888888,
             "#fdca26"
            ],
            [
             1,
             "#f0f921"
            ]
           ]
          },
          "colorway": [
           "#636efa",
           "#EF553B",
           "#00cc96",
           "#ab63fa",
           "#FFA15A",
           "#19d3f3",
           "#FF6692",
           "#B6E880",
           "#FF97FF",
           "#FECB52"
          ],
          "font": {
           "color": "#2a3f5f"
          },
          "geo": {
           "bgcolor": "white",
           "lakecolor": "white",
           "landcolor": "#E5ECF6",
           "showlakes": true,
           "showland": true,
           "subunitcolor": "white"
          },
          "hoverlabel": {
           "align": "left"
          },
          "hovermode": "closest",
          "mapbox": {
           "style": "light"
          },
          "paper_bgcolor": "white",
          "plot_bgcolor": "#E5ECF6",
          "polar": {
           "angularaxis": {
            "gridcolor": "white",
            "linecolor": "white",
            "ticks": ""
           },
           "bgcolor": "#E5ECF6",
           "radialaxis": {
            "gridcolor": "white",
            "linecolor": "white",
            "ticks": ""
           }
          },
          "scene": {
           "xaxis": {
            "backgroundcolor": "#E5ECF6",
            "gridcolor": "white",
            "gridwidth": 2,
            "linecolor": "white",
            "showbackground": true,
            "ticks": "",
            "zerolinecolor": "white"
           },
           "yaxis": {
            "backgroundcolor": "#E5ECF6",
            "gridcolor": "white",
            "gridwidth": 2,
            "linecolor": "white",
            "showbackground": true,
            "ticks": "",
            "zerolinecolor": "white"
           },
           "zaxis": {
            "backgroundcolor": "#E5ECF6",
            "gridcolor": "white",
            "gridwidth": 2,
            "linecolor": "white",
            "showbackground": true,
            "ticks": "",
            "zerolinecolor": "white"
           }
          },
          "shapedefaults": {
           "line": {
            "color": "#2a3f5f"
           }
          },
          "ternary": {
           "aaxis": {
            "gridcolor": "white",
            "linecolor": "white",
            "ticks": ""
           },
           "baxis": {
            "gridcolor": "white",
            "linecolor": "white",
            "ticks": ""
           },
           "bgcolor": "#E5ECF6",
           "caxis": {
            "gridcolor": "white",
            "linecolor": "white",
            "ticks": ""
           }
          },
          "title": {
           "x": 0.05
          },
          "xaxis": {
           "automargin": true,
           "gridcolor": "white",
           "linecolor": "white",
           "ticks": "",
           "title": {
            "standoff": 15
           },
           "zerolinecolor": "white",
           "zerolinewidth": 2
          },
          "yaxis": {
           "automargin": true,
           "gridcolor": "white",
           "linecolor": "white",
           "ticks": "",
           "title": {
            "standoff": 15
           },
           "zerolinecolor": "white",
           "zerolinewidth": 2
          }
         }
        },
        "title": {
         "text": "Amount of flights per airport Amount of flights per airport in July 2019 as origin"
        },
        "xaxis": {
         "anchor": "y",
         "domain": [
          0,
          1
         ],
         "range": [
          -0.5,
          4.5
         ],
         "title": {
          "text": "Airport"
         }
        },
        "yaxis": {
         "anchor": "x",
         "domain": [
          0,
          1
         ],
         "title": {
          "text": "Amount of flights"
         }
        }
       }
      }
     },
     "metadata": {},
     "output_type": "display_data"
    },
    {
     "data": {
      "application/vnd.plotly.v1+json": {
       "config": {
        "plotlyServerURL": "https://plot.ly"
       },
       "data": [
        {
         "alignmentgroup": "True",
         "hovertemplate": "x=%{x}<br>y=%{y}<extra></extra>",
         "legendgroup": "",
         "marker": {
          "color": "#636efa",
          "pattern": {
           "shape": ""
          }
         },
         "name": "",
         "offsetgroup": "",
         "orientation": "v",
         "showlegend": false,
         "text": [
          14491,
          8175,
          4387,
          3284,
          2580,
          1034,
          967,
          890,
          679,
          584,
          578,
          572,
          537,
          524,
          495,
          485,
          443,
          412,
          388,
          385,
          384,
          362,
          356,
          348,
          342,
          333,
          328,
          328,
          320,
          314,
          309,
          306,
          267,
          266,
          245,
          243,
          243,
          215,
          214,
          205,
          200,
          195,
          180,
          177,
          175,
          167,
          166,
          162,
          155,
          153,
          152,
          149,
          141,
          139,
          136,
          133,
          133,
          131,
          129,
          126,
          125,
          124,
          124,
          119,
          119,
          118,
          116,
          113,
          109,
          105,
          105,
          102,
          102,
          101,
          101,
          97,
          95,
          94,
          92,
          91,
          90,
          89,
          87,
          83,
          83,
          80,
          79,
          77,
          76,
          76,
          74,
          74,
          68,
          68,
          65,
          64,
          64,
          62,
          60,
          59,
          59,
          53,
          53,
          51,
          51,
          49,
          49,
          48,
          47,
          47,
          47,
          47,
          44,
          41,
          38,
          38,
          38,
          37,
          36,
          36,
          36,
          35,
          34,
          34,
          33,
          32,
          31,
          31,
          31,
          30,
          29,
          28,
          27,
          27,
          27,
          26,
          25,
          25,
          23,
          23,
          23,
          23,
          21,
          21,
          21,
          21,
          20,
          19,
          19,
          19,
          19,
          19,
          18,
          18,
          18,
          18,
          18,
          18,
          17,
          17,
          17,
          16,
          16,
          15,
          15,
          15,
          14,
          14,
          14,
          14,
          14,
          13,
          13,
          13,
          13,
          12,
          12,
          12,
          12,
          12,
          11,
          11,
          11,
          11,
          11,
          10,
          10,
          10,
          10,
          10,
          10,
          9,
          9,
          9,
          9,
          9,
          8,
          8,
          8,
          8,
          8,
          8,
          7,
          7,
          7,
          7,
          7,
          7,
          6,
          6,
          6,
          6,
          6,
          6,
          6,
          6,
          6,
          5,
          5,
          5,
          5,
          5,
          5,
          5,
          5,
          5,
          5,
          5,
          5,
          5,
          5,
          5,
          5,
          4,
          4,
          4,
          4,
          4,
          4,
          4,
          4,
          4,
          4,
          4,
          4,
          4,
          3,
          3,
          3,
          3,
          3,
          3,
          3,
          3,
          3,
          3,
          3,
          3,
          3,
          3,
          3,
          3,
          3,
          3,
          3,
          3,
          3,
          2,
          2,
          2,
          2,
          2,
          2,
          2,
          2,
          2,
          2,
          2,
          2,
          2,
          2,
          2,
          2,
          2,
          2,
          2,
          2,
          2,
          2,
          2,
          2,
          2,
          2,
          2,
          2,
          2,
          2,
          2,
          2,
          2,
          2,
          2,
          1,
          1,
          1,
          1,
          1,
          1,
          1,
          1,
          1,
          1,
          1,
          1,
          1,
          1,
          1,
          1,
          1,
          1,
          1,
          1,
          1,
          1,
          1,
          1,
          1,
          1,
          1,
          1,
          1,
          1,
          1,
          1,
          1,
          1,
          1,
          1,
          1,
          1,
          1,
          1,
          1,
          1,
          1,
          1,
          1,
          1,
          1,
          1,
          1,
          1,
          1,
          1,
          1,
          1,
          1,
          1,
          1,
          1,
          1,
          1,
          1,
          1,
          1,
          1,
          1,
          1,
          1,
          1,
          1,
          1,
          1,
          1,
          1,
          1,
          1,
          1,
          1,
          1,
          1,
          1,
          1,
          1,
          1,
          1,
          1,
          1,
          1,
          1,
          1,
          1,
          1,
          1,
          1,
          1,
          1,
          1,
          1,
          1,
          1,
          1,
          1,
          1,
          1,
          1,
          1,
          1,
          1,
          1,
          1,
          1,
          1,
          1,
          1
         ],
         "textposition": "auto",
         "type": "bar",
         "x": [
          "LIRF",
          "LIMC",
          "LIME",
          "LIPZ",
          "LIPE",
          "LFPG",
          "LEBL",
          "LEMD",
          "EDDM",
          "EHAM",
          "EDDF",
          "EGLL",
          "LIBD",
          "EGKK",
          "UUEE",
          "LOWW",
          "LIML",
          "LIEE",
          "LIBR",
          "LGAV",
          "LTBW",
          "EKCH",
          "EGSS",
          "LSZH",
          "EBMB",
          "KJFK",
          "LPPT",
          "LIED",
          "LICA",
          "LICJ",
          "LIEO",
          "EDDK",
          "LLBG",
          "LIEA",
          "OTHH",
          "OMDB",
          "EIDW",
          "LTFJ",
          "EDDT",
          "EDDL",
          "LHBP",
          "EFHK",
          "CYYZ",
          "LSGG",
          "LIMJ",
          "EPWA",
          "ELLX",
          "ENGM",
          "EGGW",
          "EGCC",
          "EDDH",
          "LICP",
          "LIPX",
          "EDDB",
          "LGRP",
          "UKBB",
          "LKVO",
          "EDDS",
          "EDCT",
          "LIMA",
          "ESSA",
          "LEMG",
          "LFPV",
          "LIPQ",
          "EGGD",
          "LFPO",
          "RKSI",
          "LIMN",
          "SBGR",
          "LROP",
          "EGPH",
          "LGMK",
          "LPAR",
          "EGKR",
          "EBBR",
          "KATL",
          "LEZL",
          "LGIR",
          "EBCI",
          "KEWR",
          "LGSR",
          "KORD",
          "LFBO",
          "EVRA",
          "UUWW",
          "LEAL",
          "LFML",
          "LICR",
          "LFLL",
          "UKKK",
          "VHHH",
          "KPHL",
          "LGKO",
          "LSZM",
          "ULLI",
          "LFBD",
          "EHEH",
          "EGNX",
          "CYHU",
          "ULLP",
          "SAEZ",
          "VIDP",
          "KOPF",
          "KIAD",
          "LFPL",
          "EGLC",
          "KLAX",
          "LFPC",
          "KBOS",
          "OMAA",
          "EPMO",
          "LYBE",
          "LDSR",
          "VTBS",
          "LYBT",
          "EGMC",
          "LIRA",
          "K06C",
          "LFPB",
          "LIPM",
          "LMML",
          "LKKL",
          "UUDD",
          "LZIB",
          "EDAM",
          "EDDV",
          "KDFW",
          "LDZA",
          "EBLG",
          "LLSD",
          "LLHZ",
          "LKPR",
          "EGGP",
          "LFMY",
          "EGBB",
          "EDDN",
          "OLBA",
          "OERK",
          "ENKJ",
          "EPGD",
          "LIPV",
          "BIKF",
          "KLDJ",
          "LEMH",
          "LFFI",
          "LPFR",
          "FAOR",
          "EIWT",
          "LFPN",
          "LIDC",
          "ESKX",
          "EGPF",
          "LGKN",
          "UUBW",
          "LFMN",
          "LILG",
          "GOBD",
          "LEZG",
          "LKHV",
          "KSFO",
          "EGAC",
          "LGNX",
          "LFRI",
          "EGNM",
          "LESL",
          "KHHR",
          "EPWR",
          "LIBC",
          "EPKM",
          "RCTP",
          "LKLT",
          "LJLJ",
          "KOAK",
          "LEMU",
          "EETN",
          "ENUL",
          "ESKN",
          "OBBI",
          "EGLF",
          "LIPO",
          "EPKK",
          "EDDW",
          "LIRU",
          "LIPL",
          "RJBB",
          "25GA",
          "EGNT",
          "EHRD",
          "LFNR",
          "4GE2",
          "LIBG",
          "EFLP",
          "ZUCK",
          "LFRS",
          "EIKN",
          "LKTB",
          "ESGG",
          "OJAM",
          "EPPO",
          "LIRP",
          "LIQG",
          "EICK",
          "LEIB",
          "LILC",
          "EDOW",
          "LFDQ",
          "LRCV",
          "OMDW",
          "LGZA",
          "LIRQ",
          "LIMZ",
          "LRBS",
          "LFDH",
          "EDDP",
          "LE85",
          "LTFE",
          "DTTA",
          "LIRZ",
          "EPKT",
          "LFFW",
          "DAAG",
          "LGSA",
          "LPCS",
          "LGSO",
          "EDDC",
          "EDTB",
          "CLA2",
          "LCPH",
          "LIPU",
          "LOWL",
          "KCLT",
          "LGPA",
          "LIPS",
          "LFFE",
          "ENZV",
          "LFKF",
          "CYUL",
          "CSB3",
          "LYSM",
          "GMTT",
          "ZGSZ",
          "LIPN",
          "VABB",
          "EKBI",
          "MMMX",
          "RJAK",
          "OEDF",
          "EGTC",
          "RJAH",
          "EKVD",
          "LLTN",
          "EGNP",
          "LILV",
          "LIQL",
          "LILQ",
          "EGKB",
          "EPLE",
          "CSP6",
          "GMMN",
          "LILN",
          "LKBU",
          "LILB",
          "EDMO",
          "LDPL",
          "LICB",
          "LOWS",
          "EBAW",
          "LIRE",
          "LFMD",
          "CYZD",
          "EDFM",
          "LIDP",
          "LIVV",
          "LTAC",
          "EIBA",
          "LFMV",
          "LOWK",
          "EGBJ",
          "EDXW",
          "EDOP",
          "EGTK",
          "NJ72",
          "LFOB",
          "NC29",
          "LIDG",
          "LIMF",
          "LTBA",
          "SBRJ",
          "LTBU",
          "ETNL",
          "LFLY",
          "LSZB",
          "LIQS",
          "LKRY",
          "EDPI",
          "LOIH",
          "EDVK",
          "OTBD",
          "EPZR",
          "EDBP",
          "LSZV",
          "LILR",
          "KSWF",
          "RPLC",
          "EDTL",
          "LIRH",
          "LIMG",
          "FATA",
          "EGFF",
          "LTAE",
          "OMDM",
          "LFDT",
          "LIAP",
          "EDAZ",
          "LFHJ",
          "LIPF",
          "SBMT",
          "EGTB",
          "EINN",
          "LFFG",
          "LILI",
          "LGRD",
          "LFCX",
          "EDVE",
          "LFFQ",
          "ENSO",
          "EBKT",
          "LIDR",
          "ENBR",
          "HEGR",
          "EYRD",
          "RJFF",
          "KBKL",
          "LIPI",
          "LPBJ",
          "CYMX",
          "LFMA",
          "KHPN",
          "EDCR",
          "LFST",
          "EPKW",
          "LFKJ",
          "LIAT",
          "LIMP",
          "USSS",
          "LOWG",
          "44NC",
          "EDGI",
          "SBGL",
          "NY09",
          "GVBA",
          "FABA",
          "LBWN",
          "EDLR",
          "EDWM",
          "UKKT",
          "NJ25",
          "LGSM",
          "LGML",
          "Z19O",
          "EGCN",
          "GA02",
          "LFLP",
          "EGHL",
          "EGHR",
          "UUMO",
          "EHTW",
          "UUML",
          "EDOT",
          "SDMC",
          "LICZ",
          "LFQJ",
          "EFMA",
          "LEJR",
          "KLCK",
          "EGPK",
          "EKRK",
          "LDPM",
          "UMGG",
          "EDKB",
          "LFOX",
          "EDOE",
          "LDDU",
          "EPKS",
          "EDRY",
          "ETOU",
          "EGAA",
          "LDRG",
          "LFAV",
          "MI84",
          "EDQY",
          "LPEV",
          "CSS3",
          "LIAR",
          "EDMP",
          "KCAE",
          "EKAH",
          "UUWE",
          "LIAQ",
          "OBKH",
          "VA16",
          "LIDU",
          "EDMA",
          "UKKM",
          "EGHI",
          "LIQW",
          "EDFH",
          "KRUQ",
          "KRDU",
          "LDPV",
          "LR80",
          "LIDH",
          "WSSS",
          "EDJA",
          "LETO"
         ],
         "xaxis": "x",
         "y": [
          14491,
          8175,
          4387,
          3284,
          2580,
          1034,
          967,
          890,
          679,
          584,
          578,
          572,
          537,
          524,
          495,
          485,
          443,
          412,
          388,
          385,
          384,
          362,
          356,
          348,
          342,
          333,
          328,
          328,
          320,
          314,
          309,
          306,
          267,
          266,
          245,
          243,
          243,
          215,
          214,
          205,
          200,
          195,
          180,
          177,
          175,
          167,
          166,
          162,
          155,
          153,
          152,
          149,
          141,
          139,
          136,
          133,
          133,
          131,
          129,
          126,
          125,
          124,
          124,
          119,
          119,
          118,
          116,
          113,
          109,
          105,
          105,
          102,
          102,
          101,
          101,
          97,
          95,
          94,
          92,
          91,
          90,
          89,
          87,
          83,
          83,
          80,
          79,
          77,
          76,
          76,
          74,
          74,
          68,
          68,
          65,
          64,
          64,
          62,
          60,
          59,
          59,
          53,
          53,
          51,
          51,
          49,
          49,
          48,
          47,
          47,
          47,
          47,
          44,
          41,
          38,
          38,
          38,
          37,
          36,
          36,
          36,
          35,
          34,
          34,
          33,
          32,
          31,
          31,
          31,
          30,
          29,
          28,
          27,
          27,
          27,
          26,
          25,
          25,
          23,
          23,
          23,
          23,
          21,
          21,
          21,
          21,
          20,
          19,
          19,
          19,
          19,
          19,
          18,
          18,
          18,
          18,
          18,
          18,
          17,
          17,
          17,
          16,
          16,
          15,
          15,
          15,
          14,
          14,
          14,
          14,
          14,
          13,
          13,
          13,
          13,
          12,
          12,
          12,
          12,
          12,
          11,
          11,
          11,
          11,
          11,
          10,
          10,
          10,
          10,
          10,
          10,
          9,
          9,
          9,
          9,
          9,
          8,
          8,
          8,
          8,
          8,
          8,
          7,
          7,
          7,
          7,
          7,
          7,
          6,
          6,
          6,
          6,
          6,
          6,
          6,
          6,
          6,
          5,
          5,
          5,
          5,
          5,
          5,
          5,
          5,
          5,
          5,
          5,
          5,
          5,
          5,
          5,
          5,
          4,
          4,
          4,
          4,
          4,
          4,
          4,
          4,
          4,
          4,
          4,
          4,
          4,
          3,
          3,
          3,
          3,
          3,
          3,
          3,
          3,
          3,
          3,
          3,
          3,
          3,
          3,
          3,
          3,
          3,
          3,
          3,
          3,
          3,
          2,
          2,
          2,
          2,
          2,
          2,
          2,
          2,
          2,
          2,
          2,
          2,
          2,
          2,
          2,
          2,
          2,
          2,
          2,
          2,
          2,
          2,
          2,
          2,
          2,
          2,
          2,
          2,
          2,
          2,
          2,
          2,
          2,
          2,
          2,
          1,
          1,
          1,
          1,
          1,
          1,
          1,
          1,
          1,
          1,
          1,
          1,
          1,
          1,
          1,
          1,
          1,
          1,
          1,
          1,
          1,
          1,
          1,
          1,
          1,
          1,
          1,
          1,
          1,
          1,
          1,
          1,
          1,
          1,
          1,
          1,
          1,
          1,
          1,
          1,
          1,
          1,
          1,
          1,
          1,
          1,
          1,
          1,
          1,
          1,
          1,
          1,
          1,
          1,
          1,
          1,
          1,
          1,
          1,
          1,
          1,
          1,
          1,
          1,
          1,
          1,
          1,
          1,
          1,
          1,
          1,
          1,
          1,
          1,
          1,
          1,
          1,
          1,
          1,
          1,
          1,
          1,
          1,
          1,
          1,
          1,
          1,
          1,
          1,
          1,
          1,
          1,
          1,
          1,
          1,
          1,
          1,
          1,
          1,
          1,
          1,
          1,
          1,
          1,
          1,
          1,
          1,
          1,
          1,
          1,
          1,
          1,
          1
         ],
         "yaxis": "y"
        }
       ],
       "layout": {
        "barmode": "relative",
        "legend": {
         "tracegroupgap": 0
        },
        "template": {
         "data": {
          "bar": [
           {
            "error_x": {
             "color": "#2a3f5f"
            },
            "error_y": {
             "color": "#2a3f5f"
            },
            "marker": {
             "line": {
              "color": "#E5ECF6",
              "width": 0.5
             },
             "pattern": {
              "fillmode": "overlay",
              "size": 10,
              "solidity": 0.2
             }
            },
            "type": "bar"
           }
          ],
          "barpolar": [
           {
            "marker": {
             "line": {
              "color": "#E5ECF6",
              "width": 0.5
             },
             "pattern": {
              "fillmode": "overlay",
              "size": 10,
              "solidity": 0.2
             }
            },
            "type": "barpolar"
           }
          ],
          "carpet": [
           {
            "aaxis": {
             "endlinecolor": "#2a3f5f",
             "gridcolor": "white",
             "linecolor": "white",
             "minorgridcolor": "white",
             "startlinecolor": "#2a3f5f"
            },
            "baxis": {
             "endlinecolor": "#2a3f5f",
             "gridcolor": "white",
             "linecolor": "white",
             "minorgridcolor": "white",
             "startlinecolor": "#2a3f5f"
            },
            "type": "carpet"
           }
          ],
          "choropleth": [
           {
            "colorbar": {
             "outlinewidth": 0,
             "ticks": ""
            },
            "type": "choropleth"
           }
          ],
          "contour": [
           {
            "colorbar": {
             "outlinewidth": 0,
             "ticks": ""
            },
            "colorscale": [
             [
              0,
              "#0d0887"
             ],
             [
              0.1111111111111111,
              "#46039f"
             ],
             [
              0.2222222222222222,
              "#7201a8"
             ],
             [
              0.3333333333333333,
              "#9c179e"
             ],
             [
              0.4444444444444444,
              "#bd3786"
             ],
             [
              0.5555555555555556,
              "#d8576b"
             ],
             [
              0.6666666666666666,
              "#ed7953"
             ],
             [
              0.7777777777777778,
              "#fb9f3a"
             ],
             [
              0.8888888888888888,
              "#fdca26"
             ],
             [
              1,
              "#f0f921"
             ]
            ],
            "type": "contour"
           }
          ],
          "contourcarpet": [
           {
            "colorbar": {
             "outlinewidth": 0,
             "ticks": ""
            },
            "type": "contourcarpet"
           }
          ],
          "heatmap": [
           {
            "colorbar": {
             "outlinewidth": 0,
             "ticks": ""
            },
            "colorscale": [
             [
              0,
              "#0d0887"
             ],
             [
              0.1111111111111111,
              "#46039f"
             ],
             [
              0.2222222222222222,
              "#7201a8"
             ],
             [
              0.3333333333333333,
              "#9c179e"
             ],
             [
              0.4444444444444444,
              "#bd3786"
             ],
             [
              0.5555555555555556,
              "#d8576b"
             ],
             [
              0.6666666666666666,
              "#ed7953"
             ],
             [
              0.7777777777777778,
              "#fb9f3a"
             ],
             [
              0.8888888888888888,
              "#fdca26"
             ],
             [
              1,
              "#f0f921"
             ]
            ],
            "type": "heatmap"
           }
          ],
          "heatmapgl": [
           {
            "colorbar": {
             "outlinewidth": 0,
             "ticks": ""
            },
            "colorscale": [
             [
              0,
              "#0d0887"
             ],
             [
              0.1111111111111111,
              "#46039f"
             ],
             [
              0.2222222222222222,
              "#7201a8"
             ],
             [
              0.3333333333333333,
              "#9c179e"
             ],
             [
              0.4444444444444444,
              "#bd3786"
             ],
             [
              0.5555555555555556,
              "#d8576b"
             ],
             [
              0.6666666666666666,
              "#ed7953"
             ],
             [
              0.7777777777777778,
              "#fb9f3a"
             ],
             [
              0.8888888888888888,
              "#fdca26"
             ],
             [
              1,
              "#f0f921"
             ]
            ],
            "type": "heatmapgl"
           }
          ],
          "histogram": [
           {
            "marker": {
             "pattern": {
              "fillmode": "overlay",
              "size": 10,
              "solidity": 0.2
             }
            },
            "type": "histogram"
           }
          ],
          "histogram2d": [
           {
            "colorbar": {
             "outlinewidth": 0,
             "ticks": ""
            },
            "colorscale": [
             [
              0,
              "#0d0887"
             ],
             [
              0.1111111111111111,
              "#46039f"
             ],
             [
              0.2222222222222222,
              "#7201a8"
             ],
             [
              0.3333333333333333,
              "#9c179e"
             ],
             [
              0.4444444444444444,
              "#bd3786"
             ],
             [
              0.5555555555555556,
              "#d8576b"
             ],
             [
              0.6666666666666666,
              "#ed7953"
             ],
             [
              0.7777777777777778,
              "#fb9f3a"
             ],
             [
              0.8888888888888888,
              "#fdca26"
             ],
             [
              1,
              "#f0f921"
             ]
            ],
            "type": "histogram2d"
           }
          ],
          "histogram2dcontour": [
           {
            "colorbar": {
             "outlinewidth": 0,
             "ticks": ""
            },
            "colorscale": [
             [
              0,
              "#0d0887"
             ],
             [
              0.1111111111111111,
              "#46039f"
             ],
             [
              0.2222222222222222,
              "#7201a8"
             ],
             [
              0.3333333333333333,
              "#9c179e"
             ],
             [
              0.4444444444444444,
              "#bd3786"
             ],
             [
              0.5555555555555556,
              "#d8576b"
             ],
             [
              0.6666666666666666,
              "#ed7953"
             ],
             [
              0.7777777777777778,
              "#fb9f3a"
             ],
             [
              0.8888888888888888,
              "#fdca26"
             ],
             [
              1,
              "#f0f921"
             ]
            ],
            "type": "histogram2dcontour"
           }
          ],
          "mesh3d": [
           {
            "colorbar": {
             "outlinewidth": 0,
             "ticks": ""
            },
            "type": "mesh3d"
           }
          ],
          "parcoords": [
           {
            "line": {
             "colorbar": {
              "outlinewidth": 0,
              "ticks": ""
             }
            },
            "type": "parcoords"
           }
          ],
          "pie": [
           {
            "automargin": true,
            "type": "pie"
           }
          ],
          "scatter": [
           {
            "fillpattern": {
             "fillmode": "overlay",
             "size": 10,
             "solidity": 0.2
            },
            "type": "scatter"
           }
          ],
          "scatter3d": [
           {
            "line": {
             "colorbar": {
              "outlinewidth": 0,
              "ticks": ""
             }
            },
            "marker": {
             "colorbar": {
              "outlinewidth": 0,
              "ticks": ""
             }
            },
            "type": "scatter3d"
           }
          ],
          "scattercarpet": [
           {
            "marker": {
             "colorbar": {
              "outlinewidth": 0,
              "ticks": ""
             }
            },
            "type": "scattercarpet"
           }
          ],
          "scattergeo": [
           {
            "marker": {
             "colorbar": {
              "outlinewidth": 0,
              "ticks": ""
             }
            },
            "type": "scattergeo"
           }
          ],
          "scattergl": [
           {
            "marker": {
             "colorbar": {
              "outlinewidth": 0,
              "ticks": ""
             }
            },
            "type": "scattergl"
           }
          ],
          "scattermapbox": [
           {
            "marker": {
             "colorbar": {
              "outlinewidth": 0,
              "ticks": ""
             }
            },
            "type": "scattermapbox"
           }
          ],
          "scatterpolar": [
           {
            "marker": {
             "colorbar": {
              "outlinewidth": 0,
              "ticks": ""
             }
            },
            "type": "scatterpolar"
           }
          ],
          "scatterpolargl": [
           {
            "marker": {
             "colorbar": {
              "outlinewidth": 0,
              "ticks": ""
             }
            },
            "type": "scatterpolargl"
           }
          ],
          "scatterternary": [
           {
            "marker": {
             "colorbar": {
              "outlinewidth": 0,
              "ticks": ""
             }
            },
            "type": "scatterternary"
           }
          ],
          "surface": [
           {
            "colorbar": {
             "outlinewidth": 0,
             "ticks": ""
            },
            "colorscale": [
             [
              0,
              "#0d0887"
             ],
             [
              0.1111111111111111,
              "#46039f"
             ],
             [
              0.2222222222222222,
              "#7201a8"
             ],
             [
              0.3333333333333333,
              "#9c179e"
             ],
             [
              0.4444444444444444,
              "#bd3786"
             ],
             [
              0.5555555555555556,
              "#d8576b"
             ],
             [
              0.6666666666666666,
              "#ed7953"
             ],
             [
              0.7777777777777778,
              "#fb9f3a"
             ],
             [
              0.8888888888888888,
              "#fdca26"
             ],
             [
              1,
              "#f0f921"
             ]
            ],
            "type": "surface"
           }
          ],
          "table": [
           {
            "cells": {
             "fill": {
              "color": "#EBF0F8"
             },
             "line": {
              "color": "white"
             }
            },
            "header": {
             "fill": {
              "color": "#C8D4E3"
             },
             "line": {
              "color": "white"
             }
            },
            "type": "table"
           }
          ]
         },
         "layout": {
          "annotationdefaults": {
           "arrowcolor": "#2a3f5f",
           "arrowhead": 0,
           "arrowwidth": 1
          },
          "autotypenumbers": "strict",
          "coloraxis": {
           "colorbar": {
            "outlinewidth": 0,
            "ticks": ""
           }
          },
          "colorscale": {
           "diverging": [
            [
             0,
             "#8e0152"
            ],
            [
             0.1,
             "#c51b7d"
            ],
            [
             0.2,
             "#de77ae"
            ],
            [
             0.3,
             "#f1b6da"
            ],
            [
             0.4,
             "#fde0ef"
            ],
            [
             0.5,
             "#f7f7f7"
            ],
            [
             0.6,
             "#e6f5d0"
            ],
            [
             0.7,
             "#b8e186"
            ],
            [
             0.8,
             "#7fbc41"
            ],
            [
             0.9,
             "#4d9221"
            ],
            [
             1,
             "#276419"
            ]
           ],
           "sequential": [
            [
             0,
             "#0d0887"
            ],
            [
             0.1111111111111111,
             "#46039f"
            ],
            [
             0.2222222222222222,
             "#7201a8"
            ],
            [
             0.3333333333333333,
             "#9c179e"
            ],
            [
             0.4444444444444444,
             "#bd3786"
            ],
            [
             0.5555555555555556,
             "#d8576b"
            ],
            [
             0.6666666666666666,
             "#ed7953"
            ],
            [
             0.7777777777777778,
             "#fb9f3a"
            ],
            [
             0.8888888888888888,
             "#fdca26"
            ],
            [
             1,
             "#f0f921"
            ]
           ],
           "sequentialminus": [
            [
             0,
             "#0d0887"
            ],
            [
             0.1111111111111111,
             "#46039f"
            ],
            [
             0.2222222222222222,
             "#7201a8"
            ],
            [
             0.3333333333333333,
             "#9c179e"
            ],
            [
             0.4444444444444444,
             "#bd3786"
            ],
            [
             0.5555555555555556,
             "#d8576b"
            ],
            [
             0.6666666666666666,
             "#ed7953"
            ],
            [
             0.7777777777777778,
             "#fb9f3a"
            ],
            [
             0.8888888888888888,
             "#fdca26"
            ],
            [
             1,
             "#f0f921"
            ]
           ]
          },
          "colorway": [
           "#636efa",
           "#EF553B",
           "#00cc96",
           "#ab63fa",
           "#FFA15A",
           "#19d3f3",
           "#FF6692",
           "#B6E880",
           "#FF97FF",
           "#FECB52"
          ],
          "font": {
           "color": "#2a3f5f"
          },
          "geo": {
           "bgcolor": "white",
           "lakecolor": "white",
           "landcolor": "#E5ECF6",
           "showlakes": true,
           "showland": true,
           "subunitcolor": "white"
          },
          "hoverlabel": {
           "align": "left"
          },
          "hovermode": "closest",
          "mapbox": {
           "style": "light"
          },
          "paper_bgcolor": "white",
          "plot_bgcolor": "#E5ECF6",
          "polar": {
           "angularaxis": {
            "gridcolor": "white",
            "linecolor": "white",
            "ticks": ""
           },
           "bgcolor": "#E5ECF6",
           "radialaxis": {
            "gridcolor": "white",
            "linecolor": "white",
            "ticks": ""
           }
          },
          "scene": {
           "xaxis": {
            "backgroundcolor": "#E5ECF6",
            "gridcolor": "white",
            "gridwidth": 2,
            "linecolor": "white",
            "showbackground": true,
            "ticks": "",
            "zerolinecolor": "white"
           },
           "yaxis": {
            "backgroundcolor": "#E5ECF6",
            "gridcolor": "white",
            "gridwidth": 2,
            "linecolor": "white",
            "showbackground": true,
            "ticks": "",
            "zerolinecolor": "white"
           },
           "zaxis": {
            "backgroundcolor": "#E5ECF6",
            "gridcolor": "white",
            "gridwidth": 2,
            "linecolor": "white",
            "showbackground": true,
            "ticks": "",
            "zerolinecolor": "white"
           }
          },
          "shapedefaults": {
           "line": {
            "color": "#2a3f5f"
           }
          },
          "ternary": {
           "aaxis": {
            "gridcolor": "white",
            "linecolor": "white",
            "ticks": ""
           },
           "baxis": {
            "gridcolor": "white",
            "linecolor": "white",
            "ticks": ""
           },
           "bgcolor": "#E5ECF6",
           "caxis": {
            "gridcolor": "white",
            "linecolor": "white",
            "ticks": ""
           }
          },
          "title": {
           "x": 0.05
          },
          "xaxis": {
           "automargin": true,
           "gridcolor": "white",
           "linecolor": "white",
           "ticks": "",
           "title": {
            "standoff": 15
           },
           "zerolinecolor": "white",
           "zerolinewidth": 2
          },
          "yaxis": {
           "automargin": true,
           "gridcolor": "white",
           "linecolor": "white",
           "ticks": "",
           "title": {
            "standoff": 15
           },
           "zerolinecolor": "white",
           "zerolinewidth": 2
          }
         }
        },
        "title": {
         "text": "Amount of flights per airport Amount of flights per airport in July 2019 as destination"
        },
        "xaxis": {
         "anchor": "y",
         "domain": [
          0,
          1
         ],
         "range": [
          -0.5,
          4.5
         ],
         "title": {
          "text": "Airport"
         }
        },
        "yaxis": {
         "anchor": "x",
         "domain": [
          0,
          1
         ],
         "title": {
          "text": "Amount of flights"
         }
        }
       }
      }
     },
     "metadata": {},
     "output_type": "display_data"
    },
    {
     "name": "stdout",
     "output_type": "stream",
     "text": [
      "       origin  destination    total  year  month\n",
      "LIRF  14007.0      14491.0  28498.0  2019      7\n",
      "LIMC   9364.0       8175.0  17539.0  2019      7\n",
      "LIME   4316.0       4387.0   8703.0  2019      7\n",
      "LIPZ   4015.0       3284.0   7299.0  2019      7\n",
      "LIPE   2877.0       2580.0   5457.0  2019      7\n"
     ]
    },
    {
     "data": {
      "application/vnd.plotly.v1+json": {
       "config": {
        "plotlyServerURL": "https://plot.ly"
       },
       "data": [
        {
         "alignmentgroup": "True",
         "hovertemplate": "index=%{x}<br>total=%{y}<extra></extra>",
         "legendgroup": "",
         "marker": {
          "color": "#636efa",
          "pattern": {
           "shape": ""
          }
         },
         "name": "",
         "offsetgroup": "",
         "orientation": "v",
         "showlegend": false,
         "text": [
          28498,
          17539,
          8703,
          7299,
          5457,
          1960,
          1733,
          1609,
          1295,
          1267,
          1226,
          1090,
          1070,
          1042,
          958,
          953,
          952,
          891,
          710,
          670,
          663,
          658,
          657,
          655,
          640,
          583,
          560,
          529,
          515,
          489,
          484,
          483,
          479,
          473,
          472,
          458,
          419,
          411,
          405,
          403,
          390,
          382,
          372,
          352,
          351,
          346,
          328,
          316,
          306,
          300,
          297,
          293,
          291,
          278,
          270,
          265,
          258,
          255,
          250,
          236,
          224,
          216,
          210,
          209,
          194,
          191,
          187,
          183,
          182,
          182,
          181,
          179,
          177,
          173,
          170,
          155,
          155,
          152,
          148,
          147,
          145,
          145,
          141,
          139,
          138,
          137,
          136,
          131,
          131,
          128,
          125,
          123,
          121,
          121,
          117,
          110,
          106,
          105,
          103,
          102,
          96,
          91,
          91,
          88,
          86,
          85,
          81,
          80,
          77,
          73,
          72,
          71,
          69,
          69,
          69,
          64,
          62,
          62,
          61,
          59,
          56,
          55,
          54,
          52,
          52,
          51,
          48,
          48,
          48,
          48,
          45,
          45,
          44,
          43,
          39,
          39,
          37,
          36,
          36,
          36,
          32,
          32,
          31,
          31,
          30,
          28,
          28,
          26,
          26,
          25,
          25,
          23,
          23,
          23,
          22,
          21,
          21,
          21,
          20,
          20,
          20,
          20,
          20,
          19,
          18,
          18,
          18,
          18,
          18,
          18,
          17,
          17,
          17,
          16,
          16,
          16,
          15,
          15,
          14,
          14,
          14,
          13,
          13,
          12,
          12,
          12,
          12,
          11,
          11,
          11,
          11,
          10,
          10,
          10,
          10,
          9,
          9,
          9,
          9,
          9,
          9,
          9,
          9,
          9,
          9,
          8,
          8,
          7,
          7,
          7,
          7,
          7,
          7,
          7,
          7,
          6,
          6,
          6,
          6,
          6,
          6,
          6,
          6,
          5,
          5,
          5,
          5,
          4,
          4,
          4,
          4,
          4,
          4,
          4,
          4,
          3,
          3,
          3,
          3,
          2,
          2,
          2,
          2,
          2,
          2,
          2,
          2,
          2,
          2,
          2,
          2,
          2,
          2,
          2,
          2,
          2,
          2,
          2,
          2,
          2,
          2,
          2,
          2,
          2,
          null,
          null,
          null,
          null,
          null,
          null,
          null,
          null,
          null,
          null,
          null,
          null,
          null,
          null,
          null,
          null,
          null,
          null,
          null,
          null,
          null,
          null,
          null,
          null,
          null,
          null,
          null,
          null,
          null,
          null,
          null,
          null,
          null,
          null,
          null,
          null,
          null,
          null,
          null,
          null,
          null,
          null,
          null,
          null,
          null,
          null,
          null,
          null,
          null,
          null,
          null,
          null,
          null,
          null,
          null,
          null,
          null,
          null,
          null,
          null,
          null,
          null,
          null,
          null,
          null,
          null,
          null,
          null,
          null,
          null,
          null,
          null,
          null,
          null,
          null,
          null,
          null,
          null,
          null,
          null,
          null,
          null,
          null,
          null,
          null,
          null,
          null,
          null,
          null,
          null,
          null,
          null,
          null,
          null,
          null,
          null,
          null,
          null,
          null,
          null,
          null,
          null,
          null,
          null,
          null,
          null,
          null,
          null,
          null,
          null,
          null,
          null,
          null,
          null,
          null,
          null,
          null,
          null,
          null,
          null,
          null,
          null,
          null,
          null,
          null,
          null,
          null,
          null,
          null,
          null,
          null,
          null,
          null,
          null,
          null,
          null,
          null,
          null,
          null,
          null,
          null,
          null,
          null,
          null,
          null,
          null,
          null,
          null,
          null,
          null,
          null,
          null,
          null,
          null,
          null,
          null,
          null,
          null,
          null,
          null,
          null,
          null,
          null,
          null,
          null,
          null,
          null,
          null,
          null,
          null,
          null,
          null,
          null,
          null,
          null,
          null,
          null,
          null,
          null,
          null,
          null,
          null,
          null,
          null,
          null,
          null,
          null,
          null,
          null,
          null,
          null,
          null,
          null,
          null,
          null,
          null,
          null,
          null,
          null,
          null,
          null,
          null,
          null,
          null,
          null,
          null,
          null,
          null,
          null,
          null,
          null,
          null,
          null,
          null,
          null,
          null,
          null,
          null,
          null,
          null,
          null,
          null,
          null,
          null,
          null,
          null,
          null
         ],
         "textposition": "auto",
         "type": "bar",
         "x": [
          "LIRF",
          "LIMC",
          "LIME",
          "LIPZ",
          "LIPE",
          "LFPG",
          "LEMD",
          "LEBL",
          "EDDM",
          "EDDF",
          "EHAM",
          "EGLL",
          "EGKK",
          "LIBD",
          "LIEE",
          "UUEE",
          "LOWW",
          "LIML",
          "EKCH",
          "LGAV",
          "KJFK",
          "LSZH",
          "EGSS",
          "LICJ",
          "LPPT",
          "EDDK",
          "LIEO",
          "LICA",
          "LIEA",
          "EIDW",
          "LLBG",
          "LIED",
          "OTHH",
          "EBBR",
          "OMDB",
          "LIBR",
          "LFPO",
          "LTFJ",
          "EDDT",
          "LHBP",
          "EDDL",
          "EBMB",
          "EFHK",
          "CYYZ",
          "LSGG",
          "LIMJ",
          "ELLX",
          "ENGM",
          "EPWA",
          "EGCC",
          "LEMG",
          "EGGW",
          "EDDH",
          "LIPX",
          "LGRP",
          "EDDB",
          "UKBB",
          "EDDS",
          "ESSA",
          "LIPQ",
          "EGGD",
          "SBGR",
          "LROP",
          "KORD",
          "RKSI",
          "LEZL",
          "LPAR",
          "ULLI",
          "EBCI",
          "KATL",
          "EGPH",
          "LEAL",
          "VHHH",
          "LGIR",
          "LFBO",
          "UUWW",
          "EVRA",
          "LGMK",
          "UKKK",
          "LFLL",
          "LFML",
          "LKPR",
          "KPHL",
          "LGSR",
          "LKVO",
          "LIMF",
          "KEWR",
          "LYBE",
          "LSZM",
          "LGKO",
          "LFPV",
          "EHEH",
          "LFBD",
          "SAEZ",
          "KLAX",
          "EGNX",
          "VIDP",
          "LKKL",
          "KIAD",
          "EDDP",
          "KBOS",
          "EPMO",
          "KLDJ",
          "EGLC",
          "OLBA",
          "VTBS",
          "LIRA",
          "LGKN",
          "OMAA",
          "CYUL",
          "LRBS",
          "EGMC",
          "EDAM",
          "UUDD",
          "EBLG",
          "KDFW",
          "LDSR",
          "LFPB",
          "LZIB",
          "LILG",
          "LFNR",
          "KOPF",
          "EGBB",
          "LFOB",
          "EDDN",
          "LDZA",
          "EGGP",
          "LMML",
          "OERK",
          "FAOR",
          "EPGD",
          "K06C",
          "GOBD",
          "BIKF",
          "LIPM",
          "ESKN",
          "LPFR",
          "LEZG",
          "EGPF",
          "UUBW",
          "LLSD",
          "KSFO",
          "LFRS",
          "LFMN",
          "LIPV",
          "RCTP",
          "ENKJ",
          "KOAK",
          "LIBC",
          "EPKT",
          "EETN",
          "VABB",
          "LEMH",
          "EPWR",
          "EDDW",
          "LIPL",
          "ESKX",
          "EHRD",
          "LFPN",
          "EGNT",
          "ENUL",
          "EIWT",
          "DAAG",
          "EGLF",
          "ESGG",
          "EIKN",
          "LKTB",
          "EFLP",
          "EGAA",
          "OBBI",
          "LJLJ",
          "EDFH",
          "EPPO",
          "LESL",
          "EICK",
          "EGNM",
          "LIPO",
          "EGNP",
          "ZGSZ",
          "LIRU",
          "LTBA",
          "EGKB",
          "EPKK",
          "LBWN",
          "LILC",
          "GMMN",
          "EDDC",
          "LEIB",
          "LIRP",
          "LOWS",
          "KCLT",
          "SBGL",
          "LCPH",
          "MMMX",
          "ZUCK",
          "LE85",
          "LRCV",
          "LTAC",
          "LIMZ",
          "OEDF",
          "LIRZ",
          "GMTT",
          "LILR",
          "LIPN",
          "LKBU",
          "LFMV",
          "ENZV",
          "LOWL",
          "LTFE",
          "DTTA",
          "LFKF",
          "LGSA",
          "ENBR",
          "LDPL",
          "CSP6",
          "LFFW",
          "LPCS",
          "LIPS",
          "LILB",
          "LGSM",
          "EINN",
          "LOWK",
          "EKBI",
          "EGTC",
          "LILQ",
          "LFFE",
          "OTBD",
          "LFLY",
          "LILV",
          "EBAW",
          "LIRE",
          "EGBJ",
          "ETNL",
          "EDVK",
          "LILN",
          "LFKJ",
          "LIAR",
          "EDXW",
          "EDJA",
          "EDRY",
          "LIQW",
          "RJFF",
          "LFFQ",
          "LFMA",
          "LFST",
          "LETO",
          "LIMG",
          "LFAV",
          "EPKS",
          "LIPI",
          "UMGG",
          "LPBJ",
          "LIDU",
          "EGHL",
          "LEJR",
          "LFLP",
          "EDQY",
          "LDDU",
          "NJ25",
          "LIMP",
          "ETOU",
          "EDAZ",
          "EBKT",
          "LILI",
          "LL59",
          "GA95",
          "RPLS",
          "RPLL",
          "EGPJ",
          "WMKK",
          "89GE",
          "EDSB",
          "VOMM",
          "LIPH",
          "LBSF",
          "LDSP",
          "EHBK",
          "FACT",
          "EDCU",
          "LSZA",
          "YMML",
          "GBYD",
          "OMSJ",
          "EDNY",
          "LKSN",
          "OETH",
          "EDTM",
          "51GA",
          "KTEB",
          "KIAH",
          "LSZR",
          "LBWV",
          "GMMT",
          "YBBN",
          "GVAC",
          "LIMB",
          "YSSY",
          "CMN3",
          "VNKT",
          "EGNR",
          "VAJJ",
          "LEPA",
          "LFHC",
          "LIAA",
          "EPMR",
          "OMAD",
          "LEGE",
          "EFSA",
          "EDFE",
          "RI07",
          "LEVC",
          "KSJC",
          "GA94",
          "LIRV",
          "EDLV",
          "LFBF",
          "VMMC",
          "EDDR",
          "EDDE",
          "RJTT",
          "EDLW",
          "KMDW",
          "EDLP",
          "LIPB",
          "EDLE",
          "LFRM",
          "LFQA",
          "GQNO",
          "LSMD",
          "ETHN",
          "LFPZ",
          "EBMO",
          "URWA",
          "LILE",
          "LSTR",
          "LFOV",
          "KBEH",
          "YKBN",
          "LFLB",
          "LFRC",
          "LTBW",
          "LICP",
          "EDCT",
          "LIMA",
          "LIMN",
          "EGKR",
          "LICR",
          "CYHU",
          "ULLP",
          "LFPL",
          "LFPC",
          "LYBT",
          "EDDV",
          "LLHZ",
          "LFMY",
          "LFFI",
          "LIDC",
          "LKHV",
          "EGAC",
          "LGNX",
          "LFRI",
          "KHHR",
          "EPKM",
          "LKLT",
          "LEMU",
          "RJBB",
          "25GA",
          "4GE2",
          "LIBG",
          "OJAM",
          "LIQG",
          "EDOW",
          "LFDQ",
          "OMDW",
          "LGZA",
          "LIRQ",
          "LFDH",
          "LGSO",
          "EDTB",
          "CLA2",
          "LIPU",
          "LGPA",
          "CSB3",
          "LYSM",
          "RJAK",
          "RJAH",
          "EKVD",
          "LLTN",
          "LIQL",
          "EPLE",
          "EDMO",
          "LICB",
          "LFMD",
          "CYZD",
          "EDFM",
          "LIDP",
          "LIVV",
          "EIBA",
          "EDOP",
          "EGTK",
          "NJ72",
          "NC29",
          "LIDG",
          "SBRJ",
          "LTBU",
          "LSZB",
          "LIQS",
          "LKRY",
          "EDPI",
          "LOIH",
          "EPZR",
          "EDBP",
          "LSZV",
          "KSWF",
          "RPLC",
          "EDTL",
          "LIRH",
          "FATA",
          "EGFF",
          "LTAE",
          "OMDM",
          "LFDT",
          "LIAP",
          "LFHJ",
          "LIPF",
          "SBMT",
          "EGTB",
          "LFFG",
          "LGRD",
          "LFCX",
          "EDVE",
          "ENSO",
          "LIDR",
          "HEGR",
          "EYRD",
          "KBKL",
          "CYMX",
          "KHPN",
          "EDCR",
          "EPKW",
          "LIAT",
          "USSS",
          "LOWG",
          "44NC",
          "EDGI",
          "NY09",
          "GVBA",
          "FABA",
          "EDLR",
          "EDWM",
          "UKKT",
          "LGML",
          "Z19O",
          "EGCN",
          "GA02",
          "EGHR",
          "UUMO",
          "EHTW",
          "UUML",
          "EDOT",
          "SDMC",
          "LICZ",
          "LFQJ",
          "EFMA",
          "KLCK",
          "EGPK",
          "EKRK",
          "LDPM",
          "EDKB",
          "LFOX",
          "EDOE",
          "LDRG",
          "MI84",
          "LPEV",
          "CSS3",
          "EDMP",
          "KCAE",
          "EKAH",
          "UUWE",
          "LIAQ",
          "OBKH",
          "VA16",
          "EDMA",
          "UKKM",
          "EGHI",
          "KRUQ",
          "KRDU",
          "LDPV",
          "LR80",
          "LIDH",
          "WSSS"
         ],
         "xaxis": "x",
         "y": [
          28498,
          17539,
          8703,
          7299,
          5457,
          1960,
          1733,
          1609,
          1295,
          1267,
          1226,
          1090,
          1070,
          1042,
          958,
          953,
          952,
          891,
          710,
          670,
          663,
          658,
          657,
          655,
          640,
          583,
          560,
          529,
          515,
          489,
          484,
          483,
          479,
          473,
          472,
          458,
          419,
          411,
          405,
          403,
          390,
          382,
          372,
          352,
          351,
          346,
          328,
          316,
          306,
          300,
          297,
          293,
          291,
          278,
          270,
          265,
          258,
          255,
          250,
          236,
          224,
          216,
          210,
          209,
          194,
          191,
          187,
          183,
          182,
          182,
          181,
          179,
          177,
          173,
          170,
          155,
          155,
          152,
          148,
          147,
          145,
          145,
          141,
          139,
          138,
          137,
          136,
          131,
          131,
          128,
          125,
          123,
          121,
          121,
          117,
          110,
          106,
          105,
          103,
          102,
          96,
          91,
          91,
          88,
          86,
          85,
          81,
          80,
          77,
          73,
          72,
          71,
          69,
          69,
          69,
          64,
          62,
          62,
          61,
          59,
          56,
          55,
          54,
          52,
          52,
          51,
          48,
          48,
          48,
          48,
          45,
          45,
          44,
          43,
          39,
          39,
          37,
          36,
          36,
          36,
          32,
          32,
          31,
          31,
          30,
          28,
          28,
          26,
          26,
          25,
          25,
          23,
          23,
          23,
          22,
          21,
          21,
          21,
          20,
          20,
          20,
          20,
          20,
          19,
          18,
          18,
          18,
          18,
          18,
          18,
          17,
          17,
          17,
          16,
          16,
          16,
          15,
          15,
          14,
          14,
          14,
          13,
          13,
          12,
          12,
          12,
          12,
          11,
          11,
          11,
          11,
          10,
          10,
          10,
          10,
          9,
          9,
          9,
          9,
          9,
          9,
          9,
          9,
          9,
          9,
          8,
          8,
          7,
          7,
          7,
          7,
          7,
          7,
          7,
          7,
          6,
          6,
          6,
          6,
          6,
          6,
          6,
          6,
          5,
          5,
          5,
          5,
          4,
          4,
          4,
          4,
          4,
          4,
          4,
          4,
          3,
          3,
          3,
          3,
          2,
          2,
          2,
          2,
          2,
          2,
          2,
          2,
          2,
          2,
          2,
          2,
          2,
          2,
          2,
          2,
          2,
          2,
          2,
          2,
          2,
          2,
          2,
          2,
          2,
          null,
          null,
          null,
          null,
          null,
          null,
          null,
          null,
          null,
          null,
          null,
          null,
          null,
          null,
          null,
          null,
          null,
          null,
          null,
          null,
          null,
          null,
          null,
          null,
          null,
          null,
          null,
          null,
          null,
          null,
          null,
          null,
          null,
          null,
          null,
          null,
          null,
          null,
          null,
          null,
          null,
          null,
          null,
          null,
          null,
          null,
          null,
          null,
          null,
          null,
          null,
          null,
          null,
          null,
          null,
          null,
          null,
          null,
          null,
          null,
          null,
          null,
          null,
          null,
          null,
          null,
          null,
          null,
          null,
          null,
          null,
          null,
          null,
          null,
          null,
          null,
          null,
          null,
          null,
          null,
          null,
          null,
          null,
          null,
          null,
          null,
          null,
          null,
          null,
          null,
          null,
          null,
          null,
          null,
          null,
          null,
          null,
          null,
          null,
          null,
          null,
          null,
          null,
          null,
          null,
          null,
          null,
          null,
          null,
          null,
          null,
          null,
          null,
          null,
          null,
          null,
          null,
          null,
          null,
          null,
          null,
          null,
          null,
          null,
          null,
          null,
          null,
          null,
          null,
          null,
          null,
          null,
          null,
          null,
          null,
          null,
          null,
          null,
          null,
          null,
          null,
          null,
          null,
          null,
          null,
          null,
          null,
          null,
          null,
          null,
          null,
          null,
          null,
          null,
          null,
          null,
          null,
          null,
          null,
          null,
          null,
          null,
          null,
          null,
          null,
          null,
          null,
          null,
          null,
          null,
          null,
          null,
          null,
          null,
          null,
          null,
          null,
          null,
          null,
          null,
          null,
          null,
          null,
          null,
          null,
          null,
          null,
          null,
          null,
          null,
          null,
          null,
          null,
          null,
          null,
          null,
          null,
          null,
          null,
          null,
          null,
          null,
          null,
          null,
          null,
          null,
          null,
          null,
          null,
          null,
          null,
          null,
          null,
          null,
          null,
          null,
          null,
          null,
          null,
          null,
          null,
          null,
          null,
          null,
          null,
          null,
          null
         ],
         "yaxis": "y"
        }
       ],
       "layout": {
        "barmode": "relative",
        "legend": {
         "tracegroupgap": 0
        },
        "template": {
         "data": {
          "bar": [
           {
            "error_x": {
             "color": "#2a3f5f"
            },
            "error_y": {
             "color": "#2a3f5f"
            },
            "marker": {
             "line": {
              "color": "#E5ECF6",
              "width": 0.5
             },
             "pattern": {
              "fillmode": "overlay",
              "size": 10,
              "solidity": 0.2
             }
            },
            "type": "bar"
           }
          ],
          "barpolar": [
           {
            "marker": {
             "line": {
              "color": "#E5ECF6",
              "width": 0.5
             },
             "pattern": {
              "fillmode": "overlay",
              "size": 10,
              "solidity": 0.2
             }
            },
            "type": "barpolar"
           }
          ],
          "carpet": [
           {
            "aaxis": {
             "endlinecolor": "#2a3f5f",
             "gridcolor": "white",
             "linecolor": "white",
             "minorgridcolor": "white",
             "startlinecolor": "#2a3f5f"
            },
            "baxis": {
             "endlinecolor": "#2a3f5f",
             "gridcolor": "white",
             "linecolor": "white",
             "minorgridcolor": "white",
             "startlinecolor": "#2a3f5f"
            },
            "type": "carpet"
           }
          ],
          "choropleth": [
           {
            "colorbar": {
             "outlinewidth": 0,
             "ticks": ""
            },
            "type": "choropleth"
           }
          ],
          "contour": [
           {
            "colorbar": {
             "outlinewidth": 0,
             "ticks": ""
            },
            "colorscale": [
             [
              0,
              "#0d0887"
             ],
             [
              0.1111111111111111,
              "#46039f"
             ],
             [
              0.2222222222222222,
              "#7201a8"
             ],
             [
              0.3333333333333333,
              "#9c179e"
             ],
             [
              0.4444444444444444,
              "#bd3786"
             ],
             [
              0.5555555555555556,
              "#d8576b"
             ],
             [
              0.6666666666666666,
              "#ed7953"
             ],
             [
              0.7777777777777778,
              "#fb9f3a"
             ],
             [
              0.8888888888888888,
              "#fdca26"
             ],
             [
              1,
              "#f0f921"
             ]
            ],
            "type": "contour"
           }
          ],
          "contourcarpet": [
           {
            "colorbar": {
             "outlinewidth": 0,
             "ticks": ""
            },
            "type": "contourcarpet"
           }
          ],
          "heatmap": [
           {
            "colorbar": {
             "outlinewidth": 0,
             "ticks": ""
            },
            "colorscale": [
             [
              0,
              "#0d0887"
             ],
             [
              0.1111111111111111,
              "#46039f"
             ],
             [
              0.2222222222222222,
              "#7201a8"
             ],
             [
              0.3333333333333333,
              "#9c179e"
             ],
             [
              0.4444444444444444,
              "#bd3786"
             ],
             [
              0.5555555555555556,
              "#d8576b"
             ],
             [
              0.6666666666666666,
              "#ed7953"
             ],
             [
              0.7777777777777778,
              "#fb9f3a"
             ],
             [
              0.8888888888888888,
              "#fdca26"
             ],
             [
              1,
              "#f0f921"
             ]
            ],
            "type": "heatmap"
           }
          ],
          "heatmapgl": [
           {
            "colorbar": {
             "outlinewidth": 0,
             "ticks": ""
            },
            "colorscale": [
             [
              0,
              "#0d0887"
             ],
             [
              0.1111111111111111,
              "#46039f"
             ],
             [
              0.2222222222222222,
              "#7201a8"
             ],
             [
              0.3333333333333333,
              "#9c179e"
             ],
             [
              0.4444444444444444,
              "#bd3786"
             ],
             [
              0.5555555555555556,
              "#d8576b"
             ],
             [
              0.6666666666666666,
              "#ed7953"
             ],
             [
              0.7777777777777778,
              "#fb9f3a"
             ],
             [
              0.8888888888888888,
              "#fdca26"
             ],
             [
              1,
              "#f0f921"
             ]
            ],
            "type": "heatmapgl"
           }
          ],
          "histogram": [
           {
            "marker": {
             "pattern": {
              "fillmode": "overlay",
              "size": 10,
              "solidity": 0.2
             }
            },
            "type": "histogram"
           }
          ],
          "histogram2d": [
           {
            "colorbar": {
             "outlinewidth": 0,
             "ticks": ""
            },
            "colorscale": [
             [
              0,
              "#0d0887"
             ],
             [
              0.1111111111111111,
              "#46039f"
             ],
             [
              0.2222222222222222,
              "#7201a8"
             ],
             [
              0.3333333333333333,
              "#9c179e"
             ],
             [
              0.4444444444444444,
              "#bd3786"
             ],
             [
              0.5555555555555556,
              "#d8576b"
             ],
             [
              0.6666666666666666,
              "#ed7953"
             ],
             [
              0.7777777777777778,
              "#fb9f3a"
             ],
             [
              0.8888888888888888,
              "#fdca26"
             ],
             [
              1,
              "#f0f921"
             ]
            ],
            "type": "histogram2d"
           }
          ],
          "histogram2dcontour": [
           {
            "colorbar": {
             "outlinewidth": 0,
             "ticks": ""
            },
            "colorscale": [
             [
              0,
              "#0d0887"
             ],
             [
              0.1111111111111111,
              "#46039f"
             ],
             [
              0.2222222222222222,
              "#7201a8"
             ],
             [
              0.3333333333333333,
              "#9c179e"
             ],
             [
              0.4444444444444444,
              "#bd3786"
             ],
             [
              0.5555555555555556,
              "#d8576b"
             ],
             [
              0.6666666666666666,
              "#ed7953"
             ],
             [
              0.7777777777777778,
              "#fb9f3a"
             ],
             [
              0.8888888888888888,
              "#fdca26"
             ],
             [
              1,
              "#f0f921"
             ]
            ],
            "type": "histogram2dcontour"
           }
          ],
          "mesh3d": [
           {
            "colorbar": {
             "outlinewidth": 0,
             "ticks": ""
            },
            "type": "mesh3d"
           }
          ],
          "parcoords": [
           {
            "line": {
             "colorbar": {
              "outlinewidth": 0,
              "ticks": ""
             }
            },
            "type": "parcoords"
           }
          ],
          "pie": [
           {
            "automargin": true,
            "type": "pie"
           }
          ],
          "scatter": [
           {
            "fillpattern": {
             "fillmode": "overlay",
             "size": 10,
             "solidity": 0.2
            },
            "type": "scatter"
           }
          ],
          "scatter3d": [
           {
            "line": {
             "colorbar": {
              "outlinewidth": 0,
              "ticks": ""
             }
            },
            "marker": {
             "colorbar": {
              "outlinewidth": 0,
              "ticks": ""
             }
            },
            "type": "scatter3d"
           }
          ],
          "scattercarpet": [
           {
            "marker": {
             "colorbar": {
              "outlinewidth": 0,
              "ticks": ""
             }
            },
            "type": "scattercarpet"
           }
          ],
          "scattergeo": [
           {
            "marker": {
             "colorbar": {
              "outlinewidth": 0,
              "ticks": ""
             }
            },
            "type": "scattergeo"
           }
          ],
          "scattergl": [
           {
            "marker": {
             "colorbar": {
              "outlinewidth": 0,
              "ticks": ""
             }
            },
            "type": "scattergl"
           }
          ],
          "scattermapbox": [
           {
            "marker": {
             "colorbar": {
              "outlinewidth": 0,
              "ticks": ""
             }
            },
            "type": "scattermapbox"
           }
          ],
          "scatterpolar": [
           {
            "marker": {
             "colorbar": {
              "outlinewidth": 0,
              "ticks": ""
             }
            },
            "type": "scatterpolar"
           }
          ],
          "scatterpolargl": [
           {
            "marker": {
             "colorbar": {
              "outlinewidth": 0,
              "ticks": ""
             }
            },
            "type": "scatterpolargl"
           }
          ],
          "scatterternary": [
           {
            "marker": {
             "colorbar": {
              "outlinewidth": 0,
              "ticks": ""
             }
            },
            "type": "scatterternary"
           }
          ],
          "surface": [
           {
            "colorbar": {
             "outlinewidth": 0,
             "ticks": ""
            },
            "colorscale": [
             [
              0,
              "#0d0887"
             ],
             [
              0.1111111111111111,
              "#46039f"
             ],
             [
              0.2222222222222222,
              "#7201a8"
             ],
             [
              0.3333333333333333,
              "#9c179e"
             ],
             [
              0.4444444444444444,
              "#bd3786"
             ],
             [
              0.5555555555555556,
              "#d8576b"
             ],
             [
              0.6666666666666666,
              "#ed7953"
             ],
             [
              0.7777777777777778,
              "#fb9f3a"
             ],
             [
              0.8888888888888888,
              "#fdca26"
             ],
             [
              1,
              "#f0f921"
             ]
            ],
            "type": "surface"
           }
          ],
          "table": [
           {
            "cells": {
             "fill": {
              "color": "#EBF0F8"
             },
             "line": {
              "color": "white"
             }
            },
            "header": {
             "fill": {
              "color": "#C8D4E3"
             },
             "line": {
              "color": "white"
             }
            },
            "type": "table"
           }
          ]
         },
         "layout": {
          "annotationdefaults": {
           "arrowcolor": "#2a3f5f",
           "arrowhead": 0,
           "arrowwidth": 1
          },
          "autotypenumbers": "strict",
          "coloraxis": {
           "colorbar": {
            "outlinewidth": 0,
            "ticks": ""
           }
          },
          "colorscale": {
           "diverging": [
            [
             0,
             "#8e0152"
            ],
            [
             0.1,
             "#c51b7d"
            ],
            [
             0.2,
             "#de77ae"
            ],
            [
             0.3,
             "#f1b6da"
            ],
            [
             0.4,
             "#fde0ef"
            ],
            [
             0.5,
             "#f7f7f7"
            ],
            [
             0.6,
             "#e6f5d0"
            ],
            [
             0.7,
             "#b8e186"
            ],
            [
             0.8,
             "#7fbc41"
            ],
            [
             0.9,
             "#4d9221"
            ],
            [
             1,
             "#276419"
            ]
           ],
           "sequential": [
            [
             0,
             "#0d0887"
            ],
            [
             0.1111111111111111,
             "#46039f"
            ],
            [
             0.2222222222222222,
             "#7201a8"
            ],
            [
             0.3333333333333333,
             "#9c179e"
            ],
            [
             0.4444444444444444,
             "#bd3786"
            ],
            [
             0.5555555555555556,
             "#d8576b"
            ],
            [
             0.6666666666666666,
             "#ed7953"
            ],
            [
             0.7777777777777778,
             "#fb9f3a"
            ],
            [
             0.8888888888888888,
             "#fdca26"
            ],
            [
             1,
             "#f0f921"
            ]
           ],
           "sequentialminus": [
            [
             0,
             "#0d0887"
            ],
            [
             0.1111111111111111,
             "#46039f"
            ],
            [
             0.2222222222222222,
             "#7201a8"
            ],
            [
             0.3333333333333333,
             "#9c179e"
            ],
            [
             0.4444444444444444,
             "#bd3786"
            ],
            [
             0.5555555555555556,
             "#d8576b"
            ],
            [
             0.6666666666666666,
             "#ed7953"
            ],
            [
             0.7777777777777778,
             "#fb9f3a"
            ],
            [
             0.8888888888888888,
             "#fdca26"
            ],
            [
             1,
             "#f0f921"
            ]
           ]
          },
          "colorway": [
           "#636efa",
           "#EF553B",
           "#00cc96",
           "#ab63fa",
           "#FFA15A",
           "#19d3f3",
           "#FF6692",
           "#B6E880",
           "#FF97FF",
           "#FECB52"
          ],
          "font": {
           "color": "#2a3f5f"
          },
          "geo": {
           "bgcolor": "white",
           "lakecolor": "white",
           "landcolor": "#E5ECF6",
           "showlakes": true,
           "showland": true,
           "subunitcolor": "white"
          },
          "hoverlabel": {
           "align": "left"
          },
          "hovermode": "closest",
          "mapbox": {
           "style": "light"
          },
          "paper_bgcolor": "white",
          "plot_bgcolor": "#E5ECF6",
          "polar": {
           "angularaxis": {
            "gridcolor": "white",
            "linecolor": "white",
            "ticks": ""
           },
           "bgcolor": "#E5ECF6",
           "radialaxis": {
            "gridcolor": "white",
            "linecolor": "white",
            "ticks": ""
           }
          },
          "scene": {
           "xaxis": {
            "backgroundcolor": "#E5ECF6",
            "gridcolor": "white",
            "gridwidth": 2,
            "linecolor": "white",
            "showbackground": true,
            "ticks": "",
            "zerolinecolor": "white"
           },
           "yaxis": {
            "backgroundcolor": "#E5ECF6",
            "gridcolor": "white",
            "gridwidth": 2,
            "linecolor": "white",
            "showbackground": true,
            "ticks": "",
            "zerolinecolor": "white"
           },
           "zaxis": {
            "backgroundcolor": "#E5ECF6",
            "gridcolor": "white",
            "gridwidth": 2,
            "linecolor": "white",
            "showbackground": true,
            "ticks": "",
            "zerolinecolor": "white"
           }
          },
          "shapedefaults": {
           "line": {
            "color": "#2a3f5f"
           }
          },
          "ternary": {
           "aaxis": {
            "gridcolor": "white",
            "linecolor": "white",
            "ticks": ""
           },
           "baxis": {
            "gridcolor": "white",
            "linecolor": "white",
            "ticks": ""
           },
           "bgcolor": "#E5ECF6",
           "caxis": {
            "gridcolor": "white",
            "linecolor": "white",
            "ticks": ""
           }
          },
          "title": {
           "x": 0.05
          },
          "xaxis": {
           "automargin": true,
           "gridcolor": "white",
           "linecolor": "white",
           "ticks": "",
           "title": {
            "standoff": 15
           },
           "zerolinecolor": "white",
           "zerolinewidth": 2
          },
          "yaxis": {
           "automargin": true,
           "gridcolor": "white",
           "linecolor": "white",
           "ticks": "",
           "title": {
            "standoff": 15
           },
           "zerolinecolor": "white",
           "zerolinewidth": 2
          }
         }
        },
        "title": {
         "text": "Amount of total inbound and outbound flights per airport in July 2019"
        },
        "xaxis": {
         "anchor": "y",
         "domain": [
          0,
          1
         ],
         "range": [
          -0.5,
          4.5
         ],
         "title": {
          "text": "Airport"
         }
        },
        "yaxis": {
         "anchor": "x",
         "domain": [
          0,
          1
         ],
         "title": {
          "text": "Amount of flights"
         }
        }
       }
      }
     },
     "metadata": {},
     "output_type": "display_data"
    }
   ],
   "source": [
    "#import pandas and numpy to work with databases from the airports\n",
    "import pandas as pd\n",
    "import numpy as np\n",
    "\n",
    "#import the flight data from the italy in july 2019\n",
    "df = pd.read_csv('C:/Users/thoma/Downloads/flightlist_20190701_20190731.csv.gz', compression='gzip', header=0, sep=',', quotechar='\"')\n",
    "df.head()\n",
    "\n",
    "#Filter the database so only the airports of interest are included\n",
    "df1 = df[(df['origin'] == 'LIME') | (df['origin'] == 'LIPZ') | (df['origin'] == 'LIPE') | (df['origin'] == 'LIRF') | (df['origin'] == 'LIMC') | (df['destination'] == 'LIME') | (df['destination'] == 'LIPZ') | (df['destination'] == 'LIPE') | (df['destination'] == 'LIRF') | (df['destination'] == 'LIMC')]\n",
    "df1.head(10)\n",
    "\n",
    "#show the amount of inbounds and outbounds flights\n",
    "df1['origin'].value_counts()\n",
    "df1['destination'].value_counts()\n",
    "\n",
    "#Show the amount of outbound flights per airport and create a bar chart\n",
    "import plotly.express as px\n",
    "fig = px.bar(df1, x=df1['origin'].value_counts().index, y=df1['origin'].value_counts().values, title='Amount of flights per airport Amount of flights per airport in July 2019 as origin')\n",
    "fig.update_xaxes(title_text='Airport')\n",
    "fig.update_yaxes(title_text='Amount of flights')\n",
    "fig.update_traces(text=df1['origin'].value_counts().values)\n",
    "fig.update_xaxes(range=(-0.5, 4.5))\n",
    "fig.show()\n",
    "\n",
    "#Show the amount of inbound flights per airport and create a bar chart\n",
    "import plotly.express as px\n",
    "fig = px.bar(df1, x=df1['destination'].value_counts().index, y=df1['destination'].value_counts().values, title='Amount of flights per airport Amount of flights per airport in July 2019 as destination')\n",
    "fig.update_xaxes(title_text='Airport')\n",
    "fig.update_yaxes(title_text='Amount of flights')\n",
    "fig.update_traces(text=df1['destination'].value_counts().values)\n",
    "fig.update_xaxes(range=(-0.5, 4.5))\n",
    "fig.show()\n",
    "\n",
    "#combine the amount of inbound and outbound flights per airport and create a new dataframe with inbound, outbound and total flights\n",
    "df2 = pd.concat([df1['origin'].value_counts(), df1['destination'].value_counts()], axis=1)\n",
    "df2.columns = ['origin', 'destination']\n",
    "df2['total'] = df2['origin'] + df2['destination']\n",
    "df2 = df2.sort_values(by='total', ascending=False)\n",
    "df2.head(5)\n",
    "\n",
    "#add the month and the year to the dataframe and show this new dataframe\n",
    "df2['year'] = 2019\n",
    "df2['month'] = 7\n",
    "print(df2.head(5))\n",
    "\n",
    "#plot the total number of flights per airport in a bar chart\n",
    "import plotly.express as px\n",
    "fig = px.bar(df2, x=df2.index, y=df2['total'], title='Amount of total inbound and outbound flights per airport in July 2019')\n",
    "fig.update_xaxes(title_text='Airport')\n",
    "fig.update_yaxes(title_text='Amount of flights')\n",
    "fig.update_traces(text=df2['total'])\n",
    "fig.update_xaxes(range=(-0.5, 4.5))\n",
    "fig.show()\n",
    "\n",
    "#safe the shortend and filterd data to a new csv file, this csv file will be used in the last section to answer the subquestion\n",
    "df2.to_csv('C:/Users/thoma/Downloads/flightlist_short_20190701_20190731.csv.gz', compression='gzip', header=True, sep=',', quotechar='\"')"
   ]
  },
  {
   "cell_type": "code",
   "execution_count": 2,
   "metadata": {},
   "outputs": [
    {
     "data": {
      "application/vnd.plotly.v1+json": {
       "config": {
        "plotlyServerURL": "https://plot.ly"
       },
       "data": [
        {
         "alignmentgroup": "True",
         "hovertemplate": "x=%{x}<br>y=%{y}<extra></extra>",
         "legendgroup": "",
         "marker": {
          "color": "#636efa",
          "pattern": {
           "shape": ""
          }
         },
         "name": "",
         "offsetgroup": "",
         "orientation": "v",
         "showlegend": false,
         "text": [
          4362,
          3658,
          1721,
          1511,
          1299,
          447,
          420,
          285,
          268,
          252,
          243,
          234,
          230,
          225,
          218,
          211,
          182,
          173,
          159,
          158,
          154,
          133,
          126,
          124,
          117,
          111,
          108,
          106,
          100,
          99,
          97,
          91,
          86,
          81,
          77,
          76,
          73,
          69,
          67,
          66,
          63,
          62,
          61,
          61,
          59,
          59,
          58,
          57,
          54,
          51,
          50,
          48,
          47,
          46,
          46,
          46,
          42,
          41,
          39,
          38,
          38,
          36,
          34,
          34,
          33,
          33,
          32,
          31,
          29,
          28,
          28,
          27,
          27,
          26,
          25,
          25,
          23,
          23,
          22,
          22,
          22,
          21,
          20,
          20,
          19,
          19,
          18,
          18,
          18,
          17,
          17,
          17,
          17,
          16,
          16,
          16,
          15,
          14,
          14,
          14,
          14,
          13,
          13,
          13,
          13,
          12,
          12,
          11,
          10,
          10,
          9,
          9,
          9,
          9,
          9,
          9,
          8,
          8,
          8,
          8,
          8,
          8,
          8,
          8,
          8,
          8,
          7,
          7,
          7,
          7,
          6,
          6,
          6,
          6,
          6,
          6,
          6,
          6,
          5,
          5,
          5,
          5,
          5,
          5,
          5,
          5,
          5,
          4,
          4,
          4,
          4,
          4,
          4,
          4,
          4,
          4,
          4,
          4,
          3,
          3,
          3,
          3,
          3,
          3,
          3,
          3,
          3,
          3,
          3,
          3,
          3,
          2,
          2,
          2,
          2,
          2,
          2,
          2,
          2,
          2,
          2,
          2,
          2,
          2,
          2,
          2,
          2,
          2,
          2,
          2,
          2,
          2,
          2,
          2,
          2,
          1,
          1,
          1,
          1,
          1,
          1,
          1,
          1,
          1,
          1,
          1,
          1,
          1,
          1,
          1,
          1,
          1,
          1,
          1,
          1,
          1,
          1,
          1,
          1,
          1,
          1,
          1,
          1,
          1,
          1,
          1,
          1,
          1,
          1,
          1,
          1,
          1,
          1,
          1,
          1,
          1,
          1,
          1,
          1,
          1,
          1,
          1,
          1,
          1,
          1,
          1,
          1,
          1,
          1,
          1,
          1,
          1,
          1,
          1,
          1,
          1,
          1,
          1,
          1,
          1,
          1,
          1,
          1,
          1,
          1,
          1,
          1,
          1,
          1,
          1,
          1,
          1,
          1,
          1,
          1,
          1,
          1,
          1,
          1
         ],
         "textposition": "auto",
         "type": "bar",
         "x": [
          "LIMC",
          "LIRF",
          "LIME",
          "LIPZ",
          "LIPE",
          "LIEE",
          "LFPG",
          "EGLL",
          "LEBL",
          "LIBD",
          "LICJ",
          "EDDF",
          "LIEO",
          "EHAM",
          "EDDM",
          "LEMD",
          "LIEA",
          "LICC",
          "EDDP",
          "LGAV",
          "LOWW",
          "LEIB",
          "LROP",
          "EDDK",
          "EBBR",
          "LICA",
          "EGSS",
          "EGGW",
          "OTHH",
          "LPPT",
          "ELLX",
          "LSZH",
          "EPWA",
          "EKCH",
          "EBMB",
          "LFPO",
          "EIDW",
          "EBLG",
          "LHBP",
          "LMML",
          "LEPA",
          "LIRA",
          "LIED",
          "EGNX",
          "EGKK",
          "EGMC",
          "GMMN",
          "LEMG",
          "EHEH",
          "LIMF",
          "LIPO",
          "UKBB",
          "OMDB",
          "EPKK",
          "EDDL",
          "LEZL",
          "LKPR",
          "EBCI",
          "LGMK",
          "LIMJ",
          "LEMH",
          "EGCC",
          "EGGD",
          "EVRA",
          "UMMS",
          "LSGG",
          "EDDT",
          "EDDB",
          "EGPH",
          "LEAL",
          "EPGD",
          "LLBG",
          "LPPR",
          "KORD",
          "LIPY",
          "ZGSZ",
          "LDZA",
          "KEWR",
          "OMAA",
          "EDDS",
          "EYVI",
          "UKLL",
          "LIML",
          "KJFK",
          "LFOB",
          "UUEE",
          "KPHL",
          "EPMO",
          "LRTR",
          "LIBR",
          "EDFM",
          "LYBE",
          "LGIR",
          "LIPL",
          "EDDH",
          "LJLJ",
          "CYYZ",
          "GOBD",
          "VHHH",
          "LGSR",
          "LTBA",
          "LPFR",
          "BIKF",
          "VIDP",
          "LFPB",
          "EETN",
          "LRCV",
          "LIPX",
          "EGKB",
          "LFML",
          "ESGG",
          "EFLP",
          "LICB",
          "EIKN",
          "VABB",
          "LFMN",
          "EGAA",
          "ESKN",
          "ENTO",
          "EYKA",
          "ESSA",
          "EKBI",
          "GCLP",
          "EICK",
          "EPKT",
          "LGKN",
          "LDDU",
          "EPPO",
          "LIBC",
          "GCRR",
          "EGLF",
          "CYUL",
          "LILG",
          "LIPR",
          "KBOS",
          "LSZA",
          "LILC",
          "HECA",
          "DAAG",
          "LFKF",
          "LIRU",
          "LIMB",
          "LTFJ",
          "LOWL",
          "LDSR",
          "DTTA",
          "EGBJ",
          "WSSS",
          "LOWS",
          "LILR",
          "EGBB",
          "LILV",
          "KLAX",
          "LICT",
          "GCFV",
          "LOWG",
          "EDMO",
          "LRCL",
          "LIPN",
          "LIMP",
          "EDRZ",
          "LDZD",
          "LCLK",
          "LEZG",
          "LIPQ",
          "LSZR",
          "LIDA",
          "LILN",
          "LATI",
          "UUWW",
          "LFLL",
          "LIRE",
          "OLBA",
          "LKTB",
          "LIRS",
          "GMMT",
          "RKSI",
          "LFMQ",
          "EDJA",
          "LIDR",
          "LRBS",
          "EPZB",
          "LFTH",
          "EGTK",
          "LFBD",
          "LIRZ",
          "VGTJ",
          "LIMA",
          "LIDE",
          "LILB",
          "LDSP",
          "LESL",
          "EDSB",
          "LFDT",
          "LDPL",
          "LFKJ",
          "EGTF",
          "LFPN",
          "LIPD",
          "LKMT",
          "LPAR",
          "LFBH",
          "ETHN",
          "LCPH",
          "EGNP",
          "LFLI",
          "LGKO",
          "ORMM",
          "LSZM",
          "EPRZ",
          "EDFU",
          "LFSN",
          "GBYD",
          "LIRP",
          "LIPC",
          "LZIB",
          "LKKA",
          "EGGP",
          "VVTS",
          "LIPI",
          "LIDF",
          "EDNY",
          "EDTD",
          "LD57",
          "LIPV",
          "EDFH",
          "LIRQ",
          "LFRS",
          "LDRI",
          "EGSH",
          "LFMP",
          "LFAT",
          "LBWV",
          "EHRD",
          "SAEZ",
          "LIDU",
          "EDDC",
          "EGCN",
          "ESMS",
          "LFMV",
          "EKYT",
          "LIPK",
          "LOXZ",
          "EGNV",
          "LIDV",
          "UUDD",
          "LFMD",
          "EBAW",
          "LPAZ",
          "LFHC",
          "LFBI",
          "EPWR",
          "LIDH",
          "HKMO",
          "LFHJ",
          "EDQA",
          "EHGG",
          "LSMP",
          "LSZL",
          "EDDN",
          "EDAZ",
          "LEVC",
          "LFOV",
          "LEGE",
          "LYBT",
          "LJPZ",
          "EHBK",
          "LICP",
          "LEJR",
          "LIRN",
          "FAOR",
          "LIET",
          "LICG",
          "EINN",
          "LBSF",
          "EDAY",
          "LIPU",
          "EKAH",
          "LGRP"
         ],
         "xaxis": "x",
         "y": [
          4362,
          3658,
          1721,
          1511,
          1299,
          447,
          420,
          285,
          268,
          252,
          243,
          234,
          230,
          225,
          218,
          211,
          182,
          173,
          159,
          158,
          154,
          133,
          126,
          124,
          117,
          111,
          108,
          106,
          100,
          99,
          97,
          91,
          86,
          81,
          77,
          76,
          73,
          69,
          67,
          66,
          63,
          62,
          61,
          61,
          59,
          59,
          58,
          57,
          54,
          51,
          50,
          48,
          47,
          46,
          46,
          46,
          42,
          41,
          39,
          38,
          38,
          36,
          34,
          34,
          33,
          33,
          32,
          31,
          29,
          28,
          28,
          27,
          27,
          26,
          25,
          25,
          23,
          23,
          22,
          22,
          22,
          21,
          20,
          20,
          19,
          19,
          18,
          18,
          18,
          17,
          17,
          17,
          17,
          16,
          16,
          16,
          15,
          14,
          14,
          14,
          14,
          13,
          13,
          13,
          13,
          12,
          12,
          11,
          10,
          10,
          9,
          9,
          9,
          9,
          9,
          9,
          8,
          8,
          8,
          8,
          8,
          8,
          8,
          8,
          8,
          8,
          7,
          7,
          7,
          7,
          6,
          6,
          6,
          6,
          6,
          6,
          6,
          6,
          5,
          5,
          5,
          5,
          5,
          5,
          5,
          5,
          5,
          4,
          4,
          4,
          4,
          4,
          4,
          4,
          4,
          4,
          4,
          4,
          3,
          3,
          3,
          3,
          3,
          3,
          3,
          3,
          3,
          3,
          3,
          3,
          3,
          2,
          2,
          2,
          2,
          2,
          2,
          2,
          2,
          2,
          2,
          2,
          2,
          2,
          2,
          2,
          2,
          2,
          2,
          2,
          2,
          2,
          2,
          2,
          2,
          1,
          1,
          1,
          1,
          1,
          1,
          1,
          1,
          1,
          1,
          1,
          1,
          1,
          1,
          1,
          1,
          1,
          1,
          1,
          1,
          1,
          1,
          1,
          1,
          1,
          1,
          1,
          1,
          1,
          1,
          1,
          1,
          1,
          1,
          1,
          1,
          1,
          1,
          1,
          1,
          1,
          1,
          1,
          1,
          1,
          1,
          1,
          1,
          1,
          1,
          1,
          1,
          1,
          1,
          1,
          1,
          1,
          1,
          1,
          1,
          1,
          1,
          1,
          1,
          1,
          1,
          1,
          1,
          1,
          1,
          1,
          1,
          1,
          1,
          1,
          1,
          1,
          1,
          1,
          1,
          1,
          1,
          1,
          1
         ],
         "yaxis": "y"
        }
       ],
       "layout": {
        "barmode": "relative",
        "legend": {
         "tracegroupgap": 0
        },
        "template": {
         "data": {
          "bar": [
           {
            "error_x": {
             "color": "#2a3f5f"
            },
            "error_y": {
             "color": "#2a3f5f"
            },
            "marker": {
             "line": {
              "color": "#E5ECF6",
              "width": 0.5
             },
             "pattern": {
              "fillmode": "overlay",
              "size": 10,
              "solidity": 0.2
             }
            },
            "type": "bar"
           }
          ],
          "barpolar": [
           {
            "marker": {
             "line": {
              "color": "#E5ECF6",
              "width": 0.5
             },
             "pattern": {
              "fillmode": "overlay",
              "size": 10,
              "solidity": 0.2
             }
            },
            "type": "barpolar"
           }
          ],
          "carpet": [
           {
            "aaxis": {
             "endlinecolor": "#2a3f5f",
             "gridcolor": "white",
             "linecolor": "white",
             "minorgridcolor": "white",
             "startlinecolor": "#2a3f5f"
            },
            "baxis": {
             "endlinecolor": "#2a3f5f",
             "gridcolor": "white",
             "linecolor": "white",
             "minorgridcolor": "white",
             "startlinecolor": "#2a3f5f"
            },
            "type": "carpet"
           }
          ],
          "choropleth": [
           {
            "colorbar": {
             "outlinewidth": 0,
             "ticks": ""
            },
            "type": "choropleth"
           }
          ],
          "contour": [
           {
            "colorbar": {
             "outlinewidth": 0,
             "ticks": ""
            },
            "colorscale": [
             [
              0,
              "#0d0887"
             ],
             [
              0.1111111111111111,
              "#46039f"
             ],
             [
              0.2222222222222222,
              "#7201a8"
             ],
             [
              0.3333333333333333,
              "#9c179e"
             ],
             [
              0.4444444444444444,
              "#bd3786"
             ],
             [
              0.5555555555555556,
              "#d8576b"
             ],
             [
              0.6666666666666666,
              "#ed7953"
             ],
             [
              0.7777777777777778,
              "#fb9f3a"
             ],
             [
              0.8888888888888888,
              "#fdca26"
             ],
             [
              1,
              "#f0f921"
             ]
            ],
            "type": "contour"
           }
          ],
          "contourcarpet": [
           {
            "colorbar": {
             "outlinewidth": 0,
             "ticks": ""
            },
            "type": "contourcarpet"
           }
          ],
          "heatmap": [
           {
            "colorbar": {
             "outlinewidth": 0,
             "ticks": ""
            },
            "colorscale": [
             [
              0,
              "#0d0887"
             ],
             [
              0.1111111111111111,
              "#46039f"
             ],
             [
              0.2222222222222222,
              "#7201a8"
             ],
             [
              0.3333333333333333,
              "#9c179e"
             ],
             [
              0.4444444444444444,
              "#bd3786"
             ],
             [
              0.5555555555555556,
              "#d8576b"
             ],
             [
              0.6666666666666666,
              "#ed7953"
             ],
             [
              0.7777777777777778,
              "#fb9f3a"
             ],
             [
              0.8888888888888888,
              "#fdca26"
             ],
             [
              1,
              "#f0f921"
             ]
            ],
            "type": "heatmap"
           }
          ],
          "heatmapgl": [
           {
            "colorbar": {
             "outlinewidth": 0,
             "ticks": ""
            },
            "colorscale": [
             [
              0,
              "#0d0887"
             ],
             [
              0.1111111111111111,
              "#46039f"
             ],
             [
              0.2222222222222222,
              "#7201a8"
             ],
             [
              0.3333333333333333,
              "#9c179e"
             ],
             [
              0.4444444444444444,
              "#bd3786"
             ],
             [
              0.5555555555555556,
              "#d8576b"
             ],
             [
              0.6666666666666666,
              "#ed7953"
             ],
             [
              0.7777777777777778,
              "#fb9f3a"
             ],
             [
              0.8888888888888888,
              "#fdca26"
             ],
             [
              1,
              "#f0f921"
             ]
            ],
            "type": "heatmapgl"
           }
          ],
          "histogram": [
           {
            "marker": {
             "pattern": {
              "fillmode": "overlay",
              "size": 10,
              "solidity": 0.2
             }
            },
            "type": "histogram"
           }
          ],
          "histogram2d": [
           {
            "colorbar": {
             "outlinewidth": 0,
             "ticks": ""
            },
            "colorscale": [
             [
              0,
              "#0d0887"
             ],
             [
              0.1111111111111111,
              "#46039f"
             ],
             [
              0.2222222222222222,
              "#7201a8"
             ],
             [
              0.3333333333333333,
              "#9c179e"
             ],
             [
              0.4444444444444444,
              "#bd3786"
             ],
             [
              0.5555555555555556,
              "#d8576b"
             ],
             [
              0.6666666666666666,
              "#ed7953"
             ],
             [
              0.7777777777777778,
              "#fb9f3a"
             ],
             [
              0.8888888888888888,
              "#fdca26"
             ],
             [
              1,
              "#f0f921"
             ]
            ],
            "type": "histogram2d"
           }
          ],
          "histogram2dcontour": [
           {
            "colorbar": {
             "outlinewidth": 0,
             "ticks": ""
            },
            "colorscale": [
             [
              0,
              "#0d0887"
             ],
             [
              0.1111111111111111,
              "#46039f"
             ],
             [
              0.2222222222222222,
              "#7201a8"
             ],
             [
              0.3333333333333333,
              "#9c179e"
             ],
             [
              0.4444444444444444,
              "#bd3786"
             ],
             [
              0.5555555555555556,
              "#d8576b"
             ],
             [
              0.6666666666666666,
              "#ed7953"
             ],
             [
              0.7777777777777778,
              "#fb9f3a"
             ],
             [
              0.8888888888888888,
              "#fdca26"
             ],
             [
              1,
              "#f0f921"
             ]
            ],
            "type": "histogram2dcontour"
           }
          ],
          "mesh3d": [
           {
            "colorbar": {
             "outlinewidth": 0,
             "ticks": ""
            },
            "type": "mesh3d"
           }
          ],
          "parcoords": [
           {
            "line": {
             "colorbar": {
              "outlinewidth": 0,
              "ticks": ""
             }
            },
            "type": "parcoords"
           }
          ],
          "pie": [
           {
            "automargin": true,
            "type": "pie"
           }
          ],
          "scatter": [
           {
            "fillpattern": {
             "fillmode": "overlay",
             "size": 10,
             "solidity": 0.2
            },
            "type": "scatter"
           }
          ],
          "scatter3d": [
           {
            "line": {
             "colorbar": {
              "outlinewidth": 0,
              "ticks": ""
             }
            },
            "marker": {
             "colorbar": {
              "outlinewidth": 0,
              "ticks": ""
             }
            },
            "type": "scatter3d"
           }
          ],
          "scattercarpet": [
           {
            "marker": {
             "colorbar": {
              "outlinewidth": 0,
              "ticks": ""
             }
            },
            "type": "scattercarpet"
           }
          ],
          "scattergeo": [
           {
            "marker": {
             "colorbar": {
              "outlinewidth": 0,
              "ticks": ""
             }
            },
            "type": "scattergeo"
           }
          ],
          "scattergl": [
           {
            "marker": {
             "colorbar": {
              "outlinewidth": 0,
              "ticks": ""
             }
            },
            "type": "scattergl"
           }
          ],
          "scattermapbox": [
           {
            "marker": {
             "colorbar": {
              "outlinewidth": 0,
              "ticks": ""
             }
            },
            "type": "scattermapbox"
           }
          ],
          "scatterpolar": [
           {
            "marker": {
             "colorbar": {
              "outlinewidth": 0,
              "ticks": ""
             }
            },
            "type": "scatterpolar"
           }
          ],
          "scatterpolargl": [
           {
            "marker": {
             "colorbar": {
              "outlinewidth": 0,
              "ticks": ""
             }
            },
            "type": "scatterpolargl"
           }
          ],
          "scatterternary": [
           {
            "marker": {
             "colorbar": {
              "outlinewidth": 0,
              "ticks": ""
             }
            },
            "type": "scatterternary"
           }
          ],
          "surface": [
           {
            "colorbar": {
             "outlinewidth": 0,
             "ticks": ""
            },
            "colorscale": [
             [
              0,
              "#0d0887"
             ],
             [
              0.1111111111111111,
              "#46039f"
             ],
             [
              0.2222222222222222,
              "#7201a8"
             ],
             [
              0.3333333333333333,
              "#9c179e"
             ],
             [
              0.4444444444444444,
              "#bd3786"
             ],
             [
              0.5555555555555556,
              "#d8576b"
             ],
             [
              0.6666666666666666,
              "#ed7953"
             ],
             [
              0.7777777777777778,
              "#fb9f3a"
             ],
             [
              0.8888888888888888,
              "#fdca26"
             ],
             [
              1,
              "#f0f921"
             ]
            ],
            "type": "surface"
           }
          ],
          "table": [
           {
            "cells": {
             "fill": {
              "color": "#EBF0F8"
             },
             "line": {
              "color": "white"
             }
            },
            "header": {
             "fill": {
              "color": "#C8D4E3"
             },
             "line": {
              "color": "white"
             }
            },
            "type": "table"
           }
          ]
         },
         "layout": {
          "annotationdefaults": {
           "arrowcolor": "#2a3f5f",
           "arrowhead": 0,
           "arrowwidth": 1
          },
          "autotypenumbers": "strict",
          "coloraxis": {
           "colorbar": {
            "outlinewidth": 0,
            "ticks": ""
           }
          },
          "colorscale": {
           "diverging": [
            [
             0,
             "#8e0152"
            ],
            [
             0.1,
             "#c51b7d"
            ],
            [
             0.2,
             "#de77ae"
            ],
            [
             0.3,
             "#f1b6da"
            ],
            [
             0.4,
             "#fde0ef"
            ],
            [
             0.5,
             "#f7f7f7"
            ],
            [
             0.6,
             "#e6f5d0"
            ],
            [
             0.7,
             "#b8e186"
            ],
            [
             0.8,
             "#7fbc41"
            ],
            [
             0.9,
             "#4d9221"
            ],
            [
             1,
             "#276419"
            ]
           ],
           "sequential": [
            [
             0,
             "#0d0887"
            ],
            [
             0.1111111111111111,
             "#46039f"
            ],
            [
             0.2222222222222222,
             "#7201a8"
            ],
            [
             0.3333333333333333,
             "#9c179e"
            ],
            [
             0.4444444444444444,
             "#bd3786"
            ],
            [
             0.5555555555555556,
             "#d8576b"
            ],
            [
             0.6666666666666666,
             "#ed7953"
            ],
            [
             0.7777777777777778,
             "#fb9f3a"
            ],
            [
             0.8888888888888888,
             "#fdca26"
            ],
            [
             1,
             "#f0f921"
            ]
           ],
           "sequentialminus": [
            [
             0,
             "#0d0887"
            ],
            [
             0.1111111111111111,
             "#46039f"
            ],
            [
             0.2222222222222222,
             "#7201a8"
            ],
            [
             0.3333333333333333,
             "#9c179e"
            ],
            [
             0.4444444444444444,
             "#bd3786"
            ],
            [
             0.5555555555555556,
             "#d8576b"
            ],
            [
             0.6666666666666666,
             "#ed7953"
            ],
            [
             0.7777777777777778,
             "#fb9f3a"
            ],
            [
             0.8888888888888888,
             "#fdca26"
            ],
            [
             1,
             "#f0f921"
            ]
           ]
          },
          "colorway": [
           "#636efa",
           "#EF553B",
           "#00cc96",
           "#ab63fa",
           "#FFA15A",
           "#19d3f3",
           "#FF6692",
           "#B6E880",
           "#FF97FF",
           "#FECB52"
          ],
          "font": {
           "color": "#2a3f5f"
          },
          "geo": {
           "bgcolor": "white",
           "lakecolor": "white",
           "landcolor": "#E5ECF6",
           "showlakes": true,
           "showland": true,
           "subunitcolor": "white"
          },
          "hoverlabel": {
           "align": "left"
          },
          "hovermode": "closest",
          "mapbox": {
           "style": "light"
          },
          "paper_bgcolor": "white",
          "plot_bgcolor": "#E5ECF6",
          "polar": {
           "angularaxis": {
            "gridcolor": "white",
            "linecolor": "white",
            "ticks": ""
           },
           "bgcolor": "#E5ECF6",
           "radialaxis": {
            "gridcolor": "white",
            "linecolor": "white",
            "ticks": ""
           }
          },
          "scene": {
           "xaxis": {
            "backgroundcolor": "#E5ECF6",
            "gridcolor": "white",
            "gridwidth": 2,
            "linecolor": "white",
            "showbackground": true,
            "ticks": "",
            "zerolinecolor": "white"
           },
           "yaxis": {
            "backgroundcolor": "#E5ECF6",
            "gridcolor": "white",
            "gridwidth": 2,
            "linecolor": "white",
            "showbackground": true,
            "ticks": "",
            "zerolinecolor": "white"
           },
           "zaxis": {
            "backgroundcolor": "#E5ECF6",
            "gridcolor": "white",
            "gridwidth": 2,
            "linecolor": "white",
            "showbackground": true,
            "ticks": "",
            "zerolinecolor": "white"
           }
          },
          "shapedefaults": {
           "line": {
            "color": "#2a3f5f"
           }
          },
          "ternary": {
           "aaxis": {
            "gridcolor": "white",
            "linecolor": "white",
            "ticks": ""
           },
           "baxis": {
            "gridcolor": "white",
            "linecolor": "white",
            "ticks": ""
           },
           "bgcolor": "#E5ECF6",
           "caxis": {
            "gridcolor": "white",
            "linecolor": "white",
            "ticks": ""
           }
          },
          "title": {
           "x": 0.05
          },
          "xaxis": {
           "automargin": true,
           "gridcolor": "white",
           "linecolor": "white",
           "ticks": "",
           "title": {
            "standoff": 15
           },
           "zerolinecolor": "white",
           "zerolinewidth": 2
          },
          "yaxis": {
           "automargin": true,
           "gridcolor": "white",
           "linecolor": "white",
           "ticks": "",
           "title": {
            "standoff": 15
           },
           "zerolinecolor": "white",
           "zerolinewidth": 2
          }
         }
        },
        "title": {
         "text": "Amount of flights per airport Amount of flights per airport in July 2020 as origin"
        },
        "xaxis": {
         "anchor": "y",
         "domain": [
          0,
          1
         ],
         "range": [
          -0.5,
          4.5
         ],
         "title": {
          "text": "Airport"
         }
        },
        "yaxis": {
         "anchor": "x",
         "domain": [
          0,
          1
         ],
         "title": {
          "text": "Amount of flights"
         }
        }
       }
      }
     },
     "metadata": {},
     "output_type": "display_data"
    },
    {
     "data": {
      "application/vnd.plotly.v1+json": {
       "config": {
        "plotlyServerURL": "https://plot.ly"
       },
       "data": [
        {
         "alignmentgroup": "True",
         "hovertemplate": "x=%{x}<br>y=%{y}<extra></extra>",
         "legendgroup": "",
         "marker": {
          "color": "#636efa",
          "pattern": {
           "shape": ""
          }
         },
         "name": "",
         "offsetgroup": "",
         "orientation": "v",
         "showlegend": false,
         "text": [
          4382,
          3753,
          1761,
          1526,
          1196,
          452,
          429,
          313,
          311,
          268,
          254,
          252,
          236,
          234,
          222,
          205,
          190,
          180,
          176,
          173,
          170,
          167,
          161,
          151,
          136,
          135,
          131,
          130,
          122,
          100,
          98,
          92,
          89,
          88,
          85,
          82,
          77,
          72,
          70,
          68,
          68,
          67,
          65,
          64,
          61,
          60,
          58,
          57,
          57,
          55,
          54,
          52,
          49,
          49,
          48,
          48,
          45,
          44,
          44,
          42,
          42,
          39,
          38,
          36,
          36,
          36,
          36,
          33,
          33,
          32,
          31,
          31,
          30,
          29,
          29,
          29,
          28,
          27,
          27,
          26,
          25,
          25,
          24,
          24,
          22,
          21,
          21,
          21,
          21,
          21,
          20,
          18,
          18,
          18,
          18,
          17,
          17,
          16,
          16,
          16,
          16,
          15,
          15,
          14,
          14,
          13,
          13,
          13,
          13,
          13,
          13,
          12,
          12,
          12,
          11,
          10,
          10,
          9,
          9,
          9,
          9,
          9,
          9,
          9,
          9,
          9,
          9,
          9,
          8,
          8,
          8,
          8,
          8,
          8,
          8,
          8,
          8,
          8,
          7,
          7,
          7,
          7,
          6,
          6,
          6,
          6,
          6,
          6,
          6,
          6,
          6,
          5,
          5,
          5,
          5,
          5,
          5,
          5,
          4,
          4,
          4,
          4,
          4,
          4,
          4,
          4,
          4,
          4,
          4,
          4,
          4,
          4,
          4,
          3,
          3,
          3,
          3,
          3,
          3,
          3,
          3,
          3,
          3,
          3,
          3,
          3,
          3,
          3,
          3,
          3,
          3,
          3,
          2,
          2,
          2,
          2,
          2,
          2,
          2,
          2,
          2,
          2,
          2,
          2,
          2,
          2,
          2,
          2,
          2,
          2,
          2,
          2,
          2,
          2,
          2,
          2,
          2,
          2,
          2,
          2,
          2,
          2,
          2,
          2,
          2,
          1,
          1,
          1,
          1,
          1,
          1,
          1,
          1,
          1,
          1,
          1,
          1,
          1,
          1,
          1,
          1,
          1,
          1,
          1,
          1,
          1,
          1,
          1,
          1,
          1,
          1,
          1,
          1,
          1,
          1,
          1,
          1,
          1,
          1,
          1,
          1,
          1,
          1,
          1,
          1,
          1,
          1,
          1,
          1,
          1,
          1,
          1,
          1,
          1,
          1,
          1,
          1,
          1,
          1,
          1,
          1,
          1,
          1,
          1,
          1,
          1,
          1,
          1,
          1,
          1,
          1,
          1,
          1,
          1,
          1,
          1,
          1,
          1,
          1,
          1,
          1,
          1,
          1,
          1,
          1,
          1,
          1,
          1,
          1,
          1,
          1,
          1,
          1,
          1,
          1,
          1,
          1,
          1,
          1,
          1,
          1,
          1,
          1,
          1,
          1,
          1,
          1,
          1,
          1,
          1,
          1
         ],
         "textposition": "auto",
         "type": "bar",
         "x": [
          "LIMC",
          "LIRF",
          "LIME",
          "LIPZ",
          "LIPE",
          "LFPG",
          "LICZ",
          "EGLL",
          "LIEE",
          "LIEO",
          "LIBD",
          "LEBL",
          "LIED",
          "EDDF",
          "EDDM",
          "LIEA",
          "LEMD",
          "EDDP",
          "LIBR",
          "EHAM",
          "EBBR",
          "LICJ",
          "LGAV",
          "LICA",
          "LEIB",
          "EDDK",
          "LOWW",
          "LROP",
          "OTHH",
          "ELLX",
          "EGSS",
          "LPPT",
          "LSZH",
          "EPWA",
          "EGGW",
          "EKCH",
          "LFPO",
          "EIDW",
          "LEMH",
          "LIRA",
          "LHBP",
          "EBLG",
          "LIMA",
          "LEPA",
          "LEMG",
          "LMML",
          "GMMN",
          "EHEH",
          "EGMC",
          "EGNX",
          "LTBW",
          "LICP",
          "LICR",
          "LGMK",
          "EPKK",
          "UKBB",
          "EDDL",
          "LKPR",
          "EGKK",
          "EBCI",
          "LEZL",
          "EGCC",
          "EBMB",
          "UMMS",
          "EGGD",
          "LIPY",
          "LSGG",
          "EDDT",
          "LIMJ",
          "UUEE",
          "EDDV",
          "OMDB",
          "KJFK",
          "LEAL",
          "LIML",
          "RKSI",
          "EVRA",
          "LIPX",
          "EPGD",
          "KEWR",
          "LPPR",
          "EDDB",
          "LRCL",
          "LLBG",
          "EYVI",
          "LTBA",
          "ZGSZ",
          "LFOB",
          "EDDS",
          "UKLL",
          "KORD",
          "LGSR",
          "LFPB",
          "EPMO",
          "KPHL",
          "OMAA",
          "LJLJ",
          "LGIR",
          "EGPH",
          "EGKR",
          "DTTA",
          "EDDH",
          "LIPL",
          "CYYZ",
          "EGKB",
          "LPFR",
          "EPKT",
          "EETN",
          "LIMN",
          "GOBD",
          "VHHH",
          "LPAR",
          "LIPM",
          "EDFM",
          "VIDP",
          "LRTR",
          "LIPO",
          "LYBE",
          "LICB",
          "BIKF",
          "ESGG",
          "EGLF",
          "EIKN",
          "EFLP",
          "LYBT",
          "EYKA",
          "EICK",
          "EGAA",
          "GCRR",
          "LIRQ",
          "EKBI",
          "ENTO",
          "LYKI",
          "LIBC",
          "OMAM",
          "ESSA",
          "LDZA",
          "VABB",
          "LAGJ",
          "LDDU",
          "LDSR",
          "KBOS",
          "LATI",
          "EGBJ",
          "CYUL",
          "LOWL",
          "LFML",
          "LICT",
          "EDMO",
          "ESKN",
          "LRCV",
          "LTFJ",
          "LOWS",
          "LILC",
          "LFDQ",
          "LIMF",
          "EPKS",
          "GCFV",
          "LILV",
          "LDSP",
          "LIMB",
          "LZIB",
          "LILG",
          "OMAD",
          "LHPR",
          "LFMD",
          "LSZA",
          "LFLL",
          "LIDP",
          "UUWW",
          "OMDW",
          "LSZR",
          "LGSA",
          "LIBG",
          "LEJR",
          "LIDH",
          "EHBK",
          "EDAY",
          "LIPV",
          "EGBB",
          "LESL",
          "LEVC",
          "LIPC",
          "LFMN",
          "EDDG",
          "GCLP",
          "LOWG",
          "LFNR",
          "LILB",
          "LFKF",
          "LIPQ",
          "LOGT",
          "LSZL",
          "LLSD",
          "ESKX",
          "LSGL",
          "SAEZ",
          "LBSF",
          "LILR",
          "LILA",
          "LIQW",
          "EGTK",
          "LILQ",
          "LIRE",
          "LCPH",
          "LOWI",
          "LKMT",
          "LFBD",
          "LIDU",
          "LGKO",
          "EDNY",
          "LIMP",
          "EPWR",
          "LIBP",
          "LGRP",
          "LD57",
          "LIPU",
          "LIDE",
          "LDZD",
          "ENGM",
          "LSPU",
          "LICC",
          "UUDD",
          "LILN",
          "LSGB",
          "EGNM",
          "ETHN",
          "KHPN",
          "ETSI",
          "LETF",
          "LILE",
          "LFRS",
          "LFAT",
          "LFKA",
          "LHPA",
          "LIDR",
          "EDFU",
          "LSZM",
          "EGNR",
          "LSZG",
          "ORMM",
          "LFKJ",
          "EGSH",
          "LOLF",
          "LIPN",
          "EDLN",
          "RJAA",
          "LFBY",
          "LIRZ",
          "LIDG",
          "LFKS",
          "LIRU",
          "LFHI",
          "LDPL",
          "EGLD",
          "LDPM",
          "EDAZ",
          "OMAF",
          "LIPS",
          "LIDW",
          "LFLI",
          "EDFH",
          "EGGP",
          "LFMI",
          "LEVT",
          "LFPN",
          "EDQM",
          "EDTD",
          "LSZB",
          "EDRZ",
          "LFNE",
          "LFTW",
          "EDDN",
          "KLAX",
          "EHRD",
          "LPCS",
          "LIQL",
          "LFDT",
          "GCLB",
          "LIPK",
          "LIQN",
          "OLBA",
          "LIPR",
          "LFFK",
          "EDTB",
          "EDRY",
          "LFMY",
          "LIDA",
          "EDLW",
          "LOWK",
          "EBAW",
          "EBKT",
          "OERK",
          "LFGB",
          "LFMV",
          "ETNG",
          "EKYT",
          "UNCC",
          "EDQA",
          "LFBO",
          "LILH",
          "LFKO",
          "LG55",
          "K06C",
          "LFFE",
          "ULLI",
          "LIPD",
          "LFOV",
          "LFTZ",
          "TJIG",
          "LJPZ",
          "EDRP",
          "LIMR",
          "LKCV",
          "LIQS",
          "LFMT",
          "LKTB",
          "LFCK",
          "EDJA",
          "LOAN",
          "LPSR",
          "EGNV",
          "LLHZ",
          "EGHI",
          "LIPB",
          "EKAH",
          "LOLW",
          "EPPK",
          "HEEM",
          "LCLK",
          "LIPA"
         ],
         "xaxis": "x",
         "y": [
          4382,
          3753,
          1761,
          1526,
          1196,
          452,
          429,
          313,
          311,
          268,
          254,
          252,
          236,
          234,
          222,
          205,
          190,
          180,
          176,
          173,
          170,
          167,
          161,
          151,
          136,
          135,
          131,
          130,
          122,
          100,
          98,
          92,
          89,
          88,
          85,
          82,
          77,
          72,
          70,
          68,
          68,
          67,
          65,
          64,
          61,
          60,
          58,
          57,
          57,
          55,
          54,
          52,
          49,
          49,
          48,
          48,
          45,
          44,
          44,
          42,
          42,
          39,
          38,
          36,
          36,
          36,
          36,
          33,
          33,
          32,
          31,
          31,
          30,
          29,
          29,
          29,
          28,
          27,
          27,
          26,
          25,
          25,
          24,
          24,
          22,
          21,
          21,
          21,
          21,
          21,
          20,
          18,
          18,
          18,
          18,
          17,
          17,
          16,
          16,
          16,
          16,
          15,
          15,
          14,
          14,
          13,
          13,
          13,
          13,
          13,
          13,
          12,
          12,
          12,
          11,
          10,
          10,
          9,
          9,
          9,
          9,
          9,
          9,
          9,
          9,
          9,
          9,
          9,
          8,
          8,
          8,
          8,
          8,
          8,
          8,
          8,
          8,
          8,
          7,
          7,
          7,
          7,
          6,
          6,
          6,
          6,
          6,
          6,
          6,
          6,
          6,
          5,
          5,
          5,
          5,
          5,
          5,
          5,
          4,
          4,
          4,
          4,
          4,
          4,
          4,
          4,
          4,
          4,
          4,
          4,
          4,
          4,
          4,
          3,
          3,
          3,
          3,
          3,
          3,
          3,
          3,
          3,
          3,
          3,
          3,
          3,
          3,
          3,
          3,
          3,
          3,
          3,
          2,
          2,
          2,
          2,
          2,
          2,
          2,
          2,
          2,
          2,
          2,
          2,
          2,
          2,
          2,
          2,
          2,
          2,
          2,
          2,
          2,
          2,
          2,
          2,
          2,
          2,
          2,
          2,
          2,
          2,
          2,
          2,
          2,
          1,
          1,
          1,
          1,
          1,
          1,
          1,
          1,
          1,
          1,
          1,
          1,
          1,
          1,
          1,
          1,
          1,
          1,
          1,
          1,
          1,
          1,
          1,
          1,
          1,
          1,
          1,
          1,
          1,
          1,
          1,
          1,
          1,
          1,
          1,
          1,
          1,
          1,
          1,
          1,
          1,
          1,
          1,
          1,
          1,
          1,
          1,
          1,
          1,
          1,
          1,
          1,
          1,
          1,
          1,
          1,
          1,
          1,
          1,
          1,
          1,
          1,
          1,
          1,
          1,
          1,
          1,
          1,
          1,
          1,
          1,
          1,
          1,
          1,
          1,
          1,
          1,
          1,
          1,
          1,
          1,
          1,
          1,
          1,
          1,
          1,
          1,
          1,
          1,
          1,
          1,
          1,
          1,
          1,
          1,
          1,
          1,
          1,
          1,
          1,
          1,
          1,
          1,
          1,
          1,
          1
         ],
         "yaxis": "y"
        }
       ],
       "layout": {
        "barmode": "relative",
        "legend": {
         "tracegroupgap": 0
        },
        "template": {
         "data": {
          "bar": [
           {
            "error_x": {
             "color": "#2a3f5f"
            },
            "error_y": {
             "color": "#2a3f5f"
            },
            "marker": {
             "line": {
              "color": "#E5ECF6",
              "width": 0.5
             },
             "pattern": {
              "fillmode": "overlay",
              "size": 10,
              "solidity": 0.2
             }
            },
            "type": "bar"
           }
          ],
          "barpolar": [
           {
            "marker": {
             "line": {
              "color": "#E5ECF6",
              "width": 0.5
             },
             "pattern": {
              "fillmode": "overlay",
              "size": 10,
              "solidity": 0.2
             }
            },
            "type": "barpolar"
           }
          ],
          "carpet": [
           {
            "aaxis": {
             "endlinecolor": "#2a3f5f",
             "gridcolor": "white",
             "linecolor": "white",
             "minorgridcolor": "white",
             "startlinecolor": "#2a3f5f"
            },
            "baxis": {
             "endlinecolor": "#2a3f5f",
             "gridcolor": "white",
             "linecolor": "white",
             "minorgridcolor": "white",
             "startlinecolor": "#2a3f5f"
            },
            "type": "carpet"
           }
          ],
          "choropleth": [
           {
            "colorbar": {
             "outlinewidth": 0,
             "ticks": ""
            },
            "type": "choropleth"
           }
          ],
          "contour": [
           {
            "colorbar": {
             "outlinewidth": 0,
             "ticks": ""
            },
            "colorscale": [
             [
              0,
              "#0d0887"
             ],
             [
              0.1111111111111111,
              "#46039f"
             ],
             [
              0.2222222222222222,
              "#7201a8"
             ],
             [
              0.3333333333333333,
              "#9c179e"
             ],
             [
              0.4444444444444444,
              "#bd3786"
             ],
             [
              0.5555555555555556,
              "#d8576b"
             ],
             [
              0.6666666666666666,
              "#ed7953"
             ],
             [
              0.7777777777777778,
              "#fb9f3a"
             ],
             [
              0.8888888888888888,
              "#fdca26"
             ],
             [
              1,
              "#f0f921"
             ]
            ],
            "type": "contour"
           }
          ],
          "contourcarpet": [
           {
            "colorbar": {
             "outlinewidth": 0,
             "ticks": ""
            },
            "type": "contourcarpet"
           }
          ],
          "heatmap": [
           {
            "colorbar": {
             "outlinewidth": 0,
             "ticks": ""
            },
            "colorscale": [
             [
              0,
              "#0d0887"
             ],
             [
              0.1111111111111111,
              "#46039f"
             ],
             [
              0.2222222222222222,
              "#7201a8"
             ],
             [
              0.3333333333333333,
              "#9c179e"
             ],
             [
              0.4444444444444444,
              "#bd3786"
             ],
             [
              0.5555555555555556,
              "#d8576b"
             ],
             [
              0.6666666666666666,
              "#ed7953"
             ],
             [
              0.7777777777777778,
              "#fb9f3a"
             ],
             [
              0.8888888888888888,
              "#fdca26"
             ],
             [
              1,
              "#f0f921"
             ]
            ],
            "type": "heatmap"
           }
          ],
          "heatmapgl": [
           {
            "colorbar": {
             "outlinewidth": 0,
             "ticks": ""
            },
            "colorscale": [
             [
              0,
              "#0d0887"
             ],
             [
              0.1111111111111111,
              "#46039f"
             ],
             [
              0.2222222222222222,
              "#7201a8"
             ],
             [
              0.3333333333333333,
              "#9c179e"
             ],
             [
              0.4444444444444444,
              "#bd3786"
             ],
             [
              0.5555555555555556,
              "#d8576b"
             ],
             [
              0.6666666666666666,
              "#ed7953"
             ],
             [
              0.7777777777777778,
              "#fb9f3a"
             ],
             [
              0.8888888888888888,
              "#fdca26"
             ],
             [
              1,
              "#f0f921"
             ]
            ],
            "type": "heatmapgl"
           }
          ],
          "histogram": [
           {
            "marker": {
             "pattern": {
              "fillmode": "overlay",
              "size": 10,
              "solidity": 0.2
             }
            },
            "type": "histogram"
           }
          ],
          "histogram2d": [
           {
            "colorbar": {
             "outlinewidth": 0,
             "ticks": ""
            },
            "colorscale": [
             [
              0,
              "#0d0887"
             ],
             [
              0.1111111111111111,
              "#46039f"
             ],
             [
              0.2222222222222222,
              "#7201a8"
             ],
             [
              0.3333333333333333,
              "#9c179e"
             ],
             [
              0.4444444444444444,
              "#bd3786"
             ],
             [
              0.5555555555555556,
              "#d8576b"
             ],
             [
              0.6666666666666666,
              "#ed7953"
             ],
             [
              0.7777777777777778,
              "#fb9f3a"
             ],
             [
              0.8888888888888888,
              "#fdca26"
             ],
             [
              1,
              "#f0f921"
             ]
            ],
            "type": "histogram2d"
           }
          ],
          "histogram2dcontour": [
           {
            "colorbar": {
             "outlinewidth": 0,
             "ticks": ""
            },
            "colorscale": [
             [
              0,
              "#0d0887"
             ],
             [
              0.1111111111111111,
              "#46039f"
             ],
             [
              0.2222222222222222,
              "#7201a8"
             ],
             [
              0.3333333333333333,
              "#9c179e"
             ],
             [
              0.4444444444444444,
              "#bd3786"
             ],
             [
              0.5555555555555556,
              "#d8576b"
             ],
             [
              0.6666666666666666,
              "#ed7953"
             ],
             [
              0.7777777777777778,
              "#fb9f3a"
             ],
             [
              0.8888888888888888,
              "#fdca26"
             ],
             [
              1,
              "#f0f921"
             ]
            ],
            "type": "histogram2dcontour"
           }
          ],
          "mesh3d": [
           {
            "colorbar": {
             "outlinewidth": 0,
             "ticks": ""
            },
            "type": "mesh3d"
           }
          ],
          "parcoords": [
           {
            "line": {
             "colorbar": {
              "outlinewidth": 0,
              "ticks": ""
             }
            },
            "type": "parcoords"
           }
          ],
          "pie": [
           {
            "automargin": true,
            "type": "pie"
           }
          ],
          "scatter": [
           {
            "fillpattern": {
             "fillmode": "overlay",
             "size": 10,
             "solidity": 0.2
            },
            "type": "scatter"
           }
          ],
          "scatter3d": [
           {
            "line": {
             "colorbar": {
              "outlinewidth": 0,
              "ticks": ""
             }
            },
            "marker": {
             "colorbar": {
              "outlinewidth": 0,
              "ticks": ""
             }
            },
            "type": "scatter3d"
           }
          ],
          "scattercarpet": [
           {
            "marker": {
             "colorbar": {
              "outlinewidth": 0,
              "ticks": ""
             }
            },
            "type": "scattercarpet"
           }
          ],
          "scattergeo": [
           {
            "marker": {
             "colorbar": {
              "outlinewidth": 0,
              "ticks": ""
             }
            },
            "type": "scattergeo"
           }
          ],
          "scattergl": [
           {
            "marker": {
             "colorbar": {
              "outlinewidth": 0,
              "ticks": ""
             }
            },
            "type": "scattergl"
           }
          ],
          "scattermapbox": [
           {
            "marker": {
             "colorbar": {
              "outlinewidth": 0,
              "ticks": ""
             }
            },
            "type": "scattermapbox"
           }
          ],
          "scatterpolar": [
           {
            "marker": {
             "colorbar": {
              "outlinewidth": 0,
              "ticks": ""
             }
            },
            "type": "scatterpolar"
           }
          ],
          "scatterpolargl": [
           {
            "marker": {
             "colorbar": {
              "outlinewidth": 0,
              "ticks": ""
             }
            },
            "type": "scatterpolargl"
           }
          ],
          "scatterternary": [
           {
            "marker": {
             "colorbar": {
              "outlinewidth": 0,
              "ticks": ""
             }
            },
            "type": "scatterternary"
           }
          ],
          "surface": [
           {
            "colorbar": {
             "outlinewidth": 0,
             "ticks": ""
            },
            "colorscale": [
             [
              0,
              "#0d0887"
             ],
             [
              0.1111111111111111,
              "#46039f"
             ],
             [
              0.2222222222222222,
              "#7201a8"
             ],
             [
              0.3333333333333333,
              "#9c179e"
             ],
             [
              0.4444444444444444,
              "#bd3786"
             ],
             [
              0.5555555555555556,
              "#d8576b"
             ],
             [
              0.6666666666666666,
              "#ed7953"
             ],
             [
              0.7777777777777778,
              "#fb9f3a"
             ],
             [
              0.8888888888888888,
              "#fdca26"
             ],
             [
              1,
              "#f0f921"
             ]
            ],
            "type": "surface"
           }
          ],
          "table": [
           {
            "cells": {
             "fill": {
              "color": "#EBF0F8"
             },
             "line": {
              "color": "white"
             }
            },
            "header": {
             "fill": {
              "color": "#C8D4E3"
             },
             "line": {
              "color": "white"
             }
            },
            "type": "table"
           }
          ]
         },
         "layout": {
          "annotationdefaults": {
           "arrowcolor": "#2a3f5f",
           "arrowhead": 0,
           "arrowwidth": 1
          },
          "autotypenumbers": "strict",
          "coloraxis": {
           "colorbar": {
            "outlinewidth": 0,
            "ticks": ""
           }
          },
          "colorscale": {
           "diverging": [
            [
             0,
             "#8e0152"
            ],
            [
             0.1,
             "#c51b7d"
            ],
            [
             0.2,
             "#de77ae"
            ],
            [
             0.3,
             "#f1b6da"
            ],
            [
             0.4,
             "#fde0ef"
            ],
            [
             0.5,
             "#f7f7f7"
            ],
            [
             0.6,
             "#e6f5d0"
            ],
            [
             0.7,
             "#b8e186"
            ],
            [
             0.8,
             "#7fbc41"
            ],
            [
             0.9,
             "#4d9221"
            ],
            [
             1,
             "#276419"
            ]
           ],
           "sequential": [
            [
             0,
             "#0d0887"
            ],
            [
             0.1111111111111111,
             "#46039f"
            ],
            [
             0.2222222222222222,
             "#7201a8"
            ],
            [
             0.3333333333333333,
             "#9c179e"
            ],
            [
             0.4444444444444444,
             "#bd3786"
            ],
            [
             0.5555555555555556,
             "#d8576b"
            ],
            [
             0.6666666666666666,
             "#ed7953"
            ],
            [
             0.7777777777777778,
             "#fb9f3a"
            ],
            [
             0.8888888888888888,
             "#fdca26"
            ],
            [
             1,
             "#f0f921"
            ]
           ],
           "sequentialminus": [
            [
             0,
             "#0d0887"
            ],
            [
             0.1111111111111111,
             "#46039f"
            ],
            [
             0.2222222222222222,
             "#7201a8"
            ],
            [
             0.3333333333333333,
             "#9c179e"
            ],
            [
             0.4444444444444444,
             "#bd3786"
            ],
            [
             0.5555555555555556,
             "#d8576b"
            ],
            [
             0.6666666666666666,
             "#ed7953"
            ],
            [
             0.7777777777777778,
             "#fb9f3a"
            ],
            [
             0.8888888888888888,
             "#fdca26"
            ],
            [
             1,
             "#f0f921"
            ]
           ]
          },
          "colorway": [
           "#636efa",
           "#EF553B",
           "#00cc96",
           "#ab63fa",
           "#FFA15A",
           "#19d3f3",
           "#FF6692",
           "#B6E880",
           "#FF97FF",
           "#FECB52"
          ],
          "font": {
           "color": "#2a3f5f"
          },
          "geo": {
           "bgcolor": "white",
           "lakecolor": "white",
           "landcolor": "#E5ECF6",
           "showlakes": true,
           "showland": true,
           "subunitcolor": "white"
          },
          "hoverlabel": {
           "align": "left"
          },
          "hovermode": "closest",
          "mapbox": {
           "style": "light"
          },
          "paper_bgcolor": "white",
          "plot_bgcolor": "#E5ECF6",
          "polar": {
           "angularaxis": {
            "gridcolor": "white",
            "linecolor": "white",
            "ticks": ""
           },
           "bgcolor": "#E5ECF6",
           "radialaxis": {
            "gridcolor": "white",
            "linecolor": "white",
            "ticks": ""
           }
          },
          "scene": {
           "xaxis": {
            "backgroundcolor": "#E5ECF6",
            "gridcolor": "white",
            "gridwidth": 2,
            "linecolor": "white",
            "showbackground": true,
            "ticks": "",
            "zerolinecolor": "white"
           },
           "yaxis": {
            "backgroundcolor": "#E5ECF6",
            "gridcolor": "white",
            "gridwidth": 2,
            "linecolor": "white",
            "showbackground": true,
            "ticks": "",
            "zerolinecolor": "white"
           },
           "zaxis": {
            "backgroundcolor": "#E5ECF6",
            "gridcolor": "white",
            "gridwidth": 2,
            "linecolor": "white",
            "showbackground": true,
            "ticks": "",
            "zerolinecolor": "white"
           }
          },
          "shapedefaults": {
           "line": {
            "color": "#2a3f5f"
           }
          },
          "ternary": {
           "aaxis": {
            "gridcolor": "white",
            "linecolor": "white",
            "ticks": ""
           },
           "baxis": {
            "gridcolor": "white",
            "linecolor": "white",
            "ticks": ""
           },
           "bgcolor": "#E5ECF6",
           "caxis": {
            "gridcolor": "white",
            "linecolor": "white",
            "ticks": ""
           }
          },
          "title": {
           "x": 0.05
          },
          "xaxis": {
           "automargin": true,
           "gridcolor": "white",
           "linecolor": "white",
           "ticks": "",
           "title": {
            "standoff": 15
           },
           "zerolinecolor": "white",
           "zerolinewidth": 2
          },
          "yaxis": {
           "automargin": true,
           "gridcolor": "white",
           "linecolor": "white",
           "ticks": "",
           "title": {
            "standoff": 15
           },
           "zerolinecolor": "white",
           "zerolinewidth": 2
          }
         }
        },
        "title": {
         "text": "Amount of flights per airport Amount of flights per airport in July 2020 as destination"
        },
        "xaxis": {
         "anchor": "y",
         "domain": [
          0,
          1
         ],
         "range": [
          -0.5,
          4.5
         ],
         "title": {
          "text": "Airport"
         }
        },
        "yaxis": {
         "anchor": "x",
         "domain": [
          0,
          1
         ],
         "title": {
          "text": "Amount of flights"
         }
        }
       }
      }
     },
     "metadata": {},
     "output_type": "display_data"
    },
    {
     "name": "stdout",
     "output_type": "stream",
     "text": [
      "      origin  destination   total  year  month\n",
      "LIMC  4362.0       4382.0  8744.0  2020      7\n",
      "LIRF  3658.0       3753.0  7411.0  2020      7\n",
      "LIME  1721.0       1761.0  3482.0  2020      7\n",
      "LIPZ  1511.0       1526.0  3037.0  2020      7\n",
      "LIPE  1299.0       1196.0  2495.0  2020      7\n"
     ]
    },
    {
     "data": {
      "application/vnd.plotly.v1+json": {
       "config": {
        "plotlyServerURL": "https://plot.ly"
       },
       "data": [
        {
         "alignmentgroup": "True",
         "hovertemplate": "index=%{x}<br>total=%{y}<extra></extra>",
         "legendgroup": "",
         "marker": {
          "color": "#636efa",
          "pattern": {
           "shape": ""
          }
         },
         "name": "",
         "offsetgroup": "",
         "orientation": "v",
         "showlegend": false,
         "text": [
          8744,
          7411,
          3482,
          3037,
          2495,
          872,
          758,
          598,
          520,
          506,
          498,
          468,
          440,
          410,
          401,
          398,
          387,
          339,
          319,
          297,
          287,
          285,
          269,
          262,
          259,
          256,
          222,
          206,
          197,
          193,
          191,
          191,
          180,
          175,
          174,
          163,
          153,
          145,
          136,
          135,
          130,
          127,
          126,
          118,
          116,
          116,
          116,
          115,
          111,
          108,
          103,
          96,
          94,
          91,
          88,
          88,
          86,
          83,
          78,
          75,
          71,
          70,
          69,
          69,
          67,
          65,
          62,
          61,
          60,
          57,
          56,
          56,
          55,
          53,
          52,
          51,
          51,
          50,
          49,
          49,
          46,
          46,
          45,
          44,
          43,
          42,
          40,
          39,
          38,
          36,
          36,
          35,
          33,
          33,
          32,
          31,
          31,
          31,
          31,
          31,
          29,
          29,
          28,
          28,
          27,
          27,
          26,
          26,
          25,
          24,
          24,
          22,
          21,
          21,
          18,
          18,
          18,
          18,
          18,
          17,
          17,
          17,
          17,
          16,
          16,
          16,
          16,
          15,
          15,
          15,
          14,
          14,
          13,
          13,
          12,
          12,
          12,
          11,
          11,
          11,
          11,
          10,
          10,
          10,
          10,
          10,
          10,
          9,
          9,
          9,
          9,
          9,
          8,
          8,
          7,
          7,
          7,
          7,
          7,
          7,
          6,
          6,
          6,
          6,
          5,
          5,
          5,
          5,
          5,
          5,
          5,
          5,
          4,
          4,
          4,
          4,
          4,
          4,
          4,
          4,
          4,
          4,
          4,
          4,
          4,
          4,
          4,
          3,
          3,
          3,
          3,
          3,
          3,
          3,
          3,
          3,
          3,
          3,
          3,
          3,
          3,
          3,
          3,
          3,
          3,
          3,
          3,
          2,
          2,
          2,
          2,
          2,
          2,
          2,
          2,
          2,
          2,
          2,
          2,
          2,
          2,
          2,
          2,
          2,
          2,
          2,
          2,
          2,
          2,
          2,
          2,
          2,
          2,
          null,
          null,
          null,
          null,
          null,
          null,
          null,
          null,
          null,
          null,
          null,
          null,
          null,
          null,
          null,
          null,
          null,
          null,
          null,
          null,
          null,
          null,
          null,
          null,
          null,
          null,
          null,
          null,
          null,
          null,
          null,
          null,
          null,
          null,
          null,
          null,
          null,
          null,
          null,
          null,
          null,
          null,
          null,
          null,
          null,
          null,
          null,
          null,
          null,
          null,
          null,
          null,
          null,
          null,
          null,
          null,
          null,
          null,
          null,
          null,
          null,
          null,
          null,
          null,
          null,
          null,
          null,
          null,
          null,
          null,
          null,
          null,
          null,
          null,
          null,
          null,
          null,
          null,
          null,
          null,
          null,
          null,
          null,
          null,
          null,
          null,
          null,
          null,
          null,
          null,
          null,
          null,
          null,
          null,
          null,
          null,
          null,
          null,
          null,
          null,
          null,
          null,
          null,
          null,
          null,
          null,
          null,
          null,
          null,
          null,
          null,
          null,
          null,
          null,
          null,
          null,
          null,
          null,
          null,
          null,
          null,
          null,
          null,
          null,
          null,
          null,
          null,
          null,
          null,
          null,
          null,
          null,
          null,
          null,
          null,
          null,
          null,
          null,
          null,
          null,
          null,
          null,
          null,
          null
         ],
         "textposition": "auto",
         "type": "bar",
         "x": [
          "LIMC",
          "LIRF",
          "LIME",
          "LIPZ",
          "LIPE",
          "LFPG",
          "LIEE",
          "EGLL",
          "LEBL",
          "LIBD",
          "LIEO",
          "EDDF",
          "EDDM",
          "LICJ",
          "LEMD",
          "EHAM",
          "LIEA",
          "EDDP",
          "LGAV",
          "LIED",
          "EBBR",
          "LOWW",
          "LEIB",
          "LICA",
          "EDDK",
          "LROP",
          "OTHH",
          "EGSS",
          "ELLX",
          "LIBR",
          "EGGW",
          "LPPT",
          "LSZH",
          "LICC",
          "EPWA",
          "EKCH",
          "LFPO",
          "EIDW",
          "EBLG",
          "LHBP",
          "LIRA",
          "LEPA",
          "LMML",
          "LEMG",
          "EGNX",
          "EGMC",
          "GMMN",
          "EBMB",
          "EHEH",
          "LEMH",
          "EGKK",
          "UKBB",
          "EPKK",
          "EDDL",
          "LGMK",
          "LEZL",
          "LKPR",
          "EBCI",
          "OMDB",
          "EGCC",
          "LIMJ",
          "EGGD",
          "UMMS",
          "LSGG",
          "LIMA",
          "EDDT",
          "EVRA",
          "LIPY",
          "LIPO",
          "LEAL",
          "EDDB",
          "LIMF",
          "EPGD",
          "LICP",
          "LPPR",
          "UUEE",
          "LLBG",
          "KJFK",
          "LIML",
          "KEWR",
          "KORD",
          "ZGSZ",
          "EGPH",
          "EYVI",
          "EDDS",
          "UKLL",
          "LFOB",
          "OMAA",
          "LIPX",
          "KPHL",
          "EPMO",
          "LTBA",
          "LGIR",
          "LJLJ",
          "LGSR",
          "RKSI",
          "LDZA",
          "EDDH",
          "LIPL",
          "LFPB",
          "CYYZ",
          "EDFM",
          "LRCL",
          "LRTR",
          "VHHH",
          "GOBD",
          "LPFR",
          "LYBE",
          "EETN",
          "VIDP",
          "EGKB",
          "BIKF",
          "DTTA",
          "EPKT",
          "LRCV",
          "ESGG",
          "EFLP",
          "LICB",
          "EIKN",
          "EICK",
          "EGAA",
          "EYKA",
          "VABB",
          "EKBI",
          "LFML",
          "ESSA",
          "ENTO",
          "LIBC",
          "GCRR",
          "EGLF",
          "LDDU",
          "ESKN",
          "LPAR",
          "KBOS",
          "LFMN",
          "LDSR",
          "CYUL",
          "LOWL",
          "LILC",
          "EGBJ",
          "GCLP",
          "LICT",
          "LSZA",
          "LTFJ",
          "LYBT",
          "LILG",
          "EDMO",
          "LATI",
          "LOWS",
          "LIRQ",
          "LIMB",
          "GCFV",
          "LFKF",
          "LILV",
          "LIPR",
          "LOWG",
          "EGBB",
          "LFLL",
          "UUWW",
          "LSZR",
          "LDSP",
          "LIRU",
          "LIPQ",
          "LILR",
          "LILN",
          "LZIB",
          "KLAX",
          "LFMD",
          "LIMP",
          "LILB",
          "LESL",
          "LDZD",
          "EGTK",
          "LEVC",
          "LCLK",
          "LIPC",
          "LIPV",
          "LIRE",
          "LIPN",
          "LFBD",
          "LIDH",
          "EDAY",
          "EHBK",
          "LIDE",
          "EDRZ",
          "LEJR",
          "LIDA",
          "LSZL",
          "EPWR",
          "EDNY",
          "LIPU",
          "UUDD",
          "LIDU",
          "SAEZ",
          "LBSF",
          "LD57",
          "LGRP",
          "LKMT",
          "LIDR",
          "LCPH",
          "LDPL",
          "LFDT",
          "LIRZ",
          "LGKO",
          "EDJA",
          "LKTB",
          "OLBA",
          "LIPD",
          "LJPZ",
          "LFOV",
          "LFKJ",
          "EDAZ",
          "EKAH",
          "EDDN",
          "LFPN",
          "EDQA",
          "EGGP",
          "EDFU",
          "EBAW",
          "ETHN",
          "EGNV",
          "LIPK",
          "EKYT",
          "LFMV",
          "LFLI",
          "EHRD",
          "LFAT",
          "EGSH",
          "LFRS",
          "ORMM",
          "EDFH",
          "LSZM",
          "EDTD",
          "LGKN",
          "EPPO",
          "HECA",
          "DAAG",
          "WSSS",
          "LEZG",
          "LIRS",
          "GMMT",
          "LFMQ",
          "LRBS",
          "EPZB",
          "LFTH",
          "VGTJ",
          "EDSB",
          "EGTF",
          "LFBH",
          "EGNP",
          "EPRZ",
          "LFSN",
          "GBYD",
          "LIRP",
          "LKKA",
          "VVTS",
          "LIPI",
          "LIDF",
          "LDRI",
          "LFMP",
          "LBWV",
          "EDDC",
          "EGCN",
          "ESMS",
          "LOXZ",
          "LIDV",
          "LPAZ",
          "LFHC",
          "LFBI",
          "HKMO",
          "LFHJ",
          "EHGG",
          "LSMP",
          "LEGE",
          "LIRN",
          "FAOR",
          "LIET",
          "LICG",
          "EINN",
          "LICZ",
          "LTBW",
          "LICR",
          "EDDV",
          "EGKR",
          "LIMN",
          "LIPM",
          "LYKI",
          "OMAM",
          "LAGJ",
          "LFDQ",
          "EPKS",
          "OMAD",
          "LHPR",
          "LIDP",
          "OMDW",
          "LGSA",
          "LIBG",
          "EDDG",
          "LFNR",
          "LOGT",
          "LLSD",
          "ESKX",
          "LSGL",
          "LILA",
          "LIQW",
          "LILQ",
          "LOWI",
          "LIBP",
          "ENGM",
          "LSPU",
          "LSGB",
          "EGNM",
          "KHPN",
          "ETSI",
          "LETF",
          "LILE",
          "LFKA",
          "LHPA",
          "EGNR",
          "LSZG",
          "LOLF",
          "EDLN",
          "RJAA",
          "LFBY",
          "LIDG",
          "LFKS",
          "LFHI",
          "EGLD",
          "LDPM",
          "OMAF",
          "LIPS",
          "LIDW",
          "LFMI",
          "LEVT",
          "EDQM",
          "LSZB",
          "LFNE",
          "LFTW",
          "LPCS",
          "LIQL",
          "GCLB",
          "LIQN",
          "LFFK",
          "EDTB",
          "EDRY",
          "LFMY",
          "EDLW",
          "LOWK",
          "EBKT",
          "OERK",
          "LFGB",
          "ETNG",
          "UNCC",
          "LFBO",
          "LILH",
          "LFKO",
          "LG55",
          "K06C",
          "LFFE",
          "ULLI",
          "LFTZ",
          "TJIG",
          "EDRP",
          "LIMR",
          "LKCV",
          "LIQS",
          "LFMT",
          "LFCK",
          "LOAN",
          "LPSR",
          "LLHZ",
          "EGHI",
          "LIPB",
          "LOLW",
          "EPPK",
          "HEEM",
          "LIPA"
         ],
         "xaxis": "x",
         "y": [
          8744,
          7411,
          3482,
          3037,
          2495,
          872,
          758,
          598,
          520,
          506,
          498,
          468,
          440,
          410,
          401,
          398,
          387,
          339,
          319,
          297,
          287,
          285,
          269,
          262,
          259,
          256,
          222,
          206,
          197,
          193,
          191,
          191,
          180,
          175,
          174,
          163,
          153,
          145,
          136,
          135,
          130,
          127,
          126,
          118,
          116,
          116,
          116,
          115,
          111,
          108,
          103,
          96,
          94,
          91,
          88,
          88,
          86,
          83,
          78,
          75,
          71,
          70,
          69,
          69,
          67,
          65,
          62,
          61,
          60,
          57,
          56,
          56,
          55,
          53,
          52,
          51,
          51,
          50,
          49,
          49,
          46,
          46,
          45,
          44,
          43,
          42,
          40,
          39,
          38,
          36,
          36,
          35,
          33,
          33,
          32,
          31,
          31,
          31,
          31,
          31,
          29,
          29,
          28,
          28,
          27,
          27,
          26,
          26,
          25,
          24,
          24,
          22,
          21,
          21,
          18,
          18,
          18,
          18,
          18,
          17,
          17,
          17,
          17,
          16,
          16,
          16,
          16,
          15,
          15,
          15,
          14,
          14,
          13,
          13,
          12,
          12,
          12,
          11,
          11,
          11,
          11,
          10,
          10,
          10,
          10,
          10,
          10,
          9,
          9,
          9,
          9,
          9,
          8,
          8,
          7,
          7,
          7,
          7,
          7,
          7,
          6,
          6,
          6,
          6,
          5,
          5,
          5,
          5,
          5,
          5,
          5,
          5,
          4,
          4,
          4,
          4,
          4,
          4,
          4,
          4,
          4,
          4,
          4,
          4,
          4,
          4,
          4,
          3,
          3,
          3,
          3,
          3,
          3,
          3,
          3,
          3,
          3,
          3,
          3,
          3,
          3,
          3,
          3,
          3,
          3,
          3,
          3,
          2,
          2,
          2,
          2,
          2,
          2,
          2,
          2,
          2,
          2,
          2,
          2,
          2,
          2,
          2,
          2,
          2,
          2,
          2,
          2,
          2,
          2,
          2,
          2,
          2,
          2,
          null,
          null,
          null,
          null,
          null,
          null,
          null,
          null,
          null,
          null,
          null,
          null,
          null,
          null,
          null,
          null,
          null,
          null,
          null,
          null,
          null,
          null,
          null,
          null,
          null,
          null,
          null,
          null,
          null,
          null,
          null,
          null,
          null,
          null,
          null,
          null,
          null,
          null,
          null,
          null,
          null,
          null,
          null,
          null,
          null,
          null,
          null,
          null,
          null,
          null,
          null,
          null,
          null,
          null,
          null,
          null,
          null,
          null,
          null,
          null,
          null,
          null,
          null,
          null,
          null,
          null,
          null,
          null,
          null,
          null,
          null,
          null,
          null,
          null,
          null,
          null,
          null,
          null,
          null,
          null,
          null,
          null,
          null,
          null,
          null,
          null,
          null,
          null,
          null,
          null,
          null,
          null,
          null,
          null,
          null,
          null,
          null,
          null,
          null,
          null,
          null,
          null,
          null,
          null,
          null,
          null,
          null,
          null,
          null,
          null,
          null,
          null,
          null,
          null,
          null,
          null,
          null,
          null,
          null,
          null,
          null,
          null,
          null,
          null,
          null,
          null,
          null,
          null,
          null,
          null,
          null,
          null,
          null,
          null,
          null,
          null,
          null,
          null,
          null,
          null,
          null,
          null,
          null,
          null
         ],
         "yaxis": "y"
        }
       ],
       "layout": {
        "barmode": "relative",
        "legend": {
         "tracegroupgap": 0
        },
        "template": {
         "data": {
          "bar": [
           {
            "error_x": {
             "color": "#2a3f5f"
            },
            "error_y": {
             "color": "#2a3f5f"
            },
            "marker": {
             "line": {
              "color": "#E5ECF6",
              "width": 0.5
             },
             "pattern": {
              "fillmode": "overlay",
              "size": 10,
              "solidity": 0.2
             }
            },
            "type": "bar"
           }
          ],
          "barpolar": [
           {
            "marker": {
             "line": {
              "color": "#E5ECF6",
              "width": 0.5
             },
             "pattern": {
              "fillmode": "overlay",
              "size": 10,
              "solidity": 0.2
             }
            },
            "type": "barpolar"
           }
          ],
          "carpet": [
           {
            "aaxis": {
             "endlinecolor": "#2a3f5f",
             "gridcolor": "white",
             "linecolor": "white",
             "minorgridcolor": "white",
             "startlinecolor": "#2a3f5f"
            },
            "baxis": {
             "endlinecolor": "#2a3f5f",
             "gridcolor": "white",
             "linecolor": "white",
             "minorgridcolor": "white",
             "startlinecolor": "#2a3f5f"
            },
            "type": "carpet"
           }
          ],
          "choropleth": [
           {
            "colorbar": {
             "outlinewidth": 0,
             "ticks": ""
            },
            "type": "choropleth"
           }
          ],
          "contour": [
           {
            "colorbar": {
             "outlinewidth": 0,
             "ticks": ""
            },
            "colorscale": [
             [
              0,
              "#0d0887"
             ],
             [
              0.1111111111111111,
              "#46039f"
             ],
             [
              0.2222222222222222,
              "#7201a8"
             ],
             [
              0.3333333333333333,
              "#9c179e"
             ],
             [
              0.4444444444444444,
              "#bd3786"
             ],
             [
              0.5555555555555556,
              "#d8576b"
             ],
             [
              0.6666666666666666,
              "#ed7953"
             ],
             [
              0.7777777777777778,
              "#fb9f3a"
             ],
             [
              0.8888888888888888,
              "#fdca26"
             ],
             [
              1,
              "#f0f921"
             ]
            ],
            "type": "contour"
           }
          ],
          "contourcarpet": [
           {
            "colorbar": {
             "outlinewidth": 0,
             "ticks": ""
            },
            "type": "contourcarpet"
           }
          ],
          "heatmap": [
           {
            "colorbar": {
             "outlinewidth": 0,
             "ticks": ""
            },
            "colorscale": [
             [
              0,
              "#0d0887"
             ],
             [
              0.1111111111111111,
              "#46039f"
             ],
             [
              0.2222222222222222,
              "#7201a8"
             ],
             [
              0.3333333333333333,
              "#9c179e"
             ],
             [
              0.4444444444444444,
              "#bd3786"
             ],
             [
              0.5555555555555556,
              "#d8576b"
             ],
             [
              0.6666666666666666,
              "#ed7953"
             ],
             [
              0.7777777777777778,
              "#fb9f3a"
             ],
             [
              0.8888888888888888,
              "#fdca26"
             ],
             [
              1,
              "#f0f921"
             ]
            ],
            "type": "heatmap"
           }
          ],
          "heatmapgl": [
           {
            "colorbar": {
             "outlinewidth": 0,
             "ticks": ""
            },
            "colorscale": [
             [
              0,
              "#0d0887"
             ],
             [
              0.1111111111111111,
              "#46039f"
             ],
             [
              0.2222222222222222,
              "#7201a8"
             ],
             [
              0.3333333333333333,
              "#9c179e"
             ],
             [
              0.4444444444444444,
              "#bd3786"
             ],
             [
              0.5555555555555556,
              "#d8576b"
             ],
             [
              0.6666666666666666,
              "#ed7953"
             ],
             [
              0.7777777777777778,
              "#fb9f3a"
             ],
             [
              0.8888888888888888,
              "#fdca26"
             ],
             [
              1,
              "#f0f921"
             ]
            ],
            "type": "heatmapgl"
           }
          ],
          "histogram": [
           {
            "marker": {
             "pattern": {
              "fillmode": "overlay",
              "size": 10,
              "solidity": 0.2
             }
            },
            "type": "histogram"
           }
          ],
          "histogram2d": [
           {
            "colorbar": {
             "outlinewidth": 0,
             "ticks": ""
            },
            "colorscale": [
             [
              0,
              "#0d0887"
             ],
             [
              0.1111111111111111,
              "#46039f"
             ],
             [
              0.2222222222222222,
              "#7201a8"
             ],
             [
              0.3333333333333333,
              "#9c179e"
             ],
             [
              0.4444444444444444,
              "#bd3786"
             ],
             [
              0.5555555555555556,
              "#d8576b"
             ],
             [
              0.6666666666666666,
              "#ed7953"
             ],
             [
              0.7777777777777778,
              "#fb9f3a"
             ],
             [
              0.8888888888888888,
              "#fdca26"
             ],
             [
              1,
              "#f0f921"
             ]
            ],
            "type": "histogram2d"
           }
          ],
          "histogram2dcontour": [
           {
            "colorbar": {
             "outlinewidth": 0,
             "ticks": ""
            },
            "colorscale": [
             [
              0,
              "#0d0887"
             ],
             [
              0.1111111111111111,
              "#46039f"
             ],
             [
              0.2222222222222222,
              "#7201a8"
             ],
             [
              0.3333333333333333,
              "#9c179e"
             ],
             [
              0.4444444444444444,
              "#bd3786"
             ],
             [
              0.5555555555555556,
              "#d8576b"
             ],
             [
              0.6666666666666666,
              "#ed7953"
             ],
             [
              0.7777777777777778,
              "#fb9f3a"
             ],
             [
              0.8888888888888888,
              "#fdca26"
             ],
             [
              1,
              "#f0f921"
             ]
            ],
            "type": "histogram2dcontour"
           }
          ],
          "mesh3d": [
           {
            "colorbar": {
             "outlinewidth": 0,
             "ticks": ""
            },
            "type": "mesh3d"
           }
          ],
          "parcoords": [
           {
            "line": {
             "colorbar": {
              "outlinewidth": 0,
              "ticks": ""
             }
            },
            "type": "parcoords"
           }
          ],
          "pie": [
           {
            "automargin": true,
            "type": "pie"
           }
          ],
          "scatter": [
           {
            "fillpattern": {
             "fillmode": "overlay",
             "size": 10,
             "solidity": 0.2
            },
            "type": "scatter"
           }
          ],
          "scatter3d": [
           {
            "line": {
             "colorbar": {
              "outlinewidth": 0,
              "ticks": ""
             }
            },
            "marker": {
             "colorbar": {
              "outlinewidth": 0,
              "ticks": ""
             }
            },
            "type": "scatter3d"
           }
          ],
          "scattercarpet": [
           {
            "marker": {
             "colorbar": {
              "outlinewidth": 0,
              "ticks": ""
             }
            },
            "type": "scattercarpet"
           }
          ],
          "scattergeo": [
           {
            "marker": {
             "colorbar": {
              "outlinewidth": 0,
              "ticks": ""
             }
            },
            "type": "scattergeo"
           }
          ],
          "scattergl": [
           {
            "marker": {
             "colorbar": {
              "outlinewidth": 0,
              "ticks": ""
             }
            },
            "type": "scattergl"
           }
          ],
          "scattermapbox": [
           {
            "marker": {
             "colorbar": {
              "outlinewidth": 0,
              "ticks": ""
             }
            },
            "type": "scattermapbox"
           }
          ],
          "scatterpolar": [
           {
            "marker": {
             "colorbar": {
              "outlinewidth": 0,
              "ticks": ""
             }
            },
            "type": "scatterpolar"
           }
          ],
          "scatterpolargl": [
           {
            "marker": {
             "colorbar": {
              "outlinewidth": 0,
              "ticks": ""
             }
            },
            "type": "scatterpolargl"
           }
          ],
          "scatterternary": [
           {
            "marker": {
             "colorbar": {
              "outlinewidth": 0,
              "ticks": ""
             }
            },
            "type": "scatterternary"
           }
          ],
          "surface": [
           {
            "colorbar": {
             "outlinewidth": 0,
             "ticks": ""
            },
            "colorscale": [
             [
              0,
              "#0d0887"
             ],
             [
              0.1111111111111111,
              "#46039f"
             ],
             [
              0.2222222222222222,
              "#7201a8"
             ],
             [
              0.3333333333333333,
              "#9c179e"
             ],
             [
              0.4444444444444444,
              "#bd3786"
             ],
             [
              0.5555555555555556,
              "#d8576b"
             ],
             [
              0.6666666666666666,
              "#ed7953"
             ],
             [
              0.7777777777777778,
              "#fb9f3a"
             ],
             [
              0.8888888888888888,
              "#fdca26"
             ],
             [
              1,
              "#f0f921"
             ]
            ],
            "type": "surface"
           }
          ],
          "table": [
           {
            "cells": {
             "fill": {
              "color": "#EBF0F8"
             },
             "line": {
              "color": "white"
             }
            },
            "header": {
             "fill": {
              "color": "#C8D4E3"
             },
             "line": {
              "color": "white"
             }
            },
            "type": "table"
           }
          ]
         },
         "layout": {
          "annotationdefaults": {
           "arrowcolor": "#2a3f5f",
           "arrowhead": 0,
           "arrowwidth": 1
          },
          "autotypenumbers": "strict",
          "coloraxis": {
           "colorbar": {
            "outlinewidth": 0,
            "ticks": ""
           }
          },
          "colorscale": {
           "diverging": [
            [
             0,
             "#8e0152"
            ],
            [
             0.1,
             "#c51b7d"
            ],
            [
             0.2,
             "#de77ae"
            ],
            [
             0.3,
             "#f1b6da"
            ],
            [
             0.4,
             "#fde0ef"
            ],
            [
             0.5,
             "#f7f7f7"
            ],
            [
             0.6,
             "#e6f5d0"
            ],
            [
             0.7,
             "#b8e186"
            ],
            [
             0.8,
             "#7fbc41"
            ],
            [
             0.9,
             "#4d9221"
            ],
            [
             1,
             "#276419"
            ]
           ],
           "sequential": [
            [
             0,
             "#0d0887"
            ],
            [
             0.1111111111111111,
             "#46039f"
            ],
            [
             0.2222222222222222,
             "#7201a8"
            ],
            [
             0.3333333333333333,
             "#9c179e"
            ],
            [
             0.4444444444444444,
             "#bd3786"
            ],
            [
             0.5555555555555556,
             "#d8576b"
            ],
            [
             0.6666666666666666,
             "#ed7953"
            ],
            [
             0.7777777777777778,
             "#fb9f3a"
            ],
            [
             0.8888888888888888,
             "#fdca26"
            ],
            [
             1,
             "#f0f921"
            ]
           ],
           "sequentialminus": [
            [
             0,
             "#0d0887"
            ],
            [
             0.1111111111111111,
             "#46039f"
            ],
            [
             0.2222222222222222,
             "#7201a8"
            ],
            [
             0.3333333333333333,
             "#9c179e"
            ],
            [
             0.4444444444444444,
             "#bd3786"
            ],
            [
             0.5555555555555556,
             "#d8576b"
            ],
            [
             0.6666666666666666,
             "#ed7953"
            ],
            [
             0.7777777777777778,
             "#fb9f3a"
            ],
            [
             0.8888888888888888,
             "#fdca26"
            ],
            [
             1,
             "#f0f921"
            ]
           ]
          },
          "colorway": [
           "#636efa",
           "#EF553B",
           "#00cc96",
           "#ab63fa",
           "#FFA15A",
           "#19d3f3",
           "#FF6692",
           "#B6E880",
           "#FF97FF",
           "#FECB52"
          ],
          "font": {
           "color": "#2a3f5f"
          },
          "geo": {
           "bgcolor": "white",
           "lakecolor": "white",
           "landcolor": "#E5ECF6",
           "showlakes": true,
           "showland": true,
           "subunitcolor": "white"
          },
          "hoverlabel": {
           "align": "left"
          },
          "hovermode": "closest",
          "mapbox": {
           "style": "light"
          },
          "paper_bgcolor": "white",
          "plot_bgcolor": "#E5ECF6",
          "polar": {
           "angularaxis": {
            "gridcolor": "white",
            "linecolor": "white",
            "ticks": ""
           },
           "bgcolor": "#E5ECF6",
           "radialaxis": {
            "gridcolor": "white",
            "linecolor": "white",
            "ticks": ""
           }
          },
          "scene": {
           "xaxis": {
            "backgroundcolor": "#E5ECF6",
            "gridcolor": "white",
            "gridwidth": 2,
            "linecolor": "white",
            "showbackground": true,
            "ticks": "",
            "zerolinecolor": "white"
           },
           "yaxis": {
            "backgroundcolor": "#E5ECF6",
            "gridcolor": "white",
            "gridwidth": 2,
            "linecolor": "white",
            "showbackground": true,
            "ticks": "",
            "zerolinecolor": "white"
           },
           "zaxis": {
            "backgroundcolor": "#E5ECF6",
            "gridcolor": "white",
            "gridwidth": 2,
            "linecolor": "white",
            "showbackground": true,
            "ticks": "",
            "zerolinecolor": "white"
           }
          },
          "shapedefaults": {
           "line": {
            "color": "#2a3f5f"
           }
          },
          "ternary": {
           "aaxis": {
            "gridcolor": "white",
            "linecolor": "white",
            "ticks": ""
           },
           "baxis": {
            "gridcolor": "white",
            "linecolor": "white",
            "ticks": ""
           },
           "bgcolor": "#E5ECF6",
           "caxis": {
            "gridcolor": "white",
            "linecolor": "white",
            "ticks": ""
           }
          },
          "title": {
           "x": 0.05
          },
          "xaxis": {
           "automargin": true,
           "gridcolor": "white",
           "linecolor": "white",
           "ticks": "",
           "title": {
            "standoff": 15
           },
           "zerolinecolor": "white",
           "zerolinewidth": 2
          },
          "yaxis": {
           "automargin": true,
           "gridcolor": "white",
           "linecolor": "white",
           "ticks": "",
           "title": {
            "standoff": 15
           },
           "zerolinecolor": "white",
           "zerolinewidth": 2
          }
         }
        },
        "title": {
         "text": "Amount of total inbound and outbound flights per airport in July 2020"
        },
        "xaxis": {
         "anchor": "y",
         "domain": [
          0,
          1
         ],
         "range": [
          -0.5,
          4.5
         ],
         "title": {
          "text": "Airport"
         }
        },
        "yaxis": {
         "anchor": "x",
         "domain": [
          0,
          1
         ],
         "title": {
          "text": "Amount of flights"
         }
        }
       }
      }
     },
     "metadata": {},
     "output_type": "display_data"
    }
   ],
   "source": [
    "#import pandas and numpy to work with databases from the airports\n",
    "import pandas as pd\n",
    "import numpy as np\n",
    "\n",
    "#import the csv file with the amount of flights per airport for july 2020\n",
    "df = pd.read_csv('C:/Users/thoma/Downloads/flightlist_20200701_20200731.csv.gz', compression='gzip', header=0, sep=',', quotechar='\"')\n",
    "df.head()\n",
    "\n",
    "#Filter the database so only the airports of interest are included\n",
    "df1 = df[(df['origin'] == 'LIME') | (df['origin'] == 'LIPZ') | (df['origin'] == 'LIPE') | (df['origin'] == 'LIRF') | (df['origin'] == 'LIMC') | (df['destination'] == 'LIME') | (df['destination'] == 'LIPZ') | (df['destination'] == 'LIPE') | (df['destination'] == 'LIRF') | (df['destination'] == 'LIMC')]\n",
    "df1.head(10)\n",
    "\n",
    "#show the amount of inbounds and outbounds flights\n",
    "df1['origin'].value_counts()\n",
    "df1['destination'].value_counts()\n",
    "\n",
    "#Show the amount of outbound flights per airport and create a bar chart\n",
    "import plotly.express as px\n",
    "fig = px.bar(df1, x=df1['origin'].value_counts().index, y=df1['origin'].value_counts().values, title='Amount of flights per airport Amount of flights per airport in July 2020 as origin')\n",
    "fig.update_xaxes(title_text='Airport')\n",
    "fig.update_yaxes(title_text='Amount of flights')\n",
    "fig.update_traces(text=df1['origin'].value_counts().values)\n",
    "fig.update_xaxes(range=(-0.5, 4.5))\n",
    "fig.show()\n",
    "\n",
    "#Show the amount of inbound flights per airport and create a bar chart\n",
    "import plotly.express as px\n",
    "fig = px.bar(df1, x=df1['destination'].value_counts().index, y=df1['destination'].value_counts().values, title='Amount of flights per airport Amount of flights per airport in July 2020 as destination')\n",
    "fig.update_xaxes(title_text='Airport')\n",
    "fig.update_yaxes(title_text='Amount of flights')\n",
    "fig.update_traces(text=df1['destination'].value_counts().values)\n",
    "fig.update_xaxes(range=(-0.5, 4.5))\n",
    "fig.show()\n",
    "\n",
    "#combine the amount of inbound and outbound flights per airport and create a new dataframe with inbound, outbound and total flights\n",
    "df2 = pd.concat([df1['origin'].value_counts(), df1['destination'].value_counts()], axis=1)\n",
    "df2.columns = ['origin', 'destination']\n",
    "df2['total'] = df2['origin'] + df2['destination']\n",
    "df2 = df2.sort_values(by='total', ascending=False)\n",
    "df2.head(5)\n",
    "\n",
    "#add the month and the year to the dataframe and show this new dataframe\n",
    "df2['year'] = 2020\n",
    "df2['month'] = 7\n",
    "print(df2.head(5))\n",
    "\n",
    "#plot the total number of flights per airport in a bar chart\n",
    "import plotly.express as px\n",
    "fig = px.bar(df2, x=df2.index, y=df2['total'], title='Amount of total inbound and outbound flights per airport in July 2020')\n",
    "fig.update_xaxes(title_text='Airport')\n",
    "fig.update_yaxes(title_text='Amount of flights')\n",
    "fig.update_traces(text=df2['total'])\n",
    "fig.update_xaxes(range=(-0.5, 4.5))\n",
    "fig.show()\n",
    "\n",
    "#safe the shortend and filterd data to a new csv file, this csv file will be used in the last section to answer the subquestion\n",
    "df2.to_csv('C:/Users/thoma/Downloads/flightlist_short_20200701_20200731.csv.gz', compression='gzip', header=True, sep=',', quotechar='\"')\n"
   ]
  },
  {
   "cell_type": "code",
   "execution_count": 3,
   "metadata": {},
   "outputs": [
    {
     "data": {
      "application/vnd.plotly.v1+json": {
       "config": {
        "plotlyServerURL": "https://plot.ly"
       },
       "data": [
        {
         "alignmentgroup": "True",
         "hovertemplate": "x=%{x}<br>y=%{y}<extra></extra>",
         "legendgroup": "",
         "marker": {
          "color": "#636efa",
          "pattern": {
           "shape": ""
          }
         },
         "name": "",
         "offsetgroup": "",
         "orientation": "v",
         "showlegend": false,
         "text": [
          6304,
          6035,
          3393,
          2382,
          2267,
          593,
          578,
          507,
          466,
          444,
          444,
          436,
          405,
          365,
          266,
          261,
          256,
          242,
          232,
          231,
          227,
          220,
          209,
          202,
          197,
          186,
          179,
          174,
          168,
          167,
          165,
          154,
          153,
          149,
          146,
          138,
          122,
          121,
          110,
          109,
          109,
          109,
          101,
          91,
          90,
          87,
          83,
          82,
          81,
          80,
          77,
          75,
          75,
          71,
          70,
          68,
          68,
          68,
          67,
          64,
          61,
          59,
          59,
          58,
          58,
          58,
          57,
          56,
          53,
          53,
          52,
          51,
          51,
          48,
          47,
          46,
          46,
          43,
          43,
          43,
          42,
          41,
          41,
          40,
          40,
          39,
          37,
          37,
          36,
          33,
          33,
          32,
          31,
          30,
          30,
          29,
          28,
          27,
          27,
          26,
          24,
          22,
          21,
          21,
          21,
          21,
          20,
          19,
          19,
          18,
          18,
          17,
          17,
          17,
          16,
          16,
          15,
          14,
          14,
          13,
          13,
          13,
          12,
          12,
          12,
          12,
          12,
          11,
          11,
          10,
          10,
          10,
          10,
          10,
          10,
          10,
          10,
          10,
          9,
          9,
          9,
          9,
          9,
          8,
          8,
          8,
          8,
          8,
          7,
          7,
          7,
          7,
          7,
          7,
          7,
          7,
          7,
          6,
          6,
          6,
          6,
          6,
          6,
          6,
          6,
          5,
          5,
          5,
          5,
          5,
          5,
          5,
          5,
          5,
          4,
          4,
          4,
          4,
          4,
          4,
          4,
          4,
          4,
          4,
          4,
          4,
          4,
          4,
          4,
          4,
          4,
          3,
          3,
          3,
          3,
          3,
          3,
          3,
          3,
          3,
          3,
          3,
          3,
          3,
          3,
          3,
          3,
          3,
          3,
          3,
          3,
          3,
          3,
          3,
          3,
          3,
          3,
          3,
          3,
          2,
          2,
          2,
          2,
          2,
          2,
          2,
          2,
          2,
          2,
          2,
          2,
          2,
          2,
          2,
          2,
          2,
          2,
          2,
          2,
          2,
          2,
          2,
          2,
          2,
          2,
          2,
          2,
          2,
          2,
          2,
          2,
          2,
          2,
          1,
          1,
          1,
          1,
          1,
          1,
          1,
          1,
          1,
          1,
          1,
          1,
          1,
          1,
          1,
          1,
          1,
          1,
          1,
          1,
          1,
          1,
          1,
          1,
          1,
          1,
          1,
          1,
          1,
          1,
          1,
          1,
          1,
          1,
          1,
          1,
          1,
          1,
          1,
          1,
          1,
          1,
          1,
          1,
          1,
          1,
          1,
          1,
          1,
          1,
          1,
          1,
          1,
          1,
          1,
          1,
          1,
          1,
          1,
          1,
          1,
          1,
          1,
          1,
          1,
          1,
          1,
          1,
          1,
          1,
          1,
          1,
          1,
          1,
          1,
          1,
          1,
          1,
          1,
          1,
          1,
          1,
          1,
          1,
          1,
          1,
          1,
          1,
          1,
          1,
          1,
          1,
          1,
          1
         ],
         "textposition": "auto",
         "type": "bar",
         "x": [
          "LIMC",
          "LIRF",
          "LIME",
          "LIPZ",
          "LIPE",
          "LFPG",
          "LEBL",
          "LIBD",
          "EHAM",
          "LEMD",
          "LICJ",
          "LIEO",
          "LIEE",
          "EDDF",
          "LEIB",
          "KJFK",
          "EDDP",
          "LIML",
          "LOWW",
          "GMMN",
          "EDDM",
          "LPPT",
          "EDDK",
          "EKCH",
          "EGSS",
          "LICA",
          "LROP",
          "EBMB",
          "EGLL",
          "LEPA",
          "EDDB",
          "LIEA",
          "LSZH",
          "LTFM",
          "LMML",
          "LFPO",
          "LGAV",
          "OTHH",
          "ELLX",
          "EPWA",
          "LICC",
          "LLBG",
          "EBBR",
          "EIDW",
          "OMDB",
          "LEMG",
          "LFMN",
          "LBSF",
          "LHBP",
          "UUEE",
          "LTFJ",
          "LIMF",
          "UKBB",
          "EDDL",
          "LIMJ",
          "HECA",
          "LIPQ",
          "LGMK",
          "LSGG",
          "LGRP",
          "LPPR",
          "EBLG",
          "EGNX",
          "EDDH",
          "EBCI",
          "KEWR",
          "LIRA",
          "EVRA",
          "LEAL",
          "LEMH",
          "EFHK",
          "LIPX",
          "EHEH",
          "EGGW",
          "LFOB",
          "EPKK",
          "UUWW",
          "LICB",
          "LFML",
          "EGCC",
          "LGKO",
          "ESSA",
          "LIBP",
          "LIRP",
          "LIPL",
          "LKPR",
          "EPMO",
          "GOBD",
          "LIBR",
          "LEZL",
          "EPKT",
          "KDFW",
          "EETN",
          "EGKK",
          "LSZM",
          "KATL",
          "LDZA",
          "LIPY",
          "LFPB",
          "EYVI",
          "BIKF",
          "LICZ",
          "LYBE",
          "LTBA",
          "CYYZ",
          "LJLJ",
          "EPGD",
          "ULLI",
          "LPFR",
          "EKBI",
          "ENGM",
          "WSSS",
          "LGSA",
          "LCLK",
          "LILG",
          "EGPH",
          "LFBD",
          "KORD",
          "OBBI",
          "EPWR",
          "LDSR",
          "RJTT",
          "EDDS",
          "DAAG",
          "EDDV",
          "UUDD",
          "EDFM",
          "VHHH",
          "LIRZ",
          "LFRS",
          "RJAA",
          "ESGG",
          "LIED",
          "LOWS",
          "UKKK",
          "EGLF",
          "EGAA",
          "EPPO",
          "LFBO",
          "LDPL",
          "LFBT",
          "OLBA",
          "EYKA",
          "LIDH",
          "GMTT",
          "KCVG",
          "SBGR",
          "LICT",
          "LIPV",
          "DTTA",
          "KLAX",
          "OERK",
          "LIBC",
          "8KY6",
          "HEBA",
          "LILR",
          "LCPH",
          "LIPR",
          "LIMB",
          "LSZB",
          "LIPU",
          "LIRU",
          "EDFH",
          "LIRQ",
          "LIPB",
          "VIDP",
          "LESL",
          "CYUL",
          "LFKF",
          "LIPO",
          "EGAC",
          "EDDN",
          "LFMV",
          "EDJA",
          "LSZR",
          "WSAC",
          "LILV",
          "LIDB",
          "LILB",
          "EDSB",
          "LIDP",
          "LIMA",
          "LPAR",
          "LTFE",
          "EHRD",
          "EDAZ",
          "LGKN",
          "LJPZ",
          "LRCV",
          "LIPC",
          "EDRY",
          "OTBD",
          "LFBZ",
          "LIPK",
          "OMAA",
          "VABB",
          "GCRR",
          "LFLU",
          "LZIB",
          "EGBJ",
          "LRCK",
          "LIDR",
          "ETHN",
          "LGSO",
          "EBAW",
          "LIMG",
          "EDMO",
          "LEZG",
          "EHBK",
          "LIDG",
          "EGKB",
          "EDRZ",
          "LIRE",
          "EINN",
          "EGBB",
          "LIPH",
          "EGTK",
          "EDMA",
          "LOWL",
          "LIDT",
          "LFLB",
          "LIMZ",
          "LSGS",
          "LIAT",
          "LFNR",
          "HKJK",
          "ESSB",
          "ESMS",
          "GCLP",
          "ESKN",
          "LIDV",
          "FAOR",
          "LEGE",
          "LIRL",
          "LFCK",
          "ZGSZ",
          "LIDA",
          "LOWG",
          "EGSH",
          "LSMA",
          "LIDE",
          "EBMO",
          "LIPD",
          "EBKT",
          "EDDW",
          "KRFD",
          "LDSP",
          "KLUK",
          "LFTH",
          "LIPF",
          "LICG",
          "ORMM",
          "LFLY",
          "LSZA",
          "KPBI",
          "EDTL",
          "LSGT",
          "LIVV",
          "LKMT",
          "EGKR",
          "ZUCK",
          "LJMB",
          "LPCS",
          "EDQO",
          "LFKM",
          "LIRH",
          "LSZC",
          "KHPN",
          "KMMU",
          "KBEH",
          "LSGL",
          "LFMA",
          "EDDE",
          "EKOD",
          "EDGB",
          "OEDF",
          "EGSC",
          "LOIJ",
          "LIPM",
          "EDVE",
          "LIQW",
          "LRBS",
          "LSGK",
          "LFLI",
          "OMDM",
          "OMSJ",
          "GMFF",
          "EDDC",
          "EDDG",
          "EDLW",
          "LFPM",
          "EDQG",
          "ETMN",
          "EDNY",
          "LFRK",
          "LFMD",
          "RPLL",
          "LILE",
          "ENBO",
          "LIDU",
          "LILN",
          "LFBF",
          "EDRK",
          "EDMS",
          "LOXZ",
          "LOLW",
          "EDAM",
          "LDZD",
          "EDTD",
          "LFOK",
          "LIBG",
          "LIMP",
          "KCGF",
          "KBOS",
          "LDDU",
          "EDFC",
          "LICR",
          "LFPV",
          "EPRZ",
          "HEAZ",
          "LSGC",
          "LTAC",
          "LKTB",
          "EGWU",
          "EDLV",
          "KTEB",
          "KVNY",
          "VGZR",
          "OA16",
          "EDTM",
          "KPIT",
          "LFTW",
          "LFMP",
          "KBAF",
          "LIDF",
          "LETO",
          "LFKC",
          "LIPN",
          "LFTZ",
          "EPSY",
          "LKCS",
          "KLCK",
          "OKBK",
          "WMKK",
          "UAAA",
          "LFST",
          "EDFE"
         ],
         "xaxis": "x",
         "y": [
          6304,
          6035,
          3393,
          2382,
          2267,
          593,
          578,
          507,
          466,
          444,
          444,
          436,
          405,
          365,
          266,
          261,
          256,
          242,
          232,
          231,
          227,
          220,
          209,
          202,
          197,
          186,
          179,
          174,
          168,
          167,
          165,
          154,
          153,
          149,
          146,
          138,
          122,
          121,
          110,
          109,
          109,
          109,
          101,
          91,
          90,
          87,
          83,
          82,
          81,
          80,
          77,
          75,
          75,
          71,
          70,
          68,
          68,
          68,
          67,
          64,
          61,
          59,
          59,
          58,
          58,
          58,
          57,
          56,
          53,
          53,
          52,
          51,
          51,
          48,
          47,
          46,
          46,
          43,
          43,
          43,
          42,
          41,
          41,
          40,
          40,
          39,
          37,
          37,
          36,
          33,
          33,
          32,
          31,
          30,
          30,
          29,
          28,
          27,
          27,
          26,
          24,
          22,
          21,
          21,
          21,
          21,
          20,
          19,
          19,
          18,
          18,
          17,
          17,
          17,
          16,
          16,
          15,
          14,
          14,
          13,
          13,
          13,
          12,
          12,
          12,
          12,
          12,
          11,
          11,
          10,
          10,
          10,
          10,
          10,
          10,
          10,
          10,
          10,
          9,
          9,
          9,
          9,
          9,
          8,
          8,
          8,
          8,
          8,
          7,
          7,
          7,
          7,
          7,
          7,
          7,
          7,
          7,
          6,
          6,
          6,
          6,
          6,
          6,
          6,
          6,
          5,
          5,
          5,
          5,
          5,
          5,
          5,
          5,
          5,
          4,
          4,
          4,
          4,
          4,
          4,
          4,
          4,
          4,
          4,
          4,
          4,
          4,
          4,
          4,
          4,
          4,
          3,
          3,
          3,
          3,
          3,
          3,
          3,
          3,
          3,
          3,
          3,
          3,
          3,
          3,
          3,
          3,
          3,
          3,
          3,
          3,
          3,
          3,
          3,
          3,
          3,
          3,
          3,
          3,
          2,
          2,
          2,
          2,
          2,
          2,
          2,
          2,
          2,
          2,
          2,
          2,
          2,
          2,
          2,
          2,
          2,
          2,
          2,
          2,
          2,
          2,
          2,
          2,
          2,
          2,
          2,
          2,
          2,
          2,
          2,
          2,
          2,
          2,
          1,
          1,
          1,
          1,
          1,
          1,
          1,
          1,
          1,
          1,
          1,
          1,
          1,
          1,
          1,
          1,
          1,
          1,
          1,
          1,
          1,
          1,
          1,
          1,
          1,
          1,
          1,
          1,
          1,
          1,
          1,
          1,
          1,
          1,
          1,
          1,
          1,
          1,
          1,
          1,
          1,
          1,
          1,
          1,
          1,
          1,
          1,
          1,
          1,
          1,
          1,
          1,
          1,
          1,
          1,
          1,
          1,
          1,
          1,
          1,
          1,
          1,
          1,
          1,
          1,
          1,
          1,
          1,
          1,
          1,
          1,
          1,
          1,
          1,
          1,
          1,
          1,
          1,
          1,
          1,
          1,
          1,
          1,
          1,
          1,
          1,
          1,
          1,
          1,
          1,
          1,
          1,
          1,
          1
         ],
         "yaxis": "y"
        }
       ],
       "layout": {
        "barmode": "relative",
        "legend": {
         "tracegroupgap": 0
        },
        "template": {
         "data": {
          "bar": [
           {
            "error_x": {
             "color": "#2a3f5f"
            },
            "error_y": {
             "color": "#2a3f5f"
            },
            "marker": {
             "line": {
              "color": "#E5ECF6",
              "width": 0.5
             },
             "pattern": {
              "fillmode": "overlay",
              "size": 10,
              "solidity": 0.2
             }
            },
            "type": "bar"
           }
          ],
          "barpolar": [
           {
            "marker": {
             "line": {
              "color": "#E5ECF6",
              "width": 0.5
             },
             "pattern": {
              "fillmode": "overlay",
              "size": 10,
              "solidity": 0.2
             }
            },
            "type": "barpolar"
           }
          ],
          "carpet": [
           {
            "aaxis": {
             "endlinecolor": "#2a3f5f",
             "gridcolor": "white",
             "linecolor": "white",
             "minorgridcolor": "white",
             "startlinecolor": "#2a3f5f"
            },
            "baxis": {
             "endlinecolor": "#2a3f5f",
             "gridcolor": "white",
             "linecolor": "white",
             "minorgridcolor": "white",
             "startlinecolor": "#2a3f5f"
            },
            "type": "carpet"
           }
          ],
          "choropleth": [
           {
            "colorbar": {
             "outlinewidth": 0,
             "ticks": ""
            },
            "type": "choropleth"
           }
          ],
          "contour": [
           {
            "colorbar": {
             "outlinewidth": 0,
             "ticks": ""
            },
            "colorscale": [
             [
              0,
              "#0d0887"
             ],
             [
              0.1111111111111111,
              "#46039f"
             ],
             [
              0.2222222222222222,
              "#7201a8"
             ],
             [
              0.3333333333333333,
              "#9c179e"
             ],
             [
              0.4444444444444444,
              "#bd3786"
             ],
             [
              0.5555555555555556,
              "#d8576b"
             ],
             [
              0.6666666666666666,
              "#ed7953"
             ],
             [
              0.7777777777777778,
              "#fb9f3a"
             ],
             [
              0.8888888888888888,
              "#fdca26"
             ],
             [
              1,
              "#f0f921"
             ]
            ],
            "type": "contour"
           }
          ],
          "contourcarpet": [
           {
            "colorbar": {
             "outlinewidth": 0,
             "ticks": ""
            },
            "type": "contourcarpet"
           }
          ],
          "heatmap": [
           {
            "colorbar": {
             "outlinewidth": 0,
             "ticks": ""
            },
            "colorscale": [
             [
              0,
              "#0d0887"
             ],
             [
              0.1111111111111111,
              "#46039f"
             ],
             [
              0.2222222222222222,
              "#7201a8"
             ],
             [
              0.3333333333333333,
              "#9c179e"
             ],
             [
              0.4444444444444444,
              "#bd3786"
             ],
             [
              0.5555555555555556,
              "#d8576b"
             ],
             [
              0.6666666666666666,
              "#ed7953"
             ],
             [
              0.7777777777777778,
              "#fb9f3a"
             ],
             [
              0.8888888888888888,
              "#fdca26"
             ],
             [
              1,
              "#f0f921"
             ]
            ],
            "type": "heatmap"
           }
          ],
          "heatmapgl": [
           {
            "colorbar": {
             "outlinewidth": 0,
             "ticks": ""
            },
            "colorscale": [
             [
              0,
              "#0d0887"
             ],
             [
              0.1111111111111111,
              "#46039f"
             ],
             [
              0.2222222222222222,
              "#7201a8"
             ],
             [
              0.3333333333333333,
              "#9c179e"
             ],
             [
              0.4444444444444444,
              "#bd3786"
             ],
             [
              0.5555555555555556,
              "#d8576b"
             ],
             [
              0.6666666666666666,
              "#ed7953"
             ],
             [
              0.7777777777777778,
              "#fb9f3a"
             ],
             [
              0.8888888888888888,
              "#fdca26"
             ],
             [
              1,
              "#f0f921"
             ]
            ],
            "type": "heatmapgl"
           }
          ],
          "histogram": [
           {
            "marker": {
             "pattern": {
              "fillmode": "overlay",
              "size": 10,
              "solidity": 0.2
             }
            },
            "type": "histogram"
           }
          ],
          "histogram2d": [
           {
            "colorbar": {
             "outlinewidth": 0,
             "ticks": ""
            },
            "colorscale": [
             [
              0,
              "#0d0887"
             ],
             [
              0.1111111111111111,
              "#46039f"
             ],
             [
              0.2222222222222222,
              "#7201a8"
             ],
             [
              0.3333333333333333,
              "#9c179e"
             ],
             [
              0.4444444444444444,
              "#bd3786"
             ],
             [
              0.5555555555555556,
              "#d8576b"
             ],
             [
              0.6666666666666666,
              "#ed7953"
             ],
             [
              0.7777777777777778,
              "#fb9f3a"
             ],
             [
              0.8888888888888888,
              "#fdca26"
             ],
             [
              1,
              "#f0f921"
             ]
            ],
            "type": "histogram2d"
           }
          ],
          "histogram2dcontour": [
           {
            "colorbar": {
             "outlinewidth": 0,
             "ticks": ""
            },
            "colorscale": [
             [
              0,
              "#0d0887"
             ],
             [
              0.1111111111111111,
              "#46039f"
             ],
             [
              0.2222222222222222,
              "#7201a8"
             ],
             [
              0.3333333333333333,
              "#9c179e"
             ],
             [
              0.4444444444444444,
              "#bd3786"
             ],
             [
              0.5555555555555556,
              "#d8576b"
             ],
             [
              0.6666666666666666,
              "#ed7953"
             ],
             [
              0.7777777777777778,
              "#fb9f3a"
             ],
             [
              0.8888888888888888,
              "#fdca26"
             ],
             [
              1,
              "#f0f921"
             ]
            ],
            "type": "histogram2dcontour"
           }
          ],
          "mesh3d": [
           {
            "colorbar": {
             "outlinewidth": 0,
             "ticks": ""
            },
            "type": "mesh3d"
           }
          ],
          "parcoords": [
           {
            "line": {
             "colorbar": {
              "outlinewidth": 0,
              "ticks": ""
             }
            },
            "type": "parcoords"
           }
          ],
          "pie": [
           {
            "automargin": true,
            "type": "pie"
           }
          ],
          "scatter": [
           {
            "fillpattern": {
             "fillmode": "overlay",
             "size": 10,
             "solidity": 0.2
            },
            "type": "scatter"
           }
          ],
          "scatter3d": [
           {
            "line": {
             "colorbar": {
              "outlinewidth": 0,
              "ticks": ""
             }
            },
            "marker": {
             "colorbar": {
              "outlinewidth": 0,
              "ticks": ""
             }
            },
            "type": "scatter3d"
           }
          ],
          "scattercarpet": [
           {
            "marker": {
             "colorbar": {
              "outlinewidth": 0,
              "ticks": ""
             }
            },
            "type": "scattercarpet"
           }
          ],
          "scattergeo": [
           {
            "marker": {
             "colorbar": {
              "outlinewidth": 0,
              "ticks": ""
             }
            },
            "type": "scattergeo"
           }
          ],
          "scattergl": [
           {
            "marker": {
             "colorbar": {
              "outlinewidth": 0,
              "ticks": ""
             }
            },
            "type": "scattergl"
           }
          ],
          "scattermapbox": [
           {
            "marker": {
             "colorbar": {
              "outlinewidth": 0,
              "ticks": ""
             }
            },
            "type": "scattermapbox"
           }
          ],
          "scatterpolar": [
           {
            "marker": {
             "colorbar": {
              "outlinewidth": 0,
              "ticks": ""
             }
            },
            "type": "scatterpolar"
           }
          ],
          "scatterpolargl": [
           {
            "marker": {
             "colorbar": {
              "outlinewidth": 0,
              "ticks": ""
             }
            },
            "type": "scatterpolargl"
           }
          ],
          "scatterternary": [
           {
            "marker": {
             "colorbar": {
              "outlinewidth": 0,
              "ticks": ""
             }
            },
            "type": "scatterternary"
           }
          ],
          "surface": [
           {
            "colorbar": {
             "outlinewidth": 0,
             "ticks": ""
            },
            "colorscale": [
             [
              0,
              "#0d0887"
             ],
             [
              0.1111111111111111,
              "#46039f"
             ],
             [
              0.2222222222222222,
              "#7201a8"
             ],
             [
              0.3333333333333333,
              "#9c179e"
             ],
             [
              0.4444444444444444,
              "#bd3786"
             ],
             [
              0.5555555555555556,
              "#d8576b"
             ],
             [
              0.6666666666666666,
              "#ed7953"
             ],
             [
              0.7777777777777778,
              "#fb9f3a"
             ],
             [
              0.8888888888888888,
              "#fdca26"
             ],
             [
              1,
              "#f0f921"
             ]
            ],
            "type": "surface"
           }
          ],
          "table": [
           {
            "cells": {
             "fill": {
              "color": "#EBF0F8"
             },
             "line": {
              "color": "white"
             }
            },
            "header": {
             "fill": {
              "color": "#C8D4E3"
             },
             "line": {
              "color": "white"
             }
            },
            "type": "table"
           }
          ]
         },
         "layout": {
          "annotationdefaults": {
           "arrowcolor": "#2a3f5f",
           "arrowhead": 0,
           "arrowwidth": 1
          },
          "autotypenumbers": "strict",
          "coloraxis": {
           "colorbar": {
            "outlinewidth": 0,
            "ticks": ""
           }
          },
          "colorscale": {
           "diverging": [
            [
             0,
             "#8e0152"
            ],
            [
             0.1,
             "#c51b7d"
            ],
            [
             0.2,
             "#de77ae"
            ],
            [
             0.3,
             "#f1b6da"
            ],
            [
             0.4,
             "#fde0ef"
            ],
            [
             0.5,
             "#f7f7f7"
            ],
            [
             0.6,
             "#e6f5d0"
            ],
            [
             0.7,
             "#b8e186"
            ],
            [
             0.8,
             "#7fbc41"
            ],
            [
             0.9,
             "#4d9221"
            ],
            [
             1,
             "#276419"
            ]
           ],
           "sequential": [
            [
             0,
             "#0d0887"
            ],
            [
             0.1111111111111111,
             "#46039f"
            ],
            [
             0.2222222222222222,
             "#7201a8"
            ],
            [
             0.3333333333333333,
             "#9c179e"
            ],
            [
             0.4444444444444444,
             "#bd3786"
            ],
            [
             0.5555555555555556,
             "#d8576b"
            ],
            [
             0.6666666666666666,
             "#ed7953"
            ],
            [
             0.7777777777777778,
             "#fb9f3a"
            ],
            [
             0.8888888888888888,
             "#fdca26"
            ],
            [
             1,
             "#f0f921"
            ]
           ],
           "sequentialminus": [
            [
             0,
             "#0d0887"
            ],
            [
             0.1111111111111111,
             "#46039f"
            ],
            [
             0.2222222222222222,
             "#7201a8"
            ],
            [
             0.3333333333333333,
             "#9c179e"
            ],
            [
             0.4444444444444444,
             "#bd3786"
            ],
            [
             0.5555555555555556,
             "#d8576b"
            ],
            [
             0.6666666666666666,
             "#ed7953"
            ],
            [
             0.7777777777777778,
             "#fb9f3a"
            ],
            [
             0.8888888888888888,
             "#fdca26"
            ],
            [
             1,
             "#f0f921"
            ]
           ]
          },
          "colorway": [
           "#636efa",
           "#EF553B",
           "#00cc96",
           "#ab63fa",
           "#FFA15A",
           "#19d3f3",
           "#FF6692",
           "#B6E880",
           "#FF97FF",
           "#FECB52"
          ],
          "font": {
           "color": "#2a3f5f"
          },
          "geo": {
           "bgcolor": "white",
           "lakecolor": "white",
           "landcolor": "#E5ECF6",
           "showlakes": true,
           "showland": true,
           "subunitcolor": "white"
          },
          "hoverlabel": {
           "align": "left"
          },
          "hovermode": "closest",
          "mapbox": {
           "style": "light"
          },
          "paper_bgcolor": "white",
          "plot_bgcolor": "#E5ECF6",
          "polar": {
           "angularaxis": {
            "gridcolor": "white",
            "linecolor": "white",
            "ticks": ""
           },
           "bgcolor": "#E5ECF6",
           "radialaxis": {
            "gridcolor": "white",
            "linecolor": "white",
            "ticks": ""
           }
          },
          "scene": {
           "xaxis": {
            "backgroundcolor": "#E5ECF6",
            "gridcolor": "white",
            "gridwidth": 2,
            "linecolor": "white",
            "showbackground": true,
            "ticks": "",
            "zerolinecolor": "white"
           },
           "yaxis": {
            "backgroundcolor": "#E5ECF6",
            "gridcolor": "white",
            "gridwidth": 2,
            "linecolor": "white",
            "showbackground": true,
            "ticks": "",
            "zerolinecolor": "white"
           },
           "zaxis": {
            "backgroundcolor": "#E5ECF6",
            "gridcolor": "white",
            "gridwidth": 2,
            "linecolor": "white",
            "showbackground": true,
            "ticks": "",
            "zerolinecolor": "white"
           }
          },
          "shapedefaults": {
           "line": {
            "color": "#2a3f5f"
           }
          },
          "ternary": {
           "aaxis": {
            "gridcolor": "white",
            "linecolor": "white",
            "ticks": ""
           },
           "baxis": {
            "gridcolor": "white",
            "linecolor": "white",
            "ticks": ""
           },
           "bgcolor": "#E5ECF6",
           "caxis": {
            "gridcolor": "white",
            "linecolor": "white",
            "ticks": ""
           }
          },
          "title": {
           "x": 0.05
          },
          "xaxis": {
           "automargin": true,
           "gridcolor": "white",
           "linecolor": "white",
           "ticks": "",
           "title": {
            "standoff": 15
           },
           "zerolinecolor": "white",
           "zerolinewidth": 2
          },
          "yaxis": {
           "automargin": true,
           "gridcolor": "white",
           "linecolor": "white",
           "ticks": "",
           "title": {
            "standoff": 15
           },
           "zerolinecolor": "white",
           "zerolinewidth": 2
          }
         }
        },
        "title": {
         "text": "Amount of flights per airport Amount of flights per airport in July 2021 as origin"
        },
        "xaxis": {
         "anchor": "y",
         "domain": [
          0,
          1
         ],
         "range": [
          -0.5,
          4.5
         ],
         "title": {
          "text": "Airport"
         }
        },
        "yaxis": {
         "anchor": "x",
         "domain": [
          0,
          1
         ],
         "title": {
          "text": "Amount of flights"
         }
        }
       }
      }
     },
     "metadata": {},
     "output_type": "display_data"
    },
    {
     "data": {
      "application/vnd.plotly.v1+json": {
       "config": {
        "plotlyServerURL": "https://plot.ly"
       },
       "data": [
        {
         "alignmentgroup": "True",
         "hovertemplate": "x=%{x}<br>y=%{y}<extra></extra>",
         "legendgroup": "",
         "marker": {
          "color": "#636efa",
          "pattern": {
           "shape": ""
          }
         },
         "name": "",
         "offsetgroup": "",
         "orientation": "v",
         "showlegend": false,
         "text": [
          6495,
          6151,
          3492,
          2434,
          1907,
          716,
          592,
          591,
          521,
          455,
          453,
          389,
          356,
          356,
          342,
          287,
          272,
          268,
          248,
          241,
          241,
          240,
          224,
          215,
          211,
          209,
          207,
          203,
          188,
          177,
          163,
          163,
          161,
          160,
          160,
          155,
          150,
          147,
          138,
          132,
          131,
          114,
          113,
          110,
          106,
          95,
          95,
          93,
          92,
          87,
          87,
          85,
          82,
          80,
          78,
          78,
          77,
          75,
          69,
          68,
          66,
          65,
          65,
          63,
          62,
          60,
          60,
          59,
          54,
          54,
          53,
          53,
          52,
          51,
          50,
          49,
          48,
          48,
          46,
          44,
          44,
          42,
          41,
          40,
          40,
          39,
          38,
          37,
          36,
          36,
          35,
          34,
          33,
          33,
          33,
          33,
          32,
          32,
          32,
          31,
          30,
          28,
          26,
          25,
          25,
          24,
          23,
          23,
          23,
          22,
          22,
          21,
          20,
          19,
          19,
          18,
          18,
          17,
          17,
          17,
          17,
          17,
          17,
          16,
          16,
          15,
          15,
          15,
          15,
          15,
          14,
          14,
          14,
          14,
          13,
          13,
          13,
          13,
          12,
          12,
          12,
          12,
          12,
          12,
          11,
          11,
          10,
          10,
          10,
          10,
          10,
          10,
          9,
          9,
          9,
          9,
          8,
          8,
          8,
          8,
          8,
          8,
          8,
          8,
          7,
          7,
          7,
          7,
          7,
          7,
          7,
          7,
          7,
          7,
          6,
          6,
          6,
          6,
          6,
          6,
          6,
          6,
          5,
          5,
          5,
          5,
          5,
          5,
          5,
          5,
          5,
          5,
          5,
          5,
          5,
          5,
          4,
          4,
          4,
          4,
          4,
          4,
          4,
          4,
          4,
          4,
          4,
          4,
          3,
          3,
          3,
          3,
          3,
          3,
          3,
          3,
          3,
          3,
          3,
          3,
          3,
          3,
          3,
          3,
          3,
          3,
          3,
          3,
          3,
          3,
          3,
          3,
          3,
          3,
          2,
          2,
          2,
          2,
          2,
          2,
          2,
          2,
          2,
          2,
          2,
          2,
          2,
          2,
          2,
          2,
          2,
          2,
          2,
          2,
          2,
          2,
          2,
          2,
          2,
          2,
          2,
          2,
          2,
          2,
          2,
          2,
          2,
          2,
          2,
          2,
          2,
          2,
          2,
          2,
          1,
          1,
          1,
          1,
          1,
          1,
          1,
          1,
          1,
          1,
          1,
          1,
          1,
          1,
          1,
          1,
          1,
          1,
          1,
          1,
          1,
          1,
          1,
          1,
          1,
          1,
          1,
          1,
          1,
          1,
          1,
          1,
          1,
          1,
          1,
          1,
          1,
          1,
          1,
          1,
          1,
          1,
          1,
          1,
          1,
          1,
          1,
          1,
          1,
          1,
          1,
          1,
          1,
          1,
          1,
          1,
          1,
          1,
          1,
          1,
          1,
          1,
          1,
          1,
          1,
          1,
          1,
          1,
          1,
          1,
          1,
          1,
          1,
          1,
          1,
          1,
          1,
          1,
          1,
          1,
          1,
          1,
          1,
          1,
          1,
          1,
          1,
          1,
          1,
          1,
          1,
          1,
          1,
          1,
          1,
          1,
          1,
          1,
          1,
          1,
          1,
          1,
          1,
          1,
          1,
          1,
          1,
          1,
          1,
          1,
          1,
          1,
          1
         ],
         "textposition": "auto",
         "type": "bar",
         "x": [
          "LIMC",
          "LIRF",
          "LIME",
          "LIPZ",
          "LIPE",
          "LICZ",
          "LEBL",
          "LFPG",
          "LIBD",
          "LEMD",
          "EHAM",
          "LIBR",
          "LICJ",
          "EDDF",
          "LIEE",
          "EDDP",
          "LEIB",
          "KJFK",
          "LIML",
          "GMMN",
          "EDDM",
          "LICA",
          "LIEO",
          "EDDK",
          "LPPT",
          "EGSS",
          "EKCH",
          "LOWW",
          "EGLL",
          "LROP",
          "EDDB",
          "EBBR",
          "LEPA",
          "LIEA",
          "LTFM",
          "LSZH",
          "LMML",
          "OTHH",
          "LFPO",
          "EBMB",
          "LGMK",
          "LGAV",
          "ELLX",
          "EPWA",
          "LLBG",
          "EIDW",
          "LIED",
          "LICP",
          "UUEE",
          "LSGG",
          "LEMG",
          "LBSF",
          "LHBP",
          "LIAU",
          "UKBB",
          "LTFJ",
          "EDDL",
          "OMDB",
          "LIPQ",
          "EBLG",
          "LIMJ",
          "LIRA",
          "EBCI",
          "LPPR",
          "LIMA",
          "EHEH",
          "EDDH",
          "KEWR",
          "EGNX",
          "LEMH",
          "EFHK",
          "EVRA",
          "LEAL",
          "LGRP",
          "LFOB",
          "LIPX",
          "EGCC",
          "EPKK",
          "UUWW",
          "LKPR",
          "LIPY",
          "LICB",
          "LFMN",
          "ESSA",
          "LIBP",
          "LEZL",
          "LIRP",
          "EPMO",
          "RJAA",
          "LFPB",
          "EGGW",
          "LDSR",
          "LTBA",
          "KDFW",
          "GOBD",
          "EPKT",
          "EETN",
          "LGKO",
          "LIPL",
          "KATL",
          "LDZA",
          "LIPM",
          "EYVI",
          "LPAR",
          "LFML",
          "HEAZ",
          "BIKF",
          "LICR",
          "EPGD",
          "EDFM",
          "EKBI",
          "HEEM",
          "ULLI",
          "LJLJ",
          "CYYZ",
          "EGKR",
          "LPFR",
          "EGLF",
          "LILG",
          "EDDV",
          "LCLK",
          "LFBD",
          "EPWR",
          "LGMG",
          "EGPH",
          "LFLS",
          "LICC",
          "LIPO",
          "LIDP",
          "ENGM",
          "LFMY",
          "LGSA",
          "UUDD",
          "LGNX",
          "EGKK",
          "LIBC",
          "RJTT",
          "UKKK",
          "WSSS",
          "LGKN",
          "LSZM",
          "VHHH",
          "LIMF",
          "KCVG",
          "LESL",
          "DTTA",
          "ESGG",
          "EGAA",
          "OERK",
          "EDDS",
          "EYKA",
          "LIPH",
          "EPPO",
          "LFBO",
          "LYBE",
          "LFBT",
          "LETO",
          "CYUL",
          "LIRZ",
          "SBGR",
          "LICT",
          "LCPH",
          "DAAG",
          "EGKB",
          "HECA",
          "EDMO",
          "LRCV",
          "LIRQ",
          "HEBA",
          "KORD",
          "LGEL",
          "LTBW",
          "LYSM",
          "OLBA",
          "LOWS",
          "EGAC",
          "EGBB",
          "LFFW",
          "OMAA",
          "LFKF",
          "LIDH",
          "LIDB",
          "LIMG",
          "LOWL",
          "LIDT",
          "LZIB",
          "VIDP",
          "LGSO",
          "LIMB",
          "LFGB",
          "OMDW",
          "GMTT",
          "LSGS",
          "8KY6",
          "LFNR",
          "7KY2",
          "EBKT",
          "EDFH",
          "LIRN",
          "LSZC",
          "KTEB",
          "ESSP",
          "LSGC",
          "LILR",
          "LIPS",
          "ESKN",
          "LSZR",
          "LIDF",
          "LFTZ",
          "KHPN",
          "EDJA",
          "LDPL",
          "LSZA",
          "LFKP",
          "LIDU",
          "GCRR",
          "EDSB",
          "LOWI",
          "OTBD",
          "LIPR",
          "LIPU",
          "EDDN",
          "LILV",
          "RJAK",
          "LJPZ",
          "LIQL",
          "LTBU",
          "LICG",
          "EDAZ",
          "ETHN",
          "EHRD",
          "LFFI",
          "LIDR",
          "LOWG",
          "GCFV",
          "LIMZ",
          "LIDE",
          "LSZS",
          "EDMA",
          "LTFE",
          "LRCK",
          "LFMD",
          "UK61",
          "EGBJ",
          "EKOD",
          "LPBJ",
          "LFMV",
          "LFPD",
          "OMAD",
          "LIMS",
          "EDNY",
          "LIDC",
          "LIMP",
          "LIPV",
          "ESSB",
          "EDRY",
          "KLDJ",
          "LIQW",
          "HE12",
          "LOGT",
          "LILB",
          "EDTB",
          "LGTT",
          "OJAM",
          "LEMP",
          "LIRL",
          "LIDG",
          "LFLU",
          "LFFZ",
          "ESMS",
          "LD57",
          "LSZB",
          "LDPM",
          "EDLV",
          "LFAS",
          "LILE",
          "LB18",
          "EYRU",
          "LIVV",
          "LKPD",
          "LFOV",
          "LDRI",
          "LFPM",
          "LJMB",
          "LIMN",
          "VABB",
          "LSML",
          "EGGP",
          "LGSK",
          "LFNX",
          "LFMA",
          "LDRG",
          "KSYR",
          "KU42",
          "EDGS",
          "LIRH",
          "LEZG",
          "LFKS",
          "OKBK",
          "LFKJ",
          "LEAP",
          "LGTP",
          "EDQD",
          "KOPF",
          "EDDC",
          "EFKU",
          "LFLI",
          "FALA",
          "BIRK",
          "KFRG",
          "UUMO",
          "KMMU",
          "GMMX",
          "LIDL",
          "LRBS",
          "SBGL",
          "LFMF",
          "HKJK",
          "EDTL",
          "LIAT",
          "ETMN",
          "EDVE",
          "GMFU",
          "LIRS",
          "OMAF",
          "LPAZ",
          "LFNT",
          "LFRT",
          "LSGN",
          "LILN",
          "EDRK",
          "EDMS",
          "LIPD",
          "LILH",
          "LIDW",
          "UAAA",
          "LFME",
          "EDDG",
          "EINN",
          "LIRU",
          "LFHI",
          "LIRE",
          "USSS",
          "ESKX",
          "WIDD",
          "HE13",
          "EPSY",
          "EKRK",
          "EDVK",
          "LFRI",
          "LZKZ",
          "EDQG",
          "EDTD",
          "LFOK",
          "LIQS",
          "LIPK",
          "LOLW",
          "LFTF",
          "20KY",
          "LSZG",
          "EGJJ",
          "LLHZ",
          "EFKK",
          "EGTK",
          "EDRZ",
          "LFEB",
          "KBKL",
          "LIPC",
          "KMIA",
          "LFGC",
          "LEGE",
          "LFRS",
          "WSAC",
          "OKAS",
          "LILC",
          "EPLE",
          "LFCK",
          "MPMG",
          "GMMT",
          "EGHI",
          "LSTS",
          "EHBK",
          "EKYT",
          "LFST",
          "EBAW",
          "EPRZ",
          "LFLB"
         ],
         "xaxis": "x",
         "y": [
          6495,
          6151,
          3492,
          2434,
          1907,
          716,
          592,
          591,
          521,
          455,
          453,
          389,
          356,
          356,
          342,
          287,
          272,
          268,
          248,
          241,
          241,
          240,
          224,
          215,
          211,
          209,
          207,
          203,
          188,
          177,
          163,
          163,
          161,
          160,
          160,
          155,
          150,
          147,
          138,
          132,
          131,
          114,
          113,
          110,
          106,
          95,
          95,
          93,
          92,
          87,
          87,
          85,
          82,
          80,
          78,
          78,
          77,
          75,
          69,
          68,
          66,
          65,
          65,
          63,
          62,
          60,
          60,
          59,
          54,
          54,
          53,
          53,
          52,
          51,
          50,
          49,
          48,
          48,
          46,
          44,
          44,
          42,
          41,
          40,
          40,
          39,
          38,
          37,
          36,
          36,
          35,
          34,
          33,
          33,
          33,
          33,
          32,
          32,
          32,
          31,
          30,
          28,
          26,
          25,
          25,
          24,
          23,
          23,
          23,
          22,
          22,
          21,
          20,
          19,
          19,
          18,
          18,
          17,
          17,
          17,
          17,
          17,
          17,
          16,
          16,
          15,
          15,
          15,
          15,
          15,
          14,
          14,
          14,
          14,
          13,
          13,
          13,
          13,
          12,
          12,
          12,
          12,
          12,
          12,
          11,
          11,
          10,
          10,
          10,
          10,
          10,
          10,
          9,
          9,
          9,
          9,
          8,
          8,
          8,
          8,
          8,
          8,
          8,
          8,
          7,
          7,
          7,
          7,
          7,
          7,
          7,
          7,
          7,
          7,
          6,
          6,
          6,
          6,
          6,
          6,
          6,
          6,
          5,
          5,
          5,
          5,
          5,
          5,
          5,
          5,
          5,
          5,
          5,
          5,
          5,
          5,
          4,
          4,
          4,
          4,
          4,
          4,
          4,
          4,
          4,
          4,
          4,
          4,
          3,
          3,
          3,
          3,
          3,
          3,
          3,
          3,
          3,
          3,
          3,
          3,
          3,
          3,
          3,
          3,
          3,
          3,
          3,
          3,
          3,
          3,
          3,
          3,
          3,
          3,
          2,
          2,
          2,
          2,
          2,
          2,
          2,
          2,
          2,
          2,
          2,
          2,
          2,
          2,
          2,
          2,
          2,
          2,
          2,
          2,
          2,
          2,
          2,
          2,
          2,
          2,
          2,
          2,
          2,
          2,
          2,
          2,
          2,
          2,
          2,
          2,
          2,
          2,
          2,
          2,
          1,
          1,
          1,
          1,
          1,
          1,
          1,
          1,
          1,
          1,
          1,
          1,
          1,
          1,
          1,
          1,
          1,
          1,
          1,
          1,
          1,
          1,
          1,
          1,
          1,
          1,
          1,
          1,
          1,
          1,
          1,
          1,
          1,
          1,
          1,
          1,
          1,
          1,
          1,
          1,
          1,
          1,
          1,
          1,
          1,
          1,
          1,
          1,
          1,
          1,
          1,
          1,
          1,
          1,
          1,
          1,
          1,
          1,
          1,
          1,
          1,
          1,
          1,
          1,
          1,
          1,
          1,
          1,
          1,
          1,
          1,
          1,
          1,
          1,
          1,
          1,
          1,
          1,
          1,
          1,
          1,
          1,
          1,
          1,
          1,
          1,
          1,
          1,
          1,
          1,
          1,
          1,
          1,
          1,
          1,
          1,
          1,
          1,
          1,
          1,
          1,
          1,
          1,
          1,
          1,
          1,
          1,
          1,
          1,
          1,
          1,
          1,
          1
         ],
         "yaxis": "y"
        }
       ],
       "layout": {
        "barmode": "relative",
        "legend": {
         "tracegroupgap": 0
        },
        "template": {
         "data": {
          "bar": [
           {
            "error_x": {
             "color": "#2a3f5f"
            },
            "error_y": {
             "color": "#2a3f5f"
            },
            "marker": {
             "line": {
              "color": "#E5ECF6",
              "width": 0.5
             },
             "pattern": {
              "fillmode": "overlay",
              "size": 10,
              "solidity": 0.2
             }
            },
            "type": "bar"
           }
          ],
          "barpolar": [
           {
            "marker": {
             "line": {
              "color": "#E5ECF6",
              "width": 0.5
             },
             "pattern": {
              "fillmode": "overlay",
              "size": 10,
              "solidity": 0.2
             }
            },
            "type": "barpolar"
           }
          ],
          "carpet": [
           {
            "aaxis": {
             "endlinecolor": "#2a3f5f",
             "gridcolor": "white",
             "linecolor": "white",
             "minorgridcolor": "white",
             "startlinecolor": "#2a3f5f"
            },
            "baxis": {
             "endlinecolor": "#2a3f5f",
             "gridcolor": "white",
             "linecolor": "white",
             "minorgridcolor": "white",
             "startlinecolor": "#2a3f5f"
            },
            "type": "carpet"
           }
          ],
          "choropleth": [
           {
            "colorbar": {
             "outlinewidth": 0,
             "ticks": ""
            },
            "type": "choropleth"
           }
          ],
          "contour": [
           {
            "colorbar": {
             "outlinewidth": 0,
             "ticks": ""
            },
            "colorscale": [
             [
              0,
              "#0d0887"
             ],
             [
              0.1111111111111111,
              "#46039f"
             ],
             [
              0.2222222222222222,
              "#7201a8"
             ],
             [
              0.3333333333333333,
              "#9c179e"
             ],
             [
              0.4444444444444444,
              "#bd3786"
             ],
             [
              0.5555555555555556,
              "#d8576b"
             ],
             [
              0.6666666666666666,
              "#ed7953"
             ],
             [
              0.7777777777777778,
              "#fb9f3a"
             ],
             [
              0.8888888888888888,
              "#fdca26"
             ],
             [
              1,
              "#f0f921"
             ]
            ],
            "type": "contour"
           }
          ],
          "contourcarpet": [
           {
            "colorbar": {
             "outlinewidth": 0,
             "ticks": ""
            },
            "type": "contourcarpet"
           }
          ],
          "heatmap": [
           {
            "colorbar": {
             "outlinewidth": 0,
             "ticks": ""
            },
            "colorscale": [
             [
              0,
              "#0d0887"
             ],
             [
              0.1111111111111111,
              "#46039f"
             ],
             [
              0.2222222222222222,
              "#7201a8"
             ],
             [
              0.3333333333333333,
              "#9c179e"
             ],
             [
              0.4444444444444444,
              "#bd3786"
             ],
             [
              0.5555555555555556,
              "#d8576b"
             ],
             [
              0.6666666666666666,
              "#ed7953"
             ],
             [
              0.7777777777777778,
              "#fb9f3a"
             ],
             [
              0.8888888888888888,
              "#fdca26"
             ],
             [
              1,
              "#f0f921"
             ]
            ],
            "type": "heatmap"
           }
          ],
          "heatmapgl": [
           {
            "colorbar": {
             "outlinewidth": 0,
             "ticks": ""
            },
            "colorscale": [
             [
              0,
              "#0d0887"
             ],
             [
              0.1111111111111111,
              "#46039f"
             ],
             [
              0.2222222222222222,
              "#7201a8"
             ],
             [
              0.3333333333333333,
              "#9c179e"
             ],
             [
              0.4444444444444444,
              "#bd3786"
             ],
             [
              0.5555555555555556,
              "#d8576b"
             ],
             [
              0.6666666666666666,
              "#ed7953"
             ],
             [
              0.7777777777777778,
              "#fb9f3a"
             ],
             [
              0.8888888888888888,
              "#fdca26"
             ],
             [
              1,
              "#f0f921"
             ]
            ],
            "type": "heatmapgl"
           }
          ],
          "histogram": [
           {
            "marker": {
             "pattern": {
              "fillmode": "overlay",
              "size": 10,
              "solidity": 0.2
             }
            },
            "type": "histogram"
           }
          ],
          "histogram2d": [
           {
            "colorbar": {
             "outlinewidth": 0,
             "ticks": ""
            },
            "colorscale": [
             [
              0,
              "#0d0887"
             ],
             [
              0.1111111111111111,
              "#46039f"
             ],
             [
              0.2222222222222222,
              "#7201a8"
             ],
             [
              0.3333333333333333,
              "#9c179e"
             ],
             [
              0.4444444444444444,
              "#bd3786"
             ],
             [
              0.5555555555555556,
              "#d8576b"
             ],
             [
              0.6666666666666666,
              "#ed7953"
             ],
             [
              0.7777777777777778,
              "#fb9f3a"
             ],
             [
              0.8888888888888888,
              "#fdca26"
             ],
             [
              1,
              "#f0f921"
             ]
            ],
            "type": "histogram2d"
           }
          ],
          "histogram2dcontour": [
           {
            "colorbar": {
             "outlinewidth": 0,
             "ticks": ""
            },
            "colorscale": [
             [
              0,
              "#0d0887"
             ],
             [
              0.1111111111111111,
              "#46039f"
             ],
             [
              0.2222222222222222,
              "#7201a8"
             ],
             [
              0.3333333333333333,
              "#9c179e"
             ],
             [
              0.4444444444444444,
              "#bd3786"
             ],
             [
              0.5555555555555556,
              "#d8576b"
             ],
             [
              0.6666666666666666,
              "#ed7953"
             ],
             [
              0.7777777777777778,
              "#fb9f3a"
             ],
             [
              0.8888888888888888,
              "#fdca26"
             ],
             [
              1,
              "#f0f921"
             ]
            ],
            "type": "histogram2dcontour"
           }
          ],
          "mesh3d": [
           {
            "colorbar": {
             "outlinewidth": 0,
             "ticks": ""
            },
            "type": "mesh3d"
           }
          ],
          "parcoords": [
           {
            "line": {
             "colorbar": {
              "outlinewidth": 0,
              "ticks": ""
             }
            },
            "type": "parcoords"
           }
          ],
          "pie": [
           {
            "automargin": true,
            "type": "pie"
           }
          ],
          "scatter": [
           {
            "fillpattern": {
             "fillmode": "overlay",
             "size": 10,
             "solidity": 0.2
            },
            "type": "scatter"
           }
          ],
          "scatter3d": [
           {
            "line": {
             "colorbar": {
              "outlinewidth": 0,
              "ticks": ""
             }
            },
            "marker": {
             "colorbar": {
              "outlinewidth": 0,
              "ticks": ""
             }
            },
            "type": "scatter3d"
           }
          ],
          "scattercarpet": [
           {
            "marker": {
             "colorbar": {
              "outlinewidth": 0,
              "ticks": ""
             }
            },
            "type": "scattercarpet"
           }
          ],
          "scattergeo": [
           {
            "marker": {
             "colorbar": {
              "outlinewidth": 0,
              "ticks": ""
             }
            },
            "type": "scattergeo"
           }
          ],
          "scattergl": [
           {
            "marker": {
             "colorbar": {
              "outlinewidth": 0,
              "ticks": ""
             }
            },
            "type": "scattergl"
           }
          ],
          "scattermapbox": [
           {
            "marker": {
             "colorbar": {
              "outlinewidth": 0,
              "ticks": ""
             }
            },
            "type": "scattermapbox"
           }
          ],
          "scatterpolar": [
           {
            "marker": {
             "colorbar": {
              "outlinewidth": 0,
              "ticks": ""
             }
            },
            "type": "scatterpolar"
           }
          ],
          "scatterpolargl": [
           {
            "marker": {
             "colorbar": {
              "outlinewidth": 0,
              "ticks": ""
             }
            },
            "type": "scatterpolargl"
           }
          ],
          "scatterternary": [
           {
            "marker": {
             "colorbar": {
              "outlinewidth": 0,
              "ticks": ""
             }
            },
            "type": "scatterternary"
           }
          ],
          "surface": [
           {
            "colorbar": {
             "outlinewidth": 0,
             "ticks": ""
            },
            "colorscale": [
             [
              0,
              "#0d0887"
             ],
             [
              0.1111111111111111,
              "#46039f"
             ],
             [
              0.2222222222222222,
              "#7201a8"
             ],
             [
              0.3333333333333333,
              "#9c179e"
             ],
             [
              0.4444444444444444,
              "#bd3786"
             ],
             [
              0.5555555555555556,
              "#d8576b"
             ],
             [
              0.6666666666666666,
              "#ed7953"
             ],
             [
              0.7777777777777778,
              "#fb9f3a"
             ],
             [
              0.8888888888888888,
              "#fdca26"
             ],
             [
              1,
              "#f0f921"
             ]
            ],
            "type": "surface"
           }
          ],
          "table": [
           {
            "cells": {
             "fill": {
              "color": "#EBF0F8"
             },
             "line": {
              "color": "white"
             }
            },
            "header": {
             "fill": {
              "color": "#C8D4E3"
             },
             "line": {
              "color": "white"
             }
            },
            "type": "table"
           }
          ]
         },
         "layout": {
          "annotationdefaults": {
           "arrowcolor": "#2a3f5f",
           "arrowhead": 0,
           "arrowwidth": 1
          },
          "autotypenumbers": "strict",
          "coloraxis": {
           "colorbar": {
            "outlinewidth": 0,
            "ticks": ""
           }
          },
          "colorscale": {
           "diverging": [
            [
             0,
             "#8e0152"
            ],
            [
             0.1,
             "#c51b7d"
            ],
            [
             0.2,
             "#de77ae"
            ],
            [
             0.3,
             "#f1b6da"
            ],
            [
             0.4,
             "#fde0ef"
            ],
            [
             0.5,
             "#f7f7f7"
            ],
            [
             0.6,
             "#e6f5d0"
            ],
            [
             0.7,
             "#b8e186"
            ],
            [
             0.8,
             "#7fbc41"
            ],
            [
             0.9,
             "#4d9221"
            ],
            [
             1,
             "#276419"
            ]
           ],
           "sequential": [
            [
             0,
             "#0d0887"
            ],
            [
             0.1111111111111111,
             "#46039f"
            ],
            [
             0.2222222222222222,
             "#7201a8"
            ],
            [
             0.3333333333333333,
             "#9c179e"
            ],
            [
             0.4444444444444444,
             "#bd3786"
            ],
            [
             0.5555555555555556,
             "#d8576b"
            ],
            [
             0.6666666666666666,
             "#ed7953"
            ],
            [
             0.7777777777777778,
             "#fb9f3a"
            ],
            [
             0.8888888888888888,
             "#fdca26"
            ],
            [
             1,
             "#f0f921"
            ]
           ],
           "sequentialminus": [
            [
             0,
             "#0d0887"
            ],
            [
             0.1111111111111111,
             "#46039f"
            ],
            [
             0.2222222222222222,
             "#7201a8"
            ],
            [
             0.3333333333333333,
             "#9c179e"
            ],
            [
             0.4444444444444444,
             "#bd3786"
            ],
            [
             0.5555555555555556,
             "#d8576b"
            ],
            [
             0.6666666666666666,
             "#ed7953"
            ],
            [
             0.7777777777777778,
             "#fb9f3a"
            ],
            [
             0.8888888888888888,
             "#fdca26"
            ],
            [
             1,
             "#f0f921"
            ]
           ]
          },
          "colorway": [
           "#636efa",
           "#EF553B",
           "#00cc96",
           "#ab63fa",
           "#FFA15A",
           "#19d3f3",
           "#FF6692",
           "#B6E880",
           "#FF97FF",
           "#FECB52"
          ],
          "font": {
           "color": "#2a3f5f"
          },
          "geo": {
           "bgcolor": "white",
           "lakecolor": "white",
           "landcolor": "#E5ECF6",
           "showlakes": true,
           "showland": true,
           "subunitcolor": "white"
          },
          "hoverlabel": {
           "align": "left"
          },
          "hovermode": "closest",
          "mapbox": {
           "style": "light"
          },
          "paper_bgcolor": "white",
          "plot_bgcolor": "#E5ECF6",
          "polar": {
           "angularaxis": {
            "gridcolor": "white",
            "linecolor": "white",
            "ticks": ""
           },
           "bgcolor": "#E5ECF6",
           "radialaxis": {
            "gridcolor": "white",
            "linecolor": "white",
            "ticks": ""
           }
          },
          "scene": {
           "xaxis": {
            "backgroundcolor": "#E5ECF6",
            "gridcolor": "white",
            "gridwidth": 2,
            "linecolor": "white",
            "showbackground": true,
            "ticks": "",
            "zerolinecolor": "white"
           },
           "yaxis": {
            "backgroundcolor": "#E5ECF6",
            "gridcolor": "white",
            "gridwidth": 2,
            "linecolor": "white",
            "showbackground": true,
            "ticks": "",
            "zerolinecolor": "white"
           },
           "zaxis": {
            "backgroundcolor": "#E5ECF6",
            "gridcolor": "white",
            "gridwidth": 2,
            "linecolor": "white",
            "showbackground": true,
            "ticks": "",
            "zerolinecolor": "white"
           }
          },
          "shapedefaults": {
           "line": {
            "color": "#2a3f5f"
           }
          },
          "ternary": {
           "aaxis": {
            "gridcolor": "white",
            "linecolor": "white",
            "ticks": ""
           },
           "baxis": {
            "gridcolor": "white",
            "linecolor": "white",
            "ticks": ""
           },
           "bgcolor": "#E5ECF6",
           "caxis": {
            "gridcolor": "white",
            "linecolor": "white",
            "ticks": ""
           }
          },
          "title": {
           "x": 0.05
          },
          "xaxis": {
           "automargin": true,
           "gridcolor": "white",
           "linecolor": "white",
           "ticks": "",
           "title": {
            "standoff": 15
           },
           "zerolinecolor": "white",
           "zerolinewidth": 2
          },
          "yaxis": {
           "automargin": true,
           "gridcolor": "white",
           "linecolor": "white",
           "ticks": "",
           "title": {
            "standoff": 15
           },
           "zerolinecolor": "white",
           "zerolinewidth": 2
          }
         }
        },
        "title": {
         "text": "Amount of flights per airport Amount of flights per airport in July 2021 as destination"
        },
        "xaxis": {
         "anchor": "y",
         "domain": [
          0,
          1
         ],
         "range": [
          -0.5,
          4.5
         ],
         "title": {
          "text": "Airport"
         }
        },
        "yaxis": {
         "anchor": "x",
         "domain": [
          0,
          1
         ],
         "title": {
          "text": "Amount of flights"
         }
        }
       }
      }
     },
     "metadata": {},
     "output_type": "display_data"
    },
    {
     "name": "stdout",
     "output_type": "stream",
     "text": [
      "      origin  destination    total  year  month\n",
      "LIMC  6304.0       6495.0  12799.0  2021      7\n",
      "LIRF  6035.0       6151.0  12186.0  2021      7\n",
      "LIME  3393.0       3492.0   6885.0  2021      7\n",
      "LIPZ  2382.0       2434.0   4816.0  2021      7\n",
      "LIPE  2267.0       1907.0   4174.0  2021      7\n"
     ]
    },
    {
     "data": {
      "application/vnd.plotly.v1+json": {
       "config": {
        "plotlyServerURL": "https://plot.ly"
       },
       "data": [
        {
         "alignmentgroup": "True",
         "hovertemplate": "index=%{x}<br>total=%{y}<extra></extra>",
         "legendgroup": "",
         "marker": {
          "color": "#636efa",
          "pattern": {
           "shape": ""
          }
         },
         "name": "",
         "offsetgroup": "",
         "orientation": "v",
         "showlegend": false,
         "text": [
          12799,
          12186,
          6885,
          4816,
          4174,
          1184,
          1170,
          1028,
          919,
          899,
          800,
          747,
          738,
          721,
          660,
          543,
          538,
          529,
          490,
          472,
          468,
          435,
          431,
          426,
          425,
          424,
          409,
          406,
          356,
          356,
          328,
          328,
          314,
          309,
          308,
          306,
          296,
          276,
          268,
          264,
          236,
          223,
          219,
          215,
          199,
          186,
          174,
          172,
          167,
          165,
          163,
          155,
          154,
          153,
          148,
          137,
          136,
          127,
          124,
          124,
          124,
          123,
          122,
          118,
          117,
          115,
          113,
          111,
          109,
          107,
          105,
          105,
          105,
          100,
          97,
          94,
          92,
          91,
          87,
          85,
          83,
          83,
          81,
          81,
          78,
          75,
          74,
          74,
          72,
          72,
          71,
          70,
          68,
          66,
          66,
          65,
          63,
          63,
          60,
          58,
          54,
          52,
          47,
          47,
          46,
          43,
          43,
          42,
          40,
          40,
          40,
          39,
          37,
          34,
          34,
          33,
          33,
          32,
          32,
          31,
          30,
          30,
          29,
          29,
          29,
          29,
          27,
          26,
          26,
          25,
          24,
          23,
          23,
          22,
          21,
          20,
          20,
          20,
          20,
          20,
          20,
          19,
          19,
          19,
          19,
          19,
          18,
          18,
          18,
          17,
          16,
          16,
          16,
          16,
          16,
          16,
          15,
          14,
          14,
          13,
          13,
          13,
          13,
          12,
          12,
          11,
          11,
          11,
          11,
          11,
          11,
          11,
          10,
          10,
          10,
          10,
          9,
          9,
          9,
          9,
          9,
          9,
          8,
          8,
          8,
          8,
          8,
          8,
          8,
          8,
          7,
          7,
          7,
          7,
          7,
          7,
          7,
          7,
          7,
          7,
          6,
          6,
          6,
          6,
          6,
          6,
          6,
          6,
          6,
          5,
          5,
          5,
          5,
          5,
          5,
          5,
          5,
          5,
          5,
          5,
          5,
          5,
          4,
          4,
          4,
          4,
          4,
          4,
          4,
          4,
          4,
          4,
          4,
          4,
          4,
          4,
          4,
          4,
          4,
          4,
          3,
          3,
          3,
          3,
          3,
          3,
          3,
          3,
          3,
          3,
          3,
          3,
          2,
          2,
          2,
          2,
          2,
          2,
          2,
          2,
          2,
          2,
          2,
          2,
          2,
          2,
          2,
          2,
          2,
          2,
          2,
          2,
          2,
          2,
          2,
          2,
          2,
          2,
          null,
          null,
          null,
          null,
          null,
          null,
          null,
          null,
          null,
          null,
          null,
          null,
          null,
          null,
          null,
          null,
          null,
          null,
          null,
          null,
          null,
          null,
          null,
          null,
          null,
          null,
          null,
          null,
          null,
          null,
          null,
          null,
          null,
          null,
          null,
          null,
          null,
          null,
          null,
          null,
          null,
          null,
          null,
          null,
          null,
          null,
          null,
          null,
          null,
          null,
          null,
          null,
          null,
          null,
          null,
          null,
          null,
          null,
          null,
          null,
          null,
          null,
          null,
          null,
          null,
          null,
          null,
          null,
          null,
          null,
          null,
          null,
          null,
          null,
          null,
          null,
          null,
          null,
          null,
          null,
          null,
          null,
          null,
          null,
          null,
          null,
          null,
          null,
          null,
          null,
          null,
          null,
          null,
          null,
          null,
          null,
          null,
          null,
          null,
          null,
          null,
          null,
          null,
          null,
          null,
          null,
          null,
          null,
          null,
          null,
          null,
          null,
          null,
          null,
          null,
          null,
          null,
          null,
          null,
          null,
          null,
          null,
          null,
          null,
          null,
          null,
          null,
          null,
          null,
          null,
          null,
          null,
          null,
          null,
          null,
          null,
          null,
          null,
          null,
          null,
          null,
          null,
          null,
          null,
          null,
          null,
          null,
          null,
          null,
          null,
          null,
          null,
          null,
          null,
          null,
          null,
          null,
          null,
          null,
          null,
          null,
          null,
          null,
          null,
          null,
          null,
          null,
          null,
          null,
          null,
          null,
          null,
          null,
          null,
          null,
          null,
          null,
          null
         ],
         "textposition": "auto",
         "type": "bar",
         "x": [
          "LIMC",
          "LIRF",
          "LIME",
          "LIPZ",
          "LIPE",
          "LFPG",
          "LEBL",
          "LIBD",
          "EHAM",
          "LEMD",
          "LICJ",
          "LIEE",
          "LICZ",
          "EDDF",
          "LIEO",
          "EDDP",
          "LEIB",
          "KJFK",
          "LIML",
          "GMMN",
          "EDDM",
          "LOWW",
          "LPPT",
          "LICA",
          "LIBR",
          "EDDK",
          "EKCH",
          "EGSS",
          "LROP",
          "EGLL",
          "LEPA",
          "EDDB",
          "LIEA",
          "LTFM",
          "LSZH",
          "EBMB",
          "LMML",
          "LFPO",
          "OTHH",
          "EBBR",
          "LGAV",
          "ELLX",
          "EPWA",
          "LLBG",
          "LGMK",
          "EIDW",
          "LEMG",
          "UUEE",
          "LBSF",
          "OMDB",
          "LHBP",
          "LTFJ",
          "LSGG",
          "UKBB",
          "EDDL",
          "LIPQ",
          "LIMJ",
          "EBLG",
          "LPPR",
          "LICC",
          "LFMN",
          "EBCI",
          "LIRA",
          "EDDH",
          "KEWR",
          "LGRP",
          "EGNX",
          "EHEH",
          "EVRA",
          "LEMH",
          "LIED",
          "EFHK",
          "LEAL",
          "LIPX",
          "LFOB",
          "EPKK",
          "UUWW",
          "EGCC",
          "LIMF",
          "LICB",
          "LKPR",
          "EGGW",
          "LIBP",
          "ESSA",
          "LIRP",
          "HECA",
          "LGKO",
          "EPMO",
          "LIPL",
          "LEZL",
          "LIPY",
          "GOBD",
          "LFML",
          "EPKT",
          "LIMA",
          "KDFW",
          "LFPB",
          "EETN",
          "KATL",
          "LDZA",
          "LTBA",
          "EYVI",
          "LDSR",
          "BIKF",
          "RJAA",
          "EGKK",
          "EPGD",
          "LSZM",
          "CYYZ",
          "LJLJ",
          "EKBI",
          "ULLI",
          "LPFR",
          "EDFM",
          "LCLK",
          "LILG",
          "ENGM",
          "EGPH",
          "LFBD",
          "LGSA",
          "EPWR",
          "LYBE",
          "WSSS",
          "LPAR",
          "EDDV",
          "LIPM",
          "EGLF",
          "UUDD",
          "RJTT",
          "HEAZ",
          "LICR",
          "UKKK",
          "VHHH",
          "EDDS",
          "KORD",
          "KCVG",
          "LIPO",
          "LIBC",
          "EGAA",
          "ESGG",
          "DAAG",
          "EGKR",
          "EPPO",
          "EYKA",
          "LIDP",
          "LIRZ",
          "DTTA",
          "LFBT",
          "LFBO",
          "OERK",
          "SBGR",
          "LICT",
          "OLBA",
          "LGKN",
          "LOWS",
          "LESL",
          "LCPH",
          "LIDH",
          "HEBA",
          "LIRQ",
          "CYUL",
          "GMTT",
          "LIPH",
          "LDPL",
          "8KY6",
          "LFRS",
          "LFKF",
          "LRCV",
          "EGAC",
          "LIMB",
          "EGKB",
          "LILR",
          "EDFH",
          "EDMO",
          "LIDB",
          "VIDP",
          "LIPV",
          "LETO",
          "EGBB",
          "LIPU",
          "LIPR",
          "OMAA",
          "LGSO",
          "LIMG",
          "LZIB",
          "LOWL",
          "EDDN",
          "LSZB",
          "EDJA",
          "LSZR",
          "EHRD",
          "LILV",
          "LJPZ",
          "LSGS",
          "LFMV",
          "EDAZ",
          "LIDT",
          "EDSB",
          "LFNR",
          "LIRU",
          "EBKT",
          "LIDR",
          "EDRY",
          "LILB",
          "ETHN",
          "LTFE",
          "GCRR",
          "OTBD",
          "ESKN",
          "LIDF",
          "LOWG",
          "LICG",
          "LSGC",
          "KTEB",
          "LSZC",
          "EDMA",
          "EGBJ",
          "LIDG",
          "LIPC",
          "WSAC",
          "LFLU",
          "LRCK",
          "ESSB",
          "ESMS",
          "EGTK",
          "LIDU",
          "KHPN",
          "EBAW",
          "LIMZ",
          "LEZG",
          "VABB",
          "EINN",
          "LSZA",
          "EHBK",
          "LIPK",
          "LIDE",
          "EDRZ",
          "LIRL",
          "LIRE",
          "LFTZ",
          "LFMD",
          "EDLV",
          "LIMP",
          "EDNY",
          "LIQW",
          "LFLB",
          "EKOD",
          "LIPD",
          "LFCK",
          "LEGE",
          "HKJK",
          "LIAT",
          "EDMS",
          "EPSY",
          "OKBK",
          "UAAA",
          "EPRZ",
          "LFOK",
          "EDTD",
          "LOLW",
          "LRBS",
          "EDRK",
          "EDVE",
          "EDTL",
          "LIVV",
          "LJMB",
          "LIRH",
          "KMMU",
          "LFMA",
          "LFLI",
          "LILN",
          "EDDC",
          "EDDG",
          "LFPM",
          "EDQG",
          "ETMN",
          "LILE",
          "LFST",
          "OBBI",
          "KLAX",
          "LIPB",
          "LFBZ",
          "GCLP",
          "LIDV",
          "FAOR",
          "ZGSZ",
          "LIDA",
          "EGSH",
          "LSMA",
          "EBMO",
          "EDDW",
          "KRFD",
          "LDSP",
          "KLUK",
          "LFTH",
          "LIPF",
          "ORMM",
          "LFLY",
          "KPBI",
          "LSGT",
          "LKMT",
          "ZUCK",
          "LPCS",
          "EDQO",
          "LFKM",
          "KBEH",
          "LSGL",
          "EDDE",
          "EDGB",
          "OEDF",
          "EGSC",
          "LOIJ",
          "LSGK",
          "OMDM",
          "OMSJ",
          "GMFF",
          "EDLW",
          "LFRK",
          "RPLL",
          "ENBO",
          "LFBF",
          "LOXZ",
          "EDAM",
          "LDZD",
          "LIBG",
          "KCGF",
          "KBOS",
          "LDDU",
          "EDFC",
          "LFPV",
          "LTAC",
          "LKTB",
          "EGWU",
          "KVNY",
          "VGZR",
          "OA16",
          "EDTM",
          "KPIT",
          "LFTW",
          "LFMP",
          "KBAF",
          "LFKC",
          "LIPN",
          "LKCS",
          "KLCK",
          "WMKK",
          "EDFE",
          "LICP",
          "LIAU",
          "HEEM",
          "LGMG",
          "LFLS",
          "LFMY",
          "LGNX",
          "LGEL",
          "LTBW",
          "LYSM",
          "LFFW",
          "LFGB",
          "OMDW",
          "7KY2",
          "LIRN",
          "ESSP",
          "LIPS",
          "LFKP",
          "LOWI",
          "RJAK",
          "LIQL",
          "LTBU",
          "LFFI",
          "GCFV",
          "LSZS",
          "UK61",
          "LPBJ",
          "LFPD",
          "OMAD",
          "LIMS",
          "LIDC",
          "KLDJ",
          "HE12",
          "LOGT",
          "EDTB",
          "LGTT",
          "OJAM",
          "LEMP",
          "LFFZ",
          "LD57",
          "LDPM",
          "LFAS",
          "LB18",
          "EYRU",
          "LKPD",
          "LFOV",
          "LDRI",
          "LIMN",
          "LSML",
          "EGGP",
          "LGSK",
          "LFNX",
          "LDRG",
          "KSYR",
          "KU42",
          "EDGS",
          "LFKS",
          "LFKJ",
          "LEAP",
          "LGTP",
          "EDQD",
          "KOPF",
          "EFKU",
          "FALA",
          "BIRK",
          "KFRG",
          "UUMO",
          "GMMX",
          "LIDL",
          "SBGL",
          "LFMF",
          "GMFU",
          "LIRS",
          "OMAF",
          "LPAZ",
          "LFNT",
          "LFRT",
          "LSGN",
          "LILH",
          "LIDW",
          "LFME",
          "LFHI",
          "USSS",
          "ESKX",
          "WIDD",
          "HE13",
          "EKRK",
          "EDVK",
          "LFRI",
          "LZKZ",
          "LIQS",
          "LFTF",
          "20KY",
          "LSZG",
          "EGJJ",
          "LLHZ",
          "EFKK",
          "LFEB",
          "KBKL",
          "KMIA",
          "LFGC",
          "OKAS",
          "LILC",
          "EPLE",
          "MPMG",
          "GMMT",
          "EGHI",
          "LSTS",
          "EKYT"
         ],
         "xaxis": "x",
         "y": [
          12799,
          12186,
          6885,
          4816,
          4174,
          1184,
          1170,
          1028,
          919,
          899,
          800,
          747,
          738,
          721,
          660,
          543,
          538,
          529,
          490,
          472,
          468,
          435,
          431,
          426,
          425,
          424,
          409,
          406,
          356,
          356,
          328,
          328,
          314,
          309,
          308,
          306,
          296,
          276,
          268,
          264,
          236,
          223,
          219,
          215,
          199,
          186,
          174,
          172,
          167,
          165,
          163,
          155,
          154,
          153,
          148,
          137,
          136,
          127,
          124,
          124,
          124,
          123,
          122,
          118,
          117,
          115,
          113,
          111,
          109,
          107,
          105,
          105,
          105,
          100,
          97,
          94,
          92,
          91,
          87,
          85,
          83,
          83,
          81,
          81,
          78,
          75,
          74,
          74,
          72,
          72,
          71,
          70,
          68,
          66,
          66,
          65,
          63,
          63,
          60,
          58,
          54,
          52,
          47,
          47,
          46,
          43,
          43,
          42,
          40,
          40,
          40,
          39,
          37,
          34,
          34,
          33,
          33,
          32,
          32,
          31,
          30,
          30,
          29,
          29,
          29,
          29,
          27,
          26,
          26,
          25,
          24,
          23,
          23,
          22,
          21,
          20,
          20,
          20,
          20,
          20,
          20,
          19,
          19,
          19,
          19,
          19,
          18,
          18,
          18,
          17,
          16,
          16,
          16,
          16,
          16,
          16,
          15,
          14,
          14,
          13,
          13,
          13,
          13,
          12,
          12,
          11,
          11,
          11,
          11,
          11,
          11,
          11,
          10,
          10,
          10,
          10,
          9,
          9,
          9,
          9,
          9,
          9,
          8,
          8,
          8,
          8,
          8,
          8,
          8,
          8,
          7,
          7,
          7,
          7,
          7,
          7,
          7,
          7,
          7,
          7,
          6,
          6,
          6,
          6,
          6,
          6,
          6,
          6,
          6,
          5,
          5,
          5,
          5,
          5,
          5,
          5,
          5,
          5,
          5,
          5,
          5,
          5,
          4,
          4,
          4,
          4,
          4,
          4,
          4,
          4,
          4,
          4,
          4,
          4,
          4,
          4,
          4,
          4,
          4,
          4,
          3,
          3,
          3,
          3,
          3,
          3,
          3,
          3,
          3,
          3,
          3,
          3,
          2,
          2,
          2,
          2,
          2,
          2,
          2,
          2,
          2,
          2,
          2,
          2,
          2,
          2,
          2,
          2,
          2,
          2,
          2,
          2,
          2,
          2,
          2,
          2,
          2,
          2,
          null,
          null,
          null,
          null,
          null,
          null,
          null,
          null,
          null,
          null,
          null,
          null,
          null,
          null,
          null,
          null,
          null,
          null,
          null,
          null,
          null,
          null,
          null,
          null,
          null,
          null,
          null,
          null,
          null,
          null,
          null,
          null,
          null,
          null,
          null,
          null,
          null,
          null,
          null,
          null,
          null,
          null,
          null,
          null,
          null,
          null,
          null,
          null,
          null,
          null,
          null,
          null,
          null,
          null,
          null,
          null,
          null,
          null,
          null,
          null,
          null,
          null,
          null,
          null,
          null,
          null,
          null,
          null,
          null,
          null,
          null,
          null,
          null,
          null,
          null,
          null,
          null,
          null,
          null,
          null,
          null,
          null,
          null,
          null,
          null,
          null,
          null,
          null,
          null,
          null,
          null,
          null,
          null,
          null,
          null,
          null,
          null,
          null,
          null,
          null,
          null,
          null,
          null,
          null,
          null,
          null,
          null,
          null,
          null,
          null,
          null,
          null,
          null,
          null,
          null,
          null,
          null,
          null,
          null,
          null,
          null,
          null,
          null,
          null,
          null,
          null,
          null,
          null,
          null,
          null,
          null,
          null,
          null,
          null,
          null,
          null,
          null,
          null,
          null,
          null,
          null,
          null,
          null,
          null,
          null,
          null,
          null,
          null,
          null,
          null,
          null,
          null,
          null,
          null,
          null,
          null,
          null,
          null,
          null,
          null,
          null,
          null,
          null,
          null,
          null,
          null,
          null,
          null,
          null,
          null,
          null,
          null,
          null,
          null,
          null,
          null,
          null,
          null
         ],
         "yaxis": "y"
        }
       ],
       "layout": {
        "barmode": "relative",
        "legend": {
         "tracegroupgap": 0
        },
        "template": {
         "data": {
          "bar": [
           {
            "error_x": {
             "color": "#2a3f5f"
            },
            "error_y": {
             "color": "#2a3f5f"
            },
            "marker": {
             "line": {
              "color": "#E5ECF6",
              "width": 0.5
             },
             "pattern": {
              "fillmode": "overlay",
              "size": 10,
              "solidity": 0.2
             }
            },
            "type": "bar"
           }
          ],
          "barpolar": [
           {
            "marker": {
             "line": {
              "color": "#E5ECF6",
              "width": 0.5
             },
             "pattern": {
              "fillmode": "overlay",
              "size": 10,
              "solidity": 0.2
             }
            },
            "type": "barpolar"
           }
          ],
          "carpet": [
           {
            "aaxis": {
             "endlinecolor": "#2a3f5f",
             "gridcolor": "white",
             "linecolor": "white",
             "minorgridcolor": "white",
             "startlinecolor": "#2a3f5f"
            },
            "baxis": {
             "endlinecolor": "#2a3f5f",
             "gridcolor": "white",
             "linecolor": "white",
             "minorgridcolor": "white",
             "startlinecolor": "#2a3f5f"
            },
            "type": "carpet"
           }
          ],
          "choropleth": [
           {
            "colorbar": {
             "outlinewidth": 0,
             "ticks": ""
            },
            "type": "choropleth"
           }
          ],
          "contour": [
           {
            "colorbar": {
             "outlinewidth": 0,
             "ticks": ""
            },
            "colorscale": [
             [
              0,
              "#0d0887"
             ],
             [
              0.1111111111111111,
              "#46039f"
             ],
             [
              0.2222222222222222,
              "#7201a8"
             ],
             [
              0.3333333333333333,
              "#9c179e"
             ],
             [
              0.4444444444444444,
              "#bd3786"
             ],
             [
              0.5555555555555556,
              "#d8576b"
             ],
             [
              0.6666666666666666,
              "#ed7953"
             ],
             [
              0.7777777777777778,
              "#fb9f3a"
             ],
             [
              0.8888888888888888,
              "#fdca26"
             ],
             [
              1,
              "#f0f921"
             ]
            ],
            "type": "contour"
           }
          ],
          "contourcarpet": [
           {
            "colorbar": {
             "outlinewidth": 0,
             "ticks": ""
            },
            "type": "contourcarpet"
           }
          ],
          "heatmap": [
           {
            "colorbar": {
             "outlinewidth": 0,
             "ticks": ""
            },
            "colorscale": [
             [
              0,
              "#0d0887"
             ],
             [
              0.1111111111111111,
              "#46039f"
             ],
             [
              0.2222222222222222,
              "#7201a8"
             ],
             [
              0.3333333333333333,
              "#9c179e"
             ],
             [
              0.4444444444444444,
              "#bd3786"
             ],
             [
              0.5555555555555556,
              "#d8576b"
             ],
             [
              0.6666666666666666,
              "#ed7953"
             ],
             [
              0.7777777777777778,
              "#fb9f3a"
             ],
             [
              0.8888888888888888,
              "#fdca26"
             ],
             [
              1,
              "#f0f921"
             ]
            ],
            "type": "heatmap"
           }
          ],
          "heatmapgl": [
           {
            "colorbar": {
             "outlinewidth": 0,
             "ticks": ""
            },
            "colorscale": [
             [
              0,
              "#0d0887"
             ],
             [
              0.1111111111111111,
              "#46039f"
             ],
             [
              0.2222222222222222,
              "#7201a8"
             ],
             [
              0.3333333333333333,
              "#9c179e"
             ],
             [
              0.4444444444444444,
              "#bd3786"
             ],
             [
              0.5555555555555556,
              "#d8576b"
             ],
             [
              0.6666666666666666,
              "#ed7953"
             ],
             [
              0.7777777777777778,
              "#fb9f3a"
             ],
             [
              0.8888888888888888,
              "#fdca26"
             ],
             [
              1,
              "#f0f921"
             ]
            ],
            "type": "heatmapgl"
           }
          ],
          "histogram": [
           {
            "marker": {
             "pattern": {
              "fillmode": "overlay",
              "size": 10,
              "solidity": 0.2
             }
            },
            "type": "histogram"
           }
          ],
          "histogram2d": [
           {
            "colorbar": {
             "outlinewidth": 0,
             "ticks": ""
            },
            "colorscale": [
             [
              0,
              "#0d0887"
             ],
             [
              0.1111111111111111,
              "#46039f"
             ],
             [
              0.2222222222222222,
              "#7201a8"
             ],
             [
              0.3333333333333333,
              "#9c179e"
             ],
             [
              0.4444444444444444,
              "#bd3786"
             ],
             [
              0.5555555555555556,
              "#d8576b"
             ],
             [
              0.6666666666666666,
              "#ed7953"
             ],
             [
              0.7777777777777778,
              "#fb9f3a"
             ],
             [
              0.8888888888888888,
              "#fdca26"
             ],
             [
              1,
              "#f0f921"
             ]
            ],
            "type": "histogram2d"
           }
          ],
          "histogram2dcontour": [
           {
            "colorbar": {
             "outlinewidth": 0,
             "ticks": ""
            },
            "colorscale": [
             [
              0,
              "#0d0887"
             ],
             [
              0.1111111111111111,
              "#46039f"
             ],
             [
              0.2222222222222222,
              "#7201a8"
             ],
             [
              0.3333333333333333,
              "#9c179e"
             ],
             [
              0.4444444444444444,
              "#bd3786"
             ],
             [
              0.5555555555555556,
              "#d8576b"
             ],
             [
              0.6666666666666666,
              "#ed7953"
             ],
             [
              0.7777777777777778,
              "#fb9f3a"
             ],
             [
              0.8888888888888888,
              "#fdca26"
             ],
             [
              1,
              "#f0f921"
             ]
            ],
            "type": "histogram2dcontour"
           }
          ],
          "mesh3d": [
           {
            "colorbar": {
             "outlinewidth": 0,
             "ticks": ""
            },
            "type": "mesh3d"
           }
          ],
          "parcoords": [
           {
            "line": {
             "colorbar": {
              "outlinewidth": 0,
              "ticks": ""
             }
            },
            "type": "parcoords"
           }
          ],
          "pie": [
           {
            "automargin": true,
            "type": "pie"
           }
          ],
          "scatter": [
           {
            "fillpattern": {
             "fillmode": "overlay",
             "size": 10,
             "solidity": 0.2
            },
            "type": "scatter"
           }
          ],
          "scatter3d": [
           {
            "line": {
             "colorbar": {
              "outlinewidth": 0,
              "ticks": ""
             }
            },
            "marker": {
             "colorbar": {
              "outlinewidth": 0,
              "ticks": ""
             }
            },
            "type": "scatter3d"
           }
          ],
          "scattercarpet": [
           {
            "marker": {
             "colorbar": {
              "outlinewidth": 0,
              "ticks": ""
             }
            },
            "type": "scattercarpet"
           }
          ],
          "scattergeo": [
           {
            "marker": {
             "colorbar": {
              "outlinewidth": 0,
              "ticks": ""
             }
            },
            "type": "scattergeo"
           }
          ],
          "scattergl": [
           {
            "marker": {
             "colorbar": {
              "outlinewidth": 0,
              "ticks": ""
             }
            },
            "type": "scattergl"
           }
          ],
          "scattermapbox": [
           {
            "marker": {
             "colorbar": {
              "outlinewidth": 0,
              "ticks": ""
             }
            },
            "type": "scattermapbox"
           }
          ],
          "scatterpolar": [
           {
            "marker": {
             "colorbar": {
              "outlinewidth": 0,
              "ticks": ""
             }
            },
            "type": "scatterpolar"
           }
          ],
          "scatterpolargl": [
           {
            "marker": {
             "colorbar": {
              "outlinewidth": 0,
              "ticks": ""
             }
            },
            "type": "scatterpolargl"
           }
          ],
          "scatterternary": [
           {
            "marker": {
             "colorbar": {
              "outlinewidth": 0,
              "ticks": ""
             }
            },
            "type": "scatterternary"
           }
          ],
          "surface": [
           {
            "colorbar": {
             "outlinewidth": 0,
             "ticks": ""
            },
            "colorscale": [
             [
              0,
              "#0d0887"
             ],
             [
              0.1111111111111111,
              "#46039f"
             ],
             [
              0.2222222222222222,
              "#7201a8"
             ],
             [
              0.3333333333333333,
              "#9c179e"
             ],
             [
              0.4444444444444444,
              "#bd3786"
             ],
             [
              0.5555555555555556,
              "#d8576b"
             ],
             [
              0.6666666666666666,
              "#ed7953"
             ],
             [
              0.7777777777777778,
              "#fb9f3a"
             ],
             [
              0.8888888888888888,
              "#fdca26"
             ],
             [
              1,
              "#f0f921"
             ]
            ],
            "type": "surface"
           }
          ],
          "table": [
           {
            "cells": {
             "fill": {
              "color": "#EBF0F8"
             },
             "line": {
              "color": "white"
             }
            },
            "header": {
             "fill": {
              "color": "#C8D4E3"
             },
             "line": {
              "color": "white"
             }
            },
            "type": "table"
           }
          ]
         },
         "layout": {
          "annotationdefaults": {
           "arrowcolor": "#2a3f5f",
           "arrowhead": 0,
           "arrowwidth": 1
          },
          "autotypenumbers": "strict",
          "coloraxis": {
           "colorbar": {
            "outlinewidth": 0,
            "ticks": ""
           }
          },
          "colorscale": {
           "diverging": [
            [
             0,
             "#8e0152"
            ],
            [
             0.1,
             "#c51b7d"
            ],
            [
             0.2,
             "#de77ae"
            ],
            [
             0.3,
             "#f1b6da"
            ],
            [
             0.4,
             "#fde0ef"
            ],
            [
             0.5,
             "#f7f7f7"
            ],
            [
             0.6,
             "#e6f5d0"
            ],
            [
             0.7,
             "#b8e186"
            ],
            [
             0.8,
             "#7fbc41"
            ],
            [
             0.9,
             "#4d9221"
            ],
            [
             1,
             "#276419"
            ]
           ],
           "sequential": [
            [
             0,
             "#0d0887"
            ],
            [
             0.1111111111111111,
             "#46039f"
            ],
            [
             0.2222222222222222,
             "#7201a8"
            ],
            [
             0.3333333333333333,
             "#9c179e"
            ],
            [
             0.4444444444444444,
             "#bd3786"
            ],
            [
             0.5555555555555556,
             "#d8576b"
            ],
            [
             0.6666666666666666,
             "#ed7953"
            ],
            [
             0.7777777777777778,
             "#fb9f3a"
            ],
            [
             0.8888888888888888,
             "#fdca26"
            ],
            [
             1,
             "#f0f921"
            ]
           ],
           "sequentialminus": [
            [
             0,
             "#0d0887"
            ],
            [
             0.1111111111111111,
             "#46039f"
            ],
            [
             0.2222222222222222,
             "#7201a8"
            ],
            [
             0.3333333333333333,
             "#9c179e"
            ],
            [
             0.4444444444444444,
             "#bd3786"
            ],
            [
             0.5555555555555556,
             "#d8576b"
            ],
            [
             0.6666666666666666,
             "#ed7953"
            ],
            [
             0.7777777777777778,
             "#fb9f3a"
            ],
            [
             0.8888888888888888,
             "#fdca26"
            ],
            [
             1,
             "#f0f921"
            ]
           ]
          },
          "colorway": [
           "#636efa",
           "#EF553B",
           "#00cc96",
           "#ab63fa",
           "#FFA15A",
           "#19d3f3",
           "#FF6692",
           "#B6E880",
           "#FF97FF",
           "#FECB52"
          ],
          "font": {
           "color": "#2a3f5f"
          },
          "geo": {
           "bgcolor": "white",
           "lakecolor": "white",
           "landcolor": "#E5ECF6",
           "showlakes": true,
           "showland": true,
           "subunitcolor": "white"
          },
          "hoverlabel": {
           "align": "left"
          },
          "hovermode": "closest",
          "mapbox": {
           "style": "light"
          },
          "paper_bgcolor": "white",
          "plot_bgcolor": "#E5ECF6",
          "polar": {
           "angularaxis": {
            "gridcolor": "white",
            "linecolor": "white",
            "ticks": ""
           },
           "bgcolor": "#E5ECF6",
           "radialaxis": {
            "gridcolor": "white",
            "linecolor": "white",
            "ticks": ""
           }
          },
          "scene": {
           "xaxis": {
            "backgroundcolor": "#E5ECF6",
            "gridcolor": "white",
            "gridwidth": 2,
            "linecolor": "white",
            "showbackground": true,
            "ticks": "",
            "zerolinecolor": "white"
           },
           "yaxis": {
            "backgroundcolor": "#E5ECF6",
            "gridcolor": "white",
            "gridwidth": 2,
            "linecolor": "white",
            "showbackground": true,
            "ticks": "",
            "zerolinecolor": "white"
           },
           "zaxis": {
            "backgroundcolor": "#E5ECF6",
            "gridcolor": "white",
            "gridwidth": 2,
            "linecolor": "white",
            "showbackground": true,
            "ticks": "",
            "zerolinecolor": "white"
           }
          },
          "shapedefaults": {
           "line": {
            "color": "#2a3f5f"
           }
          },
          "ternary": {
           "aaxis": {
            "gridcolor": "white",
            "linecolor": "white",
            "ticks": ""
           },
           "baxis": {
            "gridcolor": "white",
            "linecolor": "white",
            "ticks": ""
           },
           "bgcolor": "#E5ECF6",
           "caxis": {
            "gridcolor": "white",
            "linecolor": "white",
            "ticks": ""
           }
          },
          "title": {
           "x": 0.05
          },
          "xaxis": {
           "automargin": true,
           "gridcolor": "white",
           "linecolor": "white",
           "ticks": "",
           "title": {
            "standoff": 15
           },
           "zerolinecolor": "white",
           "zerolinewidth": 2
          },
          "yaxis": {
           "automargin": true,
           "gridcolor": "white",
           "linecolor": "white",
           "ticks": "",
           "title": {
            "standoff": 15
           },
           "zerolinecolor": "white",
           "zerolinewidth": 2
          }
         }
        },
        "title": {
         "text": "Amount of total inbound and outbound flights per airport in July 2021"
        },
        "xaxis": {
         "anchor": "y",
         "domain": [
          0,
          1
         ],
         "range": [
          -0.5,
          4.5
         ],
         "title": {
          "text": "Airport"
         }
        },
        "yaxis": {
         "anchor": "x",
         "domain": [
          0,
          1
         ],
         "title": {
          "text": "Amount of flights"
         }
        }
       }
      }
     },
     "metadata": {},
     "output_type": "display_data"
    }
   ],
   "source": [
    "#import pandas and numpy to work with databases from the airports\n",
    "import pandas as pd\n",
    "import numpy as np\n",
    "\n",
    "#import the csv file with the amount of flights per airport for july 2021\n",
    "df = pd.read_csv('C:/Users/thoma/Downloads/flightlist_20210701_20210731.csv.gz', compression='gzip', header=0, sep=',', quotechar='\"')\n",
    "df.head()\n",
    "\n",
    "#Filter the database so only the airports of interest are included\n",
    "df1 = df[(df['origin'] == 'LIME') | (df['origin'] == 'LIPZ') | (df['origin'] == 'LIPE') | (df['origin'] == 'LIRF') | (df['origin'] == 'LIMC') | (df['destination'] == 'LIME') | (df['destination'] == 'LIPZ') | (df['destination'] == 'LIPE') | (df['destination'] == 'LIRF') | (df['destination'] == 'LIMC')]\n",
    "df1.head(10)\n",
    "\n",
    "\n",
    "#show the amount of inbounds and outbounds flights\n",
    "df1['origin'].value_counts()\n",
    "df1['destination'].value_counts()\n",
    "\n",
    "#Show the amount of outbound flights per airport and create a bar chart\n",
    "import plotly.express as px\n",
    "fig = px.bar(df1, x=df1['origin'].value_counts().index, y=df1['origin'].value_counts().values, title='Amount of flights per airport Amount of flights per airport in July 2021 as origin')\n",
    "fig.update_xaxes(title_text='Airport')\n",
    "fig.update_yaxes(title_text='Amount of flights')\n",
    "fig.update_traces(text=df1['origin'].value_counts().values)\n",
    "fig.update_xaxes(range=(-0.5, 4.5))\n",
    "fig.show()\n",
    "\n",
    "#Show the amount of inbound flights per airport and create a bar chart\n",
    "import plotly.express as px\n",
    "fig = px.bar(df1, x=df1['destination'].value_counts().index, y=df1['destination'].value_counts().values, title='Amount of flights per airport Amount of flights per airport in July 2021 as destination')\n",
    "fig.update_xaxes(title_text='Airport')\n",
    "fig.update_yaxes(title_text='Amount of flights')\n",
    "fig.update_traces(text=df1['destination'].value_counts().values)\n",
    "fig.update_xaxes(range=(-0.5, 4.5))\n",
    "fig.show()\n",
    "\n",
    "#combine the amount of inbound and outbound flights per airport and create a new dataframe with inbound, outbound and total flights\n",
    "df2 = pd.concat([df1['origin'].value_counts(), df1['destination'].value_counts()], axis=1)\n",
    "df2.columns = ['origin', 'destination']\n",
    "df2['total'] = df2['origin'] + df2['destination']\n",
    "df2 = df2.sort_values(by='total', ascending=False)\n",
    "df2.head(5)\n",
    "\n",
    "#add the month and the year to the dataframe and show this new dataframe\n",
    "df2['year'] = 2021\n",
    "df2['month'] = 7\n",
    "print(df2.head(5))\n",
    "\n",
    "#plot the total number of flights per airport in a bar chart\n",
    "import plotly.express as px\n",
    "fig = px.bar(df2, x=df2.index, y=df2['total'], title='Amount of total inbound and outbound flights per airport in July 2021')\n",
    "fig.update_xaxes(title_text='Airport')\n",
    "fig.update_yaxes(title_text='Amount of flights')\n",
    "fig.update_traces(text=df2['total'])\n",
    "fig.update_xaxes(range=(-0.5, 4.5))\n",
    "fig.show()\n",
    "\n",
    "#safe the shortend and filterd data to a new csv file, this csv file will be used in the last section to answer the subquestion\n",
    "df2.to_csv('C:/Users/thoma/Downloads/flightlist_short_20210701_20210731.csv.gz', compression='gzip', header=True, sep=',', quotechar='\"')"
   ]
  },
  {
   "cell_type": "code",
   "execution_count": 4,
   "metadata": {},
   "outputs": [
    {
     "data": {
      "application/vnd.plotly.v1+json": {
       "config": {
        "plotlyServerURL": "https://plot.ly"
       },
       "data": [
        {
         "alignmentgroup": "True",
         "hovertemplate": "x=%{x}<br>y=%{y}<extra></extra>",
         "legendgroup": "",
         "marker": {
          "color": "#636efa",
          "pattern": {
           "shape": ""
          }
         },
         "name": "",
         "offsetgroup": "",
         "orientation": "v",
         "showlegend": false,
         "text": [
          9633,
          8032,
          3902,
          3810,
          3395,
          839,
          784,
          768,
          613,
          608,
          589,
          507,
          492,
          479,
          437,
          417,
          399,
          382,
          366,
          362,
          333,
          322,
          321,
          301,
          296,
          288,
          278,
          270,
          264,
          223,
          216,
          214,
          203,
          201,
          198,
          196,
          184,
          182,
          181,
          170,
          169,
          167,
          165,
          157,
          154,
          149,
          135,
          135,
          132,
          130,
          127,
          122,
          121,
          114,
          107,
          103,
          102,
          96,
          96,
          95,
          92,
          90,
          88,
          88,
          87,
          85,
          85,
          84,
          82,
          82,
          80,
          77,
          77,
          74,
          74,
          72,
          67,
          63,
          61,
          59,
          57,
          55,
          55,
          54,
          51,
          51,
          51,
          51,
          50,
          49,
          49,
          49,
          48,
          47,
          46,
          44,
          43,
          41,
          40,
          39,
          39,
          37,
          35,
          35,
          35,
          34,
          34,
          33,
          33,
          32,
          31,
          31,
          31,
          30,
          29,
          28,
          27,
          27,
          26,
          26,
          25,
          24,
          24,
          23,
          23,
          22,
          22,
          21,
          21,
          20,
          19,
          19,
          18,
          18,
          18,
          17,
          17,
          16,
          16,
          16,
          16,
          14,
          13,
          13,
          13,
          13,
          13,
          13,
          12,
          12,
          11,
          11,
          11,
          10,
          10,
          10,
          9,
          9,
          9,
          9,
          9,
          9,
          9,
          8,
          8,
          8,
          8,
          8,
          7,
          7,
          7,
          7,
          7,
          7,
          7,
          7,
          7,
          7,
          7,
          7,
          6,
          6,
          6,
          6,
          6,
          6,
          6,
          6,
          6,
          5,
          5,
          5,
          5,
          5,
          5,
          5,
          5,
          5,
          5,
          5,
          5,
          5,
          5,
          5,
          5,
          5,
          5,
          5,
          5,
          4,
          4,
          4,
          4,
          4,
          4,
          4,
          4,
          4,
          4,
          4,
          4,
          3,
          3,
          3,
          3,
          3,
          3,
          3,
          3,
          3,
          3,
          3,
          3,
          3,
          3,
          3,
          3,
          3,
          3,
          3,
          3,
          2,
          2,
          2,
          2,
          2,
          2,
          2,
          2,
          2,
          2,
          2,
          2,
          2,
          2,
          2,
          2,
          2,
          2,
          2,
          2,
          2,
          2,
          2,
          2,
          2,
          2,
          2,
          2,
          2,
          2,
          2,
          2,
          2,
          2,
          2,
          2,
          2,
          2,
          2,
          2,
          2,
          1,
          1,
          1,
          1,
          1,
          1,
          1,
          1,
          1,
          1,
          1,
          1,
          1,
          1,
          1,
          1,
          1,
          1,
          1,
          1,
          1,
          1,
          1,
          1,
          1,
          1,
          1,
          1,
          1,
          1,
          1,
          1,
          1,
          1,
          1,
          1,
          1,
          1,
          1,
          1,
          1,
          1,
          1,
          1,
          1,
          1,
          1,
          1,
          1,
          1,
          1,
          1,
          1,
          1,
          1,
          1,
          1,
          1,
          1,
          1,
          1,
          1,
          1,
          1,
          1,
          1,
          1,
          1,
          1,
          1,
          1,
          1,
          1,
          1,
          1,
          1,
          1,
          1,
          1,
          1,
          1,
          1,
          1,
          1,
          1,
          1,
          1,
          1,
          1,
          1,
          1,
          1,
          1,
          1,
          1,
          1,
          1,
          1,
          1,
          1,
          1,
          1
         ],
         "textposition": "auto",
         "type": "bar",
         "x": [
          "LIRF",
          "LIMC",
          "LIME",
          "LIPZ",
          "LIPE",
          "LEBL",
          "LFPG",
          "LEMD",
          "LIBD",
          "LICJ",
          "EHAM",
          "EDDF",
          "LOWW",
          "EGKK",
          "LPPT",
          "EGLL",
          "LGAV",
          "EDDM",
          "LEIB",
          "EGSS",
          "LIML",
          "LSZH",
          "EKCH",
          "EDDK",
          "LLBG",
          "KJFK",
          "EDDP",
          "LFPO",
          "EBBR",
          "LICA",
          "EIDW",
          "LEPA",
          "LROP",
          "EFHK",
          "LFMN",
          "LTFM",
          "ELLX",
          "GMMN",
          "LKPR",
          "EDDB",
          "LHBP",
          "EGCC",
          "OMDB",
          "ENGM",
          "EPWA",
          "LTFJ",
          "ESSA",
          "OTHH",
          "EDDL",
          "EBCI",
          "LEMH",
          "LIMJ",
          "KEWR",
          "EHEH",
          "LGMK",
          "LSGG",
          "LGRP",
          "LYBE",
          "LIPQ",
          "LIMF",
          "KATL",
          "EGGW",
          "LFML",
          "EGNX",
          "EDDH",
          "LPPR",
          "EPKK",
          "KORD",
          "LBSF",
          "CYUL",
          "EBMB",
          "LEAL",
          "LGKO",
          "LIBR",
          "LFOB",
          "EPKT",
          "LEMG",
          "CYYZ",
          "EVRA",
          "LRBC",
          "LIRQ",
          "LIEA",
          "LIRA",
          "LEZL",
          "LIRP",
          "KPHL",
          "KBOS",
          "EDDS",
          "LFPB",
          "EPMO",
          "LSZM",
          "EBLG",
          "LFBD",
          "LDDU",
          "EGGD",
          "LIBP",
          "DAAG",
          "LRTR",
          "LMML",
          "EETN",
          "EGPH",
          "EYVI",
          "EPGD",
          "LIEO",
          "OMAA",
          "EDDV",
          "LZIB",
          "EKBI",
          "EGBB",
          "LFBO",
          "LIPX",
          "EGLC",
          "LIPY",
          "KLAX",
          "LFRS",
          "SAEZ",
          "EGGP",
          "EGKB",
          "LCLK",
          "RKSI",
          "LEZG",
          "EDDN",
          "KDFW",
          "EICK",
          "LFBT",
          "LPFR",
          "LIPL",
          "LICC",
          "LIMZ",
          "OBBI",
          "LIBC",
          "OLBA",
          "GOBD",
          "EDFM",
          "KCLT",
          "LICB",
          "OMDW",
          "LIMB",
          "SBMT",
          "LEGE",
          "LJLJ",
          "LATI",
          "98VA",
          "EPPO",
          "ESGG",
          "CYYC",
          "LIDG",
          "LOWS",
          "EGLF",
          "EDFH",
          "EGNT",
          "KIAD",
          "LIPM",
          "LFRM",
          "GMTT",
          "GMME",
          "GA95",
          "YPPH",
          "LSZA",
          "EKAH",
          "KMIA",
          "EHBK",
          "LDZA",
          "LILG",
          "EIKN",
          "ENBR",
          "LFST",
          "LIDU",
          "LDZI",
          "LPMA",
          "LIDR",
          "LSZB",
          "LRIA",
          "LJPZ",
          "LCPH",
          "LFQQ",
          "LIRZ",
          "EFLP",
          "LIDP",
          "LIPO",
          "OERK",
          "LIPH",
          "LILR",
          "OERY",
          "EPRZ",
          "LIPV",
          "ENJB",
          "EINN",
          "LOWG",
          "LDPL",
          "LIDF",
          "LIDV",
          "EHRD",
          "OMSJ",
          "ZGSZ",
          "EGTK",
          "LDZB",
          "EPWR",
          "LSZR",
          "LILV",
          "LYPO",
          "LIPK",
          "LESL",
          "LILB",
          "RPLL",
          "LFMT",
          "EGWU",
          "LIDH",
          "LRCV",
          "VIDP",
          "LTBA",
          "KHPN",
          "EBAW",
          "LIPR",
          "LFTW",
          "VTBS",
          "LYTV",
          "LFMV",
          "LIDB",
          "KTEB",
          "EPMR",
          "KCVG",
          "KBWI",
          "LFLY",
          "LOWI",
          "KAKH",
          "LIPB",
          "ESSB",
          "EDNY",
          "LIQG",
          "EBKT",
          "VOMM",
          "OTBD",
          "LGKF",
          "LTFE",
          "LIMG",
          "EDMO",
          "EKRK",
          "RJBB",
          "LDZL",
          "EGNP",
          "2NC1",
          "EGNM",
          "EDDW",
          "LIPU",
          "VHHH",
          "LPEV",
          "MDMA",
          "89GE",
          "8KY6",
          "EDAZ",
          "LGPZ",
          "EDRZ",
          "DAOO",
          "LIDT",
          "ENBO",
          "EDDC",
          "EDLN",
          "LFLC",
          "WSAP",
          "EDMA",
          "LFJR",
          "LGSM",
          "LFBZ",
          "LSGC",
          "LFMQ",
          "LIRV",
          "EGPF",
          "LGSO",
          "KLNN",
          "LIDA",
          "LIRU",
          "LIRE",
          "LYPG",
          "EGPK",
          "EDDG",
          "LFNG",
          "LIED",
          "KISP",
          "EDJA",
          "LILC",
          "LPCS",
          "LJBL",
          "LSTZ",
          "LICZ",
          "LFBP",
          "LIDE",
          "LIPN",
          "EGNR",
          "LOWL",
          "EGHI",
          "LIMR",
          "LIEE",
          "ETHN",
          "LEMU",
          "KPVU",
          "LGKN",
          "EDLV",
          "LEVX",
          "KPIT",
          "LOAN",
          "EPZB",
          "LTBU",
          "LIDC",
          "EGTE",
          "EGHG",
          "KDTW",
          "KACK",
          "OA16",
          "LIAR",
          "LEDA",
          "LKTB",
          "LIQB",
          "LYNI",
          "EGHH",
          "ENTO",
          "LSZC",
          "EGVN",
          "EGBJ",
          "EGPC",
          "KLDJ",
          "LIRI",
          "KRDU",
          "4NY8",
          "LFCR",
          "LFPM",
          "EDLA",
          "51GA",
          "LOXZ",
          "LIMP",
          "EDVK",
          "EDXW",
          "VVNB",
          "KHOU",
          "LESB",
          "KOQU",
          "LFEZ",
          "LILE",
          "EDSB",
          "WSSS",
          "EDTD",
          "LFBH",
          "ETAR",
          "WSAC",
          "KSAV",
          "KALB",
          "LFOZ",
          "KFOK",
          "EGSH",
          "LFOT",
          "LKKB",
          "KLUK",
          "LFQM",
          "RJTT",
          "LIQL",
          "07VT",
          "EGMC",
          "KENW",
          "LQJL",
          "LFMU",
          "EDVE",
          "LIPI",
          "LFBF",
          "LPAR",
          "UGTB",
          "LIPC",
          "KMLB",
          "LSGL",
          "EGFF",
          "EDTX",
          "LUKK",
          "EDRK",
          "KGRR",
          "EDFE",
          "LFAV",
          "LFLP",
          "LIPF",
          "EGJJ",
          "EIKY",
          "OEDF",
          "LSZL",
          "LFLI",
          "LFOP",
          "LSGK"
         ],
         "xaxis": "x",
         "y": [
          9633,
          8032,
          3902,
          3810,
          3395,
          839,
          784,
          768,
          613,
          608,
          589,
          507,
          492,
          479,
          437,
          417,
          399,
          382,
          366,
          362,
          333,
          322,
          321,
          301,
          296,
          288,
          278,
          270,
          264,
          223,
          216,
          214,
          203,
          201,
          198,
          196,
          184,
          182,
          181,
          170,
          169,
          167,
          165,
          157,
          154,
          149,
          135,
          135,
          132,
          130,
          127,
          122,
          121,
          114,
          107,
          103,
          102,
          96,
          96,
          95,
          92,
          90,
          88,
          88,
          87,
          85,
          85,
          84,
          82,
          82,
          80,
          77,
          77,
          74,
          74,
          72,
          67,
          63,
          61,
          59,
          57,
          55,
          55,
          54,
          51,
          51,
          51,
          51,
          50,
          49,
          49,
          49,
          48,
          47,
          46,
          44,
          43,
          41,
          40,
          39,
          39,
          37,
          35,
          35,
          35,
          34,
          34,
          33,
          33,
          32,
          31,
          31,
          31,
          30,
          29,
          28,
          27,
          27,
          26,
          26,
          25,
          24,
          24,
          23,
          23,
          22,
          22,
          21,
          21,
          20,
          19,
          19,
          18,
          18,
          18,
          17,
          17,
          16,
          16,
          16,
          16,
          14,
          13,
          13,
          13,
          13,
          13,
          13,
          12,
          12,
          11,
          11,
          11,
          10,
          10,
          10,
          9,
          9,
          9,
          9,
          9,
          9,
          9,
          8,
          8,
          8,
          8,
          8,
          7,
          7,
          7,
          7,
          7,
          7,
          7,
          7,
          7,
          7,
          7,
          7,
          6,
          6,
          6,
          6,
          6,
          6,
          6,
          6,
          6,
          5,
          5,
          5,
          5,
          5,
          5,
          5,
          5,
          5,
          5,
          5,
          5,
          5,
          5,
          5,
          5,
          5,
          5,
          5,
          5,
          4,
          4,
          4,
          4,
          4,
          4,
          4,
          4,
          4,
          4,
          4,
          4,
          3,
          3,
          3,
          3,
          3,
          3,
          3,
          3,
          3,
          3,
          3,
          3,
          3,
          3,
          3,
          3,
          3,
          3,
          3,
          3,
          2,
          2,
          2,
          2,
          2,
          2,
          2,
          2,
          2,
          2,
          2,
          2,
          2,
          2,
          2,
          2,
          2,
          2,
          2,
          2,
          2,
          2,
          2,
          2,
          2,
          2,
          2,
          2,
          2,
          2,
          2,
          2,
          2,
          2,
          2,
          2,
          2,
          2,
          2,
          2,
          2,
          1,
          1,
          1,
          1,
          1,
          1,
          1,
          1,
          1,
          1,
          1,
          1,
          1,
          1,
          1,
          1,
          1,
          1,
          1,
          1,
          1,
          1,
          1,
          1,
          1,
          1,
          1,
          1,
          1,
          1,
          1,
          1,
          1,
          1,
          1,
          1,
          1,
          1,
          1,
          1,
          1,
          1,
          1,
          1,
          1,
          1,
          1,
          1,
          1,
          1,
          1,
          1,
          1,
          1,
          1,
          1,
          1,
          1,
          1,
          1,
          1,
          1,
          1,
          1,
          1,
          1,
          1,
          1,
          1,
          1,
          1,
          1,
          1,
          1,
          1,
          1,
          1,
          1,
          1,
          1,
          1,
          1,
          1,
          1,
          1,
          1,
          1,
          1,
          1,
          1,
          1,
          1,
          1,
          1,
          1,
          1,
          1,
          1,
          1,
          1,
          1,
          1
         ],
         "yaxis": "y"
        }
       ],
       "layout": {
        "barmode": "relative",
        "legend": {
         "tracegroupgap": 0
        },
        "template": {
         "data": {
          "bar": [
           {
            "error_x": {
             "color": "#2a3f5f"
            },
            "error_y": {
             "color": "#2a3f5f"
            },
            "marker": {
             "line": {
              "color": "#E5ECF6",
              "width": 0.5
             },
             "pattern": {
              "fillmode": "overlay",
              "size": 10,
              "solidity": 0.2
             }
            },
            "type": "bar"
           }
          ],
          "barpolar": [
           {
            "marker": {
             "line": {
              "color": "#E5ECF6",
              "width": 0.5
             },
             "pattern": {
              "fillmode": "overlay",
              "size": 10,
              "solidity": 0.2
             }
            },
            "type": "barpolar"
           }
          ],
          "carpet": [
           {
            "aaxis": {
             "endlinecolor": "#2a3f5f",
             "gridcolor": "white",
             "linecolor": "white",
             "minorgridcolor": "white",
             "startlinecolor": "#2a3f5f"
            },
            "baxis": {
             "endlinecolor": "#2a3f5f",
             "gridcolor": "white",
             "linecolor": "white",
             "minorgridcolor": "white",
             "startlinecolor": "#2a3f5f"
            },
            "type": "carpet"
           }
          ],
          "choropleth": [
           {
            "colorbar": {
             "outlinewidth": 0,
             "ticks": ""
            },
            "type": "choropleth"
           }
          ],
          "contour": [
           {
            "colorbar": {
             "outlinewidth": 0,
             "ticks": ""
            },
            "colorscale": [
             [
              0,
              "#0d0887"
             ],
             [
              0.1111111111111111,
              "#46039f"
             ],
             [
              0.2222222222222222,
              "#7201a8"
             ],
             [
              0.3333333333333333,
              "#9c179e"
             ],
             [
              0.4444444444444444,
              "#bd3786"
             ],
             [
              0.5555555555555556,
              "#d8576b"
             ],
             [
              0.6666666666666666,
              "#ed7953"
             ],
             [
              0.7777777777777778,
              "#fb9f3a"
             ],
             [
              0.8888888888888888,
              "#fdca26"
             ],
             [
              1,
              "#f0f921"
             ]
            ],
            "type": "contour"
           }
          ],
          "contourcarpet": [
           {
            "colorbar": {
             "outlinewidth": 0,
             "ticks": ""
            },
            "type": "contourcarpet"
           }
          ],
          "heatmap": [
           {
            "colorbar": {
             "outlinewidth": 0,
             "ticks": ""
            },
            "colorscale": [
             [
              0,
              "#0d0887"
             ],
             [
              0.1111111111111111,
              "#46039f"
             ],
             [
              0.2222222222222222,
              "#7201a8"
             ],
             [
              0.3333333333333333,
              "#9c179e"
             ],
             [
              0.4444444444444444,
              "#bd3786"
             ],
             [
              0.5555555555555556,
              "#d8576b"
             ],
             [
              0.6666666666666666,
              "#ed7953"
             ],
             [
              0.7777777777777778,
              "#fb9f3a"
             ],
             [
              0.8888888888888888,
              "#fdca26"
             ],
             [
              1,
              "#f0f921"
             ]
            ],
            "type": "heatmap"
           }
          ],
          "heatmapgl": [
           {
            "colorbar": {
             "outlinewidth": 0,
             "ticks": ""
            },
            "colorscale": [
             [
              0,
              "#0d0887"
             ],
             [
              0.1111111111111111,
              "#46039f"
             ],
             [
              0.2222222222222222,
              "#7201a8"
             ],
             [
              0.3333333333333333,
              "#9c179e"
             ],
             [
              0.4444444444444444,
              "#bd3786"
             ],
             [
              0.5555555555555556,
              "#d8576b"
             ],
             [
              0.6666666666666666,
              "#ed7953"
             ],
             [
              0.7777777777777778,
              "#fb9f3a"
             ],
             [
              0.8888888888888888,
              "#fdca26"
             ],
             [
              1,
              "#f0f921"
             ]
            ],
            "type": "heatmapgl"
           }
          ],
          "histogram": [
           {
            "marker": {
             "pattern": {
              "fillmode": "overlay",
              "size": 10,
              "solidity": 0.2
             }
            },
            "type": "histogram"
           }
          ],
          "histogram2d": [
           {
            "colorbar": {
             "outlinewidth": 0,
             "ticks": ""
            },
            "colorscale": [
             [
              0,
              "#0d0887"
             ],
             [
              0.1111111111111111,
              "#46039f"
             ],
             [
              0.2222222222222222,
              "#7201a8"
             ],
             [
              0.3333333333333333,
              "#9c179e"
             ],
             [
              0.4444444444444444,
              "#bd3786"
             ],
             [
              0.5555555555555556,
              "#d8576b"
             ],
             [
              0.6666666666666666,
              "#ed7953"
             ],
             [
              0.7777777777777778,
              "#fb9f3a"
             ],
             [
              0.8888888888888888,
              "#fdca26"
             ],
             [
              1,
              "#f0f921"
             ]
            ],
            "type": "histogram2d"
           }
          ],
          "histogram2dcontour": [
           {
            "colorbar": {
             "outlinewidth": 0,
             "ticks": ""
            },
            "colorscale": [
             [
              0,
              "#0d0887"
             ],
             [
              0.1111111111111111,
              "#46039f"
             ],
             [
              0.2222222222222222,
              "#7201a8"
             ],
             [
              0.3333333333333333,
              "#9c179e"
             ],
             [
              0.4444444444444444,
              "#bd3786"
             ],
             [
              0.5555555555555556,
              "#d8576b"
             ],
             [
              0.6666666666666666,
              "#ed7953"
             ],
             [
              0.7777777777777778,
              "#fb9f3a"
             ],
             [
              0.8888888888888888,
              "#fdca26"
             ],
             [
              1,
              "#f0f921"
             ]
            ],
            "type": "histogram2dcontour"
           }
          ],
          "mesh3d": [
           {
            "colorbar": {
             "outlinewidth": 0,
             "ticks": ""
            },
            "type": "mesh3d"
           }
          ],
          "parcoords": [
           {
            "line": {
             "colorbar": {
              "outlinewidth": 0,
              "ticks": ""
             }
            },
            "type": "parcoords"
           }
          ],
          "pie": [
           {
            "automargin": true,
            "type": "pie"
           }
          ],
          "scatter": [
           {
            "fillpattern": {
             "fillmode": "overlay",
             "size": 10,
             "solidity": 0.2
            },
            "type": "scatter"
           }
          ],
          "scatter3d": [
           {
            "line": {
             "colorbar": {
              "outlinewidth": 0,
              "ticks": ""
             }
            },
            "marker": {
             "colorbar": {
              "outlinewidth": 0,
              "ticks": ""
             }
            },
            "type": "scatter3d"
           }
          ],
          "scattercarpet": [
           {
            "marker": {
             "colorbar": {
              "outlinewidth": 0,
              "ticks": ""
             }
            },
            "type": "scattercarpet"
           }
          ],
          "scattergeo": [
           {
            "marker": {
             "colorbar": {
              "outlinewidth": 0,
              "ticks": ""
             }
            },
            "type": "scattergeo"
           }
          ],
          "scattergl": [
           {
            "marker": {
             "colorbar": {
              "outlinewidth": 0,
              "ticks": ""
             }
            },
            "type": "scattergl"
           }
          ],
          "scattermapbox": [
           {
            "marker": {
             "colorbar": {
              "outlinewidth": 0,
              "ticks": ""
             }
            },
            "type": "scattermapbox"
           }
          ],
          "scatterpolar": [
           {
            "marker": {
             "colorbar": {
              "outlinewidth": 0,
              "ticks": ""
             }
            },
            "type": "scatterpolar"
           }
          ],
          "scatterpolargl": [
           {
            "marker": {
             "colorbar": {
              "outlinewidth": 0,
              "ticks": ""
             }
            },
            "type": "scatterpolargl"
           }
          ],
          "scatterternary": [
           {
            "marker": {
             "colorbar": {
              "outlinewidth": 0,
              "ticks": ""
             }
            },
            "type": "scatterternary"
           }
          ],
          "surface": [
           {
            "colorbar": {
             "outlinewidth": 0,
             "ticks": ""
            },
            "colorscale": [
             [
              0,
              "#0d0887"
             ],
             [
              0.1111111111111111,
              "#46039f"
             ],
             [
              0.2222222222222222,
              "#7201a8"
             ],
             [
              0.3333333333333333,
              "#9c179e"
             ],
             [
              0.4444444444444444,
              "#bd3786"
             ],
             [
              0.5555555555555556,
              "#d8576b"
             ],
             [
              0.6666666666666666,
              "#ed7953"
             ],
             [
              0.7777777777777778,
              "#fb9f3a"
             ],
             [
              0.8888888888888888,
              "#fdca26"
             ],
             [
              1,
              "#f0f921"
             ]
            ],
            "type": "surface"
           }
          ],
          "table": [
           {
            "cells": {
             "fill": {
              "color": "#EBF0F8"
             },
             "line": {
              "color": "white"
             }
            },
            "header": {
             "fill": {
              "color": "#C8D4E3"
             },
             "line": {
              "color": "white"
             }
            },
            "type": "table"
           }
          ]
         },
         "layout": {
          "annotationdefaults": {
           "arrowcolor": "#2a3f5f",
           "arrowhead": 0,
           "arrowwidth": 1
          },
          "autotypenumbers": "strict",
          "coloraxis": {
           "colorbar": {
            "outlinewidth": 0,
            "ticks": ""
           }
          },
          "colorscale": {
           "diverging": [
            [
             0,
             "#8e0152"
            ],
            [
             0.1,
             "#c51b7d"
            ],
            [
             0.2,
             "#de77ae"
            ],
            [
             0.3,
             "#f1b6da"
            ],
            [
             0.4,
             "#fde0ef"
            ],
            [
             0.5,
             "#f7f7f7"
            ],
            [
             0.6,
             "#e6f5d0"
            ],
            [
             0.7,
             "#b8e186"
            ],
            [
             0.8,
             "#7fbc41"
            ],
            [
             0.9,
             "#4d9221"
            ],
            [
             1,
             "#276419"
            ]
           ],
           "sequential": [
            [
             0,
             "#0d0887"
            ],
            [
             0.1111111111111111,
             "#46039f"
            ],
            [
             0.2222222222222222,
             "#7201a8"
            ],
            [
             0.3333333333333333,
             "#9c179e"
            ],
            [
             0.4444444444444444,
             "#bd3786"
            ],
            [
             0.5555555555555556,
             "#d8576b"
            ],
            [
             0.6666666666666666,
             "#ed7953"
            ],
            [
             0.7777777777777778,
             "#fb9f3a"
            ],
            [
             0.8888888888888888,
             "#fdca26"
            ],
            [
             1,
             "#f0f921"
            ]
           ],
           "sequentialminus": [
            [
             0,
             "#0d0887"
            ],
            [
             0.1111111111111111,
             "#46039f"
            ],
            [
             0.2222222222222222,
             "#7201a8"
            ],
            [
             0.3333333333333333,
             "#9c179e"
            ],
            [
             0.4444444444444444,
             "#bd3786"
            ],
            [
             0.5555555555555556,
             "#d8576b"
            ],
            [
             0.6666666666666666,
             "#ed7953"
            ],
            [
             0.7777777777777778,
             "#fb9f3a"
            ],
            [
             0.8888888888888888,
             "#fdca26"
            ],
            [
             1,
             "#f0f921"
            ]
           ]
          },
          "colorway": [
           "#636efa",
           "#EF553B",
           "#00cc96",
           "#ab63fa",
           "#FFA15A",
           "#19d3f3",
           "#FF6692",
           "#B6E880",
           "#FF97FF",
           "#FECB52"
          ],
          "font": {
           "color": "#2a3f5f"
          },
          "geo": {
           "bgcolor": "white",
           "lakecolor": "white",
           "landcolor": "#E5ECF6",
           "showlakes": true,
           "showland": true,
           "subunitcolor": "white"
          },
          "hoverlabel": {
           "align": "left"
          },
          "hovermode": "closest",
          "mapbox": {
           "style": "light"
          },
          "paper_bgcolor": "white",
          "plot_bgcolor": "#E5ECF6",
          "polar": {
           "angularaxis": {
            "gridcolor": "white",
            "linecolor": "white",
            "ticks": ""
           },
           "bgcolor": "#E5ECF6",
           "radialaxis": {
            "gridcolor": "white",
            "linecolor": "white",
            "ticks": ""
           }
          },
          "scene": {
           "xaxis": {
            "backgroundcolor": "#E5ECF6",
            "gridcolor": "white",
            "gridwidth": 2,
            "linecolor": "white",
            "showbackground": true,
            "ticks": "",
            "zerolinecolor": "white"
           },
           "yaxis": {
            "backgroundcolor": "#E5ECF6",
            "gridcolor": "white",
            "gridwidth": 2,
            "linecolor": "white",
            "showbackground": true,
            "ticks": "",
            "zerolinecolor": "white"
           },
           "zaxis": {
            "backgroundcolor": "#E5ECF6",
            "gridcolor": "white",
            "gridwidth": 2,
            "linecolor": "white",
            "showbackground": true,
            "ticks": "",
            "zerolinecolor": "white"
           }
          },
          "shapedefaults": {
           "line": {
            "color": "#2a3f5f"
           }
          },
          "ternary": {
           "aaxis": {
            "gridcolor": "white",
            "linecolor": "white",
            "ticks": ""
           },
           "baxis": {
            "gridcolor": "white",
            "linecolor": "white",
            "ticks": ""
           },
           "bgcolor": "#E5ECF6",
           "caxis": {
            "gridcolor": "white",
            "linecolor": "white",
            "ticks": ""
           }
          },
          "title": {
           "x": 0.05
          },
          "xaxis": {
           "automargin": true,
           "gridcolor": "white",
           "linecolor": "white",
           "ticks": "",
           "title": {
            "standoff": 15
           },
           "zerolinecolor": "white",
           "zerolinewidth": 2
          },
          "yaxis": {
           "automargin": true,
           "gridcolor": "white",
           "linecolor": "white",
           "ticks": "",
           "title": {
            "standoff": 15
           },
           "zerolinecolor": "white",
           "zerolinewidth": 2
          }
         }
        },
        "title": {
         "text": "Amount of flights per airport Amount of flights per airport in July 2022 as origin"
        },
        "xaxis": {
         "anchor": "y",
         "domain": [
          0,
          1
         ],
         "range": [
          -0.5,
          4.5
         ],
         "title": {
          "text": "Airport"
         }
        },
        "yaxis": {
         "anchor": "x",
         "domain": [
          0,
          1
         ],
         "title": {
          "text": "Amount of flights"
         }
        }
       }
      }
     },
     "metadata": {},
     "output_type": "display_data"
    },
    {
     "data": {
      "application/vnd.plotly.v1+json": {
       "config": {
        "plotlyServerURL": "https://plot.ly"
       },
       "data": [
        {
         "alignmentgroup": "True",
         "hovertemplate": "x=%{x}<br>y=%{y}<extra></extra>",
         "legendgroup": "",
         "marker": {
          "color": "#636efa",
          "pattern": {
           "shape": ""
          }
         },
         "name": "",
         "offsetgroup": "",
         "orientation": "v",
         "showlegend": false,
         "text": [
          9874,
          8406,
          3990,
          3846,
          3642,
          815,
          779,
          746,
          621,
          557,
          479,
          465,
          431,
          387,
          383,
          369,
          357,
          350,
          328,
          326,
          321,
          315,
          301,
          293,
          269,
          265,
          263,
          260,
          219,
          219,
          202,
          196,
          192,
          189,
          187,
          184,
          182,
          177,
          169,
          166,
          164,
          164,
          160,
          160,
          158,
          149,
          148,
          147,
          141,
          140,
          139,
          135,
          132,
          131,
          130,
          125,
          124,
          119,
          115,
          111,
          105,
          96,
          94,
          92,
          91,
          91,
          90,
          90,
          86,
          85,
          83,
          83,
          81,
          81,
          80,
          71,
          71,
          71,
          67,
          66,
          64,
          61,
          60,
          60,
          57,
          57,
          56,
          56,
          56,
          55,
          55,
          54,
          54,
          52,
          52,
          51,
          51,
          50,
          50,
          49,
          49,
          48,
          46,
          46,
          46,
          45,
          44,
          43,
          41,
          38,
          38,
          37,
          37,
          37,
          36,
          35,
          34,
          33,
          33,
          33,
          32,
          30,
          29,
          29,
          29,
          29,
          29,
          29,
          28,
          28,
          28,
          27,
          26,
          25,
          25,
          24,
          24,
          23,
          23,
          23,
          22,
          21,
          21,
          21,
          20,
          20,
          19,
          19,
          19,
          18,
          18,
          18,
          16,
          16,
          15,
          15,
          15,
          14,
          14,
          14,
          14,
          14,
          14,
          13,
          13,
          12,
          12,
          12,
          12,
          12,
          12,
          11,
          11,
          10,
          10,
          10,
          10,
          10,
          9,
          9,
          9,
          9,
          9,
          9,
          9,
          9,
          8,
          8,
          8,
          8,
          8,
          8,
          8,
          8,
          8,
          8,
          8,
          8,
          8,
          8,
          7,
          7,
          7,
          7,
          7,
          7,
          7,
          7,
          7,
          7,
          7,
          6,
          6,
          6,
          6,
          6,
          6,
          6,
          6,
          6,
          6,
          6,
          6,
          5,
          5,
          5,
          5,
          5,
          5,
          5,
          5,
          4,
          4,
          4,
          4,
          4,
          4,
          4,
          4,
          4,
          4,
          4,
          4,
          4,
          4,
          4,
          4,
          4,
          4,
          4,
          4,
          4,
          4,
          4,
          4,
          3,
          3,
          3,
          3,
          3,
          3,
          3,
          3,
          3,
          3,
          3,
          3,
          3,
          3,
          3,
          3,
          3,
          3,
          3,
          3,
          3,
          3,
          3,
          3,
          2,
          2,
          2,
          2,
          2,
          2,
          2,
          2,
          2,
          2,
          2,
          2,
          2,
          2,
          2,
          2,
          2,
          2,
          2,
          2,
          2,
          2,
          2,
          2,
          2,
          2,
          2,
          2,
          2,
          2,
          2,
          2,
          2,
          2,
          2,
          2,
          2,
          2,
          2,
          2,
          2,
          2,
          2,
          2,
          2,
          2,
          2,
          2,
          2,
          2,
          2,
          1,
          1,
          1,
          1,
          1,
          1,
          1,
          1,
          1,
          1,
          1,
          1,
          1,
          1,
          1,
          1,
          1,
          1,
          1,
          1,
          1,
          1,
          1,
          1,
          1,
          1,
          1,
          1,
          1,
          1,
          1,
          1,
          1,
          1,
          1,
          1,
          1,
          1,
          1,
          1,
          1,
          1,
          1,
          1,
          1,
          1,
          1,
          1,
          1,
          1,
          1,
          1,
          1,
          1,
          1,
          1,
          1,
          1,
          1,
          1,
          1,
          1,
          1,
          1,
          1,
          1,
          1,
          1,
          1,
          1,
          1,
          1,
          1,
          1,
          1,
          1,
          1,
          1,
          1,
          1,
          1,
          1,
          1,
          1,
          1,
          1,
          1,
          1,
          1,
          1,
          1,
          1,
          1,
          1,
          1,
          1,
          1,
          1,
          1,
          1,
          1,
          1,
          1,
          1,
          1,
          1,
          1,
          1,
          1,
          1,
          1,
          1,
          1,
          1,
          1,
          1,
          1,
          1,
          1,
          1,
          1,
          1,
          1,
          1,
          1,
          1,
          1,
          1,
          1,
          1,
          1,
          1,
          1,
          1
         ],
         "textposition": "auto",
         "type": "bar",
         "x": [
          "LIRF",
          "LIMC",
          "LIME",
          "LIPZ",
          "LIPE",
          "LEBL",
          "LFPG",
          "LEMD",
          "LIBD",
          "EHAM",
          "LOWW",
          "EDDF",
          "EGLL",
          "LPPT",
          "EDDM",
          "EGSS",
          "LEIB",
          "LIML",
          "KJFK",
          "EBBR",
          "EKCH",
          "LSZH",
          "EDDK",
          "EGKR",
          "LLBG",
          "LFPO",
          "LICA",
          "EDDP",
          "EIDW",
          "LEPA",
          "EFHK",
          "GMMN",
          "LICJ",
          "EGKK",
          "LTFM",
          "LROP",
          "ELLX",
          "LKPR",
          "LGAV",
          "EGCC",
          "EDDB",
          "LFMN",
          "ENGM",
          "LHBP",
          "LATI",
          "EPWA",
          "LTFJ",
          "OTHH",
          "LGMK",
          "LICZ",
          "ESSA",
          "OMDB",
          "EDDL",
          "EBCI",
          "LEMH",
          "LIMJ",
          "KEWR",
          "LIBR",
          "LSGG",
          "EHEH",
          "LGRP",
          "KORD",
          "LYBE",
          "KATL",
          "LIEA",
          "LPPR",
          "EDDH",
          "LIPQ",
          "LICP",
          "EPKK",
          "LFML",
          "LBSF",
          "CYUL",
          "LEAL",
          "EGNX",
          "EPKT",
          "LAGJ",
          "LEMG",
          "LGKO",
          "EGGW",
          "CYYZ",
          "KBOS",
          "LRBC",
          "LFPB",
          "EVRA",
          "KPHL",
          "LIRQ",
          "LIRA",
          "LEZL",
          "LRTR",
          "LFOB",
          "LPAR",
          "EDDS",
          "LIED",
          "LTBW",
          "LIEO",
          "LFBD",
          "OJAM",
          "EPMO",
          "EGGD",
          "EBLG",
          "LIBP",
          "LIMF",
          "LIMA",
          "DAAG",
          "RKSI",
          "LIPY",
          "LDDU",
          "EGPH",
          "LSZM",
          "EYVI",
          "SBMT",
          "LMML",
          "EETN",
          "EGBB",
          "EPGD",
          "LIRP",
          "EDDV",
          "EKBI",
          "LEZG",
          "LTBU",
          "LFBO",
          "LIPX",
          "KIAD",
          "LZIB",
          "KLAX",
          "EBMB",
          "LIBC",
          "EGLC",
          "SAEZ",
          "EGGP",
          "OMAA",
          "LCLK",
          "EDDN",
          "EGKB",
          "EICK",
          "KDFW",
          "LICR",
          "EPWR",
          "LPFR",
          "LFBT",
          "KCLT",
          "LICB",
          "LIMZ",
          "OLBA",
          "OERK",
          "EDFM",
          "LUKK",
          "LJLJ",
          "OBBI",
          "LLSD",
          "LFPC",
          "LIPO",
          "LGNX",
          "LIPL",
          "LYPG",
          "PANC",
          "LFFW",
          "EGLF",
          "GOBD",
          "LDZL",
          "LFNR",
          "LRIA",
          "ESGG",
          "EPPO",
          "YPPH",
          "4GE2",
          "LIDP",
          "CYYC",
          "25GA",
          "GMTT",
          "LTBA",
          "EDFH",
          "MDBE",
          "KCVG",
          "EGWU",
          "EGNT",
          "LIPH",
          "LFST",
          "KMIA",
          "ENBR",
          "LGSO",
          "LIPR",
          "LILO",
          "EIKN",
          "LFLS",
          "GMME",
          "LILG",
          "EKAH",
          "OM11",
          "EFLP",
          "RJAA",
          "LEAP",
          "LPMA",
          "EPMR",
          "2NC1",
          "EHRD",
          "LCPH",
          "LQPD",
          "LRCV",
          "LIRZ",
          "LILV",
          "LFKP",
          "VHHH",
          "ENJB",
          "LJCE",
          "LFRI",
          "LYTV",
          "LFQQ",
          "LIQS",
          "LIMB",
          "LOWI",
          "LIMP",
          "LIPV",
          "LFLL",
          "LIDG",
          "LFRS",
          "LIAT",
          "LIDU",
          "LESL",
          "LD57",
          "LDZI",
          "EGTK",
          "LILB",
          "EGNM",
          "LOWS",
          "LIEE",
          "LILC",
          "5TX6",
          "LYNI",
          "LIPK",
          "EDLN",
          "LDZB",
          "LIDR",
          "LSZA",
          "LIQW",
          "EBAW",
          "LIDC",
          "LSZR",
          "LIDF",
          "LIDA",
          "RJAK",
          "LTFE",
          "EKRK",
          "LILR",
          "LGTP",
          "EPRJ",
          "EINN",
          "LIMG",
          "LIDB",
          "LOWG",
          "LELL",
          "ESSB",
          "8KY6",
          "EDDW",
          "LGSK",
          "OMAM",
          "LDZE",
          "KHPN",
          "LOGT",
          "EGBJ",
          "LIRE",
          "BIRK",
          "LGPA",
          "OA16",
          "LFNT",
          "LHTM",
          "EGPF",
          "LFMQ",
          "LIDT",
          "LRCD",
          "KTEB",
          "ENTO",
          "LSZB",
          "LIPN",
          "EVRS",
          "LDPL",
          "LJPZ",
          "EYKA",
          "LIDE",
          "EDNY",
          "EDTY",
          "EDSB",
          "VIDP",
          "EGTD",
          "LE84",
          "LFMV",
          "WSAT",
          "LIBV",
          "LFOP",
          "EDMA",
          "LFHJ",
          "LPPS",
          "LSMP",
          "LDZD",
          "EGCN",
          "WSAP",
          "LGTS",
          "LEST",
          "EHBK",
          "LBLS",
          "LFME",
          "LOLW",
          "LFMT",
          "OEDR",
          "LFFK",
          "EDKB",
          "EGPK",
          "LIRS",
          "ETHN",
          "LPCS",
          "GMMY",
          "OTBD",
          "EDRY",
          "LFGC",
          "IG07",
          "DAOO",
          "LFRM",
          "LJBO",
          "EGAA",
          "LFPN",
          "EGJJ",
          "EDTM",
          "LGIK",
          "LIAR",
          "LFMD",
          "EDJA",
          "LGPZ",
          "LFIX",
          "OMDM",
          "WSAC",
          "LFPD",
          "LFBP",
          "EELM",
          "ETAR",
          "LOKG",
          "EDAZ",
          "EGHI",
          "LFMP",
          "KBFI",
          "LFCR",
          "LFPM",
          "EGFF",
          "EBTY",
          "LFBZ",
          "LFKJ",
          "LHPR",
          "OMAF",
          "LFFV",
          "LGSM",
          "LIBG",
          "LIQL",
          "EPSW",
          "FACT",
          "EGNP",
          "LHSM",
          "LGKV",
          "LOAN",
          "EGTE",
          "UUML",
          "EDLV",
          "EGMC",
          "LFGZ",
          "LFRT",
          "LGKR",
          "KBWI",
          "LIMS",
          "EDEG",
          "RJTT",
          "KPWK",
          "LFLE",
          "EDRW",
          "SBGR",
          "EGPE",
          "KAHN",
          "LIPB",
          "EPSO",
          "LSZL",
          "KGRB",
          "EGHQ",
          "LFNL",
          "LFFI",
          "EFTP",
          "SBGL",
          "WSAG",
          "LDRI",
          "OMAD",
          "LIPA",
          "GMTN",
          "EDXW",
          "LFSS",
          "LFMI",
          "EDTD",
          "OE53",
          "OMDW",
          "KERI",
          "LFNZ",
          "OH68",
          "LJPT",
          "LFAM",
          "LTBJ",
          "EPRZ",
          "EPLR",
          "LSMD",
          "LSGC",
          "LFLC",
          "LFTZ",
          "EDKZ",
          "EBKT",
          "LIMN",
          "LEGE",
          "FAPE",
          "LDPM",
          "LILN",
          "LFOZ",
          "DA14",
          "EGTC",
          "EGSH",
          "KBEH",
          "KMDW",
          "ETSI",
          "EGKL",
          "LIDH",
          "EGPN",
          "OERY",
          "KLUK",
          "LEPP",
          "VECC",
          "EDLA",
          "LIRL",
          "LGEL",
          "LICC",
          "LFKS",
          "LEDS",
          "LIBF",
          "LSZS",
          "LKMT",
          "KABE",
          "EDVE",
          "KTPA",
          "EBMO",
          "EDDG",
          "LEMP",
          "ETNL",
          "EGNR",
          "KSDL",
          "KHHR",
          "LFLU",
          "EDTF",
          "LDZA",
          "EDLE",
          "EDRN",
          "LKVO",
          "KBCT",
          "LFFG",
          "SDTB",
          "LERM",
          "LKPD",
          "EDEF",
          "EDNG",
          "LSGL",
          "LIER",
          "LFTW",
          "GMFF"
         ],
         "xaxis": "x",
         "y": [
          9874,
          8406,
          3990,
          3846,
          3642,
          815,
          779,
          746,
          621,
          557,
          479,
          465,
          431,
          387,
          383,
          369,
          357,
          350,
          328,
          326,
          321,
          315,
          301,
          293,
          269,
          265,
          263,
          260,
          219,
          219,
          202,
          196,
          192,
          189,
          187,
          184,
          182,
          177,
          169,
          166,
          164,
          164,
          160,
          160,
          158,
          149,
          148,
          147,
          141,
          140,
          139,
          135,
          132,
          131,
          130,
          125,
          124,
          119,
          115,
          111,
          105,
          96,
          94,
          92,
          91,
          91,
          90,
          90,
          86,
          85,
          83,
          83,
          81,
          81,
          80,
          71,
          71,
          71,
          67,
          66,
          64,
          61,
          60,
          60,
          57,
          57,
          56,
          56,
          56,
          55,
          55,
          54,
          54,
          52,
          52,
          51,
          51,
          50,
          50,
          49,
          49,
          48,
          46,
          46,
          46,
          45,
          44,
          43,
          41,
          38,
          38,
          37,
          37,
          37,
          36,
          35,
          34,
          33,
          33,
          33,
          32,
          30,
          29,
          29,
          29,
          29,
          29,
          29,
          28,
          28,
          28,
          27,
          26,
          25,
          25,
          24,
          24,
          23,
          23,
          23,
          22,
          21,
          21,
          21,
          20,
          20,
          19,
          19,
          19,
          18,
          18,
          18,
          16,
          16,
          15,
          15,
          15,
          14,
          14,
          14,
          14,
          14,
          14,
          13,
          13,
          12,
          12,
          12,
          12,
          12,
          12,
          11,
          11,
          10,
          10,
          10,
          10,
          10,
          9,
          9,
          9,
          9,
          9,
          9,
          9,
          9,
          8,
          8,
          8,
          8,
          8,
          8,
          8,
          8,
          8,
          8,
          8,
          8,
          8,
          8,
          7,
          7,
          7,
          7,
          7,
          7,
          7,
          7,
          7,
          7,
          7,
          6,
          6,
          6,
          6,
          6,
          6,
          6,
          6,
          6,
          6,
          6,
          6,
          5,
          5,
          5,
          5,
          5,
          5,
          5,
          5,
          4,
          4,
          4,
          4,
          4,
          4,
          4,
          4,
          4,
          4,
          4,
          4,
          4,
          4,
          4,
          4,
          4,
          4,
          4,
          4,
          4,
          4,
          4,
          4,
          3,
          3,
          3,
          3,
          3,
          3,
          3,
          3,
          3,
          3,
          3,
          3,
          3,
          3,
          3,
          3,
          3,
          3,
          3,
          3,
          3,
          3,
          3,
          3,
          2,
          2,
          2,
          2,
          2,
          2,
          2,
          2,
          2,
          2,
          2,
          2,
          2,
          2,
          2,
          2,
          2,
          2,
          2,
          2,
          2,
          2,
          2,
          2,
          2,
          2,
          2,
          2,
          2,
          2,
          2,
          2,
          2,
          2,
          2,
          2,
          2,
          2,
          2,
          2,
          2,
          2,
          2,
          2,
          2,
          2,
          2,
          2,
          2,
          2,
          2,
          1,
          1,
          1,
          1,
          1,
          1,
          1,
          1,
          1,
          1,
          1,
          1,
          1,
          1,
          1,
          1,
          1,
          1,
          1,
          1,
          1,
          1,
          1,
          1,
          1,
          1,
          1,
          1,
          1,
          1,
          1,
          1,
          1,
          1,
          1,
          1,
          1,
          1,
          1,
          1,
          1,
          1,
          1,
          1,
          1,
          1,
          1,
          1,
          1,
          1,
          1,
          1,
          1,
          1,
          1,
          1,
          1,
          1,
          1,
          1,
          1,
          1,
          1,
          1,
          1,
          1,
          1,
          1,
          1,
          1,
          1,
          1,
          1,
          1,
          1,
          1,
          1,
          1,
          1,
          1,
          1,
          1,
          1,
          1,
          1,
          1,
          1,
          1,
          1,
          1,
          1,
          1,
          1,
          1,
          1,
          1,
          1,
          1,
          1,
          1,
          1,
          1,
          1,
          1,
          1,
          1,
          1,
          1,
          1,
          1,
          1,
          1,
          1,
          1,
          1,
          1,
          1,
          1,
          1,
          1,
          1,
          1,
          1,
          1,
          1,
          1,
          1,
          1,
          1,
          1,
          1,
          1,
          1,
          1
         ],
         "yaxis": "y"
        }
       ],
       "layout": {
        "barmode": "relative",
        "legend": {
         "tracegroupgap": 0
        },
        "template": {
         "data": {
          "bar": [
           {
            "error_x": {
             "color": "#2a3f5f"
            },
            "error_y": {
             "color": "#2a3f5f"
            },
            "marker": {
             "line": {
              "color": "#E5ECF6",
              "width": 0.5
             },
             "pattern": {
              "fillmode": "overlay",
              "size": 10,
              "solidity": 0.2
             }
            },
            "type": "bar"
           }
          ],
          "barpolar": [
           {
            "marker": {
             "line": {
              "color": "#E5ECF6",
              "width": 0.5
             },
             "pattern": {
              "fillmode": "overlay",
              "size": 10,
              "solidity": 0.2
             }
            },
            "type": "barpolar"
           }
          ],
          "carpet": [
           {
            "aaxis": {
             "endlinecolor": "#2a3f5f",
             "gridcolor": "white",
             "linecolor": "white",
             "minorgridcolor": "white",
             "startlinecolor": "#2a3f5f"
            },
            "baxis": {
             "endlinecolor": "#2a3f5f",
             "gridcolor": "white",
             "linecolor": "white",
             "minorgridcolor": "white",
             "startlinecolor": "#2a3f5f"
            },
            "type": "carpet"
           }
          ],
          "choropleth": [
           {
            "colorbar": {
             "outlinewidth": 0,
             "ticks": ""
            },
            "type": "choropleth"
           }
          ],
          "contour": [
           {
            "colorbar": {
             "outlinewidth": 0,
             "ticks": ""
            },
            "colorscale": [
             [
              0,
              "#0d0887"
             ],
             [
              0.1111111111111111,
              "#46039f"
             ],
             [
              0.2222222222222222,
              "#7201a8"
             ],
             [
              0.3333333333333333,
              "#9c179e"
             ],
             [
              0.4444444444444444,
              "#bd3786"
             ],
             [
              0.5555555555555556,
              "#d8576b"
             ],
             [
              0.6666666666666666,
              "#ed7953"
             ],
             [
              0.7777777777777778,
              "#fb9f3a"
             ],
             [
              0.8888888888888888,
              "#fdca26"
             ],
             [
              1,
              "#f0f921"
             ]
            ],
            "type": "contour"
           }
          ],
          "contourcarpet": [
           {
            "colorbar": {
             "outlinewidth": 0,
             "ticks": ""
            },
            "type": "contourcarpet"
           }
          ],
          "heatmap": [
           {
            "colorbar": {
             "outlinewidth": 0,
             "ticks": ""
            },
            "colorscale": [
             [
              0,
              "#0d0887"
             ],
             [
              0.1111111111111111,
              "#46039f"
             ],
             [
              0.2222222222222222,
              "#7201a8"
             ],
             [
              0.3333333333333333,
              "#9c179e"
             ],
             [
              0.4444444444444444,
              "#bd3786"
             ],
             [
              0.5555555555555556,
              "#d8576b"
             ],
             [
              0.6666666666666666,
              "#ed7953"
             ],
             [
              0.7777777777777778,
              "#fb9f3a"
             ],
             [
              0.8888888888888888,
              "#fdca26"
             ],
             [
              1,
              "#f0f921"
             ]
            ],
            "type": "heatmap"
           }
          ],
          "heatmapgl": [
           {
            "colorbar": {
             "outlinewidth": 0,
             "ticks": ""
            },
            "colorscale": [
             [
              0,
              "#0d0887"
             ],
             [
              0.1111111111111111,
              "#46039f"
             ],
             [
              0.2222222222222222,
              "#7201a8"
             ],
             [
              0.3333333333333333,
              "#9c179e"
             ],
             [
              0.4444444444444444,
              "#bd3786"
             ],
             [
              0.5555555555555556,
              "#d8576b"
             ],
             [
              0.6666666666666666,
              "#ed7953"
             ],
             [
              0.7777777777777778,
              "#fb9f3a"
             ],
             [
              0.8888888888888888,
              "#fdca26"
             ],
             [
              1,
              "#f0f921"
             ]
            ],
            "type": "heatmapgl"
           }
          ],
          "histogram": [
           {
            "marker": {
             "pattern": {
              "fillmode": "overlay",
              "size": 10,
              "solidity": 0.2
             }
            },
            "type": "histogram"
           }
          ],
          "histogram2d": [
           {
            "colorbar": {
             "outlinewidth": 0,
             "ticks": ""
            },
            "colorscale": [
             [
              0,
              "#0d0887"
             ],
             [
              0.1111111111111111,
              "#46039f"
             ],
             [
              0.2222222222222222,
              "#7201a8"
             ],
             [
              0.3333333333333333,
              "#9c179e"
             ],
             [
              0.4444444444444444,
              "#bd3786"
             ],
             [
              0.5555555555555556,
              "#d8576b"
             ],
             [
              0.6666666666666666,
              "#ed7953"
             ],
             [
              0.7777777777777778,
              "#fb9f3a"
             ],
             [
              0.8888888888888888,
              "#fdca26"
             ],
             [
              1,
              "#f0f921"
             ]
            ],
            "type": "histogram2d"
           }
          ],
          "histogram2dcontour": [
           {
            "colorbar": {
             "outlinewidth": 0,
             "ticks": ""
            },
            "colorscale": [
             [
              0,
              "#0d0887"
             ],
             [
              0.1111111111111111,
              "#46039f"
             ],
             [
              0.2222222222222222,
              "#7201a8"
             ],
             [
              0.3333333333333333,
              "#9c179e"
             ],
             [
              0.4444444444444444,
              "#bd3786"
             ],
             [
              0.5555555555555556,
              "#d8576b"
             ],
             [
              0.6666666666666666,
              "#ed7953"
             ],
             [
              0.7777777777777778,
              "#fb9f3a"
             ],
             [
              0.8888888888888888,
              "#fdca26"
             ],
             [
              1,
              "#f0f921"
             ]
            ],
            "type": "histogram2dcontour"
           }
          ],
          "mesh3d": [
           {
            "colorbar": {
             "outlinewidth": 0,
             "ticks": ""
            },
            "type": "mesh3d"
           }
          ],
          "parcoords": [
           {
            "line": {
             "colorbar": {
              "outlinewidth": 0,
              "ticks": ""
             }
            },
            "type": "parcoords"
           }
          ],
          "pie": [
           {
            "automargin": true,
            "type": "pie"
           }
          ],
          "scatter": [
           {
            "fillpattern": {
             "fillmode": "overlay",
             "size": 10,
             "solidity": 0.2
            },
            "type": "scatter"
           }
          ],
          "scatter3d": [
           {
            "line": {
             "colorbar": {
              "outlinewidth": 0,
              "ticks": ""
             }
            },
            "marker": {
             "colorbar": {
              "outlinewidth": 0,
              "ticks": ""
             }
            },
            "type": "scatter3d"
           }
          ],
          "scattercarpet": [
           {
            "marker": {
             "colorbar": {
              "outlinewidth": 0,
              "ticks": ""
             }
            },
            "type": "scattercarpet"
           }
          ],
          "scattergeo": [
           {
            "marker": {
             "colorbar": {
              "outlinewidth": 0,
              "ticks": ""
             }
            },
            "type": "scattergeo"
           }
          ],
          "scattergl": [
           {
            "marker": {
             "colorbar": {
              "outlinewidth": 0,
              "ticks": ""
             }
            },
            "type": "scattergl"
           }
          ],
          "scattermapbox": [
           {
            "marker": {
             "colorbar": {
              "outlinewidth": 0,
              "ticks": ""
             }
            },
            "type": "scattermapbox"
           }
          ],
          "scatterpolar": [
           {
            "marker": {
             "colorbar": {
              "outlinewidth": 0,
              "ticks": ""
             }
            },
            "type": "scatterpolar"
           }
          ],
          "scatterpolargl": [
           {
            "marker": {
             "colorbar": {
              "outlinewidth": 0,
              "ticks": ""
             }
            },
            "type": "scatterpolargl"
           }
          ],
          "scatterternary": [
           {
            "marker": {
             "colorbar": {
              "outlinewidth": 0,
              "ticks": ""
             }
            },
            "type": "scatterternary"
           }
          ],
          "surface": [
           {
            "colorbar": {
             "outlinewidth": 0,
             "ticks": ""
            },
            "colorscale": [
             [
              0,
              "#0d0887"
             ],
             [
              0.1111111111111111,
              "#46039f"
             ],
             [
              0.2222222222222222,
              "#7201a8"
             ],
             [
              0.3333333333333333,
              "#9c179e"
             ],
             [
              0.4444444444444444,
              "#bd3786"
             ],
             [
              0.5555555555555556,
              "#d8576b"
             ],
             [
              0.6666666666666666,
              "#ed7953"
             ],
             [
              0.7777777777777778,
              "#fb9f3a"
             ],
             [
              0.8888888888888888,
              "#fdca26"
             ],
             [
              1,
              "#f0f921"
             ]
            ],
            "type": "surface"
           }
          ],
          "table": [
           {
            "cells": {
             "fill": {
              "color": "#EBF0F8"
             },
             "line": {
              "color": "white"
             }
            },
            "header": {
             "fill": {
              "color": "#C8D4E3"
             },
             "line": {
              "color": "white"
             }
            },
            "type": "table"
           }
          ]
         },
         "layout": {
          "annotationdefaults": {
           "arrowcolor": "#2a3f5f",
           "arrowhead": 0,
           "arrowwidth": 1
          },
          "autotypenumbers": "strict",
          "coloraxis": {
           "colorbar": {
            "outlinewidth": 0,
            "ticks": ""
           }
          },
          "colorscale": {
           "diverging": [
            [
             0,
             "#8e0152"
            ],
            [
             0.1,
             "#c51b7d"
            ],
            [
             0.2,
             "#de77ae"
            ],
            [
             0.3,
             "#f1b6da"
            ],
            [
             0.4,
             "#fde0ef"
            ],
            [
             0.5,
             "#f7f7f7"
            ],
            [
             0.6,
             "#e6f5d0"
            ],
            [
             0.7,
             "#b8e186"
            ],
            [
             0.8,
             "#7fbc41"
            ],
            [
             0.9,
             "#4d9221"
            ],
            [
             1,
             "#276419"
            ]
           ],
           "sequential": [
            [
             0,
             "#0d0887"
            ],
            [
             0.1111111111111111,
             "#46039f"
            ],
            [
             0.2222222222222222,
             "#7201a8"
            ],
            [
             0.3333333333333333,
             "#9c179e"
            ],
            [
             0.4444444444444444,
             "#bd3786"
            ],
            [
             0.5555555555555556,
             "#d8576b"
            ],
            [
             0.6666666666666666,
             "#ed7953"
            ],
            [
             0.7777777777777778,
             "#fb9f3a"
            ],
            [
             0.8888888888888888,
             "#fdca26"
            ],
            [
             1,
             "#f0f921"
            ]
           ],
           "sequentialminus": [
            [
             0,
             "#0d0887"
            ],
            [
             0.1111111111111111,
             "#46039f"
            ],
            [
             0.2222222222222222,
             "#7201a8"
            ],
            [
             0.3333333333333333,
             "#9c179e"
            ],
            [
             0.4444444444444444,
             "#bd3786"
            ],
            [
             0.5555555555555556,
             "#d8576b"
            ],
            [
             0.6666666666666666,
             "#ed7953"
            ],
            [
             0.7777777777777778,
             "#fb9f3a"
            ],
            [
             0.8888888888888888,
             "#fdca26"
            ],
            [
             1,
             "#f0f921"
            ]
           ]
          },
          "colorway": [
           "#636efa",
           "#EF553B",
           "#00cc96",
           "#ab63fa",
           "#FFA15A",
           "#19d3f3",
           "#FF6692",
           "#B6E880",
           "#FF97FF",
           "#FECB52"
          ],
          "font": {
           "color": "#2a3f5f"
          },
          "geo": {
           "bgcolor": "white",
           "lakecolor": "white",
           "landcolor": "#E5ECF6",
           "showlakes": true,
           "showland": true,
           "subunitcolor": "white"
          },
          "hoverlabel": {
           "align": "left"
          },
          "hovermode": "closest",
          "mapbox": {
           "style": "light"
          },
          "paper_bgcolor": "white",
          "plot_bgcolor": "#E5ECF6",
          "polar": {
           "angularaxis": {
            "gridcolor": "white",
            "linecolor": "white",
            "ticks": ""
           },
           "bgcolor": "#E5ECF6",
           "radialaxis": {
            "gridcolor": "white",
            "linecolor": "white",
            "ticks": ""
           }
          },
          "scene": {
           "xaxis": {
            "backgroundcolor": "#E5ECF6",
            "gridcolor": "white",
            "gridwidth": 2,
            "linecolor": "white",
            "showbackground": true,
            "ticks": "",
            "zerolinecolor": "white"
           },
           "yaxis": {
            "backgroundcolor": "#E5ECF6",
            "gridcolor": "white",
            "gridwidth": 2,
            "linecolor": "white",
            "showbackground": true,
            "ticks": "",
            "zerolinecolor": "white"
           },
           "zaxis": {
            "backgroundcolor": "#E5ECF6",
            "gridcolor": "white",
            "gridwidth": 2,
            "linecolor": "white",
            "showbackground": true,
            "ticks": "",
            "zerolinecolor": "white"
           }
          },
          "shapedefaults": {
           "line": {
            "color": "#2a3f5f"
           }
          },
          "ternary": {
           "aaxis": {
            "gridcolor": "white",
            "linecolor": "white",
            "ticks": ""
           },
           "baxis": {
            "gridcolor": "white",
            "linecolor": "white",
            "ticks": ""
           },
           "bgcolor": "#E5ECF6",
           "caxis": {
            "gridcolor": "white",
            "linecolor": "white",
            "ticks": ""
           }
          },
          "title": {
           "x": 0.05
          },
          "xaxis": {
           "automargin": true,
           "gridcolor": "white",
           "linecolor": "white",
           "ticks": "",
           "title": {
            "standoff": 15
           },
           "zerolinecolor": "white",
           "zerolinewidth": 2
          },
          "yaxis": {
           "automargin": true,
           "gridcolor": "white",
           "linecolor": "white",
           "ticks": "",
           "title": {
            "standoff": 15
           },
           "zerolinecolor": "white",
           "zerolinewidth": 2
          }
         }
        },
        "title": {
         "text": "Amount of flights per airport Amount of flights per airport in July 2022 as destination"
        },
        "xaxis": {
         "anchor": "y",
         "domain": [
          0,
          1
         ],
         "range": [
          -0.5,
          4.5
         ],
         "title": {
          "text": "Airport"
         }
        },
        "yaxis": {
         "anchor": "x",
         "domain": [
          0,
          1
         ],
         "title": {
          "text": "Amount of flights"
         }
        }
       }
      }
     },
     "metadata": {},
     "output_type": "display_data"
    },
    {
     "name": "stdout",
     "output_type": "stream",
     "text": [
      "      origin  destination    total  year  month\n",
      "LIRF  9633.0       9874.0  19507.0  2022      7\n",
      "LIMC  8032.0       8406.0  16438.0  2022      7\n",
      "LIME  3902.0       3990.0   7892.0  2022      7\n",
      "LIPZ  3810.0       3846.0   7656.0  2022      7\n",
      "LIPE  3395.0       3642.0   7037.0  2022      7\n"
     ]
    },
    {
     "data": {
      "application/vnd.plotly.v1+json": {
       "config": {
        "plotlyServerURL": "https://plot.ly"
       },
       "data": [
        {
         "alignmentgroup": "True",
         "hovertemplate": "index=%{x}<br>total=%{y}<extra></extra>",
         "legendgroup": "",
         "marker": {
          "color": "#636efa",
          "pattern": {
           "shape": ""
          }
         },
         "name": "",
         "offsetgroup": "",
         "orientation": "v",
         "showlegend": false,
         "text": [
          19507,
          16438,
          7892,
          7656,
          7037,
          1654,
          1563,
          1514,
          1234,
          1146,
          972,
          971,
          848,
          824,
          800,
          765,
          731,
          723,
          683,
          668,
          642,
          637,
          616,
          602,
          590,
          568,
          565,
          538,
          535,
          486,
          435,
          433,
          403,
          387,
          383,
          378,
          366,
          362,
          358,
          334,
          333,
          329,
          317,
          303,
          300,
          297,
          282,
          274,
          264,
          261,
          257,
          248,
          247,
          245,
          225,
          218,
          207,
          193,
          190,
          186,
          184,
          180,
          177,
          176,
          172,
          171,
          170,
          168,
          165,
          163,
          158,
          156,
          146,
          144,
          143,
          141,
          141,
          138,
          129,
          127,
          119,
          118,
          113,
          112,
          111,
          110,
          110,
          109,
          108,
          105,
          99,
          99,
          98,
          96,
          95,
          92,
          90,
          89,
          87,
          86,
          85,
          80,
          77,
          76,
          75,
          75,
          71,
          70,
          69,
          67,
          66,
          63,
          62,
          62,
          60,
          59,
          59,
          58,
          56,
          55,
          55,
          54,
          53,
          52,
          52,
          49,
          48,
          48,
          47,
          45,
          45,
          42,
          40,
          39,
          39,
          38,
          38,
          37,
          37,
          35,
          35,
          33,
          32,
          28,
          26,
          26,
          26,
          26,
          25,
          23,
          23,
          23,
          22,
          22,
          21,
          21,
          21,
          20,
          19,
          19,
          18,
          18,
          18,
          18,
          17,
          17,
          17,
          17,
          17,
          17,
          17,
          16,
          16,
          15,
          15,
          15,
          15,
          15,
          14,
          14,
          14,
          13,
          13,
          13,
          13,
          13,
          13,
          13,
          12,
          12,
          12,
          12,
          11,
          11,
          11,
          11,
          11,
          11,
          10,
          10,
          10,
          10,
          10,
          10,
          10,
          10,
          10,
          9,
          9,
          9,
          9,
          9,
          8,
          8,
          8,
          7,
          7,
          7,
          7,
          7,
          7,
          7,
          7,
          7,
          7,
          7,
          7,
          6,
          6,
          6,
          6,
          6,
          6,
          6,
          6,
          6,
          5,
          5,
          5,
          5,
          5,
          5,
          5,
          5,
          4,
          4,
          4,
          4,
          4,
          4,
          4,
          4,
          4,
          4,
          4,
          4,
          4,
          4,
          4,
          3,
          3,
          3,
          3,
          3,
          3,
          3,
          3,
          3,
          3,
          3,
          3,
          2,
          2,
          2,
          2,
          2,
          2,
          2,
          2,
          2,
          2,
          2,
          2,
          2,
          2,
          2,
          2,
          2,
          2,
          2,
          2,
          2,
          2,
          2,
          null,
          null,
          null,
          null,
          null,
          null,
          null,
          null,
          null,
          null,
          null,
          null,
          null,
          null,
          null,
          null,
          null,
          null,
          null,
          null,
          null,
          null,
          null,
          null,
          null,
          null,
          null,
          null,
          null,
          null,
          null,
          null,
          null,
          null,
          null,
          null,
          null,
          null,
          null,
          null,
          null,
          null,
          null,
          null,
          null,
          null,
          null,
          null,
          null,
          null,
          null,
          null,
          null,
          null,
          null,
          null,
          null,
          null,
          null,
          null,
          null,
          null,
          null,
          null,
          null,
          null,
          null,
          null,
          null,
          null,
          null,
          null,
          null,
          null,
          null,
          null,
          null,
          null,
          null,
          null,
          null,
          null,
          null,
          null,
          null,
          null,
          null,
          null,
          null,
          null,
          null,
          null,
          null,
          null,
          null,
          null,
          null,
          null,
          null,
          null,
          null,
          null,
          null,
          null,
          null,
          null,
          null,
          null,
          null,
          null,
          null,
          null,
          null,
          null,
          null,
          null,
          null,
          null,
          null,
          null,
          null,
          null,
          null,
          null,
          null,
          null,
          null,
          null,
          null,
          null,
          null,
          null,
          null,
          null,
          null,
          null,
          null,
          null,
          null,
          null,
          null,
          null,
          null,
          null,
          null,
          null,
          null,
          null,
          null,
          null,
          null,
          null,
          null,
          null,
          null,
          null,
          null,
          null,
          null,
          null,
          null,
          null,
          null,
          null,
          null,
          null,
          null,
          null,
          null,
          null,
          null,
          null,
          null,
          null,
          null,
          null,
          null,
          null,
          null,
          null,
          null,
          null,
          null,
          null,
          null,
          null,
          null,
          null,
          null,
          null,
          null,
          null,
          null,
          null,
          null,
          null,
          null,
          null,
          null,
          null,
          null,
          null,
          null,
          null,
          null,
          null,
          null,
          null,
          null,
          null,
          null,
          null,
          null,
          null,
          null,
          null,
          null,
          null,
          null,
          null,
          null,
          null,
          null,
          null,
          null,
          null,
          null,
          null,
          null,
          null,
          null,
          null,
          null,
          null,
          null,
          null,
          null,
          null,
          null,
          null,
          null,
          null,
          null,
          null,
          null,
          null,
          null,
          null,
          null,
          null,
          null,
          null,
          null,
          null,
          null,
          null,
          null,
          null,
          null,
          null
         ],
         "textposition": "auto",
         "type": "bar",
         "x": [
          "LIRF",
          "LIMC",
          "LIME",
          "LIPZ",
          "LIPE",
          "LEBL",
          "LFPG",
          "LEMD",
          "LIBD",
          "EHAM",
          "EDDF",
          "LOWW",
          "EGLL",
          "LPPT",
          "LICJ",
          "EDDM",
          "EGSS",
          "LEIB",
          "LIML",
          "EGKK",
          "EKCH",
          "LSZH",
          "KJFK",
          "EDDK",
          "EBBR",
          "LGAV",
          "LLBG",
          "EDDP",
          "LFPO",
          "LICA",
          "EIDW",
          "LEPA",
          "EFHK",
          "LROP",
          "LTFM",
          "GMMN",
          "ELLX",
          "LFMN",
          "LKPR",
          "EDDB",
          "EGCC",
          "LHBP",
          "ENGM",
          "EPWA",
          "OMDB",
          "LTFJ",
          "OTHH",
          "ESSA",
          "EDDL",
          "EBCI",
          "LEMH",
          "LGMK",
          "LIMJ",
          "KEWR",
          "EHEH",
          "LSGG",
          "LGRP",
          "LIBR",
          "LYBE",
          "LIPQ",
          "KATL",
          "KORD",
          "EDDH",
          "LPPR",
          "LATI",
          "LFML",
          "EPKK",
          "EGNX",
          "LBSF",
          "CYUL",
          "LEAL",
          "EGGW",
          "LIEA",
          "LGKO",
          "EPKT",
          "LICZ",
          "LIMF",
          "LEMG",
          "LFOB",
          "CYYZ",
          "LRBC",
          "EVRA",
          "LIRQ",
          "KBOS",
          "LIRA",
          "LFPB",
          "LEZL",
          "EBMB",
          "KPHL",
          "EDDS",
          "EPMO",
          "LFBD",
          "EBLG",
          "LRTR",
          "EGGD",
          "LIBP",
          "LDDU",
          "DAAG",
          "LSZM",
          "LIEO",
          "LIRP",
          "EGPH",
          "LMML",
          "EETN",
          "EYVI",
          "LIPY",
          "RKSI",
          "EPGD",
          "EGBB",
          "EDDV",
          "EKBI",
          "LZIB",
          "LFBO",
          "OMAA",
          "LIPX",
          "KLAX",
          "EGLC",
          "LEZG",
          "SAEZ",
          "EGGP",
          "LPAR",
          "LIED",
          "SBMT",
          "LCLK",
          "EGKB",
          "EDDN",
          "LIBC",
          "KDFW",
          "EICK",
          "LFBT",
          "LPFR",
          "LIMZ",
          "KIAD",
          "KCLT",
          "OLBA",
          "LICB",
          "OBBI",
          "EDFM",
          "LIPL",
          "LFRS",
          "LJLJ",
          "LTBU",
          "GOBD",
          "EPWR",
          "OERK",
          "EGLF",
          "EPPO",
          "ESGG",
          "CYYC",
          "LIMB",
          "EDFH",
          "LIPO",
          "GMTT",
          "LICC",
          "EGNT",
          "YPPH",
          "LRIA",
          "LUKK",
          "LIDG",
          "LIDP",
          "OMDW",
          "LOWS",
          "GMME",
          "KMIA",
          "ENBR",
          "LDZL",
          "EIKN",
          "EKAH",
          "LFST",
          "LEGE",
          "LYPG",
          "LIPH",
          "LILG",
          "EGWU",
          "LPMA",
          "LTBA",
          "LCPH",
          "EFLP",
          "LIRZ",
          "LFQQ",
          "LIDU",
          "KCVG",
          "LRCV",
          "EHRD",
          "LIPR",
          "ENJB",
          "LSZA",
          "LDZI",
          "LFRM",
          "EPMR",
          "LILV",
          "LIPV",
          "EGTK",
          "LGSO",
          "EHBK",
          "LYTV",
          "LESL",
          "LIDR",
          "2NC1",
          "LDZA",
          "LSZB",
          "LJPZ",
          "LILR",
          "LILB",
          "LIPK",
          "EINN",
          "LOWG",
          "LIDF",
          "LSZR",
          "LDZB",
          "VHHH",
          "LOWI",
          "EBAW",
          "LIDB",
          "LDPL",
          "EKRK",
          "LILC",
          "EGNM",
          "LIMP",
          "LIMG",
          "LTFE",
          "ESSB",
          "KHPN",
          "LFMT",
          "EPRZ",
          "OERY",
          "KTEB",
          "LIDH",
          "LIEE",
          "LYNI",
          "VIDP",
          "EDDW",
          "8KY6",
          "LFMV",
          "LIDA",
          "EDLN",
          "EGPF",
          "OTBD",
          "LIRE",
          "LFTW",
          "LFMQ",
          "LIDC",
          "LIDT",
          "EDNY",
          "LPCS",
          "OA16",
          "EBKT",
          "LIPN",
          "EGNP",
          "ENTO",
          "LIPB",
          "KBWI",
          "EDMA",
          "EDJA",
          "EGBJ",
          "EGPK",
          "LGPZ",
          "DAOO",
          "WSAP",
          "EGJJ",
          "LIAR",
          "EDSB",
          "LFOP",
          "LFBZ",
          "ETHN",
          "EDAZ",
          "LIDE",
          "LFLC",
          "EDDG",
          "LGSM",
          "LSGC",
          "LOAN",
          "RJTT",
          "LIQL",
          "EGMC",
          "LSGL",
          "EDVE",
          "EGSH",
          "EGFF",
          "LSZL",
          "KLUK",
          "ETAR",
          "LFOZ",
          "WSAC",
          "EDLV",
          "EDTD",
          "EDXW",
          "EDLA",
          "LFPM",
          "LFCR",
          "LFBP",
          "EGHI",
          "EGTE",
          "EGNR",
          "98VA",
          "LIPM",
          "GA95",
          "LIDV",
          "OMSJ",
          "ZGSZ",
          "LYPO",
          "RPLL",
          "VTBS",
          "LFLY",
          "KAKH",
          "LIQG",
          "VOMM",
          "LGKF",
          "EDMO",
          "RJBB",
          "LIPU",
          "LPEV",
          "MDMA",
          "89GE",
          "EDRZ",
          "ENBO",
          "EDDC",
          "LFJR",
          "LIRV",
          "KLNN",
          "LIRU",
          "LFNG",
          "KISP",
          "LJBL",
          "LSTZ",
          "LOWL",
          "LIMR",
          "LEMU",
          "KPVU",
          "LGKN",
          "LEVX",
          "KPIT",
          "EPZB",
          "EGHG",
          "KDTW",
          "KACK",
          "LEDA",
          "LKTB",
          "LIQB",
          "EGHH",
          "LSZC",
          "EGVN",
          "EGPC",
          "KLDJ",
          "LIRI",
          "KRDU",
          "4NY8",
          "51GA",
          "LOXZ",
          "EDVK",
          "VVNB",
          "KHOU",
          "LESB",
          "KOQU",
          "LFEZ",
          "LILE",
          "WSSS",
          "LFBH",
          "KSAV",
          "KALB",
          "KFOK",
          "LFOT",
          "LKKB",
          "LFQM",
          "07VT",
          "KENW",
          "LQJL",
          "LFMU",
          "LIPI",
          "LFBF",
          "UGTB",
          "LIPC",
          "KMLB",
          "EDTX",
          "EDRK",
          "KGRR",
          "EDFE",
          "LFAV",
          "LFLP",
          "LIPF",
          "EIKY",
          "OEDF",
          "LFLI",
          "LSGK",
          "EGKR",
          "LICP",
          "LAGJ",
          "LTBW",
          "OJAM",
          "LIMA",
          "LICR",
          "LLSD",
          "LFPC",
          "LGNX",
          "PANC",
          "LFFW",
          "LFNR",
          "4GE2",
          "25GA",
          "MDBE",
          "LILO",
          "LFLS",
          "OM11",
          "RJAA",
          "LEAP",
          "LQPD",
          "LFKP",
          "LJCE",
          "LFRI",
          "LIQS",
          "LFLL",
          "LIAT",
          "LD57",
          "5TX6",
          "LIQW",
          "RJAK",
          "LGTP",
          "EPRJ",
          "LELL",
          "LGSK",
          "OMAM",
          "LDZE",
          "LOGT",
          "BIRK",
          "LGPA",
          "LFNT",
          "LHTM",
          "LRCD",
          "EVRS",
          "EYKA",
          "EDTY",
          "EGTD",
          "LE84",
          "WSAT",
          "LIBV",
          "LFHJ",
          "LPPS",
          "LSMP",
          "LDZD",
          "EGCN",
          "LGTS",
          "LEST",
          "LBLS",
          "LFME",
          "LOLW",
          "OEDR",
          "LFFK",
          "EDKB",
          "LIRS",
          "GMMY",
          "EDRY",
          "LFGC",
          "IG07",
          "LJBO",
          "EGAA",
          "LFPN",
          "EDTM",
          "LGIK",
          "LFMD",
          "LFIX",
          "OMDM",
          "LFPD",
          "EELM",
          "LOKG",
          "LFMP",
          "KBFI",
          "EBTY",
          "LFKJ",
          "LHPR",
          "OMAF",
          "LFFV",
          "LIBG",
          "EPSW",
          "FACT",
          "LHSM",
          "LGKV",
          "UUML",
          "LFGZ",
          "LFRT",
          "LGKR",
          "LIMS",
          "EDEG",
          "KPWK",
          "LFLE",
          "EDRW",
          "SBGR",
          "EGPE",
          "KAHN",
          "EPSO",
          "KGRB",
          "EGHQ",
          "LFNL",
          "LFFI",
          "EFTP",
          "SBGL",
          "WSAG",
          "LDRI",
          "OMAD",
          "LIPA",
          "GMTN",
          "LFSS",
          "LFMI",
          "OE53",
          "KERI",
          "LFNZ",
          "OH68",
          "LJPT",
          "LFAM",
          "LTBJ",
          "EPLR",
          "LSMD",
          "LFTZ",
          "EDKZ",
          "LIMN",
          "FAPE",
          "LDPM",
          "LILN",
          "DA14",
          "EGTC",
          "KBEH",
          "KMDW",
          "ETSI",
          "EGKL",
          "EGPN",
          "LEPP",
          "VECC",
          "LIRL",
          "LGEL",
          "LFKS",
          "LEDS",
          "LIBF",
          "LSZS",
          "LKMT",
          "KABE",
          "KTPA",
          "EBMO",
          "LEMP",
          "ETNL",
          "KSDL",
          "KHHR",
          "LFLU",
          "EDTF",
          "EDLE",
          "EDRN",
          "LKVO",
          "KBCT",
          "LFFG",
          "SDTB",
          "LERM",
          "LKPD",
          "EDEF",
          "EDNG",
          "LIER",
          "GMFF"
         ],
         "xaxis": "x",
         "y": [
          19507,
          16438,
          7892,
          7656,
          7037,
          1654,
          1563,
          1514,
          1234,
          1146,
          972,
          971,
          848,
          824,
          800,
          765,
          731,
          723,
          683,
          668,
          642,
          637,
          616,
          602,
          590,
          568,
          565,
          538,
          535,
          486,
          435,
          433,
          403,
          387,
          383,
          378,
          366,
          362,
          358,
          334,
          333,
          329,
          317,
          303,
          300,
          297,
          282,
          274,
          264,
          261,
          257,
          248,
          247,
          245,
          225,
          218,
          207,
          193,
          190,
          186,
          184,
          180,
          177,
          176,
          172,
          171,
          170,
          168,
          165,
          163,
          158,
          156,
          146,
          144,
          143,
          141,
          141,
          138,
          129,
          127,
          119,
          118,
          113,
          112,
          111,
          110,
          110,
          109,
          108,
          105,
          99,
          99,
          98,
          96,
          95,
          92,
          90,
          89,
          87,
          86,
          85,
          80,
          77,
          76,
          75,
          75,
          71,
          70,
          69,
          67,
          66,
          63,
          62,
          62,
          60,
          59,
          59,
          58,
          56,
          55,
          55,
          54,
          53,
          52,
          52,
          49,
          48,
          48,
          47,
          45,
          45,
          42,
          40,
          39,
          39,
          38,
          38,
          37,
          37,
          35,
          35,
          33,
          32,
          28,
          26,
          26,
          26,
          26,
          25,
          23,
          23,
          23,
          22,
          22,
          21,
          21,
          21,
          20,
          19,
          19,
          18,
          18,
          18,
          18,
          17,
          17,
          17,
          17,
          17,
          17,
          17,
          16,
          16,
          15,
          15,
          15,
          15,
          15,
          14,
          14,
          14,
          13,
          13,
          13,
          13,
          13,
          13,
          13,
          12,
          12,
          12,
          12,
          11,
          11,
          11,
          11,
          11,
          11,
          10,
          10,
          10,
          10,
          10,
          10,
          10,
          10,
          10,
          9,
          9,
          9,
          9,
          9,
          8,
          8,
          8,
          7,
          7,
          7,
          7,
          7,
          7,
          7,
          7,
          7,
          7,
          7,
          7,
          6,
          6,
          6,
          6,
          6,
          6,
          6,
          6,
          6,
          5,
          5,
          5,
          5,
          5,
          5,
          5,
          5,
          4,
          4,
          4,
          4,
          4,
          4,
          4,
          4,
          4,
          4,
          4,
          4,
          4,
          4,
          4,
          3,
          3,
          3,
          3,
          3,
          3,
          3,
          3,
          3,
          3,
          3,
          3,
          2,
          2,
          2,
          2,
          2,
          2,
          2,
          2,
          2,
          2,
          2,
          2,
          2,
          2,
          2,
          2,
          2,
          2,
          2,
          2,
          2,
          2,
          2,
          null,
          null,
          null,
          null,
          null,
          null,
          null,
          null,
          null,
          null,
          null,
          null,
          null,
          null,
          null,
          null,
          null,
          null,
          null,
          null,
          null,
          null,
          null,
          null,
          null,
          null,
          null,
          null,
          null,
          null,
          null,
          null,
          null,
          null,
          null,
          null,
          null,
          null,
          null,
          null,
          null,
          null,
          null,
          null,
          null,
          null,
          null,
          null,
          null,
          null,
          null,
          null,
          null,
          null,
          null,
          null,
          null,
          null,
          null,
          null,
          null,
          null,
          null,
          null,
          null,
          null,
          null,
          null,
          null,
          null,
          null,
          null,
          null,
          null,
          null,
          null,
          null,
          null,
          null,
          null,
          null,
          null,
          null,
          null,
          null,
          null,
          null,
          null,
          null,
          null,
          null,
          null,
          null,
          null,
          null,
          null,
          null,
          null,
          null,
          null,
          null,
          null,
          null,
          null,
          null,
          null,
          null,
          null,
          null,
          null,
          null,
          null,
          null,
          null,
          null,
          null,
          null,
          null,
          null,
          null,
          null,
          null,
          null,
          null,
          null,
          null,
          null,
          null,
          null,
          null,
          null,
          null,
          null,
          null,
          null,
          null,
          null,
          null,
          null,
          null,
          null,
          null,
          null,
          null,
          null,
          null,
          null,
          null,
          null,
          null,
          null,
          null,
          null,
          null,
          null,
          null,
          null,
          null,
          null,
          null,
          null,
          null,
          null,
          null,
          null,
          null,
          null,
          null,
          null,
          null,
          null,
          null,
          null,
          null,
          null,
          null,
          null,
          null,
          null,
          null,
          null,
          null,
          null,
          null,
          null,
          null,
          null,
          null,
          null,
          null,
          null,
          null,
          null,
          null,
          null,
          null,
          null,
          null,
          null,
          null,
          null,
          null,
          null,
          null,
          null,
          null,
          null,
          null,
          null,
          null,
          null,
          null,
          null,
          null,
          null,
          null,
          null,
          null,
          null,
          null,
          null,
          null,
          null,
          null,
          null,
          null,
          null,
          null,
          null,
          null,
          null,
          null,
          null,
          null,
          null,
          null,
          null,
          null,
          null,
          null,
          null,
          null,
          null,
          null,
          null,
          null,
          null,
          null,
          null,
          null,
          null,
          null,
          null,
          null,
          null,
          null,
          null,
          null,
          null,
          null
         ],
         "yaxis": "y"
        }
       ],
       "layout": {
        "barmode": "relative",
        "legend": {
         "tracegroupgap": 0
        },
        "template": {
         "data": {
          "bar": [
           {
            "error_x": {
             "color": "#2a3f5f"
            },
            "error_y": {
             "color": "#2a3f5f"
            },
            "marker": {
             "line": {
              "color": "#E5ECF6",
              "width": 0.5
             },
             "pattern": {
              "fillmode": "overlay",
              "size": 10,
              "solidity": 0.2
             }
            },
            "type": "bar"
           }
          ],
          "barpolar": [
           {
            "marker": {
             "line": {
              "color": "#E5ECF6",
              "width": 0.5
             },
             "pattern": {
              "fillmode": "overlay",
              "size": 10,
              "solidity": 0.2
             }
            },
            "type": "barpolar"
           }
          ],
          "carpet": [
           {
            "aaxis": {
             "endlinecolor": "#2a3f5f",
             "gridcolor": "white",
             "linecolor": "white",
             "minorgridcolor": "white",
             "startlinecolor": "#2a3f5f"
            },
            "baxis": {
             "endlinecolor": "#2a3f5f",
             "gridcolor": "white",
             "linecolor": "white",
             "minorgridcolor": "white",
             "startlinecolor": "#2a3f5f"
            },
            "type": "carpet"
           }
          ],
          "choropleth": [
           {
            "colorbar": {
             "outlinewidth": 0,
             "ticks": ""
            },
            "type": "choropleth"
           }
          ],
          "contour": [
           {
            "colorbar": {
             "outlinewidth": 0,
             "ticks": ""
            },
            "colorscale": [
             [
              0,
              "#0d0887"
             ],
             [
              0.1111111111111111,
              "#46039f"
             ],
             [
              0.2222222222222222,
              "#7201a8"
             ],
             [
              0.3333333333333333,
              "#9c179e"
             ],
             [
              0.4444444444444444,
              "#bd3786"
             ],
             [
              0.5555555555555556,
              "#d8576b"
             ],
             [
              0.6666666666666666,
              "#ed7953"
             ],
             [
              0.7777777777777778,
              "#fb9f3a"
             ],
             [
              0.8888888888888888,
              "#fdca26"
             ],
             [
              1,
              "#f0f921"
             ]
            ],
            "type": "contour"
           }
          ],
          "contourcarpet": [
           {
            "colorbar": {
             "outlinewidth": 0,
             "ticks": ""
            },
            "type": "contourcarpet"
           }
          ],
          "heatmap": [
           {
            "colorbar": {
             "outlinewidth": 0,
             "ticks": ""
            },
            "colorscale": [
             [
              0,
              "#0d0887"
             ],
             [
              0.1111111111111111,
              "#46039f"
             ],
             [
              0.2222222222222222,
              "#7201a8"
             ],
             [
              0.3333333333333333,
              "#9c179e"
             ],
             [
              0.4444444444444444,
              "#bd3786"
             ],
             [
              0.5555555555555556,
              "#d8576b"
             ],
             [
              0.6666666666666666,
              "#ed7953"
             ],
             [
              0.7777777777777778,
              "#fb9f3a"
             ],
             [
              0.8888888888888888,
              "#fdca26"
             ],
             [
              1,
              "#f0f921"
             ]
            ],
            "type": "heatmap"
           }
          ],
          "heatmapgl": [
           {
            "colorbar": {
             "outlinewidth": 0,
             "ticks": ""
            },
            "colorscale": [
             [
              0,
              "#0d0887"
             ],
             [
              0.1111111111111111,
              "#46039f"
             ],
             [
              0.2222222222222222,
              "#7201a8"
             ],
             [
              0.3333333333333333,
              "#9c179e"
             ],
             [
              0.4444444444444444,
              "#bd3786"
             ],
             [
              0.5555555555555556,
              "#d8576b"
             ],
             [
              0.6666666666666666,
              "#ed7953"
             ],
             [
              0.7777777777777778,
              "#fb9f3a"
             ],
             [
              0.8888888888888888,
              "#fdca26"
             ],
             [
              1,
              "#f0f921"
             ]
            ],
            "type": "heatmapgl"
           }
          ],
          "histogram": [
           {
            "marker": {
             "pattern": {
              "fillmode": "overlay",
              "size": 10,
              "solidity": 0.2
             }
            },
            "type": "histogram"
           }
          ],
          "histogram2d": [
           {
            "colorbar": {
             "outlinewidth": 0,
             "ticks": ""
            },
            "colorscale": [
             [
              0,
              "#0d0887"
             ],
             [
              0.1111111111111111,
              "#46039f"
             ],
             [
              0.2222222222222222,
              "#7201a8"
             ],
             [
              0.3333333333333333,
              "#9c179e"
             ],
             [
              0.4444444444444444,
              "#bd3786"
             ],
             [
              0.5555555555555556,
              "#d8576b"
             ],
             [
              0.6666666666666666,
              "#ed7953"
             ],
             [
              0.7777777777777778,
              "#fb9f3a"
             ],
             [
              0.8888888888888888,
              "#fdca26"
             ],
             [
              1,
              "#f0f921"
             ]
            ],
            "type": "histogram2d"
           }
          ],
          "histogram2dcontour": [
           {
            "colorbar": {
             "outlinewidth": 0,
             "ticks": ""
            },
            "colorscale": [
             [
              0,
              "#0d0887"
             ],
             [
              0.1111111111111111,
              "#46039f"
             ],
             [
              0.2222222222222222,
              "#7201a8"
             ],
             [
              0.3333333333333333,
              "#9c179e"
             ],
             [
              0.4444444444444444,
              "#bd3786"
             ],
             [
              0.5555555555555556,
              "#d8576b"
             ],
             [
              0.6666666666666666,
              "#ed7953"
             ],
             [
              0.7777777777777778,
              "#fb9f3a"
             ],
             [
              0.8888888888888888,
              "#fdca26"
             ],
             [
              1,
              "#f0f921"
             ]
            ],
            "type": "histogram2dcontour"
           }
          ],
          "mesh3d": [
           {
            "colorbar": {
             "outlinewidth": 0,
             "ticks": ""
            },
            "type": "mesh3d"
           }
          ],
          "parcoords": [
           {
            "line": {
             "colorbar": {
              "outlinewidth": 0,
              "ticks": ""
             }
            },
            "type": "parcoords"
           }
          ],
          "pie": [
           {
            "automargin": true,
            "type": "pie"
           }
          ],
          "scatter": [
           {
            "fillpattern": {
             "fillmode": "overlay",
             "size": 10,
             "solidity": 0.2
            },
            "type": "scatter"
           }
          ],
          "scatter3d": [
           {
            "line": {
             "colorbar": {
              "outlinewidth": 0,
              "ticks": ""
             }
            },
            "marker": {
             "colorbar": {
              "outlinewidth": 0,
              "ticks": ""
             }
            },
            "type": "scatter3d"
           }
          ],
          "scattercarpet": [
           {
            "marker": {
             "colorbar": {
              "outlinewidth": 0,
              "ticks": ""
             }
            },
            "type": "scattercarpet"
           }
          ],
          "scattergeo": [
           {
            "marker": {
             "colorbar": {
              "outlinewidth": 0,
              "ticks": ""
             }
            },
            "type": "scattergeo"
           }
          ],
          "scattergl": [
           {
            "marker": {
             "colorbar": {
              "outlinewidth": 0,
              "ticks": ""
             }
            },
            "type": "scattergl"
           }
          ],
          "scattermapbox": [
           {
            "marker": {
             "colorbar": {
              "outlinewidth": 0,
              "ticks": ""
             }
            },
            "type": "scattermapbox"
           }
          ],
          "scatterpolar": [
           {
            "marker": {
             "colorbar": {
              "outlinewidth": 0,
              "ticks": ""
             }
            },
            "type": "scatterpolar"
           }
          ],
          "scatterpolargl": [
           {
            "marker": {
             "colorbar": {
              "outlinewidth": 0,
              "ticks": ""
             }
            },
            "type": "scatterpolargl"
           }
          ],
          "scatterternary": [
           {
            "marker": {
             "colorbar": {
              "outlinewidth": 0,
              "ticks": ""
             }
            },
            "type": "scatterternary"
           }
          ],
          "surface": [
           {
            "colorbar": {
             "outlinewidth": 0,
             "ticks": ""
            },
            "colorscale": [
             [
              0,
              "#0d0887"
             ],
             [
              0.1111111111111111,
              "#46039f"
             ],
             [
              0.2222222222222222,
              "#7201a8"
             ],
             [
              0.3333333333333333,
              "#9c179e"
             ],
             [
              0.4444444444444444,
              "#bd3786"
             ],
             [
              0.5555555555555556,
              "#d8576b"
             ],
             [
              0.6666666666666666,
              "#ed7953"
             ],
             [
              0.7777777777777778,
              "#fb9f3a"
             ],
             [
              0.8888888888888888,
              "#fdca26"
             ],
             [
              1,
              "#f0f921"
             ]
            ],
            "type": "surface"
           }
          ],
          "table": [
           {
            "cells": {
             "fill": {
              "color": "#EBF0F8"
             },
             "line": {
              "color": "white"
             }
            },
            "header": {
             "fill": {
              "color": "#C8D4E3"
             },
             "line": {
              "color": "white"
             }
            },
            "type": "table"
           }
          ]
         },
         "layout": {
          "annotationdefaults": {
           "arrowcolor": "#2a3f5f",
           "arrowhead": 0,
           "arrowwidth": 1
          },
          "autotypenumbers": "strict",
          "coloraxis": {
           "colorbar": {
            "outlinewidth": 0,
            "ticks": ""
           }
          },
          "colorscale": {
           "diverging": [
            [
             0,
             "#8e0152"
            ],
            [
             0.1,
             "#c51b7d"
            ],
            [
             0.2,
             "#de77ae"
            ],
            [
             0.3,
             "#f1b6da"
            ],
            [
             0.4,
             "#fde0ef"
            ],
            [
             0.5,
             "#f7f7f7"
            ],
            [
             0.6,
             "#e6f5d0"
            ],
            [
             0.7,
             "#b8e186"
            ],
            [
             0.8,
             "#7fbc41"
            ],
            [
             0.9,
             "#4d9221"
            ],
            [
             1,
             "#276419"
            ]
           ],
           "sequential": [
            [
             0,
             "#0d0887"
            ],
            [
             0.1111111111111111,
             "#46039f"
            ],
            [
             0.2222222222222222,
             "#7201a8"
            ],
            [
             0.3333333333333333,
             "#9c179e"
            ],
            [
             0.4444444444444444,
             "#bd3786"
            ],
            [
             0.5555555555555556,
             "#d8576b"
            ],
            [
             0.6666666666666666,
             "#ed7953"
            ],
            [
             0.7777777777777778,
             "#fb9f3a"
            ],
            [
             0.8888888888888888,
             "#fdca26"
            ],
            [
             1,
             "#f0f921"
            ]
           ],
           "sequentialminus": [
            [
             0,
             "#0d0887"
            ],
            [
             0.1111111111111111,
             "#46039f"
            ],
            [
             0.2222222222222222,
             "#7201a8"
            ],
            [
             0.3333333333333333,
             "#9c179e"
            ],
            [
             0.4444444444444444,
             "#bd3786"
            ],
            [
             0.5555555555555556,
             "#d8576b"
            ],
            [
             0.6666666666666666,
             "#ed7953"
            ],
            [
             0.7777777777777778,
             "#fb9f3a"
            ],
            [
             0.8888888888888888,
             "#fdca26"
            ],
            [
             1,
             "#f0f921"
            ]
           ]
          },
          "colorway": [
           "#636efa",
           "#EF553B",
           "#00cc96",
           "#ab63fa",
           "#FFA15A",
           "#19d3f3",
           "#FF6692",
           "#B6E880",
           "#FF97FF",
           "#FECB52"
          ],
          "font": {
           "color": "#2a3f5f"
          },
          "geo": {
           "bgcolor": "white",
           "lakecolor": "white",
           "landcolor": "#E5ECF6",
           "showlakes": true,
           "showland": true,
           "subunitcolor": "white"
          },
          "hoverlabel": {
           "align": "left"
          },
          "hovermode": "closest",
          "mapbox": {
           "style": "light"
          },
          "paper_bgcolor": "white",
          "plot_bgcolor": "#E5ECF6",
          "polar": {
           "angularaxis": {
            "gridcolor": "white",
            "linecolor": "white",
            "ticks": ""
           },
           "bgcolor": "#E5ECF6",
           "radialaxis": {
            "gridcolor": "white",
            "linecolor": "white",
            "ticks": ""
           }
          },
          "scene": {
           "xaxis": {
            "backgroundcolor": "#E5ECF6",
            "gridcolor": "white",
            "gridwidth": 2,
            "linecolor": "white",
            "showbackground": true,
            "ticks": "",
            "zerolinecolor": "white"
           },
           "yaxis": {
            "backgroundcolor": "#E5ECF6",
            "gridcolor": "white",
            "gridwidth": 2,
            "linecolor": "white",
            "showbackground": true,
            "ticks": "",
            "zerolinecolor": "white"
           },
           "zaxis": {
            "backgroundcolor": "#E5ECF6",
            "gridcolor": "white",
            "gridwidth": 2,
            "linecolor": "white",
            "showbackground": true,
            "ticks": "",
            "zerolinecolor": "white"
           }
          },
          "shapedefaults": {
           "line": {
            "color": "#2a3f5f"
           }
          },
          "ternary": {
           "aaxis": {
            "gridcolor": "white",
            "linecolor": "white",
            "ticks": ""
           },
           "baxis": {
            "gridcolor": "white",
            "linecolor": "white",
            "ticks": ""
           },
           "bgcolor": "#E5ECF6",
           "caxis": {
            "gridcolor": "white",
            "linecolor": "white",
            "ticks": ""
           }
          },
          "title": {
           "x": 0.05
          },
          "xaxis": {
           "automargin": true,
           "gridcolor": "white",
           "linecolor": "white",
           "ticks": "",
           "title": {
            "standoff": 15
           },
           "zerolinecolor": "white",
           "zerolinewidth": 2
          },
          "yaxis": {
           "automargin": true,
           "gridcolor": "white",
           "linecolor": "white",
           "ticks": "",
           "title": {
            "standoff": 15
           },
           "zerolinecolor": "white",
           "zerolinewidth": 2
          }
         }
        },
        "title": {
         "text": "Amount of total inbound and outbound flights per airport in July 2022"
        },
        "xaxis": {
         "anchor": "y",
         "domain": [
          0,
          1
         ],
         "range": [
          -0.5,
          4.5
         ],
         "title": {
          "text": "Airport"
         }
        },
        "yaxis": {
         "anchor": "x",
         "domain": [
          0,
          1
         ],
         "title": {
          "text": "Amount of flights"
         }
        }
       }
      }
     },
     "metadata": {},
     "output_type": "display_data"
    }
   ],
   "source": [
    "#import pandas and numpy to work on the dataframes\n",
    "import pandas as pd\n",
    "import numpy as np\n",
    "\n",
    "#import the data for flights in italy from the year 2022\n",
    "df = pd.read_csv('C:/Users/thoma/Downloads/flightlist_20220701_20220731.csv.gz', compression='gzip', header=0, sep=',', quotechar='\"')\n",
    "df.head()\n",
    "\n",
    "#Filter the database so only the airports of interest are included\n",
    "df1 = df[(df['origin'] == 'LIME') | (df['origin'] == 'LIPZ') | (df['origin'] == 'LIPE') | (df['origin'] == 'LIRF') | (df['origin'] == 'LIMC') | (df['destination'] == 'LIME') | (df['destination'] == 'LIPZ') | (df['destination'] == 'LIPE') | (df['destination'] == 'LIRF') | (df['destination'] == 'LIMC')]\n",
    "df1.head(10)\n",
    "\n",
    "\n",
    "#show the amount of inbound and outbound flights for each airport in July 2022 in a table\n",
    "df1['origin'].value_counts()\n",
    "df1['destination'].value_counts()\n",
    "\n",
    "\n",
    "#create a bar chart so that the amount of outbound flights per airport is shown\n",
    "import plotly.express as px\n",
    "fig = px.bar(df1, x=df1['origin'].value_counts().index, y=df1['origin'].value_counts().values, title='Amount of flights per airport Amount of flights per airport in July 2022 as origin')\n",
    "fig.update_xaxes(title_text='Airport')\n",
    "fig.update_yaxes(title_text='Amount of flights')\n",
    "fig.update_traces(text=df1['origin'].value_counts().values)\n",
    "fig.update_xaxes(range=(-0.5, 4.5))\n",
    "fig.show()\n",
    "\n",
    "#create a bar chart so that the amount of inbound flights per airpot is shown\n",
    "import plotly.express as px\n",
    "fig = px.bar(df1, x=df1['destination'].value_counts().index, y=df1['destination'].value_counts().values, title='Amount of flights per airport Amount of flights per airport in July 2022 as destination')\n",
    "fig.update_xaxes(title_text='Airport')\n",
    "fig.update_yaxes(title_text='Amount of flights')\n",
    "fig.update_traces(text=df1['destination'].value_counts().values)\n",
    "fig.update_xaxes(range=(-0.5, 4.5))\n",
    "fig.show()\n",
    "\n",
    "#create a new dataframe so that only the inbound and outbound flights are shown from the airports of interest\n",
    "df2 = pd.concat([df1['origin'].value_counts(), df1['destination'].value_counts()], axis=1)\n",
    "df2.columns = ['origin', 'destination']\n",
    "df2['total'] = df2['origin'] + df2['destination']\n",
    "df2 = df2.sort_values(by='total', ascending=False)\n",
    "df2.head(5)\n",
    "\n",
    "#add the year and month to the dataframe so it can be sorted accordingly\n",
    "df2['year'] = 2022\n",
    "df2['month'] = 7\n",
    "print(df2.head(5))\n",
    "\n",
    "\n",
    "#plot a bar chart with the amount of destinations and origin per airport\n",
    "import plotly.express as px\n",
    "fig = px.bar(df2, x=df2.index, y=df2['total'], title='Amount of total inbound and outbound flights per airport in July 2022')\n",
    "fig.update_xaxes(title_text='Airport')\n",
    "fig.update_yaxes(title_text='Amount of flights')\n",
    "fig.update_traces(text=df2['total'])\n",
    "fig.update_xaxes(range=(-0.5, 4.5))\n",
    "fig.show()\n",
    "\n",
    "#safe the shortend and filtered database df2 to a csv file\n",
    "df2.to_csv('C:/Users/thoma/Downloads/flightlist_short_20220701_20220731.csv.gz', compression='gzip', header=True, sep=',', quotechar='\"')"
   ]
  },
  {
   "cell_type": "code",
   "execution_count": 28,
   "metadata": {},
   "outputs": [
    {
     "data": {
      "application/vnd.plotly.v1+json": {
       "config": {
        "plotlyServerURL": "https://plot.ly"
       },
       "data": [
        {
         "alignmentgroup": "True",
         "bingroup": "x",
         "histfunc": "sum",
         "hovertemplate": "year=2019<br>airport=%{x}<br>sum of destination=%{y}<extra></extra>",
         "legendgroup": "2019",
         "marker": {
          "color": "#636efa",
          "pattern": {
           "shape": ""
          }
         },
         "name": "2019",
         "offsetgroup": "2019",
         "orientation": "v",
         "showlegend": true,
         "text": [
          14491,
          8175,
          4387,
          3284,
          2580,
          4382,
          3753,
          1761,
          1526,
          1196,
          6495,
          6151,
          3492,
          2434,
          1907,
          9874,
          8406,
          3990,
          3846,
          3642
         ],
         "type": "histogram",
         "x": [
          "LIRF",
          "LIMC",
          "LIME",
          "LIPZ",
          "LIPE"
         ],
         "xaxis": "x",
         "y": [
          14491,
          8175,
          4387,
          3284,
          2580
         ],
         "yaxis": "y"
        },
        {
         "alignmentgroup": "True",
         "bingroup": "x",
         "histfunc": "sum",
         "hovertemplate": "year=2020<br>airport=%{x}<br>sum of destination=%{y}<extra></extra>",
         "legendgroup": "2020",
         "marker": {
          "color": "#EF553B",
          "pattern": {
           "shape": ""
          }
         },
         "name": "2020",
         "offsetgroup": "2020",
         "orientation": "v",
         "showlegend": true,
         "text": [
          14491,
          8175,
          4387,
          3284,
          2580,
          4382,
          3753,
          1761,
          1526,
          1196,
          6495,
          6151,
          3492,
          2434,
          1907,
          9874,
          8406,
          3990,
          3846,
          3642
         ],
         "type": "histogram",
         "x": [
          "LIMC",
          "LIRF",
          "LIME",
          "LIPZ",
          "LIPE"
         ],
         "xaxis": "x",
         "y": [
          4382,
          3753,
          1761,
          1526,
          1196
         ],
         "yaxis": "y"
        },
        {
         "alignmentgroup": "True",
         "bingroup": "x",
         "histfunc": "sum",
         "hovertemplate": "year=2021<br>airport=%{x}<br>sum of destination=%{y}<extra></extra>",
         "legendgroup": "2021",
         "marker": {
          "color": "#00cc96",
          "pattern": {
           "shape": ""
          }
         },
         "name": "2021",
         "offsetgroup": "2021",
         "orientation": "v",
         "showlegend": true,
         "text": [
          14491,
          8175,
          4387,
          3284,
          2580,
          4382,
          3753,
          1761,
          1526,
          1196,
          6495,
          6151,
          3492,
          2434,
          1907,
          9874,
          8406,
          3990,
          3846,
          3642
         ],
         "type": "histogram",
         "x": [
          "LIMC",
          "LIRF",
          "LIME",
          "LIPZ",
          "LIPE"
         ],
         "xaxis": "x",
         "y": [
          6495,
          6151,
          3492,
          2434,
          1907
         ],
         "yaxis": "y"
        },
        {
         "alignmentgroup": "True",
         "bingroup": "x",
         "histfunc": "sum",
         "hovertemplate": "year=2022<br>airport=%{x}<br>sum of destination=%{y}<extra></extra>",
         "legendgroup": "2022",
         "marker": {
          "color": "#ab63fa",
          "pattern": {
           "shape": ""
          }
         },
         "name": "2022",
         "offsetgroup": "2022",
         "orientation": "v",
         "showlegend": true,
         "text": [
          14491,
          8175,
          4387,
          3284,
          2580,
          4382,
          3753,
          1761,
          1526,
          1196,
          6495,
          6151,
          3492,
          2434,
          1907,
          9874,
          8406,
          3990,
          3846,
          3642
         ],
         "type": "histogram",
         "x": [
          "LIRF",
          "LIMC",
          "LIME",
          "LIPZ",
          "LIPE"
         ],
         "xaxis": "x",
         "y": [
          9874,
          8406,
          3990,
          3846,
          3642
         ],
         "yaxis": "y"
        }
       ],
       "layout": {
        "barmode": "group",
        "legend": {
         "title": {
          "text": "year"
         },
         "tracegroupgap": 0
        },
        "template": {
         "data": {
          "bar": [
           {
            "error_x": {
             "color": "#2a3f5f"
            },
            "error_y": {
             "color": "#2a3f5f"
            },
            "marker": {
             "line": {
              "color": "#E5ECF6",
              "width": 0.5
             },
             "pattern": {
              "fillmode": "overlay",
              "size": 10,
              "solidity": 0.2
             }
            },
            "type": "bar"
           }
          ],
          "barpolar": [
           {
            "marker": {
             "line": {
              "color": "#E5ECF6",
              "width": 0.5
             },
             "pattern": {
              "fillmode": "overlay",
              "size": 10,
              "solidity": 0.2
             }
            },
            "type": "barpolar"
           }
          ],
          "carpet": [
           {
            "aaxis": {
             "endlinecolor": "#2a3f5f",
             "gridcolor": "white",
             "linecolor": "white",
             "minorgridcolor": "white",
             "startlinecolor": "#2a3f5f"
            },
            "baxis": {
             "endlinecolor": "#2a3f5f",
             "gridcolor": "white",
             "linecolor": "white",
             "minorgridcolor": "white",
             "startlinecolor": "#2a3f5f"
            },
            "type": "carpet"
           }
          ],
          "choropleth": [
           {
            "colorbar": {
             "outlinewidth": 0,
             "ticks": ""
            },
            "type": "choropleth"
           }
          ],
          "contour": [
           {
            "colorbar": {
             "outlinewidth": 0,
             "ticks": ""
            },
            "colorscale": [
             [
              0,
              "#0d0887"
             ],
             [
              0.1111111111111111,
              "#46039f"
             ],
             [
              0.2222222222222222,
              "#7201a8"
             ],
             [
              0.3333333333333333,
              "#9c179e"
             ],
             [
              0.4444444444444444,
              "#bd3786"
             ],
             [
              0.5555555555555556,
              "#d8576b"
             ],
             [
              0.6666666666666666,
              "#ed7953"
             ],
             [
              0.7777777777777778,
              "#fb9f3a"
             ],
             [
              0.8888888888888888,
              "#fdca26"
             ],
             [
              1,
              "#f0f921"
             ]
            ],
            "type": "contour"
           }
          ],
          "contourcarpet": [
           {
            "colorbar": {
             "outlinewidth": 0,
             "ticks": ""
            },
            "type": "contourcarpet"
           }
          ],
          "heatmap": [
           {
            "colorbar": {
             "outlinewidth": 0,
             "ticks": ""
            },
            "colorscale": [
             [
              0,
              "#0d0887"
             ],
             [
              0.1111111111111111,
              "#46039f"
             ],
             [
              0.2222222222222222,
              "#7201a8"
             ],
             [
              0.3333333333333333,
              "#9c179e"
             ],
             [
              0.4444444444444444,
              "#bd3786"
             ],
             [
              0.5555555555555556,
              "#d8576b"
             ],
             [
              0.6666666666666666,
              "#ed7953"
             ],
             [
              0.7777777777777778,
              "#fb9f3a"
             ],
             [
              0.8888888888888888,
              "#fdca26"
             ],
             [
              1,
              "#f0f921"
             ]
            ],
            "type": "heatmap"
           }
          ],
          "heatmapgl": [
           {
            "colorbar": {
             "outlinewidth": 0,
             "ticks": ""
            },
            "colorscale": [
             [
              0,
              "#0d0887"
             ],
             [
              0.1111111111111111,
              "#46039f"
             ],
             [
              0.2222222222222222,
              "#7201a8"
             ],
             [
              0.3333333333333333,
              "#9c179e"
             ],
             [
              0.4444444444444444,
              "#bd3786"
             ],
             [
              0.5555555555555556,
              "#d8576b"
             ],
             [
              0.6666666666666666,
              "#ed7953"
             ],
             [
              0.7777777777777778,
              "#fb9f3a"
             ],
             [
              0.8888888888888888,
              "#fdca26"
             ],
             [
              1,
              "#f0f921"
             ]
            ],
            "type": "heatmapgl"
           }
          ],
          "histogram": [
           {
            "marker": {
             "pattern": {
              "fillmode": "overlay",
              "size": 10,
              "solidity": 0.2
             }
            },
            "type": "histogram"
           }
          ],
          "histogram2d": [
           {
            "colorbar": {
             "outlinewidth": 0,
             "ticks": ""
            },
            "colorscale": [
             [
              0,
              "#0d0887"
             ],
             [
              0.1111111111111111,
              "#46039f"
             ],
             [
              0.2222222222222222,
              "#7201a8"
             ],
             [
              0.3333333333333333,
              "#9c179e"
             ],
             [
              0.4444444444444444,
              "#bd3786"
             ],
             [
              0.5555555555555556,
              "#d8576b"
             ],
             [
              0.6666666666666666,
              "#ed7953"
             ],
             [
              0.7777777777777778,
              "#fb9f3a"
             ],
             [
              0.8888888888888888,
              "#fdca26"
             ],
             [
              1,
              "#f0f921"
             ]
            ],
            "type": "histogram2d"
           }
          ],
          "histogram2dcontour": [
           {
            "colorbar": {
             "outlinewidth": 0,
             "ticks": ""
            },
            "colorscale": [
             [
              0,
              "#0d0887"
             ],
             [
              0.1111111111111111,
              "#46039f"
             ],
             [
              0.2222222222222222,
              "#7201a8"
             ],
             [
              0.3333333333333333,
              "#9c179e"
             ],
             [
              0.4444444444444444,
              "#bd3786"
             ],
             [
              0.5555555555555556,
              "#d8576b"
             ],
             [
              0.6666666666666666,
              "#ed7953"
             ],
             [
              0.7777777777777778,
              "#fb9f3a"
             ],
             [
              0.8888888888888888,
              "#fdca26"
             ],
             [
              1,
              "#f0f921"
             ]
            ],
            "type": "histogram2dcontour"
           }
          ],
          "mesh3d": [
           {
            "colorbar": {
             "outlinewidth": 0,
             "ticks": ""
            },
            "type": "mesh3d"
           }
          ],
          "parcoords": [
           {
            "line": {
             "colorbar": {
              "outlinewidth": 0,
              "ticks": ""
             }
            },
            "type": "parcoords"
           }
          ],
          "pie": [
           {
            "automargin": true,
            "type": "pie"
           }
          ],
          "scatter": [
           {
            "fillpattern": {
             "fillmode": "overlay",
             "size": 10,
             "solidity": 0.2
            },
            "type": "scatter"
           }
          ],
          "scatter3d": [
           {
            "line": {
             "colorbar": {
              "outlinewidth": 0,
              "ticks": ""
             }
            },
            "marker": {
             "colorbar": {
              "outlinewidth": 0,
              "ticks": ""
             }
            },
            "type": "scatter3d"
           }
          ],
          "scattercarpet": [
           {
            "marker": {
             "colorbar": {
              "outlinewidth": 0,
              "ticks": ""
             }
            },
            "type": "scattercarpet"
           }
          ],
          "scattergeo": [
           {
            "marker": {
             "colorbar": {
              "outlinewidth": 0,
              "ticks": ""
             }
            },
            "type": "scattergeo"
           }
          ],
          "scattergl": [
           {
            "marker": {
             "colorbar": {
              "outlinewidth": 0,
              "ticks": ""
             }
            },
            "type": "scattergl"
           }
          ],
          "scattermapbox": [
           {
            "marker": {
             "colorbar": {
              "outlinewidth": 0,
              "ticks": ""
             }
            },
            "type": "scattermapbox"
           }
          ],
          "scatterpolar": [
           {
            "marker": {
             "colorbar": {
              "outlinewidth": 0,
              "ticks": ""
             }
            },
            "type": "scatterpolar"
           }
          ],
          "scatterpolargl": [
           {
            "marker": {
             "colorbar": {
              "outlinewidth": 0,
              "ticks": ""
             }
            },
            "type": "scatterpolargl"
           }
          ],
          "scatterternary": [
           {
            "marker": {
             "colorbar": {
              "outlinewidth": 0,
              "ticks": ""
             }
            },
            "type": "scatterternary"
           }
          ],
          "surface": [
           {
            "colorbar": {
             "outlinewidth": 0,
             "ticks": ""
            },
            "colorscale": [
             [
              0,
              "#0d0887"
             ],
             [
              0.1111111111111111,
              "#46039f"
             ],
             [
              0.2222222222222222,
              "#7201a8"
             ],
             [
              0.3333333333333333,
              "#9c179e"
             ],
             [
              0.4444444444444444,
              "#bd3786"
             ],
             [
              0.5555555555555556,
              "#d8576b"
             ],
             [
              0.6666666666666666,
              "#ed7953"
             ],
             [
              0.7777777777777778,
              "#fb9f3a"
             ],
             [
              0.8888888888888888,
              "#fdca26"
             ],
             [
              1,
              "#f0f921"
             ]
            ],
            "type": "surface"
           }
          ],
          "table": [
           {
            "cells": {
             "fill": {
              "color": "#EBF0F8"
             },
             "line": {
              "color": "white"
             }
            },
            "header": {
             "fill": {
              "color": "#C8D4E3"
             },
             "line": {
              "color": "white"
             }
            },
            "type": "table"
           }
          ]
         },
         "layout": {
          "annotationdefaults": {
           "arrowcolor": "#2a3f5f",
           "arrowhead": 0,
           "arrowwidth": 1
          },
          "autotypenumbers": "strict",
          "coloraxis": {
           "colorbar": {
            "outlinewidth": 0,
            "ticks": ""
           }
          },
          "colorscale": {
           "diverging": [
            [
             0,
             "#8e0152"
            ],
            [
             0.1,
             "#c51b7d"
            ],
            [
             0.2,
             "#de77ae"
            ],
            [
             0.3,
             "#f1b6da"
            ],
            [
             0.4,
             "#fde0ef"
            ],
            [
             0.5,
             "#f7f7f7"
            ],
            [
             0.6,
             "#e6f5d0"
            ],
            [
             0.7,
             "#b8e186"
            ],
            [
             0.8,
             "#7fbc41"
            ],
            [
             0.9,
             "#4d9221"
            ],
            [
             1,
             "#276419"
            ]
           ],
           "sequential": [
            [
             0,
             "#0d0887"
            ],
            [
             0.1111111111111111,
             "#46039f"
            ],
            [
             0.2222222222222222,
             "#7201a8"
            ],
            [
             0.3333333333333333,
             "#9c179e"
            ],
            [
             0.4444444444444444,
             "#bd3786"
            ],
            [
             0.5555555555555556,
             "#d8576b"
            ],
            [
             0.6666666666666666,
             "#ed7953"
            ],
            [
             0.7777777777777778,
             "#fb9f3a"
            ],
            [
             0.8888888888888888,
             "#fdca26"
            ],
            [
             1,
             "#f0f921"
            ]
           ],
           "sequentialminus": [
            [
             0,
             "#0d0887"
            ],
            [
             0.1111111111111111,
             "#46039f"
            ],
            [
             0.2222222222222222,
             "#7201a8"
            ],
            [
             0.3333333333333333,
             "#9c179e"
            ],
            [
             0.4444444444444444,
             "#bd3786"
            ],
            [
             0.5555555555555556,
             "#d8576b"
            ],
            [
             0.6666666666666666,
             "#ed7953"
            ],
            [
             0.7777777777777778,
             "#fb9f3a"
            ],
            [
             0.8888888888888888,
             "#fdca26"
            ],
            [
             1,
             "#f0f921"
            ]
           ]
          },
          "colorway": [
           "#636efa",
           "#EF553B",
           "#00cc96",
           "#ab63fa",
           "#FFA15A",
           "#19d3f3",
           "#FF6692",
           "#B6E880",
           "#FF97FF",
           "#FECB52"
          ],
          "font": {
           "color": "#2a3f5f"
          },
          "geo": {
           "bgcolor": "white",
           "lakecolor": "white",
           "landcolor": "#E5ECF6",
           "showlakes": true,
           "showland": true,
           "subunitcolor": "white"
          },
          "hoverlabel": {
           "align": "left"
          },
          "hovermode": "closest",
          "mapbox": {
           "style": "light"
          },
          "paper_bgcolor": "white",
          "plot_bgcolor": "#E5ECF6",
          "polar": {
           "angularaxis": {
            "gridcolor": "white",
            "linecolor": "white",
            "ticks": ""
           },
           "bgcolor": "#E5ECF6",
           "radialaxis": {
            "gridcolor": "white",
            "linecolor": "white",
            "ticks": ""
           }
          },
          "scene": {
           "xaxis": {
            "backgroundcolor": "#E5ECF6",
            "gridcolor": "white",
            "gridwidth": 2,
            "linecolor": "white",
            "showbackground": true,
            "ticks": "",
            "zerolinecolor": "white"
           },
           "yaxis": {
            "backgroundcolor": "#E5ECF6",
            "gridcolor": "white",
            "gridwidth": 2,
            "linecolor": "white",
            "showbackground": true,
            "ticks": "",
            "zerolinecolor": "white"
           },
           "zaxis": {
            "backgroundcolor": "#E5ECF6",
            "gridcolor": "white",
            "gridwidth": 2,
            "linecolor": "white",
            "showbackground": true,
            "ticks": "",
            "zerolinecolor": "white"
           }
          },
          "shapedefaults": {
           "line": {
            "color": "#2a3f5f"
           }
          },
          "ternary": {
           "aaxis": {
            "gridcolor": "white",
            "linecolor": "white",
            "ticks": ""
           },
           "baxis": {
            "gridcolor": "white",
            "linecolor": "white",
            "ticks": ""
           },
           "bgcolor": "#E5ECF6",
           "caxis": {
            "gridcolor": "white",
            "linecolor": "white",
            "ticks": ""
           }
          },
          "title": {
           "x": 0.05
          },
          "xaxis": {
           "automargin": true,
           "gridcolor": "white",
           "linecolor": "white",
           "ticks": "",
           "title": {
            "standoff": 15
           },
           "zerolinecolor": "white",
           "zerolinewidth": 2
          },
          "yaxis": {
           "automargin": true,
           "gridcolor": "white",
           "linecolor": "white",
           "ticks": "",
           "title": {
            "standoff": 15
           },
           "zerolinecolor": "white",
           "zerolinewidth": 2
          }
         }
        },
        "title": {
         "text": "Amount of total inbound flights per airport in July 2019, 2020, 2021 and 2022"
        },
        "xaxis": {
         "anchor": "y",
         "domain": [
          0,
          1
         ],
         "range": [
          -0.5,
          4.5
         ],
         "title": {
          "text": "Airport"
         }
        },
        "yaxis": {
         "anchor": "x",
         "domain": [
          0,
          1
         ],
         "title": {
          "text": "Amount of flights"
         }
        }
       }
      }
     },
     "metadata": {},
     "output_type": "display_data"
    },
    {
     "data": {
      "application/vnd.plotly.v1+json": {
       "config": {
        "plotlyServerURL": "https://plot.ly"
       },
       "data": [
        {
         "hovertemplate": "airport=LIRF<br>year=%{x}<br>destination=%{y}<extra></extra>",
         "legendgroup": "LIRF",
         "line": {
          "color": "#636efa",
          "dash": "solid"
         },
         "marker": {
          "symbol": "circle"
         },
         "mode": "lines",
         "name": "LIRF",
         "orientation": "v",
         "showlegend": true,
         "text": [
          14491,
          8175,
          4387,
          3284,
          2580,
          4382,
          3753,
          1761,
          1526,
          1196,
          6495,
          6151,
          3492,
          2434,
          1907,
          9874,
          8406,
          3990,
          3846,
          3642
         ],
         "type": "scatter",
         "x": [
          2019,
          2020,
          2021,
          2022
         ],
         "xaxis": "x",
         "y": [
          14491,
          3753,
          6151,
          9874
         ],
         "yaxis": "y"
        },
        {
         "hovertemplate": "airport=LIMC<br>year=%{x}<br>destination=%{y}<extra></extra>",
         "legendgroup": "LIMC",
         "line": {
          "color": "#EF553B",
          "dash": "solid"
         },
         "marker": {
          "symbol": "circle"
         },
         "mode": "lines",
         "name": "LIMC",
         "orientation": "v",
         "showlegend": true,
         "text": [
          14491,
          8175,
          4387,
          3284,
          2580,
          4382,
          3753,
          1761,
          1526,
          1196,
          6495,
          6151,
          3492,
          2434,
          1907,
          9874,
          8406,
          3990,
          3846,
          3642
         ],
         "type": "scatter",
         "x": [
          2019,
          2020,
          2021,
          2022
         ],
         "xaxis": "x",
         "y": [
          8175,
          4382,
          6495,
          8406
         ],
         "yaxis": "y"
        },
        {
         "hovertemplate": "airport=LIME<br>year=%{x}<br>destination=%{y}<extra></extra>",
         "legendgroup": "LIME",
         "line": {
          "color": "#00cc96",
          "dash": "solid"
         },
         "marker": {
          "symbol": "circle"
         },
         "mode": "lines",
         "name": "LIME",
         "orientation": "v",
         "showlegend": true,
         "text": [
          14491,
          8175,
          4387,
          3284,
          2580,
          4382,
          3753,
          1761,
          1526,
          1196,
          6495,
          6151,
          3492,
          2434,
          1907,
          9874,
          8406,
          3990,
          3846,
          3642
         ],
         "type": "scatter",
         "x": [
          2019,
          2020,
          2021,
          2022
         ],
         "xaxis": "x",
         "y": [
          4387,
          1761,
          3492,
          3990
         ],
         "yaxis": "y"
        },
        {
         "hovertemplate": "airport=LIPZ<br>year=%{x}<br>destination=%{y}<extra></extra>",
         "legendgroup": "LIPZ",
         "line": {
          "color": "#ab63fa",
          "dash": "solid"
         },
         "marker": {
          "symbol": "circle"
         },
         "mode": "lines",
         "name": "LIPZ",
         "orientation": "v",
         "showlegend": true,
         "text": [
          14491,
          8175,
          4387,
          3284,
          2580,
          4382,
          3753,
          1761,
          1526,
          1196,
          6495,
          6151,
          3492,
          2434,
          1907,
          9874,
          8406,
          3990,
          3846,
          3642
         ],
         "type": "scatter",
         "x": [
          2019,
          2020,
          2021,
          2022
         ],
         "xaxis": "x",
         "y": [
          3284,
          1526,
          2434,
          3846
         ],
         "yaxis": "y"
        },
        {
         "hovertemplate": "airport=LIPE<br>year=%{x}<br>destination=%{y}<extra></extra>",
         "legendgroup": "LIPE",
         "line": {
          "color": "#FFA15A",
          "dash": "solid"
         },
         "marker": {
          "symbol": "circle"
         },
         "mode": "lines",
         "name": "LIPE",
         "orientation": "v",
         "showlegend": true,
         "text": [
          14491,
          8175,
          4387,
          3284,
          2580,
          4382,
          3753,
          1761,
          1526,
          1196,
          6495,
          6151,
          3492,
          2434,
          1907,
          9874,
          8406,
          3990,
          3846,
          3642
         ],
         "type": "scatter",
         "x": [
          2019,
          2020,
          2021,
          2022
         ],
         "xaxis": "x",
         "y": [
          2580,
          1196,
          1907,
          3642
         ],
         "yaxis": "y"
        }
       ],
       "layout": {
        "legend": {
         "title": {
          "text": "airport"
         },
         "tracegroupgap": 0
        },
        "template": {
         "data": {
          "bar": [
           {
            "error_x": {
             "color": "#2a3f5f"
            },
            "error_y": {
             "color": "#2a3f5f"
            },
            "marker": {
             "line": {
              "color": "#E5ECF6",
              "width": 0.5
             },
             "pattern": {
              "fillmode": "overlay",
              "size": 10,
              "solidity": 0.2
             }
            },
            "type": "bar"
           }
          ],
          "barpolar": [
           {
            "marker": {
             "line": {
              "color": "#E5ECF6",
              "width": 0.5
             },
             "pattern": {
              "fillmode": "overlay",
              "size": 10,
              "solidity": 0.2
             }
            },
            "type": "barpolar"
           }
          ],
          "carpet": [
           {
            "aaxis": {
             "endlinecolor": "#2a3f5f",
             "gridcolor": "white",
             "linecolor": "white",
             "minorgridcolor": "white",
             "startlinecolor": "#2a3f5f"
            },
            "baxis": {
             "endlinecolor": "#2a3f5f",
             "gridcolor": "white",
             "linecolor": "white",
             "minorgridcolor": "white",
             "startlinecolor": "#2a3f5f"
            },
            "type": "carpet"
           }
          ],
          "choropleth": [
           {
            "colorbar": {
             "outlinewidth": 0,
             "ticks": ""
            },
            "type": "choropleth"
           }
          ],
          "contour": [
           {
            "colorbar": {
             "outlinewidth": 0,
             "ticks": ""
            },
            "colorscale": [
             [
              0,
              "#0d0887"
             ],
             [
              0.1111111111111111,
              "#46039f"
             ],
             [
              0.2222222222222222,
              "#7201a8"
             ],
             [
              0.3333333333333333,
              "#9c179e"
             ],
             [
              0.4444444444444444,
              "#bd3786"
             ],
             [
              0.5555555555555556,
              "#d8576b"
             ],
             [
              0.6666666666666666,
              "#ed7953"
             ],
             [
              0.7777777777777778,
              "#fb9f3a"
             ],
             [
              0.8888888888888888,
              "#fdca26"
             ],
             [
              1,
              "#f0f921"
             ]
            ],
            "type": "contour"
           }
          ],
          "contourcarpet": [
           {
            "colorbar": {
             "outlinewidth": 0,
             "ticks": ""
            },
            "type": "contourcarpet"
           }
          ],
          "heatmap": [
           {
            "colorbar": {
             "outlinewidth": 0,
             "ticks": ""
            },
            "colorscale": [
             [
              0,
              "#0d0887"
             ],
             [
              0.1111111111111111,
              "#46039f"
             ],
             [
              0.2222222222222222,
              "#7201a8"
             ],
             [
              0.3333333333333333,
              "#9c179e"
             ],
             [
              0.4444444444444444,
              "#bd3786"
             ],
             [
              0.5555555555555556,
              "#d8576b"
             ],
             [
              0.6666666666666666,
              "#ed7953"
             ],
             [
              0.7777777777777778,
              "#fb9f3a"
             ],
             [
              0.8888888888888888,
              "#fdca26"
             ],
             [
              1,
              "#f0f921"
             ]
            ],
            "type": "heatmap"
           }
          ],
          "heatmapgl": [
           {
            "colorbar": {
             "outlinewidth": 0,
             "ticks": ""
            },
            "colorscale": [
             [
              0,
              "#0d0887"
             ],
             [
              0.1111111111111111,
              "#46039f"
             ],
             [
              0.2222222222222222,
              "#7201a8"
             ],
             [
              0.3333333333333333,
              "#9c179e"
             ],
             [
              0.4444444444444444,
              "#bd3786"
             ],
             [
              0.5555555555555556,
              "#d8576b"
             ],
             [
              0.6666666666666666,
              "#ed7953"
             ],
             [
              0.7777777777777778,
              "#fb9f3a"
             ],
             [
              0.8888888888888888,
              "#fdca26"
             ],
             [
              1,
              "#f0f921"
             ]
            ],
            "type": "heatmapgl"
           }
          ],
          "histogram": [
           {
            "marker": {
             "pattern": {
              "fillmode": "overlay",
              "size": 10,
              "solidity": 0.2
             }
            },
            "type": "histogram"
           }
          ],
          "histogram2d": [
           {
            "colorbar": {
             "outlinewidth": 0,
             "ticks": ""
            },
            "colorscale": [
             [
              0,
              "#0d0887"
             ],
             [
              0.1111111111111111,
              "#46039f"
             ],
             [
              0.2222222222222222,
              "#7201a8"
             ],
             [
              0.3333333333333333,
              "#9c179e"
             ],
             [
              0.4444444444444444,
              "#bd3786"
             ],
             [
              0.5555555555555556,
              "#d8576b"
             ],
             [
              0.6666666666666666,
              "#ed7953"
             ],
             [
              0.7777777777777778,
              "#fb9f3a"
             ],
             [
              0.8888888888888888,
              "#fdca26"
             ],
             [
              1,
              "#f0f921"
             ]
            ],
            "type": "histogram2d"
           }
          ],
          "histogram2dcontour": [
           {
            "colorbar": {
             "outlinewidth": 0,
             "ticks": ""
            },
            "colorscale": [
             [
              0,
              "#0d0887"
             ],
             [
              0.1111111111111111,
              "#46039f"
             ],
             [
              0.2222222222222222,
              "#7201a8"
             ],
             [
              0.3333333333333333,
              "#9c179e"
             ],
             [
              0.4444444444444444,
              "#bd3786"
             ],
             [
              0.5555555555555556,
              "#d8576b"
             ],
             [
              0.6666666666666666,
              "#ed7953"
             ],
             [
              0.7777777777777778,
              "#fb9f3a"
             ],
             [
              0.8888888888888888,
              "#fdca26"
             ],
             [
              1,
              "#f0f921"
             ]
            ],
            "type": "histogram2dcontour"
           }
          ],
          "mesh3d": [
           {
            "colorbar": {
             "outlinewidth": 0,
             "ticks": ""
            },
            "type": "mesh3d"
           }
          ],
          "parcoords": [
           {
            "line": {
             "colorbar": {
              "outlinewidth": 0,
              "ticks": ""
             }
            },
            "type": "parcoords"
           }
          ],
          "pie": [
           {
            "automargin": true,
            "type": "pie"
           }
          ],
          "scatter": [
           {
            "fillpattern": {
             "fillmode": "overlay",
             "size": 10,
             "solidity": 0.2
            },
            "type": "scatter"
           }
          ],
          "scatter3d": [
           {
            "line": {
             "colorbar": {
              "outlinewidth": 0,
              "ticks": ""
             }
            },
            "marker": {
             "colorbar": {
              "outlinewidth": 0,
              "ticks": ""
             }
            },
            "type": "scatter3d"
           }
          ],
          "scattercarpet": [
           {
            "marker": {
             "colorbar": {
              "outlinewidth": 0,
              "ticks": ""
             }
            },
            "type": "scattercarpet"
           }
          ],
          "scattergeo": [
           {
            "marker": {
             "colorbar": {
              "outlinewidth": 0,
              "ticks": ""
             }
            },
            "type": "scattergeo"
           }
          ],
          "scattergl": [
           {
            "marker": {
             "colorbar": {
              "outlinewidth": 0,
              "ticks": ""
             }
            },
            "type": "scattergl"
           }
          ],
          "scattermapbox": [
           {
            "marker": {
             "colorbar": {
              "outlinewidth": 0,
              "ticks": ""
             }
            },
            "type": "scattermapbox"
           }
          ],
          "scatterpolar": [
           {
            "marker": {
             "colorbar": {
              "outlinewidth": 0,
              "ticks": ""
             }
            },
            "type": "scatterpolar"
           }
          ],
          "scatterpolargl": [
           {
            "marker": {
             "colorbar": {
              "outlinewidth": 0,
              "ticks": ""
             }
            },
            "type": "scatterpolargl"
           }
          ],
          "scatterternary": [
           {
            "marker": {
             "colorbar": {
              "outlinewidth": 0,
              "ticks": ""
             }
            },
            "type": "scatterternary"
           }
          ],
          "surface": [
           {
            "colorbar": {
             "outlinewidth": 0,
             "ticks": ""
            },
            "colorscale": [
             [
              0,
              "#0d0887"
             ],
             [
              0.1111111111111111,
              "#46039f"
             ],
             [
              0.2222222222222222,
              "#7201a8"
             ],
             [
              0.3333333333333333,
              "#9c179e"
             ],
             [
              0.4444444444444444,
              "#bd3786"
             ],
             [
              0.5555555555555556,
              "#d8576b"
             ],
             [
              0.6666666666666666,
              "#ed7953"
             ],
             [
              0.7777777777777778,
              "#fb9f3a"
             ],
             [
              0.8888888888888888,
              "#fdca26"
             ],
             [
              1,
              "#f0f921"
             ]
            ],
            "type": "surface"
           }
          ],
          "table": [
           {
            "cells": {
             "fill": {
              "color": "#EBF0F8"
             },
             "line": {
              "color": "white"
             }
            },
            "header": {
             "fill": {
              "color": "#C8D4E3"
             },
             "line": {
              "color": "white"
             }
            },
            "type": "table"
           }
          ]
         },
         "layout": {
          "annotationdefaults": {
           "arrowcolor": "#2a3f5f",
           "arrowhead": 0,
           "arrowwidth": 1
          },
          "autotypenumbers": "strict",
          "coloraxis": {
           "colorbar": {
            "outlinewidth": 0,
            "ticks": ""
           }
          },
          "colorscale": {
           "diverging": [
            [
             0,
             "#8e0152"
            ],
            [
             0.1,
             "#c51b7d"
            ],
            [
             0.2,
             "#de77ae"
            ],
            [
             0.3,
             "#f1b6da"
            ],
            [
             0.4,
             "#fde0ef"
            ],
            [
             0.5,
             "#f7f7f7"
            ],
            [
             0.6,
             "#e6f5d0"
            ],
            [
             0.7,
             "#b8e186"
            ],
            [
             0.8,
             "#7fbc41"
            ],
            [
             0.9,
             "#4d9221"
            ],
            [
             1,
             "#276419"
            ]
           ],
           "sequential": [
            [
             0,
             "#0d0887"
            ],
            [
             0.1111111111111111,
             "#46039f"
            ],
            [
             0.2222222222222222,
             "#7201a8"
            ],
            [
             0.3333333333333333,
             "#9c179e"
            ],
            [
             0.4444444444444444,
             "#bd3786"
            ],
            [
             0.5555555555555556,
             "#d8576b"
            ],
            [
             0.6666666666666666,
             "#ed7953"
            ],
            [
             0.7777777777777778,
             "#fb9f3a"
            ],
            [
             0.8888888888888888,
             "#fdca26"
            ],
            [
             1,
             "#f0f921"
            ]
           ],
           "sequentialminus": [
            [
             0,
             "#0d0887"
            ],
            [
             0.1111111111111111,
             "#46039f"
            ],
            [
             0.2222222222222222,
             "#7201a8"
            ],
            [
             0.3333333333333333,
             "#9c179e"
            ],
            [
             0.4444444444444444,
             "#bd3786"
            ],
            [
             0.5555555555555556,
             "#d8576b"
            ],
            [
             0.6666666666666666,
             "#ed7953"
            ],
            [
             0.7777777777777778,
             "#fb9f3a"
            ],
            [
             0.8888888888888888,
             "#fdca26"
            ],
            [
             1,
             "#f0f921"
            ]
           ]
          },
          "colorway": [
           "#636efa",
           "#EF553B",
           "#00cc96",
           "#ab63fa",
           "#FFA15A",
           "#19d3f3",
           "#FF6692",
           "#B6E880",
           "#FF97FF",
           "#FECB52"
          ],
          "font": {
           "color": "#2a3f5f"
          },
          "geo": {
           "bgcolor": "white",
           "lakecolor": "white",
           "landcolor": "#E5ECF6",
           "showlakes": true,
           "showland": true,
           "subunitcolor": "white"
          },
          "hoverlabel": {
           "align": "left"
          },
          "hovermode": "closest",
          "mapbox": {
           "style": "light"
          },
          "paper_bgcolor": "white",
          "plot_bgcolor": "#E5ECF6",
          "polar": {
           "angularaxis": {
            "gridcolor": "white",
            "linecolor": "white",
            "ticks": ""
           },
           "bgcolor": "#E5ECF6",
           "radialaxis": {
            "gridcolor": "white",
            "linecolor": "white",
            "ticks": ""
           }
          },
          "scene": {
           "xaxis": {
            "backgroundcolor": "#E5ECF6",
            "gridcolor": "white",
            "gridwidth": 2,
            "linecolor": "white",
            "showbackground": true,
            "ticks": "",
            "zerolinecolor": "white"
           },
           "yaxis": {
            "backgroundcolor": "#E5ECF6",
            "gridcolor": "white",
            "gridwidth": 2,
            "linecolor": "white",
            "showbackground": true,
            "ticks": "",
            "zerolinecolor": "white"
           },
           "zaxis": {
            "backgroundcolor": "#E5ECF6",
            "gridcolor": "white",
            "gridwidth": 2,
            "linecolor": "white",
            "showbackground": true,
            "ticks": "",
            "zerolinecolor": "white"
           }
          },
          "shapedefaults": {
           "line": {
            "color": "#2a3f5f"
           }
          },
          "ternary": {
           "aaxis": {
            "gridcolor": "white",
            "linecolor": "white",
            "ticks": ""
           },
           "baxis": {
            "gridcolor": "white",
            "linecolor": "white",
            "ticks": ""
           },
           "bgcolor": "#E5ECF6",
           "caxis": {
            "gridcolor": "white",
            "linecolor": "white",
            "ticks": ""
           }
          },
          "title": {
           "x": 0.05
          },
          "xaxis": {
           "automargin": true,
           "gridcolor": "white",
           "linecolor": "white",
           "ticks": "",
           "title": {
            "standoff": 15
           },
           "zerolinecolor": "white",
           "zerolinewidth": 2
          },
          "yaxis": {
           "automargin": true,
           "gridcolor": "white",
           "linecolor": "white",
           "ticks": "",
           "title": {
            "standoff": 15
           },
           "zerolinecolor": "white",
           "zerolinewidth": 2
          }
         }
        },
        "title": {
         "text": "Amount of total inbound flights per airport in July 2019, 2020, 2021 and 2022"
        },
        "xaxis": {
         "anchor": "y",
         "domain": [
          0,
          1
         ],
         "title": {
          "text": "Year"
         }
        },
        "yaxis": {
         "anchor": "x",
         "domain": [
          0,
          1
         ],
         "title": {
          "text": "Amount of flights"
         }
        }
       }
      }
     },
     "metadata": {},
     "output_type": "display_data"
    },
    {
     "name": "stdout",
     "output_type": "stream",
     "text": [
      "  airport   origin  destination    total  year  month  growth\n",
      "0    LIRF  14007.0      14491.0  28498.0  2019      7  0.0000\n",
      "1    LIMC   9364.0       8175.0  17539.0  2019      7  0.0000\n",
      "2    LIME   4316.0       4387.0   8703.0  2019      7  0.0000\n",
      "3    LIPZ   4015.0       3284.0   7299.0  2019      7  0.0000\n",
      "4    LIPE   2877.0       2580.0   5457.0  2019      7  0.0000\n",
      "0    LIMC   4362.0       4382.0   8744.0  2020      7 -0.4640\n",
      "1    LIRF   3658.0       3753.0   7411.0  2020      7 -0.7410\n",
      "2    LIME   1721.0       1761.0   3482.0  2020      7 -0.5986\n",
      "3    LIPZ   1511.0       1526.0   3037.0  2020      7 -0.5353\n",
      "4    LIPE   1299.0       1196.0   2495.0  2020      7 -0.5364\n",
      "0    LIMC   6304.0       6495.0  12799.0  2021      7  0.4822\n",
      "1    LIRF   6035.0       6151.0  12186.0  2021      7  0.6390\n",
      "2    LIME   3393.0       3492.0   6885.0  2021      7  0.9830\n",
      "3    LIPZ   2382.0       2434.0   4816.0  2021      7  0.5950\n",
      "4    LIPE   2267.0       1907.0   4174.0  2021      7  0.5945\n",
      "0    LIRF   9633.0       9874.0  19507.0  2022      7  0.6053\n",
      "1    LIMC   8032.0       8406.0  16438.0  2022      7  0.2942\n",
      "2    LIME   3902.0       3990.0   7892.0  2022      7  0.1426\n",
      "3    LIPZ   3810.0       3846.0   7656.0  2022      7  0.5801\n",
      "4    LIPE   3395.0       3642.0   7037.0  2022      7  0.9098\n"
     ]
    },
    {
     "data": {
      "application/vnd.plotly.v1+json": {
       "config": {
        "plotlyServerURL": "https://plot.ly"
       },
       "data": [
        {
         "alignmentgroup": "True",
         "bingroup": "x",
         "histfunc": "sum",
         "hovertemplate": "year=2019<br>airport=%{x}<br>sum of growth=%{y}<extra></extra>",
         "legendgroup": "2019",
         "marker": {
          "color": "#636efa",
          "pattern": {
           "shape": ""
          }
         },
         "name": "2019",
         "offsetgroup": "2019",
         "orientation": "v",
         "showlegend": true,
         "type": "histogram",
         "x": [
          "LIRF",
          "LIMC",
          "LIME",
          "LIPZ",
          "LIPE"
         ],
         "xaxis": "x",
         "y": [
          0,
          0,
          0,
          0,
          0
         ],
         "yaxis": "y"
        },
        {
         "alignmentgroup": "True",
         "bingroup": "x",
         "histfunc": "sum",
         "hovertemplate": "year=2020<br>airport=%{x}<br>sum of growth=%{y}<extra></extra>",
         "legendgroup": "2020",
         "marker": {
          "color": "#EF553B",
          "pattern": {
           "shape": ""
          }
         },
         "name": "2020",
         "offsetgroup": "2020",
         "orientation": "v",
         "showlegend": true,
         "type": "histogram",
         "x": [
          "LIMC",
          "LIRF",
          "LIME",
          "LIPZ",
          "LIPE"
         ],
         "xaxis": "x",
         "y": [
          -0.464,
          -0.741,
          -0.5986,
          -0.5353,
          -0.5364
         ],
         "yaxis": "y"
        },
        {
         "alignmentgroup": "True",
         "bingroup": "x",
         "histfunc": "sum",
         "hovertemplate": "year=2021<br>airport=%{x}<br>sum of growth=%{y}<extra></extra>",
         "legendgroup": "2021",
         "marker": {
          "color": "#00cc96",
          "pattern": {
           "shape": ""
          }
         },
         "name": "2021",
         "offsetgroup": "2021",
         "orientation": "v",
         "showlegend": true,
         "type": "histogram",
         "x": [
          "LIMC",
          "LIRF",
          "LIME",
          "LIPZ",
          "LIPE"
         ],
         "xaxis": "x",
         "y": [
          0.4822,
          0.639,
          0.983,
          0.595,
          0.5945
         ],
         "yaxis": "y"
        },
        {
         "alignmentgroup": "True",
         "bingroup": "x",
         "histfunc": "sum",
         "hovertemplate": "year=2022<br>airport=%{x}<br>sum of growth=%{y}<extra></extra>",
         "legendgroup": "2022",
         "marker": {
          "color": "#ab63fa",
          "pattern": {
           "shape": ""
          }
         },
         "name": "2022",
         "offsetgroup": "2022",
         "orientation": "v",
         "showlegend": true,
         "type": "histogram",
         "x": [
          "LIRF",
          "LIMC",
          "LIME",
          "LIPZ",
          "LIPE"
         ],
         "xaxis": "x",
         "y": [
          0.6053,
          0.2942,
          0.1426,
          0.5801,
          0.9098
         ],
         "yaxis": "y"
        }
       ],
       "layout": {
        "barmode": "group",
        "legend": {
         "title": {
          "text": "year"
         },
         "tracegroupgap": 0
        },
        "template": {
         "data": {
          "bar": [
           {
            "error_x": {
             "color": "#2a3f5f"
            },
            "error_y": {
             "color": "#2a3f5f"
            },
            "marker": {
             "line": {
              "color": "#E5ECF6",
              "width": 0.5
             },
             "pattern": {
              "fillmode": "overlay",
              "size": 10,
              "solidity": 0.2
             }
            },
            "type": "bar"
           }
          ],
          "barpolar": [
           {
            "marker": {
             "line": {
              "color": "#E5ECF6",
              "width": 0.5
             },
             "pattern": {
              "fillmode": "overlay",
              "size": 10,
              "solidity": 0.2
             }
            },
            "type": "barpolar"
           }
          ],
          "carpet": [
           {
            "aaxis": {
             "endlinecolor": "#2a3f5f",
             "gridcolor": "white",
             "linecolor": "white",
             "minorgridcolor": "white",
             "startlinecolor": "#2a3f5f"
            },
            "baxis": {
             "endlinecolor": "#2a3f5f",
             "gridcolor": "white",
             "linecolor": "white",
             "minorgridcolor": "white",
             "startlinecolor": "#2a3f5f"
            },
            "type": "carpet"
           }
          ],
          "choropleth": [
           {
            "colorbar": {
             "outlinewidth": 0,
             "ticks": ""
            },
            "type": "choropleth"
           }
          ],
          "contour": [
           {
            "colorbar": {
             "outlinewidth": 0,
             "ticks": ""
            },
            "colorscale": [
             [
              0,
              "#0d0887"
             ],
             [
              0.1111111111111111,
              "#46039f"
             ],
             [
              0.2222222222222222,
              "#7201a8"
             ],
             [
              0.3333333333333333,
              "#9c179e"
             ],
             [
              0.4444444444444444,
              "#bd3786"
             ],
             [
              0.5555555555555556,
              "#d8576b"
             ],
             [
              0.6666666666666666,
              "#ed7953"
             ],
             [
              0.7777777777777778,
              "#fb9f3a"
             ],
             [
              0.8888888888888888,
              "#fdca26"
             ],
             [
              1,
              "#f0f921"
             ]
            ],
            "type": "contour"
           }
          ],
          "contourcarpet": [
           {
            "colorbar": {
             "outlinewidth": 0,
             "ticks": ""
            },
            "type": "contourcarpet"
           }
          ],
          "heatmap": [
           {
            "colorbar": {
             "outlinewidth": 0,
             "ticks": ""
            },
            "colorscale": [
             [
              0,
              "#0d0887"
             ],
             [
              0.1111111111111111,
              "#46039f"
             ],
             [
              0.2222222222222222,
              "#7201a8"
             ],
             [
              0.3333333333333333,
              "#9c179e"
             ],
             [
              0.4444444444444444,
              "#bd3786"
             ],
             [
              0.5555555555555556,
              "#d8576b"
             ],
             [
              0.6666666666666666,
              "#ed7953"
             ],
             [
              0.7777777777777778,
              "#fb9f3a"
             ],
             [
              0.8888888888888888,
              "#fdca26"
             ],
             [
              1,
              "#f0f921"
             ]
            ],
            "type": "heatmap"
           }
          ],
          "heatmapgl": [
           {
            "colorbar": {
             "outlinewidth": 0,
             "ticks": ""
            },
            "colorscale": [
             [
              0,
              "#0d0887"
             ],
             [
              0.1111111111111111,
              "#46039f"
             ],
             [
              0.2222222222222222,
              "#7201a8"
             ],
             [
              0.3333333333333333,
              "#9c179e"
             ],
             [
              0.4444444444444444,
              "#bd3786"
             ],
             [
              0.5555555555555556,
              "#d8576b"
             ],
             [
              0.6666666666666666,
              "#ed7953"
             ],
             [
              0.7777777777777778,
              "#fb9f3a"
             ],
             [
              0.8888888888888888,
              "#fdca26"
             ],
             [
              1,
              "#f0f921"
             ]
            ],
            "type": "heatmapgl"
           }
          ],
          "histogram": [
           {
            "marker": {
             "pattern": {
              "fillmode": "overlay",
              "size": 10,
              "solidity": 0.2
             }
            },
            "type": "histogram"
           }
          ],
          "histogram2d": [
           {
            "colorbar": {
             "outlinewidth": 0,
             "ticks": ""
            },
            "colorscale": [
             [
              0,
              "#0d0887"
             ],
             [
              0.1111111111111111,
              "#46039f"
             ],
             [
              0.2222222222222222,
              "#7201a8"
             ],
             [
              0.3333333333333333,
              "#9c179e"
             ],
             [
              0.4444444444444444,
              "#bd3786"
             ],
             [
              0.5555555555555556,
              "#d8576b"
             ],
             [
              0.6666666666666666,
              "#ed7953"
             ],
             [
              0.7777777777777778,
              "#fb9f3a"
             ],
             [
              0.8888888888888888,
              "#fdca26"
             ],
             [
              1,
              "#f0f921"
             ]
            ],
            "type": "histogram2d"
           }
          ],
          "histogram2dcontour": [
           {
            "colorbar": {
             "outlinewidth": 0,
             "ticks": ""
            },
            "colorscale": [
             [
              0,
              "#0d0887"
             ],
             [
              0.1111111111111111,
              "#46039f"
             ],
             [
              0.2222222222222222,
              "#7201a8"
             ],
             [
              0.3333333333333333,
              "#9c179e"
             ],
             [
              0.4444444444444444,
              "#bd3786"
             ],
             [
              0.5555555555555556,
              "#d8576b"
             ],
             [
              0.6666666666666666,
              "#ed7953"
             ],
             [
              0.7777777777777778,
              "#fb9f3a"
             ],
             [
              0.8888888888888888,
              "#fdca26"
             ],
             [
              1,
              "#f0f921"
             ]
            ],
            "type": "histogram2dcontour"
           }
          ],
          "mesh3d": [
           {
            "colorbar": {
             "outlinewidth": 0,
             "ticks": ""
            },
            "type": "mesh3d"
           }
          ],
          "parcoords": [
           {
            "line": {
             "colorbar": {
              "outlinewidth": 0,
              "ticks": ""
             }
            },
            "type": "parcoords"
           }
          ],
          "pie": [
           {
            "automargin": true,
            "type": "pie"
           }
          ],
          "scatter": [
           {
            "fillpattern": {
             "fillmode": "overlay",
             "size": 10,
             "solidity": 0.2
            },
            "type": "scatter"
           }
          ],
          "scatter3d": [
           {
            "line": {
             "colorbar": {
              "outlinewidth": 0,
              "ticks": ""
             }
            },
            "marker": {
             "colorbar": {
              "outlinewidth": 0,
              "ticks": ""
             }
            },
            "type": "scatter3d"
           }
          ],
          "scattercarpet": [
           {
            "marker": {
             "colorbar": {
              "outlinewidth": 0,
              "ticks": ""
             }
            },
            "type": "scattercarpet"
           }
          ],
          "scattergeo": [
           {
            "marker": {
             "colorbar": {
              "outlinewidth": 0,
              "ticks": ""
             }
            },
            "type": "scattergeo"
           }
          ],
          "scattergl": [
           {
            "marker": {
             "colorbar": {
              "outlinewidth": 0,
              "ticks": ""
             }
            },
            "type": "scattergl"
           }
          ],
          "scattermapbox": [
           {
            "marker": {
             "colorbar": {
              "outlinewidth": 0,
              "ticks": ""
             }
            },
            "type": "scattermapbox"
           }
          ],
          "scatterpolar": [
           {
            "marker": {
             "colorbar": {
              "outlinewidth": 0,
              "ticks": ""
             }
            },
            "type": "scatterpolar"
           }
          ],
          "scatterpolargl": [
           {
            "marker": {
             "colorbar": {
              "outlinewidth": 0,
              "ticks": ""
             }
            },
            "type": "scatterpolargl"
           }
          ],
          "scatterternary": [
           {
            "marker": {
             "colorbar": {
              "outlinewidth": 0,
              "ticks": ""
             }
            },
            "type": "scatterternary"
           }
          ],
          "surface": [
           {
            "colorbar": {
             "outlinewidth": 0,
             "ticks": ""
            },
            "colorscale": [
             [
              0,
              "#0d0887"
             ],
             [
              0.1111111111111111,
              "#46039f"
             ],
             [
              0.2222222222222222,
              "#7201a8"
             ],
             [
              0.3333333333333333,
              "#9c179e"
             ],
             [
              0.4444444444444444,
              "#bd3786"
             ],
             [
              0.5555555555555556,
              "#d8576b"
             ],
             [
              0.6666666666666666,
              "#ed7953"
             ],
             [
              0.7777777777777778,
              "#fb9f3a"
             ],
             [
              0.8888888888888888,
              "#fdca26"
             ],
             [
              1,
              "#f0f921"
             ]
            ],
            "type": "surface"
           }
          ],
          "table": [
           {
            "cells": {
             "fill": {
              "color": "#EBF0F8"
             },
             "line": {
              "color": "white"
             }
            },
            "header": {
             "fill": {
              "color": "#C8D4E3"
             },
             "line": {
              "color": "white"
             }
            },
            "type": "table"
           }
          ]
         },
         "layout": {
          "annotationdefaults": {
           "arrowcolor": "#2a3f5f",
           "arrowhead": 0,
           "arrowwidth": 1
          },
          "autotypenumbers": "strict",
          "coloraxis": {
           "colorbar": {
            "outlinewidth": 0,
            "ticks": ""
           }
          },
          "colorscale": {
           "diverging": [
            [
             0,
             "#8e0152"
            ],
            [
             0.1,
             "#c51b7d"
            ],
            [
             0.2,
             "#de77ae"
            ],
            [
             0.3,
             "#f1b6da"
            ],
            [
             0.4,
             "#fde0ef"
            ],
            [
             0.5,
             "#f7f7f7"
            ],
            [
             0.6,
             "#e6f5d0"
            ],
            [
             0.7,
             "#b8e186"
            ],
            [
             0.8,
             "#7fbc41"
            ],
            [
             0.9,
             "#4d9221"
            ],
            [
             1,
             "#276419"
            ]
           ],
           "sequential": [
            [
             0,
             "#0d0887"
            ],
            [
             0.1111111111111111,
             "#46039f"
            ],
            [
             0.2222222222222222,
             "#7201a8"
            ],
            [
             0.3333333333333333,
             "#9c179e"
            ],
            [
             0.4444444444444444,
             "#bd3786"
            ],
            [
             0.5555555555555556,
             "#d8576b"
            ],
            [
             0.6666666666666666,
             "#ed7953"
            ],
            [
             0.7777777777777778,
             "#fb9f3a"
            ],
            [
             0.8888888888888888,
             "#fdca26"
            ],
            [
             1,
             "#f0f921"
            ]
           ],
           "sequentialminus": [
            [
             0,
             "#0d0887"
            ],
            [
             0.1111111111111111,
             "#46039f"
            ],
            [
             0.2222222222222222,
             "#7201a8"
            ],
            [
             0.3333333333333333,
             "#9c179e"
            ],
            [
             0.4444444444444444,
             "#bd3786"
            ],
            [
             0.5555555555555556,
             "#d8576b"
            ],
            [
             0.6666666666666666,
             "#ed7953"
            ],
            [
             0.7777777777777778,
             "#fb9f3a"
            ],
            [
             0.8888888888888888,
             "#fdca26"
            ],
            [
             1,
             "#f0f921"
            ]
           ]
          },
          "colorway": [
           "#636efa",
           "#EF553B",
           "#00cc96",
           "#ab63fa",
           "#FFA15A",
           "#19d3f3",
           "#FF6692",
           "#B6E880",
           "#FF97FF",
           "#FECB52"
          ],
          "font": {
           "color": "#2a3f5f"
          },
          "geo": {
           "bgcolor": "white",
           "lakecolor": "white",
           "landcolor": "#E5ECF6",
           "showlakes": true,
           "showland": true,
           "subunitcolor": "white"
          },
          "hoverlabel": {
           "align": "left"
          },
          "hovermode": "closest",
          "mapbox": {
           "style": "light"
          },
          "paper_bgcolor": "white",
          "plot_bgcolor": "#E5ECF6",
          "polar": {
           "angularaxis": {
            "gridcolor": "white",
            "linecolor": "white",
            "ticks": ""
           },
           "bgcolor": "#E5ECF6",
           "radialaxis": {
            "gridcolor": "white",
            "linecolor": "white",
            "ticks": ""
           }
          },
          "scene": {
           "xaxis": {
            "backgroundcolor": "#E5ECF6",
            "gridcolor": "white",
            "gridwidth": 2,
            "linecolor": "white",
            "showbackground": true,
            "ticks": "",
            "zerolinecolor": "white"
           },
           "yaxis": {
            "backgroundcolor": "#E5ECF6",
            "gridcolor": "white",
            "gridwidth": 2,
            "linecolor": "white",
            "showbackground": true,
            "ticks": "",
            "zerolinecolor": "white"
           },
           "zaxis": {
            "backgroundcolor": "#E5ECF6",
            "gridcolor": "white",
            "gridwidth": 2,
            "linecolor": "white",
            "showbackground": true,
            "ticks": "",
            "zerolinecolor": "white"
           }
          },
          "shapedefaults": {
           "line": {
            "color": "#2a3f5f"
           }
          },
          "ternary": {
           "aaxis": {
            "gridcolor": "white",
            "linecolor": "white",
            "ticks": ""
           },
           "baxis": {
            "gridcolor": "white",
            "linecolor": "white",
            "ticks": ""
           },
           "bgcolor": "#E5ECF6",
           "caxis": {
            "gridcolor": "white",
            "linecolor": "white",
            "ticks": ""
           }
          },
          "title": {
           "x": 0.05
          },
          "xaxis": {
           "automargin": true,
           "gridcolor": "white",
           "linecolor": "white",
           "ticks": "",
           "title": {
            "standoff": 15
           },
           "zerolinecolor": "white",
           "zerolinewidth": 2
          },
          "yaxis": {
           "automargin": true,
           "gridcolor": "white",
           "linecolor": "white",
           "ticks": "",
           "title": {
            "standoff": 15
           },
           "zerolinecolor": "white",
           "zerolinewidth": 2
          }
         }
        },
        "title": {
         "text": "Incremental growth of the amount of flights per airport in July 2019, 2020, 2021 and 2022"
        },
        "xaxis": {
         "anchor": "y",
         "domain": [
          0,
          1
         ],
         "title": {
          "text": "Airport"
         }
        },
        "yaxis": {
         "anchor": "x",
         "domain": [
          0,
          1
         ],
         "title": {
          "text": "Incremental growth"
         }
        }
       }
      }
     },
     "metadata": {},
     "output_type": "display_data"
    }
   ],
   "source": [
    "\n",
    "#import pandas and numpy to work on the dataframes\n",
    "from cgitb import text\n",
    "import pandas as pd\n",
    "import numpy as np\n",
    "\n",
    "#combing all the shortend and filterd databases from the july 2019, 2020, 2021 and 2022 csv files into one dataframe\n",
    "df1 = pd.read_csv('C:/Users/thoma/Downloads/flightlist_short_20190701_20190731.csv.gz', compression='gzip', header=0, sep=',', quotechar='\"')\n",
    "df2 = pd.read_csv('C:/Users/thoma/Downloads/flightlist_short_20200701_20200731.csv.gz', compression='gzip', header=0, sep=',', quotechar='\"')\n",
    "df3 = pd.read_csv('C:/Users/thoma/Downloads/flightlist_short_20210701_20210731.csv.gz', compression='gzip', header=0, sep=',', quotechar='\"')\n",
    "df4 = pd.read_csv('C:/Users/thoma/Downloads/flightlist_short_20220701_20220731.csv.gz', compression='gzip', header=0, sep=',', quotechar='\"')\n",
    "df = pd.concat([df1, df2, df3, df4])\n",
    "df.head(10)\n",
    "\n",
    "#call the first collumn airport\n",
    "df = df.rename(columns={'Unnamed: 0': 'airport'})\n",
    "df.head(10)\n",
    "\n",
    "#filter the database so only the airports of interest are included\n",
    "df = df[(df['airport'] == 'LIME') | (df['airport'] == 'LIPZ') | (df['airport'] == 'LIPE') | (df['airport'] == 'LIRF') | (df['airport'] == 'LIMC')]\n",
    "\n",
    "\n",
    "\n",
    "\n",
    "#histogram chart of the amount of inbound flight per airport per year\n",
    "import plotly.express as px\n",
    "\n",
    "fig = px.histogram(df, x='airport', y='destination', color='year', barmode='group',  title='Amount of total inbound flights per airport in July 2019, 2020, 2021 and 2022')\n",
    "fig.update_xaxes(title_text='Airport')\n",
    "fig.update_yaxes(title_text='Amount of flights')\n",
    "fig.update_traces(text=df['destination'])\n",
    "fig.update_xaxes(range=(-0.5, 4.5))\n",
    "fig.show()\n",
    "\n",
    "#Line chart of inbound flights per airport per year\n",
    "import plotly.express as px\n",
    "\n",
    "fig = px.line(df, x='year', y='destination', color='airport', title='Amount of total inbound flights per airport in July 2019, 2020, 2021 and 2022')\n",
    "fig.update_xaxes(title_text='Year')\n",
    "fig.update_yaxes(title_text='Amount of flights')\n",
    "fig.update_traces(text=df['destination'])\n",
    "fig.show()\n",
    "\n",
    "#calculate the increamental growth of the amount of inbound flights per airport per year and show the database of all the information\n",
    "df['growth'] = df.groupby('airport')['destination'].pct_change()\n",
    "df['growth'] = df['growth'].fillna(0)\n",
    "df['growth'] = df['growth'].round(4)\n",
    "df.head(10)\n",
    "print(df.head(40))\n",
    "#add histogram chart of the incremental growth of the amount of flights per airport per year\n",
    "import plotly.express as px\n",
    "\n",
    "fig = px.histogram(df, x='airport', y='growth', color='year', barmode='group', title='Incremental growth of the amount of flights per airport in July 2019, 2020, 2021 and 2022')\n",
    "fig.update_xaxes(title_text='Airport')\n",
    "fig.update_yaxes(title_text='Incremental growth')\n",
    "fig.show()\n",
    "\n"
   ]
  },
  {
   "cell_type": "code",
   "execution_count": null,
   "metadata": {},
   "outputs": [],
   "source": []
  }
 ],
 "metadata": {
  "kernelspec": {
   "display_name": "Python 3.10.4 ('TIL6022')",
   "language": "python",
   "name": "python3"
  },
  "language_info": {
   "codemirror_mode": {
    "name": "ipython",
    "version": 3
   },
   "file_extension": ".py",
   "mimetype": "text/x-python",
   "name": "python",
   "nbconvert_exporter": "python",
   "pygments_lexer": "ipython3",
   "version": "3.10.4"
  },
  "orig_nbformat": 4,
  "vscode": {
   "interpreter": {
    "hash": "13e8179b08029b2d674516435011dda4afc275d45580cb37baf89a1864df9297"
   }
  }
 },
 "nbformat": 4,
 "nbformat_minor": 2
}
