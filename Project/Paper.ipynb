{
 "cells": [
  {
   "cell_type": "markdown",
   "metadata": {},
   "source": [
    "## Title: "
   ]
  },
  {
   "cell_type": "markdown",
   "metadata": {},
   "source": [
    "## Table of contents\n",
    "\n",
    "1. group member and contribution statement\n",
    "2. Introduction\n",
    "3. main research question and sub-research questions\n",
    "4. research methods\n",
    "5. data collection\n",
    "6. data analysis\n",
    "7. results\n",
    "8. discussion\n",
    "9. conclusion\n",
    "10. references\n",
    "11. appendix\n"
   ]
  },
  {
   "cell_type": "markdown",
   "metadata": {},
   "source": [
    "# 1. group member and contribution statement\n",
    "\n",
    "**Members:** \n",
    "\n",
    "Daan van der Klooster    \n",
    "Iardena Kuznetch           \n",
    "Thom Gietelink               \n",
    "Thomas Dušić                \n",
    "               \n",
    "**Studentnumbers:** \n",
    " \n",
    "\n",
    " 4553675 /\n",
    " 5850193 /\n",
    " 4478207 /\n",
    " 4608763"
   ]
  },
  {
   "cell_type": "markdown",
   "metadata": {},
   "source": [
    "## 2. Introduction"
   ]
  },
  {
   "cell_type": "markdown",
   "metadata": {},
   "source": [
    "## 3. main research question and sub-research questions\n",
    "\n",
    "# Research Objective\n",
    "\n",
    "Did the COVID-19 breakout in Italy affect air travel towards Italy's five main airports during the month of July in 2020 and 2021, in comparison to July 2019?\n",
    "\n",
    "**Sub-questions**\n",
    "\n",
    "1. How many flights arrived on the airports during July of 2019, 2020, 2021?\n",
    "2. How many COVID-cases were there in Italy in 2020 and 2021?\n",
    "3. Was there an ascending or decreasing trent in COVID-cases just before the start of July (in both 2020 and 2021)?\n",
    "4. What impact of COVID-19 can be seen on the number of flights in 2020, in comparisson to 2019. \n",
    "5. Is there a clear correlation between the vaccination rate in 2021 and the number of COVID-cases?\n",
    "6. How do the number of arriving flights, COVID-cases and vaccination rate correlate?\n",
    "7. What impact of COVID-19 can be seen on the number of flights in 2021, in comparisson to both 2019 and 2020. \n",
    "8. Is there a difference in flight arrivals visible (when it comes to percentual increase or decrease) in between the five airports (taking all three years into account) and if so, how can this difference be explained?"
   ]
  },
  {
   "cell_type": "markdown",
   "metadata": {},
   "source": [
    "## 4. research methods\n",
    "\n",
    "1. how are we planning to answer the questions\n",
    "2. what methods are we going to use\n",
    "3. do this for each question\n",
    "\n"
   ]
  },
  {
   "cell_type": "markdown",
   "metadata": {},
   "source": [
    "## 5. data collection\n",
    "\n",
    "1. what data are we going to use\n",
    "2. how are we going to collect the data\n",
    "3. do this for each question"
   ]
  },
  {
   "cell_type": "markdown",
   "metadata": {},
   "source": [
    "## 6. data analysis\n",
    "\n",
    "1. how are we going to analyse the data\n",
    "2. do this for each question"
   ]
  },
  {
   "cell_type": "markdown",
   "metadata": {},
   "source": [
    "## 7. results\n",
    "\n",
    "1. what are the results\n",
    "2. do this for each question"
   ]
  },
  {
   "cell_type": "code",
   "execution_count": 2,
   "metadata": {},
   "outputs": [
    {
     "ename": "NameError",
     "evalue": "name 'nbformat' is not defined",
     "output_type": "error",
     "traceback": [
      "\u001b[1;31m---------------------------------------------------------------------------\u001b[0m",
      "\u001b[1;31mNameError\u001b[0m                                 Traceback (most recent call last)",
      "Cell \u001b[1;32mIn [2], line 17\u001b[0m\n\u001b[0;32m      8\u001b[0m         ep\u001b[39m.\u001b[39mpreprocess(nb, {\u001b[39m'\u001b[39m\u001b[39mmetadata\u001b[39m\u001b[39m'\u001b[39m: {\u001b[39m'\u001b[39m\u001b[39mpath\u001b[39m\u001b[39m'\u001b[39m: \u001b[39m'\u001b[39m\u001b[39m./\u001b[39m\u001b[39m'\u001b[39m}})\n\u001b[0;32m      9\u001b[0m         \u001b[39m#print(nb)\u001b[39;00m\n\u001b[0;32m     10\u001b[0m         \u001b[39m#print(nb['cells'][0]['outputs'])\u001b[39;00m\n\u001b[0;32m     11\u001b[0m         \u001b[39m#print(nb['cells'][0]['outputs'][0]['data'])\u001b[39;00m\n\u001b[1;32m   (...)\u001b[0m\n\u001b[0;32m     14\u001b[0m \n\u001b[0;32m     15\u001b[0m \u001b[39m# show the plots from python_filter_covid_data.ipynb\u001b[39;00m\n\u001b[1;32m---> 17\u001b[0m read_notebook(\u001b[39m'\u001b[39;49m\u001b[39mpython_filter_covid_data.ipynb\u001b[39;49m\u001b[39m'\u001b[39;49m)\n",
      "Cell \u001b[1;32mIn [2], line 6\u001b[0m, in \u001b[0;36mread_notebook\u001b[1;34m(name)\u001b[0m\n\u001b[0;32m      4\u001b[0m \u001b[39mdef\u001b[39;00m \u001b[39mread_notebook\u001b[39m(name):\n\u001b[0;32m      5\u001b[0m     \u001b[39mwith\u001b[39;00m \u001b[39mopen\u001b[39m(name) \u001b[39mas\u001b[39;00m f:\n\u001b[1;32m----> 6\u001b[0m         nb \u001b[39m=\u001b[39m nbformat\u001b[39m.\u001b[39mread(f, as_version\u001b[39m=\u001b[39m\u001b[39m4\u001b[39m)\n\u001b[0;32m      7\u001b[0m         ep \u001b[39m=\u001b[39m ExecutePreprocessor(timeout\u001b[39m=\u001b[39m\u001b[39m600\u001b[39m, kernel_name\u001b[39m=\u001b[39m\u001b[39m'\u001b[39m\u001b[39mpython3\u001b[39m\u001b[39m'\u001b[39m)\n\u001b[0;32m      8\u001b[0m         ep\u001b[39m.\u001b[39mpreprocess(nb, {\u001b[39m'\u001b[39m\u001b[39mmetadata\u001b[39m\u001b[39m'\u001b[39m: {\u001b[39m'\u001b[39m\u001b[39mpath\u001b[39m\u001b[39m'\u001b[39m: \u001b[39m'\u001b[39m\u001b[39m./\u001b[39m\u001b[39m'\u001b[39m}})\n",
      "\u001b[1;31mNameError\u001b[0m: name 'nbformat' is not defined"
     ]
    }
   ],
   "source": []
  },
  {
   "cell_type": "markdown",
   "metadata": {},
   "source": [
    "## 8. discussion\n",
    "\n",
    "1. dissuss the results\n",
    "2. do this for each question"
   ]
  },
  {
   "cell_type": "markdown",
   "metadata": {},
   "source": [
    "## 9. conclusion\n",
    "\n",
    "1. what is the answer to the main research question\n",
    "2. what are the answers to the sub-research questions\n",
    "3. recommendations\n",
    "4. limitations"
   ]
  },
  {
   "cell_type": "markdown",
   "metadata": {},
   "source": [
    "## 10. references\n",
    "\n",
    "1. list of references"
   ]
  },
  {
   "cell_type": "markdown",
   "metadata": {},
   "source": [
    "## 11. appendix"
   ]
  }
 ],
 "metadata": {
  "kernelspec": {
   "display_name": "Python 3.10.4 ('TIL6022')",
   "language": "python",
   "name": "python3"
  },
  "language_info": {
   "codemirror_mode": {
    "name": "ipython",
    "version": 3
   },
   "file_extension": ".py",
   "mimetype": "text/x-python",
   "name": "python",
   "nbconvert_exporter": "python",
   "pygments_lexer": "ipython3",
   "version": "3.10.4"
  },
  "orig_nbformat": 4,
  "vscode": {
   "interpreter": {
    "hash": "13e8179b08029b2d674516435011dda4afc275d45580cb37baf89a1864df9297"
   }
  }
 },
 "nbformat": 4,
 "nbformat_minor": 2
}
