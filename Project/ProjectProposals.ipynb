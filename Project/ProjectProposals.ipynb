{
 "cells": [
  {
   "cell_type": "markdown",
   "metadata": {},
   "source": [
    "# Project Group - \n",
    "\n",
    "Members: \n",
    "\n",
    "Daan van der Klooster    \n",
    "Iardena Kuznetch           \n",
    "Thom Gietelink               \n",
    "Thomas Dušić                \n",
    "               \n",
    " Studentnumbers: \n",
    " \n",
    "\n",
    " 4553675,\n",
    " 5850193,\n",
    " 4478297,\n",
    " 4608763"
   ]
  },
  {
   "cell_type": "markdown",
   "metadata": {},
   "source": [
    "# Research Objective\n",
    "\n",
    "Did the COVID-19 breakout in Italy effect international air travel towards Italy's five main airports during the month of July in 2020 and 2021, in comparison to July 2019?\n",
    "\n",
    "Data sources:\n",
    "\n",
    "https://zenodo.org/record/7065179#.Y0ARiXZIC3A: using 7-2019, 7-2020, 7-2021, destinations: Rome: Leonardo da Vinci–Fiumicino Airport (LIRF), Milano: \tMalpensa International Airport (LIMC), Venice: Venice Marco Polo Airport (LIPZ), Bologna: Bologna Guglielmo Marconi Airport (LIPE), Napoles: Naples international airpot (LIRN)\n",
    "\n",
    "https://ourworldindata.org/coronavirus#coronavirus-country-profiles: COVID-cases/COVID-deaths in Italy & vaccination rate in Italy."
   ]
  },
  {
   "cell_type": "markdown",
   "metadata": {},
   "source": []
  },
  {
   "cell_type": "markdown",
   "metadata": {},
   "source": [
    "# Contribution Statement\n",
    "\n",
    "*Be specific. Some of the tasks can be coding (expect everyone to do this), background research, conceptualisation, visualisation, data analysis, data modelling*"
   ]
  },
  {
   "cell_type": "markdown",
   "metadata": {},
   "source": [
    "**Author 1**:\n",
    "\n",
    "**Author 2**:\n",
    "\n",
    "**Author 3**:"
   ]
  },
  {
   "cell_type": "markdown",
   "metadata": {},
   "source": [
    "# Data Used"
   ]
  },
  {
   "cell_type": "markdown",
   "metadata": {},
   "source": []
  },
  {
   "cell_type": "markdown",
   "metadata": {},
   "source": [
    "# Data Pipeline"
   ]
  },
  {
   "cell_type": "markdown",
   "metadata": {},
   "source": []
  }
 ],
 "metadata": {
  "kernelspec": {
   "display_name": "Python 3",
   "language": "python",
   "name": "python3"
  },
  "language_info": {
   "codemirror_mode": {
    "name": "ipython",
    "version": 3
   },
   "file_extension": ".py",
   "mimetype": "text/x-python",
   "name": "python",
   "nbconvert_exporter": "python",
   "pygments_lexer": "ipython3",
   "version": "3.6.5"
  },
  "vscode": {
   "interpreter": {
    "hash": "31f2aee4e71d21fbe5cf8b01ff0e069b9275f58929596ceb00d14d90e3e16cd6"
   }
  }
 },
 "nbformat": 4,
 "nbformat_minor": 2
}
