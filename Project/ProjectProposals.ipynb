{
 "cells": [
  {
   "cell_type": "markdown",
   "metadata": {},
   "source": [
    "# Project Group - \n",
    "\n",
    "**Members:** \n",
    "\n",
    "Daan van der Klooster    \n",
    "Iardena Kuznetch           \n",
    "Thom Gietelink               \n",
    "Thomas Dušić                \n",
    "               \n",
    "**Studentnumbers:** \n",
    " \n",
    "\n",
    " 4553675 /\n",
    " 5850193 /\n",
    " 4478207 /\n",
    " 4608763"
   ]
  },
  {
   "cell_type": "markdown",
   "metadata": {},
   "source": [
    "# Research Objective\n",
    "\n",
    "Did the COVID-19 breakout in Italy affect air travel towards Italy's five main airports during the month of July in 2020 and 2021, in comparison to July 2019?\n",
    "\n",
    "\n",
    "**Set-up for the project**\n",
    "\n",
    "Introduction\n",
    "Materials\n",
    " - where did we found our data?\n",
    " - why is this data relevant?\n",
    " - what did we do with this data (data was filtered: only data of 5 airports was used)?\n",
    "\n",
    "Methods\n",
    "\n",
    "Results\n",
    "\n",
    "Discussion\n",
    "\n",
    "Conclusion\n",
    "\n",
    "Appendices\n",
    "\n",
    "**Sub-questions**\n",
    "\n",
    "1. How many flights arrived on the airports during July of 2019, 2020, 2021?\n",
    "2. How many COVID-cases were there in Italy in 2020 and 2021?\n",
    "3. Was there an ascending or decreasing trent in COVID-cases just before the start of July (in both 2020 and 2021)?\n",
    "4. What impact of COVID-19 can be seen on the number of flights in 2020, in comparisson to 2019. \n",
    "5. Is there a clear correlation between the vaccination rate in 2021 and the number of COVID-cases?\n",
    "6. How do the number of arriving flights, COVID-cases and vaccination rate correlate?\n",
    "7. What impact of COVID-19 can be seen on the number of flights in 2021, in comparisson to both 2019 and 2020. \n",
    "8. Is there a difference in flight arrivals visible (when it comes to percentual increase or decrease) in between the five airports (taking all three years into account) and if so, how can this difference be explained?"
   ]
  },
  {
   "cell_type": "code",
   "execution_count": null,
   "metadata": {},
   "outputs": [],
   "source": []
  },
  {
   "cell_type": "markdown",
   "metadata": {},
   "source": []
  },
  {
   "cell_type": "markdown",
   "metadata": {},
   "source": [
    "# Contribution Statement\n",
    "\n",
    "*Be specific. Some of the tasks can be coding (expect everyone to do this), background research, conceptualisation, visualisation, data analysis, data modelling*"
   ]
  },
  {
   "cell_type": "markdown",
   "metadata": {},
   "source": [
    "**Author 1, Iardena**: filtering of data of 2020\n",
    "to do: text on 'Materials'\n",
    "**Author 2, Daan**: filtering of data of 2019\n",
    "to do: monitor the feedback, fix the Project template, make a start on question 4\n",
    "**Author 3, Thom**: filtering of the COVID-data\n",
    "to do: answer subquestions 2 & 3\n",
    "**Author 4, Thomas**: filtering of data of 2021\n",
    "to do: answer subquestion 1"
   ]
  },
  {
   "cell_type": "markdown",
   "metadata": {},
   "source": [
    "# Data Used"
   ]
  },
  {
   "cell_type": "markdown",
   "metadata": {},
   "source": [
    "https://zenodo.org/record/7065179#.Y0ARiXZIC3A: using 7-2019, 7-2020, 7-2021, destinations: Rome: Leonardo da Vinci–Fiumicino Airport (LIRF), Milano: \tMalpensa International Airport (LIMC), Venice: Venice Marco Polo Airport (LIPZ), Bologna: Bologna Guglielmo Marconi Airport (LIPE), Napoles: Naples international airpot (LIRN)\n",
    "\n",
    "https://ourworldindata.org/coronavirus#coronavirus-country-profiles: COVID-cases/COVID-deaths in Italy & vaccination rate in Italy."
   ]
  },
  {
   "cell_type": "markdown",
   "metadata": {},
   "source": [
    "# Data Pipeline"
   ]
  },
  {
   "cell_type": "markdown",
   "metadata": {},
   "source": []
  }
 ],
 "metadata": {
  "kernelspec": {
   "display_name": "Python 3.10.4 ('TIL6022')",
   "language": "python",
   "name": "python3"
  },
  "language_info": {
   "codemirror_mode": {
    "name": "ipython",
    "version": 3
   },
   "file_extension": ".py",
   "mimetype": "text/x-python",
   "name": "python",
   "nbconvert_exporter": "python",
   "pygments_lexer": "ipython3",
   "version": "3.10.4"
  },
  "vscode": {
   "interpreter": {
    "hash": "13e8179b08029b2d674516435011dda4afc275d45580cb37baf89a1864df9297"
   }
  }
 },
 "nbformat": 4,
 "nbformat_minor": 2
}
